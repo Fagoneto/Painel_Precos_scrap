{
 "cells": [
  {
   "cell_type": "code",
   "execution_count": 1,
   "metadata": {},
   "outputs": [
    {
     "name": "stdout",
     "output_type": "stream",
     "text": [
      "Botão clicado com sucesso!\n"
     ]
    }
   ],
   "source": [
    "from selenium import webdriver\n",
    "from selenium.webdriver.firefox.service import Service as FirefoxService\n",
    "from webdriver_manager.firefox import GeckoDriverManager\n",
    "from selenium.webdriver.common.by import By\n",
    "from selenium.webdriver.support.ui import WebDriverWait\n",
    "from selenium.webdriver.support import expected_conditions as EC\n",
    "\n",
    "# Setup Firefox\n",
    "service = FirefoxService(GeckoDriverManager().install())\n",
    "driver = webdriver.Firefox(service=service)\n",
    "\n",
    "driver.get(\"https://obahortifruti.com.br/\")\n",
    "\n",
    "wait = WebDriverWait(driver, 10)\n",
    "\n",
    "try:\n",
    "    botao_localizacao = wait.until(EC.element_to_be_clickable((By.XPATH, \"//section[contains(@class, 'styles_geolocationTrigger')]/button\")))\n",
    "    botao_localizacao.click()\n",
    "    print(\"Botão clicado com sucesso!\")\n",
    "except Exception as e:\n",
    "    print(\"Erro ao tentar clicar no botão:\", e)\n",
    "\n",
    "# driver.quit()\n",
    "\n",
    "\n"
   ]
  },
  {
   "cell_type": "code",
   "execution_count": 2,
   "metadata": {},
   "outputs": [
    {
     "name": "stdout",
     "output_type": "stream",
     "text": [
      "Botão clicado com sucesso!\n"
     ]
    }
   ],
   "source": [
    "try:\n",
    "    botao_localizacao = wait.until(EC.element_to_be_clickable((By.XPATH, \"//section[contains(@class, 'styles_geolocationTrigger')]/button\")))\n",
    "    botao_localizacao.click()\n",
    "    print(\"Botão clicado com sucesso!\")\n",
    "except Exception as e:\n",
    "    print(\"Erro ao tentar clicar no botão:\", e)\n",
    "\n",
    "# driver.quit()"
   ]
  },
  {
   "cell_type": "code",
   "execution_count": 3,
   "metadata": {},
   "outputs": [
    {
     "name": "stdout",
     "output_type": "stream",
     "text": [
      "CEP preenchido com sucesso!\n",
      "Botão Buscar clicado com sucesso!\n"
     ]
    }
   ],
   "source": [
    "# Preencher o CEP\n",
    "try:\n",
    "    campo_cep = wait.until(EC.presence_of_element_located((By.XPATH, \"//input[@placeholder='99999-999']\")))\n",
    "    campo_cep.clear()\n",
    "    campo_cep.send_keys(\"70675710\")\n",
    "    print(\"CEP preenchido com sucesso!\")\n",
    "except Exception as e:\n",
    "    print(\"Erro ao preencher o CEP:\", e)\n",
    "\n",
    "# Clicar no botão \"Buscar\"\n",
    "try:\n",
    "    botao_buscar = wait.until(EC.element_to_be_clickable((By.XPATH, \"//button[@data-submit-btn='true']\")))\n",
    "    botao_buscar.click()\n",
    "    print(\"Botão Buscar clicado com sucesso!\")\n",
    "except Exception as e:\n",
    "    print(\"Erro ao clicar no botão Buscar:\", e)\n",
    "\n",
    "# Depois daqui você pode seguir com a coleta dos produtos da loja\n",
    "# driver.quit()  # Só feche o navegador depois de terminar"
   ]
  },
  {
   "cell_type": "code",
   "execution_count": 4,
   "metadata": {},
   "outputs": [
    {
     "name": "stdout",
     "output_type": "stream",
     "text": [
      "Botão 'Retirar em loja' clicado com sucesso!\n"
     ]
    }
   ],
   "source": [
    "try:\n",
    "    botao_retirar = wait.until(EC.element_to_be_clickable((By.XPATH, \"//button[contains(text(), 'Retirar em loja')]\")))\n",
    "    botao_retirar.click()\n",
    "    print(\"Botão 'Retirar em loja' clicado com sucesso!\")\n",
    "except Exception as e:\n",
    "    print(\"Erro ao clicar no botão 'Retirar em loja':\", e)\n"
   ]
  },
  {
   "cell_type": "markdown",
   "metadata": {},
   "source": [
    "### Lista de Lojas"
   ]
  },
  {
   "cell_type": "code",
   "execution_count": 105,
   "metadata": {},
   "outputs": [
    {
     "name": "stdout",
     "output_type": "stream",
     "text": [
      "Coleta finalizada e arquivo lojas_oba.csv salvo com sucesso!\n"
     ]
    }
   ],
   "source": [
    "# Passo 5: Coletar todas as lojas listadas\n",
    "lojas = wait.until(EC.presence_of_all_elements_located((By.XPATH, \"//ul[@data-pickup-selector='true']/li\")))\n",
    "\n",
    "dados_lojas = []\n",
    "\n",
    "for loja in lojas:\n",
    "    try:\n",
    "        texto_loja = loja.text\n",
    "        dados_lojas.append({\"loja_info\": texto_loja})\n",
    "    except Exception as e:\n",
    "        print(f\"Erro ao coletar loja: {e}\")\n",
    "\n",
    "# Criar o DataFrame\n",
    "df_lojas = pd.DataFrame(dados_lojas)\n",
    "\n",
    "# Salvar o CSV\n",
    "df_lojas.to_csv(\"lojas_oba.csv\", index=False, encoding='utf-8-sig')\n",
    "\n",
    "print(\"Coleta finalizada e arquivo lojas_oba.csv salvo com sucesso!\")\n",
    "\n",
    "# Fechar navegador\n",
    "driver.quit()"
   ]
  },
  {
   "cell_type": "code",
   "execution_count": null,
   "metadata": {},
   "outputs": [],
   "source": []
  },
  {
   "cell_type": "markdown",
   "metadata": {},
   "source": [
    "### Continuacao"
   ]
  },
  {
   "cell_type": "code",
   "execution_count": 5,
   "metadata": {},
   "outputs": [
    {
     "name": "stdout",
     "output_type": "stream",
     "text": [
      "Primeira loja selecionada!\n"
     ]
    }
   ],
   "source": [
    "primeira_loja = wait.until(EC.element_to_be_clickable((By.XPATH, \"//ul[@data-pickup-selector='true']/li[1]\")))\n",
    "primeira_loja.click()\n",
    "print(\"Primeira loja selecionada!\")\n"
   ]
  },
  {
   "cell_type": "code",
   "execution_count": 6,
   "metadata": {},
   "outputs": [
    {
     "name": "stdout",
     "output_type": "stream",
     "text": [
      "Scroll da lista de lojas feito com sucesso!\n",
      "Erro ao fazer scroll: name 'time' is not defined\n",
      "Botão 'Continuar' clicado com sucesso!\n"
     ]
    }
   ],
   "source": [
    "# Rolando a lista de lojas até o final (scroll interno)\n",
    "try:\n",
    "    ul_lojas = wait.until(EC.presence_of_element_located((By.XPATH, \"//ul[@data-pickup-selector='true']\")))\n",
    "    driver.execute_script(\"arguments[0].scrollTop = arguments[0].scrollHeight\", ul_lojas)\n",
    "    print(\"Scroll da lista de lojas feito com sucesso!\")\n",
    "    time.sleep(1)  # Pequena espera para garantir carregamento\n",
    "except Exception as e:\n",
    "    print(\"Erro ao fazer scroll:\", e)\n",
    "\n",
    "# Clicar no botão \"Continuar\"\n",
    "try:\n",
    "    botao_continuar = wait.until(EC.element_to_be_clickable((By.XPATH, \"//button[@data-continue-btn='true']\")))\n",
    "    botao_continuar.click()\n",
    "    print(\"Botão 'Continuar' clicado com sucesso!\")\n",
    "except Exception as e:\n",
    "    print(\"Erro ao clicar no botão 'Continuar':\", e)\n",
    "\n"
   ]
  },
  {
   "cell_type": "code",
   "execution_count": 7,
   "metadata": {},
   "outputs": [
    {
     "name": "stdout",
     "output_type": "stream",
     "text": [
      "Termo 'cerveja' digitado com sucesso!\n"
     ]
    }
   ],
   "source": [
    "try:\n",
    "    campo_busca = wait.until(EC.presence_of_element_located((By.XPATH, \"//input[@placeholder='Digite seu produto']\")))\n",
    "    campo_busca.clear()\n",
    "    campo_busca.send_keys(\"cerveja\")\n",
    "    print(\"Termo 'cerveja' digitado com sucesso!\")\n",
    "except Exception as e:\n",
    "    print(\"Erro ao digitar o produto:\", e)\n"
   ]
  },
  {
   "cell_type": "code",
   "execution_count": 8,
   "metadata": {},
   "outputs": [
    {
     "name": "stdout",
     "output_type": "stream",
     "text": [
      "Botão de busca clicado com sucesso!\n"
     ]
    }
   ],
   "source": [
    "# Clicar na lupa (botão de buscar)\n",
    "try:\n",
    "    botao_buscar = wait.until(EC.element_to_be_clickable((By.XPATH, \"//span[@data-submit-search='true']\")))\n",
    "    botao_buscar.click()\n",
    "    print(\"Botão de busca clicado com sucesso!\")\n",
    "except Exception as e:\n",
    "    print(\"Erro ao clicar no botão de busca:\", e)"
   ]
  },
  {
   "cell_type": "code",
   "execution_count": 9,
   "metadata": {},
   "outputs": [
    {
     "name": "stdout",
     "output_type": "stream",
     "text": [
      "Termo 'cerveja' digitado com sucesso no campo correto!\n"
     ]
    }
   ],
   "source": [
    "try:\n",
    "    campo_busca_modal = wait.until(EC.visibility_of_element_located(\n",
    "        (By.XPATH, \"//input[@data-testid='fs-input']\")))\n",
    "    campo_busca_modal.clear()\n",
    "    campo_busca_modal.send_keys(\"cerveja\")\n",
    "    print(\"Termo 'cerveja' digitado com sucesso no campo correto!\")\n",
    "except Exception as e:\n",
    "    print(\"Erro ao preencher o campo de busca:\", e)\n"
   ]
  },
  {
   "cell_type": "code",
   "execution_count": 10,
   "metadata": {},
   "outputs": [
    {
     "name": "stdout",
     "output_type": "stream",
     "text": [
      "Clique na lupa executado via JavaScript com sucesso!\n"
     ]
    }
   ],
   "source": [
    "### ESTRANHO MAS DEU CERTO\n",
    "\n",
    "try:\n",
    "    botao_lupa_span = wait.until(EC.presence_of_element_located(\n",
    "        (By.XPATH, \"//span[@data-submit-search='true']\")))\n",
    "    driver.execute_script(\"arguments[0].click();\", botao_lupa_span)\n",
    "    print(\"Clique na lupa executado via JavaScript com sucesso!\")\n",
    "except Exception as e:\n",
    "    print(\"Erro ao clicar na lupa via JavaScript:\", e)\n",
    "\n",
    "\n"
   ]
  },
  {
   "cell_type": "code",
   "execution_count": 15,
   "metadata": {},
   "outputs": [
    {
     "name": "stdout",
     "output_type": "stream",
     "text": [
      "48 produtos coletados com sucesso!\n",
      "Arquivo produtos_oba_cerveja.csv salvo!\n"
     ]
    }
   ],
   "source": [
    "dados_produtos = []\n",
    "\n",
    "try:\n",
    "    # Encontrar todos os blocos de produtos\n",
    "    produtos = wait.until(EC.presence_of_all_elements_located(\n",
    "        (By.XPATH, \"//article\")))\n",
    "\n",
    "    for produto in produtos:\n",
    "        try:\n",
    "            nome = produto.find_element(By.XPATH, \".//a[@data-testid='product-link']\").get_attribute(\"title\")\n",
    "\n",
    "        except:\n",
    "            nome = \"Nome não encontrado\"\n",
    "\n",
    "        try:\n",
    "            preco = produto.find_element(By.XPATH, \".//div[@data-price-per-unit='true']\").text\n",
    "        except:\n",
    "            preco = \"Preço não encontrado\"\n",
    "\n",
    "        dados_produtos.append({\"produto\": nome, \"preco\": preco})\n",
    "\n",
    "    print(f\"{len(dados_produtos)} produtos coletados com sucesso!\")\n",
    "\n",
    "except Exception as e:\n",
    "    print(\"Erro ao coletar os produtos:\", e)\n",
    "\n",
    "# Salvar em CSV\n",
    "import pandas as pd\n",
    "df_produtos = pd.DataFrame(dados_produtos)\n",
    "df_produtos.to_csv(\"produtos_oba_cerveja.csv\", index=False, encoding='utf-8-sig')\n",
    "\n",
    "print(\"Arquivo produtos_oba_cerveja.csv salvo!\")\n"
   ]
  },
  {
   "cell_type": "code",
   "execution_count": 19,
   "metadata": {},
   "outputs": [
    {
     "name": "stdout",
     "output_type": "stream",
     "text": [
      "48 produtos coletados com sucesso!\n",
      "Arquivo produtos_oba_cerveja.csv salvo!\n"
     ]
    }
   ],
   "source": [
    "dados_produtos = []\n",
    "\n",
    "try:\n",
    "    produtos = wait.until(EC.presence_of_all_elements_located(\n",
    "        (By.XPATH, \"//article\")))\n",
    "\n",
    "    for produto in produtos:\n",
    "        try:\n",
    "            nome = produto.find_element(By.XPATH, \".//a[@data-testid='product-link']\").get_attribute(\"title\")\n",
    "\n",
    "        except:\n",
    "            nome = \"Nome não encontrado\"\n",
    "\n",
    "        try:\n",
    "            preco = produto.find_element(By.XPATH, \".//div[@data-price-per-unit='true']\").text\n",
    "        except:\n",
    "            preco = \"Preço não encontrado\"\n",
    "\n",
    "        dados_produtos.append({\"produto\": nome, \"preco\": preco})\n",
    "\n",
    "    print(f\"{len(dados_produtos)} produtos coletados com sucesso!\")\n",
    "\n",
    "except Exception as e:\n",
    "    print(\"Erro ao coletar os produtos:\", e)\n",
    "\n",
    "# Salvar CSV\n",
    "import pandas as pd\n",
    "df_produtos = pd.DataFrame(dados_produtos)\n",
    "df_produtos.to_csv(\"produtos_oba_cerveja.csv\", index=False, encoding='utf-8-sig')\n",
    "\n",
    "print(\"Arquivo produtos_oba_cerveja.csv salvo!\")\n"
   ]
  },
  {
   "cell_type": "markdown",
   "metadata": {},
   "source": []
  },
  {
   "cell_type": "code",
   "execution_count": 22,
   "metadata": {},
   "outputs": [
    {
     "data": {
      "text/html": [
       "<div>\n",
       "<style scoped>\n",
       "    .dataframe tbody tr th:only-of-type {\n",
       "        vertical-align: middle;\n",
       "    }\n",
       "\n",
       "    .dataframe tbody tr th {\n",
       "        vertical-align: top;\n",
       "    }\n",
       "\n",
       "    .dataframe thead th {\n",
       "        text-align: right;\n",
       "    }\n",
       "</style>\n",
       "<table border=\"1\" class=\"dataframe\">\n",
       "  <thead>\n",
       "    <tr style=\"text-align: right;\">\n",
       "      <th></th>\n",
       "      <th>produto</th>\n",
       "      <th>preco</th>\n",
       "    </tr>\n",
       "  </thead>\n",
       "  <tbody>\n",
       "    <tr>\n",
       "      <th>0</th>\n",
       "      <td>Cerveja Pure Gold Long Neck Stella Artois Sem ...</td>\n",
       "      <td>R$ 6,49</td>\n",
       "    </tr>\n",
       "  </tbody>\n",
       "</table>\n",
       "</div>"
      ],
      "text/plain": [
       "                                             produto    preco\n",
       "0  Cerveja Pure Gold Long Neck Stella Artois Sem ...  R$ 6,49"
      ]
     },
     "execution_count": 22,
     "metadata": {},
     "output_type": "execute_result"
    }
   ],
   "source": [
    "df_produtos.head(1)"
   ]
  },
  {
   "cell_type": "code",
   "execution_count": 23,
   "metadata": {},
   "outputs": [
    {
     "name": "stdout",
     "output_type": "stream",
     "text": [
      "Cerveja Pure Gold Long Neck Stella Artois Sem Glúten 330 Ml\n"
     ]
    }
   ],
   "source": [
    "print(df_produtos['produto'].iloc[0])\n"
   ]
  }
 ],
 "metadata": {
  "kernelspec": {
   "display_name": "base",
   "language": "python",
   "name": "python3"
  },
  "language_info": {
   "codemirror_mode": {
    "name": "ipython",
    "version": 3
   },
   "file_extension": ".py",
   "mimetype": "text/x-python",
   "name": "python",
   "nbconvert_exporter": "python",
   "pygments_lexer": "ipython3",
   "version": "3.12.2"
  },
  "orig_nbformat": 4
 },
 "nbformat": 4,
 "nbformat_minor": 2
}
