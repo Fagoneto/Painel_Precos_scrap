{
 "cells": [
  {
   "cell_type": "code",
   "execution_count": 1,
   "metadata": {},
   "outputs": [
    {
     "name": "stdout",
     "output_type": "stream",
     "text": [
      "Botão clicado com sucesso!\n",
      "CEP preenchido com sucesso!\n",
      "Botão Buscar clicado com sucesso!\n",
      "Botão 'Retirar em loja' clicado com sucesso!\n"
     ]
    }
   ],
   "source": [
    "from selenium.webdriver.chrome.service import Service\n",
    "from selenium.webdriver.support.ui import Select\n",
    "from selenium.webdriver.common.keys import Keys\n",
    "from selenium.webdriver.common.by import By\n",
    "from selenium import webdriver\n",
    "import datetime\n",
    "import time\n",
    "import pandas as pd\n",
    "\n",
    "from selenium import webdriver\n",
    "from selenium.webdriver.chrome.service import Service as ChromeService\n",
    "from webdriver_manager.chrome import ChromeDriverManager\n",
    "\n",
    "from selenium.webdriver.common.by import By\n",
    "from selenium.webdriver.support.ui import WebDriverWait\n",
    "from selenium.webdriver.support import expected_conditions as EC\n",
    "from selenium.webdriver.support.ui import WebDriverWait\n",
    "\n",
    "import re\n",
    "\n",
    "data_de_hoje = datetime.date.today()\n",
    "\n",
    "# Coleta os produtos da loja\n",
    "produtos = []\n",
    "\n",
    "# Variáveis\n",
    "service = ChromeService(\n",
    "    ChromeDriverManager(driver_version=\"137.0.7151.104\").install()\n",
    ")\n",
    "driver = webdriver.Chrome(service=service)\n",
    "\n",
    "driver.get(\"https://obahortifruti.com.br/\")\n",
    "\n",
    "time.sleep(1)\n",
    "\n",
    "precos_oba = []\n",
    "\n",
    "wait = WebDriverWait(driver, 10)\n",
    "\n",
    "try:\n",
    "    botao_localizacao = wait.until(EC.element_to_be_clickable((By.XPATH, \"//section[contains(@class, 'styles_geolocationTrigger')]/button\")))\n",
    "    botao_localizacao.click()\n",
    "    print(\"Botão clicado com sucesso!\")\n",
    "except Exception as e:\n",
    "    print(\"Erro ao tentar clicar no botão:\", e)\n",
    "\n",
    "# Preencher o CEP\n",
    "try:\n",
    "    campo_cep = wait.until(EC.presence_of_element_located((By.XPATH, \"//input[@placeholder='99999-999']\")))\n",
    "    campo_cep.clear()\n",
    "    campo_cep.send_keys(\"05650002\")\n",
    "    print(\"CEP preenchido com sucesso!\")\n",
    "except Exception as e:\n",
    "    print(\"Erro ao preencher o CEP:\", e)\n",
    "\n",
    "# Clicar no botão \"Buscar\"\n",
    "try:\n",
    "    botao_buscar = wait.until(EC.element_to_be_clickable((By.XPATH, \"//button[@data-submit-btn='true']\")))\n",
    "    botao_buscar.click()\n",
    "    print(\"Botão Buscar clicado com sucesso!\")\n",
    "except Exception as e:\n",
    "    print(\"Erro ao clicar no botão Buscar:\", e)\n",
    "\n",
    "# Depois daqui você pode seguir com a coleta dos produtos da loja\n",
    "# driver.quit()  # Só feche o navegador depois de terminar\n",
    "\n",
    "try:\n",
    "    botao_retirar = wait.until(EC.element_to_be_clickable((By.XPATH, \"//button[contains(text(), 'Retirar em loja')]\")))\n",
    "    botao_retirar.click()\n",
    "    print(\"Botão 'Retirar em loja' clicado com sucesso!\")\n",
    "except Exception as e:\n",
    "    print(\"Erro ao clicar no botão 'Retirar em loja':\", e)"
   ]
  },
  {
   "cell_type": "code",
   "execution_count": 15,
   "metadata": {},
   "outputs": [],
   "source": [
    "# Variáveis\n",
    "service = ChromeService(\n",
    "    ChromeDriverManager(driver_version=\"137.0.7151.104\").install()\n",
    ")\n",
    "driver = webdriver.Chrome(service=service)\n",
    "\n",
    "driver.get(\"https://obahortifruti.com.br/\")\n",
    "\n",
    "time.sleep(1)\n",
    "\n",
    "precos_oba = []"
   ]
  },
  {
   "cell_type": "code",
   "execution_count": 16,
   "metadata": {},
   "outputs": [
    {
     "name": "stdout",
     "output_type": "stream",
     "text": [
      "Botão clicado com sucesso!\n"
     ]
    }
   ],
   "source": [
    "wait = WebDriverWait(driver, 10)\n",
    "\n",
    "try:\n",
    "    botao_localizacao = wait.until(EC.element_to_be_clickable((By.XPATH, \"//section[contains(@class, 'styles_geolocationTrigger')]/button\")))\n",
    "    botao_localizacao.click()\n",
    "    print(\"Botão clicado com sucesso!\")\n",
    "except Exception as e:\n",
    "    print(\"Erro ao tentar clicar no botão:\", e)\n",
    "\n",
    "# driver.quit()"
   ]
  },
  {
   "cell_type": "code",
   "execution_count": 18,
   "metadata": {},
   "outputs": [
    {
     "name": "stdout",
     "output_type": "stream",
     "text": [
      "Botão 'Retirar em loja' clicado com sucesso!\n"
     ]
    }
   ],
   "source": [
    "try:\n",
    "    botao_retirar = wait.until(EC.element_to_be_clickable((By.XPATH, \"//button[contains(text(), 'Retirar em loja')]\")))\n",
    "    botao_retirar.click()\n",
    "    print(\"Botão 'Retirar em loja' clicado com sucesso!\")\n",
    "except Exception as e:\n",
    "    print(\"Erro ao clicar no botão 'Retirar em loja':\", e)\n"
   ]
  },
  {
   "cell_type": "markdown",
   "metadata": {},
   "source": [
    "### Lista de Lojas"
   ]
  },
  {
   "cell_type": "code",
   "execution_count": 11,
   "metadata": {},
   "outputs": [
    {
     "name": "stdout",
     "output_type": "stream",
     "text": [
      "Coleta finalizada e arquivo lojas_oba.csv salvo com sucesso!\n"
     ]
    }
   ],
   "source": [
    "# Passo 5: Coletar todas as lojas listadas\n",
    "lojas = wait.until(EC.presence_of_all_elements_located((By.XPATH, \"//ul[@data-pickup-selector='true']/li\")))\n",
    "\n",
    "dados_lojas = []\n",
    "\n",
    "for loja in lojas:\n",
    "    try:\n",
    "        texto_loja = loja.text\n",
    "        dados_lojas.append({\"loja_info\": texto_loja})\n",
    "    except Exception as e:\n",
    "        print(f\"Erro ao coletar loja: {e}\")\n",
    "\n",
    "# Criar o DataFrame\n",
    "df_lojas = pd.DataFrame(dados_lojas)\n",
    "\n",
    "# Salvar o CSV\n",
    "df_lojas.to_csv(\"lojas_oba.csv\", index=False, encoding='utf-8-sig')\n",
    "\n",
    "print(\"Coleta finalizada e arquivo lojas_oba.csv salvo com sucesso!\")\n",
    "\n",
    "# Fechar navegador\n",
    "driver.quit()"
   ]
  },
  {
   "cell_type": "code",
   "execution_count": 14,
   "metadata": {},
   "outputs": [],
   "source": [
    "# Salvar o CSV\n",
    "df_lojas.to_csv(\"lojas_oba_morumbi.csv\", index=False, encoding='utf-8-sig')"
   ]
  },
  {
   "cell_type": "markdown",
   "metadata": {},
   "source": [
    "### Continuacao"
   ]
  },
  {
   "cell_type": "code",
   "execution_count": 2,
   "metadata": {},
   "outputs": [
    {
     "name": "stdout",
     "output_type": "stream",
     "text": [
      "Primeira loja selecionada!\n"
     ]
    }
   ],
   "source": [
    "primeira_loja = wait.until(EC.element_to_be_clickable((By.XPATH, \"//ul[@data-pickup-selector='true']/li[1]\")))\n",
    "primeira_loja.click()\n",
    "print(\"Primeira loja selecionada!\")\n"
   ]
  },
  {
   "cell_type": "code",
   "execution_count": 3,
   "metadata": {},
   "outputs": [
    {
     "name": "stdout",
     "output_type": "stream",
     "text": [
      "Scroll da lista de lojas feito com sucesso!\n",
      "Botão 'Continuar' clicado com sucesso!\n"
     ]
    }
   ],
   "source": [
    "# Rolando a lista de lojas até o final (scroll interno)\n",
    "try:\n",
    "    ul_lojas = wait.until(EC.presence_of_element_located((By.XPATH, \"//ul[@data-pickup-selector='true']\")))\n",
    "    driver.execute_script(\"arguments[0].scrollTop = arguments[0].scrollHeight\", ul_lojas)\n",
    "    print(\"Scroll da lista de lojas feito com sucesso!\")\n",
    "    time.sleep(1)  # Pequena espera para garantir carregamento\n",
    "except Exception as e:\n",
    "    print(\"Erro ao fazer scroll:\", e)\n",
    "\n",
    "# Clicar no botão \"Continuar\"\n",
    "try:\n",
    "    botao_continuar = wait.until(EC.element_to_be_clickable((By.XPATH, \"//button[@data-continue-btn='true']\")))\n",
    "    botao_continuar.click()\n",
    "    print(\"Botão 'Continuar' clicado com sucesso!\")\n",
    "except Exception as e:\n",
    "    print(\"Erro ao clicar no botão 'Continuar':\", e)\n",
    "\n"
   ]
  },
  {
   "cell_type": "code",
   "execution_count": 4,
   "metadata": {},
   "outputs": [
    {
     "name": "stdout",
     "output_type": "stream",
     "text": [
      "Termo 'cerveja' digitado com sucesso!\n"
     ]
    }
   ],
   "source": [
    "try:\n",
    "    campo_busca = wait.until(EC.presence_of_element_located((By.XPATH, \"//input[@placeholder='Digite seu produto']\")))\n",
    "    campo_busca.clear()\n",
    "    campo_busca.send_keys(\"cerveja\")\n",
    "    print(\"Termo 'cerveja' digitado com sucesso!\")\n",
    "except Exception as e:\n",
    "    print(\"Erro ao digitar o produto:\", e)\n"
   ]
  },
  {
   "cell_type": "code",
   "execution_count": 5,
   "metadata": {},
   "outputs": [
    {
     "name": "stdout",
     "output_type": "stream",
     "text": [
      "Botão de busca clicado com sucesso!\n"
     ]
    }
   ],
   "source": [
    "# Clicar na lupa (botão de buscar)\n",
    "try:\n",
    "    botao_buscar = wait.until(EC.element_to_be_clickable((By.XPATH, \"//span[@data-submit-search='true']\")))\n",
    "    botao_buscar.click()\n",
    "    print(\"Botão de busca clicado com sucesso!\")\n",
    "except Exception as e:\n",
    "    print(\"Erro ao clicar no botão de busca:\", e)"
   ]
  },
  {
   "cell_type": "code",
   "execution_count": 10,
   "metadata": {},
   "outputs": [
    {
     "name": "stdout",
     "output_type": "stream",
     "text": [
      "Termo 'cerveja' digitado com sucesso no campo correto!\n"
     ]
    }
   ],
   "source": [
    "try:\n",
    "    campo_busca_modal = wait.until(EC.visibility_of_element_located(\n",
    "        (By.XPATH, \"//input[@data-testid='fs-input']\")))\n",
    "    campo_busca_modal.clear()\n",
    "    campo_busca_modal.send_keys(\"cerveja\")\n",
    "    print(\"Termo 'cerveja' digitado com sucesso no campo correto!\")\n",
    "except Exception as e:\n",
    "    print(\"Erro ao preencher o campo de busca:\", e)\n"
   ]
  },
  {
   "cell_type": "code",
   "execution_count": null,
   "metadata": {},
   "outputs": [
    {
     "name": "stdout",
     "output_type": "stream",
     "text": [
      "Clique na lupa executado via JavaScript com sucesso!\n"
     ]
    }
   ],
   "source": [
    "### ESTRANHO MAS DEU CERTO\n",
    "\n",
    "try:\n",
    "    botao_lupa_span = wait.until(EC.presence_of_element_located(\n",
    "        (By.XPATH, \"//span[@data-submit-search='true']\")))\n",
    "    driver.execute_script(\"arguments[0].click();\", botao_lupa_span)\n",
    "    print(\"Clique na lupa executado via JavaScript com sucesso!\")\n",
    "except Exception as e:\n",
    "    print(\"Erro ao clicar na lupa via JavaScript:\", e)\n",
    "\n",
    "\n",
    "###### AQUI PRECISAR AGUARDAR UNS SEGUNDOS\n",
    "\n",
    "\n"
   ]
  },
  {
   "cell_type": "code",
   "execution_count": null,
   "metadata": {},
   "outputs": [
    {
     "name": "stdout",
     "output_type": "stream",
     "text": [
      "48 produtos coletados com sucesso!\n",
      "Arquivo produtos_oba_cerveja.csv salvo!\n"
     ]
    }
   ],
   "source": [
    "dados_produtos = []\n",
    "\n",
    "try:\n",
    "    # Encontrar todos os blocos de produtos\n",
    "    produtos = wait.until(EC.presence_of_all_elements_located(\n",
    "        (By.XPATH, \"//article\")))\n",
    "\n",
    "    for produto in produtos:\n",
    "        try:\n",
    "            nome = produto.find_element(By.XPATH, \".//a[@data-testid='product-link']\").get_attribute(\"title\")\n",
    "\n",
    "        except:\n",
    "            nome = \"Nome não encontrado\"\n",
    "\n",
    "        try:\n",
    "            preco = produto.find_element(By.XPATH, \".//div[@data-price-per-unit='true']\").text\n",
    "        except:\n",
    "            preco = \"Preço não encontrado\"\n",
    "\n",
    "        dados_produtos.append({\"produto\": nome, \"preco\": preco})\n",
    "\n",
    "    print(f\"{len(dados_produtos)} produtos coletados com sucesso!\")\n",
    "\n",
    "except Exception as e:\n",
    "    print(\"Erro ao coletar os produtos:\", e)\n",
    "\n",
    "\n",
    "\n",
    "print(\"Arquivo produtos_oba_cerveja.csv salvo!\")\n"
   ]
  },
  {
   "cell_type": "code",
   "execution_count": 13,
   "metadata": {},
   "outputs": [],
   "source": [
    "# Salvar em CSV\n",
    "import pandas as pd\n",
    "df_produtos = pd.DataFrame(dados_produtos)\n",
    "df_produtos.to_csv(\"produtos_oba_cerveja_morumbi_20250626.csv\", index=False, encoding='utf-8-sig')"
   ]
  },
  {
   "cell_type": "code",
   "execution_count": null,
   "metadata": {},
   "outputs": [],
   "source": [
    "# Salvar CSV\n",
    "import pandas as pd\n",
    "df_produtos = pd.DataFrame(dados_produtos)\n",
    "df_produtos.to_csv(\"produtos_oba_cerveja.csv\", index=False, encoding='utf-8-sig')"
   ]
  },
  {
   "cell_type": "code",
   "execution_count": 15,
   "metadata": {},
   "outputs": [
    {
     "data": {
      "text/html": [
       "<div>\n",
       "<style scoped>\n",
       "    .dataframe tbody tr th:only-of-type {\n",
       "        vertical-align: middle;\n",
       "    }\n",
       "\n",
       "    .dataframe tbody tr th {\n",
       "        vertical-align: top;\n",
       "    }\n",
       "\n",
       "    .dataframe thead th {\n",
       "        text-align: right;\n",
       "    }\n",
       "</style>\n",
       "<table border=\"1\" class=\"dataframe\">\n",
       "  <thead>\n",
       "    <tr style=\"text-align: right;\">\n",
       "      <th></th>\n",
       "      <th>produto</th>\n",
       "      <th>preco</th>\n",
       "    </tr>\n",
       "  </thead>\n",
       "  <tbody>\n",
       "    <tr>\n",
       "      <th>0</th>\n",
       "      <td>Cerveja Pure Gold Long Neck Stella Artois Sem ...</td>\n",
       "      <td>R$ 6,49</td>\n",
       "    </tr>\n",
       "    <tr>\n",
       "      <th>1</th>\n",
       "      <td>Cerveja Lager Puro Malte Sem Glúten Amstel Ult...</td>\n",
       "      <td>R$ 4,99</td>\n",
       "    </tr>\n",
       "    <tr>\n",
       "      <th>2</th>\n",
       "      <td>Cerveja Lager Puro Malte Sem Glúten Amstel Ult...</td>\n",
       "      <td>R$ 4,49</td>\n",
       "    </tr>\n",
       "    <tr>\n",
       "      <th>3</th>\n",
       "      <td>Cerveja Dark Lager Cusqueña 330 Ml</td>\n",
       "      <td>R$ 6,99\\nR$ 9,99</td>\n",
       "    </tr>\n",
       "    <tr>\n",
       "      <th>4</th>\n",
       "      <td>Cerveja Paulaner Munchner 500 Ml</td>\n",
       "      <td>R$ 19,99\\nR$ 24,99</td>\n",
       "    </tr>\n",
       "    <tr>\n",
       "      <th>5</th>\n",
       "      <td>Cerveja Spaten Long Neck 330 Ml</td>\n",
       "      <td>R$ 5,99</td>\n",
       "    </tr>\n",
       "    <tr>\n",
       "      <th>6</th>\n",
       "      <td>Cerveja Lager Amstel Lata 350 Ml</td>\n",
       "      <td>R$ 3,99</td>\n",
       "    </tr>\n",
       "    <tr>\n",
       "      <th>7</th>\n",
       "      <td>Cerveja Coronita Extra 210 Ml</td>\n",
       "      <td>R$ 5,19</td>\n",
       "    </tr>\n",
       "    <tr>\n",
       "      <th>8</th>\n",
       "      <td>Cerveja Puro Malte Heineken Lata 350ml</td>\n",
       "      <td>R$ 5,99</td>\n",
       "    </tr>\n",
       "    <tr>\n",
       "      <th>9</th>\n",
       "      <td>Cerveja Puro Malte Heineken Long Neck 330 Ml</td>\n",
       "      <td>R$ 6,99</td>\n",
       "    </tr>\n",
       "    <tr>\n",
       "      <th>10</th>\n",
       "      <td>Cerveja Zero Alcool Heineken 350 Ml</td>\n",
       "      <td>R$ 5,99</td>\n",
       "    </tr>\n",
       "    <tr>\n",
       "      <th>11</th>\n",
       "      <td>Cerveja Original 350 Ml</td>\n",
       "      <td>R$ 4,49</td>\n",
       "    </tr>\n",
       "    <tr>\n",
       "      <th>12</th>\n",
       "      <td>Cerveja Stella Long Neck 330 Ml</td>\n",
       "      <td>R$ 6,49</td>\n",
       "    </tr>\n",
       "    <tr>\n",
       "      <th>13</th>\n",
       "      <td>Cerveja Budweiser Long Neck 330 Ml</td>\n",
       "      <td>R$ 5,99</td>\n",
       "    </tr>\n",
       "    <tr>\n",
       "      <th>14</th>\n",
       "      <td>Cerveja Heineken Sem Álcool Long Neck 330 Ml</td>\n",
       "      <td>R$ 6,99</td>\n",
       "    </tr>\n",
       "    <tr>\n",
       "      <th>15</th>\n",
       "      <td>Cerveja Golden Lager Cusqueña 330 Ml</td>\n",
       "      <td>R$ 8,99</td>\n",
       "    </tr>\n",
       "    <tr>\n",
       "      <th>16</th>\n",
       "      <td>Cerveja Ultra Lata Sleek Michelob 350 Ml</td>\n",
       "      <td>R$ 4,99</td>\n",
       "    </tr>\n",
       "    <tr>\n",
       "      <th>17</th>\n",
       "      <td>Cerveja Corona Extra Long Neck 330 Ml</td>\n",
       "      <td>R$ 7,99</td>\n",
       "    </tr>\n",
       "    <tr>\n",
       "      <th>18</th>\n",
       "      <td>Cerveja Dusza Puro Malte Pilsen 1 L</td>\n",
       "      <td>R$ 15,99</td>\n",
       "    </tr>\n",
       "    <tr>\n",
       "      <th>19</th>\n",
       "      <td>Cerveja Duplo Malte Brahma 350 Ml</td>\n",
       "      <td>R$ 4,49</td>\n",
       "    </tr>\n",
       "    <tr>\n",
       "      <th>20</th>\n",
       "      <td>Cerveja Lager German Pilsner Louvada 500 Ml</td>\n",
       "      <td>R$ 16,99</td>\n",
       "    </tr>\n",
       "    <tr>\n",
       "      <th>21</th>\n",
       "      <td>Cerveja Indian Pale Ale Leopoldina 500 Ml</td>\n",
       "      <td>R$ 22,99</td>\n",
       "    </tr>\n",
       "    <tr>\n",
       "      <th>22</th>\n",
       "      <td>Cerveja Puro Malte Heineken Garrafa 600 Ml</td>\n",
       "      <td>R$ 13,99</td>\n",
       "    </tr>\n",
       "    <tr>\n",
       "      <th>23</th>\n",
       "      <td>Cerveja Baden Baden Witbier 600 Ml</td>\n",
       "      <td>R$ 16,99</td>\n",
       "    </tr>\n",
       "    <tr>\n",
       "      <th>24</th>\n",
       "      <td>Cerveja India Pale Ale Louvada 500 Ml</td>\n",
       "      <td>R$ 19,99</td>\n",
       "    </tr>\n",
       "    <tr>\n",
       "      <th>25</th>\n",
       "      <td>Cerveja Nacional Burgman Ipa Hop 600 Ml</td>\n",
       "      <td>R$ 17,99</td>\n",
       "    </tr>\n",
       "    <tr>\n",
       "      <th>26</th>\n",
       "      <td>Cerveja Nacional Burgman Lager 600 Ml</td>\n",
       "      <td>R$ 11,99</td>\n",
       "    </tr>\n",
       "    <tr>\n",
       "      <th>27</th>\n",
       "      <td>Cerveja Praya Witbier 600ml</td>\n",
       "      <td>R$ 14,99</td>\n",
       "    </tr>\n",
       "    <tr>\n",
       "      <th>28</th>\n",
       "      <td>Cerveja Premium Hoplager Louvada 355 Ml</td>\n",
       "      <td>R$ 9,99</td>\n",
       "    </tr>\n",
       "    <tr>\n",
       "      <th>29</th>\n",
       "      <td>Cerveja Bohemian Leopoldina Pilsner 500 Ml</td>\n",
       "      <td>R$ 22,99</td>\n",
       "    </tr>\n",
       "    <tr>\n",
       "      <th>30</th>\n",
       "      <td>Cerveja Witbier Leopoldina 500 Ml</td>\n",
       "      <td>R$ 22,99</td>\n",
       "    </tr>\n",
       "    <tr>\n",
       "      <th>31</th>\n",
       "      <td>Cerveja Paulaner Weissbier 500 Ml</td>\n",
       "      <td>R$ 26,99</td>\n",
       "    </tr>\n",
       "    <tr>\n",
       "      <th>32</th>\n",
       "      <td>Cerveja Baden Baden Ipa American 600 Ml</td>\n",
       "      <td>R$ 17,99</td>\n",
       "    </tr>\n",
       "    <tr>\n",
       "      <th>33</th>\n",
       "      <td>Cerveja Nacional Burman Fun Weiss 600 Ml</td>\n",
       "      <td>R$ 16,99</td>\n",
       "    </tr>\n",
       "    <tr>\n",
       "      <th>34</th>\n",
       "      <td>Cerveja Michelob Ultra Long Neck 330 Ml</td>\n",
       "      <td>R$ 6,99</td>\n",
       "    </tr>\n",
       "    <tr>\n",
       "      <th>35</th>\n",
       "      <td>Cerveja Pilsen Puro Malte Com Dry Hop Dama Bie...</td>\n",
       "      <td>R$ 12,99</td>\n",
       "    </tr>\n",
       "    <tr>\n",
       "      <th>36</th>\n",
       "      <td>Chopp Growler Vienna Lager Comendador 1 L</td>\n",
       "      <td>R$ 16,99</td>\n",
       "    </tr>\n",
       "    <tr>\n",
       "      <th>37</th>\n",
       "      <td>Chopp Ipa Growler Comendador 1 L</td>\n",
       "      <td>R$ 16,99</td>\n",
       "    </tr>\n",
       "    <tr>\n",
       "      <th>38</th>\n",
       "      <td>Cerv Colorado 600ml Appia</td>\n",
       "      <td>R$ 15,99</td>\n",
       "    </tr>\n",
       "    <tr>\n",
       "      <th>39</th>\n",
       "      <td>Cerveja Sem Glúten Stella Artois 330 Ml</td>\n",
       "      <td>Preço não encontrado</td>\n",
       "    </tr>\n",
       "    <tr>\n",
       "      <th>40</th>\n",
       "      <td>Cerveja Malzbier Sem Glúten Farrapos 355 Ml</td>\n",
       "      <td>Preço não encontrado</td>\n",
       "    </tr>\n",
       "    <tr>\n",
       "      <th>41</th>\n",
       "      <td>Cerveja Sem Glúten Pilsen Farrapos 600 Ml</td>\n",
       "      <td>Preço não encontrado</td>\n",
       "    </tr>\n",
       "    <tr>\n",
       "      <th>42</th>\n",
       "      <td>Cerveja Comendador Growler Pilsen 1l</td>\n",
       "      <td>Preço não encontrado</td>\n",
       "    </tr>\n",
       "    <tr>\n",
       "      <th>43</th>\n",
       "      <td>Cerveja Nacional Dama Bier Stout 600 Ml</td>\n",
       "      <td>Preço não encontrado</td>\n",
       "    </tr>\n",
       "    <tr>\n",
       "      <th>44</th>\n",
       "      <td>Cerveja Red Ale Burgman 600ml</td>\n",
       "      <td>Preço não encontrado</td>\n",
       "    </tr>\n",
       "    <tr>\n",
       "      <th>45</th>\n",
       "      <td>Cerveja American Pale Ale Louvada 500 Ml</td>\n",
       "      <td>Preço não encontrado</td>\n",
       "    </tr>\n",
       "    <tr>\n",
       "      <th>46</th>\n",
       "      <td>Cerveja Premium Hoplager Louvada 500 Ml</td>\n",
       "      <td>Preço não encontrado</td>\n",
       "    </tr>\n",
       "    <tr>\n",
       "      <th>47</th>\n",
       "      <td>Cerveja Premium Lager Louvada 500 Ml</td>\n",
       "      <td>Preço não encontrado</td>\n",
       "    </tr>\n",
       "  </tbody>\n",
       "</table>\n",
       "</div>"
      ],
      "text/plain": [
       "                                              produto                 preco\n",
       "0   Cerveja Pure Gold Long Neck Stella Artois Sem ...               R$ 6,49\n",
       "1   Cerveja Lager Puro Malte Sem Glúten Amstel Ult...               R$ 4,99\n",
       "2   Cerveja Lager Puro Malte Sem Glúten Amstel Ult...               R$ 4,49\n",
       "3                  Cerveja Dark Lager Cusqueña 330 Ml      R$ 6,99\\nR$ 9,99\n",
       "4                    Cerveja Paulaner Munchner 500 Ml    R$ 19,99\\nR$ 24,99\n",
       "5                     Cerveja Spaten Long Neck 330 Ml               R$ 5,99\n",
       "6                    Cerveja Lager Amstel Lata 350 Ml               R$ 3,99\n",
       "7                       Cerveja Coronita Extra 210 Ml               R$ 5,19\n",
       "8              Cerveja Puro Malte Heineken Lata 350ml               R$ 5,99\n",
       "9        Cerveja Puro Malte Heineken Long Neck 330 Ml               R$ 6,99\n",
       "10                Cerveja Zero Alcool Heineken 350 Ml               R$ 5,99\n",
       "11                            Cerveja Original 350 Ml               R$ 4,49\n",
       "12                    Cerveja Stella Long Neck 330 Ml               R$ 6,49\n",
       "13                 Cerveja Budweiser Long Neck 330 Ml               R$ 5,99\n",
       "14       Cerveja Heineken Sem Álcool Long Neck 330 Ml               R$ 6,99\n",
       "15               Cerveja Golden Lager Cusqueña 330 Ml               R$ 8,99\n",
       "16           Cerveja Ultra Lata Sleek Michelob 350 Ml               R$ 4,99\n",
       "17              Cerveja Corona Extra Long Neck 330 Ml               R$ 7,99\n",
       "18                Cerveja Dusza Puro Malte Pilsen 1 L              R$ 15,99\n",
       "19                  Cerveja Duplo Malte Brahma 350 Ml               R$ 4,49\n",
       "20        Cerveja Lager German Pilsner Louvada 500 Ml              R$ 16,99\n",
       "21          Cerveja Indian Pale Ale Leopoldina 500 Ml              R$ 22,99\n",
       "22         Cerveja Puro Malte Heineken Garrafa 600 Ml              R$ 13,99\n",
       "23                 Cerveja Baden Baden Witbier 600 Ml              R$ 16,99\n",
       "24              Cerveja India Pale Ale Louvada 500 Ml              R$ 19,99\n",
       "25            Cerveja Nacional Burgman Ipa Hop 600 Ml              R$ 17,99\n",
       "26              Cerveja Nacional Burgman Lager 600 Ml              R$ 11,99\n",
       "27                        Cerveja Praya Witbier 600ml              R$ 14,99\n",
       "28            Cerveja Premium Hoplager Louvada 355 Ml               R$ 9,99\n",
       "29         Cerveja Bohemian Leopoldina Pilsner 500 Ml              R$ 22,99\n",
       "30                  Cerveja Witbier Leopoldina 500 Ml              R$ 22,99\n",
       "31                  Cerveja Paulaner Weissbier 500 Ml              R$ 26,99\n",
       "32            Cerveja Baden Baden Ipa American 600 Ml              R$ 17,99\n",
       "33           Cerveja Nacional Burman Fun Weiss 600 Ml              R$ 16,99\n",
       "34            Cerveja Michelob Ultra Long Neck 330 Ml               R$ 6,99\n",
       "35  Cerveja Pilsen Puro Malte Com Dry Hop Dama Bie...              R$ 12,99\n",
       "36          Chopp Growler Vienna Lager Comendador 1 L              R$ 16,99\n",
       "37                   Chopp Ipa Growler Comendador 1 L              R$ 16,99\n",
       "38                          Cerv Colorado 600ml Appia              R$ 15,99\n",
       "39            Cerveja Sem Glúten Stella Artois 330 Ml  Preço não encontrado\n",
       "40        Cerveja Malzbier Sem Glúten Farrapos 355 Ml  Preço não encontrado\n",
       "41          Cerveja Sem Glúten Pilsen Farrapos 600 Ml  Preço não encontrado\n",
       "42               Cerveja Comendador Growler Pilsen 1l  Preço não encontrado\n",
       "43            Cerveja Nacional Dama Bier Stout 600 Ml  Preço não encontrado\n",
       "44                      Cerveja Red Ale Burgman 600ml  Preço não encontrado\n",
       "45           Cerveja American Pale Ale Louvada 500 Ml  Preço não encontrado\n",
       "46            Cerveja Premium Hoplager Louvada 500 Ml  Preço não encontrado\n",
       "47               Cerveja Premium Lager Louvada 500 Ml  Preço não encontrado"
      ]
     },
     "execution_count": 15,
     "metadata": {},
     "output_type": "execute_result"
    }
   ],
   "source": [
    "df_produtos"
   ]
  },
  {
   "cell_type": "code",
   "execution_count": 28,
   "metadata": {},
   "outputs": [
    {
     "data": {
      "text/html": [
       "<div>\n",
       "<style scoped>\n",
       "    .dataframe tbody tr th:only-of-type {\n",
       "        vertical-align: middle;\n",
       "    }\n",
       "\n",
       "    .dataframe tbody tr th {\n",
       "        vertical-align: top;\n",
       "    }\n",
       "\n",
       "    .dataframe thead th {\n",
       "        text-align: right;\n",
       "    }\n",
       "</style>\n",
       "<table border=\"1\" class=\"dataframe\">\n",
       "  <thead>\n",
       "    <tr style=\"text-align: right;\">\n",
       "      <th></th>\n",
       "      <th>produto</th>\n",
       "      <th>preco</th>\n",
       "    </tr>\n",
       "  </thead>\n",
       "  <tbody>\n",
       "    <tr>\n",
       "      <th>0</th>\n",
       "      <td>Cerveja Pure Gold Long Neck Stella Artois Sem ...</td>\n",
       "      <td>R$ 6,49</td>\n",
       "    </tr>\n",
       "  </tbody>\n",
       "</table>\n",
       "</div>"
      ],
      "text/plain": [
       "                                             produto    preco\n",
       "0  Cerveja Pure Gold Long Neck Stella Artois Sem ...  R$ 6,49"
      ]
     },
     "execution_count": 28,
     "metadata": {},
     "output_type": "execute_result"
    }
   ],
   "source": [
    "df_produtos.head(1)"
   ]
  },
  {
   "cell_type": "code",
   "execution_count": 42,
   "metadata": {},
   "outputs": [
    {
     "name": "stdout",
     "output_type": "stream",
     "text": [
      "Cerveja Pure Gold Long Neck Stella Artois Sem Glúten 330 Ml\n"
     ]
    }
   ],
   "source": [
    "print(df_produtos['produto'].iloc[0])\n"
   ]
  }
 ],
 "metadata": {
  "kernelspec": {
   "display_name": "base",
   "language": "python",
   "name": "python3"
  },
  "language_info": {
   "codemirror_mode": {
    "name": "ipython",
    "version": 3
   },
   "file_extension": ".py",
   "mimetype": "text/x-python",
   "name": "python",
   "nbconvert_exporter": "python",
   "pygments_lexer": "ipython3",
   "version": "3.12.2"
  },
  "orig_nbformat": 4
 },
 "nbformat": 4,
 "nbformat_minor": 2
}
