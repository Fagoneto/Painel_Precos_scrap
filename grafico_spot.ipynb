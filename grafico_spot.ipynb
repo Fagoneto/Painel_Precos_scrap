{
 "cells": [
  {
   "cell_type": "code",
   "execution_count": 1,
   "id": "5715b9bc",
   "metadata": {},
   "outputs": [],
   "source": [
    "#abrir arquivo lista_loja.xlsx\n",
    "import pandas as pd\n",
    "import openpyxl\n",
    "import os\n",
    "                           "
   ]
  },
  {
   "cell_type": "code",
   "execution_count": 2,
   "id": "fba3cd55",
   "metadata": {},
   "outputs": [],
   "source": [
    "#ler /Users/franciscoabraao/Documents/Jubart_2024/Painel_Precos_scrap/lista_lojas.xlsx\n",
    "list_lojas = pd.read_excel('/Users/franciscoabraao/Documents/Jubart_2024/Painel_Precos_scrap/lista_lojas.xlsx')    \n",
    "\n",
    "#ler /Users/franciscoabraao/Documents/Jubart_2024/Painel_Precos_scrap/lista_lojas.xlsx\n",
    "df = pd.read_csv('/Users/franciscoabraao/Documents/Jubart_2024/Painel_Precos_scrap/precos_carrefour_kani.csv')  "
   ]
  },
  {
   "cell_type": "code",
   "execution_count": 3,
   "id": "8f4c8b1f",
   "metadata": {},
   "outputs": [
    {
     "data": {
      "text/html": [
       "<div>\n",
       "<style scoped>\n",
       "    .dataframe tbody tr th:only-of-type {\n",
       "        vertical-align: middle;\n",
       "    }\n",
       "\n",
       "    .dataframe tbody tr th {\n",
       "        vertical-align: top;\n",
       "    }\n",
       "\n",
       "    .dataframe thead th {\n",
       "        text-align: right;\n",
       "    }\n",
       "</style>\n",
       "<table border=\"1\" class=\"dataframe\">\n",
       "  <thead>\n",
       "    <tr style=\"text-align: right;\">\n",
       "      <th></th>\n",
       "      <th>data</th>\n",
       "      <th>produto</th>\n",
       "      <th>preco</th>\n",
       "      <th>cidade/UF</th>\n",
       "      <th>UF</th>\n",
       "      <th>regiao</th>\n",
       "      <th>loja</th>\n",
       "      <th>bairro</th>\n",
       "    </tr>\n",
       "  </thead>\n",
       "  <tbody>\n",
       "    <tr>\n",
       "      <th>0</th>\n",
       "      <td>2025-04-18</td>\n",
       "      <td>Kani Congelado Frescatto 200g</td>\n",
       "      <td>13.39</td>\n",
       "      <td>Maceió/AL</td>\n",
       "      <td>AL</td>\n",
       "      <td>Nordeste</td>\n",
       "      <td>Hiper Maceió JatiúcaMangabeiras</td>\n",
       "      <td>Mangabeiras</td>\n",
       "    </tr>\n",
       "    <tr>\n",
       "      <th>1</th>\n",
       "      <td>2025-04-18</td>\n",
       "      <td>Kani Congelado Frescatto 200g</td>\n",
       "      <td>12.99</td>\n",
       "      <td>Itabuna/BA</td>\n",
       "      <td>BA</td>\n",
       "      <td>Nordeste</td>\n",
       "      <td>Big Bompreço ItabunaGoes Calmon</td>\n",
       "      <td>Goes Calmon</td>\n",
       "    </tr>\n",
       "    <tr>\n",
       "      <th>2</th>\n",
       "      <td>2025-04-18</td>\n",
       "      <td>Kani Congelado Frescatto 200g</td>\n",
       "      <td>12.59</td>\n",
       "      <td>Brasília/DF</td>\n",
       "      <td>DF</td>\n",
       "      <td>Centro-Oeste</td>\n",
       "      <td>Hipermercado Brasilia SulZona Industrial (Guará)</td>\n",
       "      <td>Zona Industrial (Guará)</td>\n",
       "    </tr>\n",
       "    <tr>\n",
       "      <th>3</th>\n",
       "      <td>2025-04-18</td>\n",
       "      <td>Kani Congelado Frescatto 200g</td>\n",
       "      <td>12.19</td>\n",
       "      <td>Taguatinga/DF</td>\n",
       "      <td>DF</td>\n",
       "      <td>Centro-Oeste</td>\n",
       "      <td>Hipermercado Brasilia TaguatingaAguas Claras</td>\n",
       "      <td>Aguas Claras</td>\n",
       "    </tr>\n",
       "    <tr>\n",
       "      <th>4</th>\n",
       "      <td>2025-04-18</td>\n",
       "      <td>Kani Congelado Costa Sul 200g</td>\n",
       "      <td>13.39</td>\n",
       "      <td>Vila Velha/ES</td>\n",
       "      <td>ES</td>\n",
       "      <td>Sudeste</td>\n",
       "      <td>Hipermercado Vila Velha ShoppingDivino Espirit...</td>\n",
       "      <td>Divino Espirito Santo</td>\n",
       "    </tr>\n",
       "    <tr>\n",
       "      <th>...</th>\n",
       "      <td>...</td>\n",
       "      <td>...</td>\n",
       "      <td>...</td>\n",
       "      <td>...</td>\n",
       "      <td>...</td>\n",
       "      <td>...</td>\n",
       "      <td>...</td>\n",
       "      <td>...</td>\n",
       "    </tr>\n",
       "    <tr>\n",
       "      <th>91</th>\n",
       "      <td>2025-04-19</td>\n",
       "      <td>Kani Congelado Costa Sul 200g</td>\n",
       "      <td>10.19</td>\n",
       "      <td>Sorocaba/Votorantim/SP</td>\n",
       "      <td>SP</td>\n",
       "      <td>Sudeste</td>\n",
       "      <td>Hipermercado Sorocaba NorteVila Carvalho</td>\n",
       "      <td>Vila Carvalho</td>\n",
       "    </tr>\n",
       "    <tr>\n",
       "      <th>92</th>\n",
       "      <td>2025-04-19</td>\n",
       "      <td>Kani Congelado Costa Sul 200g</td>\n",
       "      <td>10.19</td>\n",
       "      <td>Taboão da Serra/SP</td>\n",
       "      <td>SP</td>\n",
       "      <td>Sudeste</td>\n",
       "      <td>Hipermercado TaboãoCentro</td>\n",
       "      <td>Centro</td>\n",
       "    </tr>\n",
       "    <tr>\n",
       "      <th>93</th>\n",
       "      <td>2025-04-19</td>\n",
       "      <td>Kani Congelado Costa Sul 200g</td>\n",
       "      <td>10.49</td>\n",
       "      <td>Taubate/SP</td>\n",
       "      <td>SP</td>\n",
       "      <td>Sudeste</td>\n",
       "      <td>Carrefour Bairro Taubaté IICentro</td>\n",
       "      <td>Centro</td>\n",
       "    </tr>\n",
       "    <tr>\n",
       "      <th>94</th>\n",
       "      <td>2025-04-19</td>\n",
       "      <td>Kani Congelado Costa Sul 200g</td>\n",
       "      <td>14.79</td>\n",
       "      <td>Vinhedo/SP</td>\n",
       "      <td>SP</td>\n",
       "      <td>Sudeste</td>\n",
       "      <td>Carrefour Bairro VinhedoVista Alegre</td>\n",
       "      <td>Vista Alegre</td>\n",
       "    </tr>\n",
       "    <tr>\n",
       "      <th>95</th>\n",
       "      <td>2025-04-19</td>\n",
       "      <td>Kani Congelado Frescatto 200g</td>\n",
       "      <td>9.98</td>\n",
       "      <td>Vinhedo/SP</td>\n",
       "      <td>SP</td>\n",
       "      <td>Sudeste</td>\n",
       "      <td>Carrefour Bairro VinhedoVista Alegre</td>\n",
       "      <td>Vista Alegre</td>\n",
       "    </tr>\n",
       "  </tbody>\n",
       "</table>\n",
       "<p>96 rows × 8 columns</p>\n",
       "</div>"
      ],
      "text/plain": [
       "          data                        produto  preco               cidade/UF  \\\n",
       "0   2025-04-18  Kani Congelado Frescatto 200g  13.39               Maceió/AL   \n",
       "1   2025-04-18  Kani Congelado Frescatto 200g  12.99              Itabuna/BA   \n",
       "2   2025-04-18  Kani Congelado Frescatto 200g  12.59             Brasília/DF   \n",
       "3   2025-04-18  Kani Congelado Frescatto 200g  12.19           Taguatinga/DF   \n",
       "4   2025-04-18  Kani Congelado Costa Sul 200g  13.39           Vila Velha/ES   \n",
       "..         ...                            ...    ...                     ...   \n",
       "91  2025-04-19  Kani Congelado Costa Sul 200g  10.19  Sorocaba/Votorantim/SP   \n",
       "92  2025-04-19  Kani Congelado Costa Sul 200g  10.19      Taboão da Serra/SP   \n",
       "93  2025-04-19  Kani Congelado Costa Sul 200g  10.49              Taubate/SP   \n",
       "94  2025-04-19  Kani Congelado Costa Sul 200g  14.79              Vinhedo/SP   \n",
       "95  2025-04-19  Kani Congelado Frescatto 200g   9.98              Vinhedo/SP   \n",
       "\n",
       "    UF        regiao                                               loja  \\\n",
       "0   AL      Nordeste                    Hiper Maceió JatiúcaMangabeiras   \n",
       "1   BA      Nordeste                    Big Bompreço ItabunaGoes Calmon   \n",
       "2   DF  Centro-Oeste   Hipermercado Brasilia SulZona Industrial (Guará)   \n",
       "3   DF  Centro-Oeste       Hipermercado Brasilia TaguatingaAguas Claras   \n",
       "4   ES       Sudeste  Hipermercado Vila Velha ShoppingDivino Espirit...   \n",
       "..  ..           ...                                                ...   \n",
       "91  SP       Sudeste           Hipermercado Sorocaba NorteVila Carvalho   \n",
       "92  SP       Sudeste                          Hipermercado TaboãoCentro   \n",
       "93  SP       Sudeste                  Carrefour Bairro Taubaté IICentro   \n",
       "94  SP       Sudeste               Carrefour Bairro VinhedoVista Alegre   \n",
       "95  SP       Sudeste               Carrefour Bairro VinhedoVista Alegre   \n",
       "\n",
       "                     bairro  \n",
       "0               Mangabeiras  \n",
       "1               Goes Calmon  \n",
       "2   Zona Industrial (Guará)  \n",
       "3              Aguas Claras  \n",
       "4     Divino Espirito Santo  \n",
       "..                      ...  \n",
       "91            Vila Carvalho  \n",
       "92                   Centro  \n",
       "93                   Centro  \n",
       "94             Vista Alegre  \n",
       "95             Vista Alegre  \n",
       "\n",
       "[96 rows x 8 columns]"
      ]
     },
     "execution_count": 3,
     "metadata": {},
     "output_type": "execute_result"
    }
   ],
   "source": [
    "#alterar a coluna preco de R$ 22,69 para 22.69 (float)\n",
    "df['preco'] = df['preco'].str.replace('R$', '').str.replace('.', '', regex=False).str.replace(',', '.', regex=False)\n",
    "df['preco'] = df['preco'].astype(float) \n",
    "\n",
    "#renomear coluna cidade_estado para cidade/UF do dataframe df\n",
    "df.rename(columns={'cidade_estado': 'cidade/UF'}, inplace=True)  \n",
    "#substituir \" - \" por \"/\" na coluna cidade/UF do dataframe df\n",
    "df['cidade/UF'] = df['cidade/UF'].str.replace(' - ', '/')  \n",
    "#separa o bairro de cidade/UF\n",
    "df['bairro'] = df['cidade/UF'].str.split(',', expand=True)[0]\n",
    "df['cidade/UF'] = df.apply(lambda row: row['cidade/UF'].replace(row['bairro'], '').strip(', '), axis=1)\n",
    "# junta bairro a loja\n",
    "df['loja'] = df['loja']+df['bairro']\n",
    "\n",
    "#criando a coluna UF\n",
    "df['UF'] = df['cidade/UF'].str[-2:]\n",
    "\n",
    "# Mapeamento de estados para regiões\n",
    "uf_to_region = {\n",
    "    'AC': 'Norte', 'AP': 'Norte', 'AM': 'Norte', 'PA': 'Norte', 'RO': 'Norte', 'RR': 'Norte', 'TO': 'Norte',\n",
    "    'AL': 'Nordeste', 'BA': 'Nordeste', 'CE': 'Nordeste', 'MA': 'Nordeste', 'PB': 'Nordeste', 'PE': 'Nordeste',\n",
    "    'PI': 'Nordeste', 'RN': 'Nordeste', 'SE': 'Nordeste',\n",
    "    'DF': 'Centro-Oeste', 'GO': 'Centro-Oeste', 'MT': 'Centro-Oeste', 'MS': 'Centro-Oeste',\n",
    "    'ES': 'Sudeste', 'MG': 'Sudeste', 'RJ': 'Sudeste', 'SP': 'Sudeste',\n",
    "    'PR': 'Sul', 'RS': 'Sul', 'SC': 'Sul'\n",
    "}\n",
    "\n",
    "# Criar a nova coluna com base no mapeamento\n",
    "df['regiao'] = df['UF'].map(uf_to_region)\n",
    "\n",
    "df = df[['data','produto', 'preco', 'cidade/UF', 'UF', 'regiao', 'loja', 'bairro']]\n",
    "\n",
    "df"
   ]
  },
  {
   "cell_type": "code",
   "execution_count": 4,
   "id": "767c119a",
   "metadata": {},
   "outputs": [
    {
     "data": {
      "text/html": [
       "<div>\n",
       "<style scoped>\n",
       "    .dataframe tbody tr th:only-of-type {\n",
       "        vertical-align: middle;\n",
       "    }\n",
       "\n",
       "    .dataframe tbody tr th {\n",
       "        vertical-align: top;\n",
       "    }\n",
       "\n",
       "    .dataframe thead th {\n",
       "        text-align: right;\n",
       "    }\n",
       "</style>\n",
       "<table border=\"1\" class=\"dataframe\">\n",
       "  <thead>\n",
       "    <tr style=\"text-align: right;\">\n",
       "      <th></th>\n",
       "      <th>data</th>\n",
       "      <th>produto</th>\n",
       "      <th>preco</th>\n",
       "      <th>cidade/UF</th>\n",
       "      <th>UF</th>\n",
       "      <th>regiao</th>\n",
       "      <th>loja</th>\n",
       "      <th>bairro</th>\n",
       "      <th>lat</th>\n",
       "      <th>long</th>\n",
       "    </tr>\n",
       "  </thead>\n",
       "  <tbody>\n",
       "    <tr>\n",
       "      <th>0</th>\n",
       "      <td>2025-04-18</td>\n",
       "      <td>Kani Congelado Frescatto 200g</td>\n",
       "      <td>13.39</td>\n",
       "      <td>Maceió/AL</td>\n",
       "      <td>AL</td>\n",
       "      <td>Nordeste</td>\n",
       "      <td>Hiper Maceió JatiúcaMangabeiras</td>\n",
       "      <td>Mangabeiras</td>\n",
       "      <td>-9.64959</td>\n",
       "      <td>-35.71739</td>\n",
       "    </tr>\n",
       "    <tr>\n",
       "      <th>1</th>\n",
       "      <td>2025-04-18</td>\n",
       "      <td>Kani Congelado Frescatto 200g</td>\n",
       "      <td>12.99</td>\n",
       "      <td>Itabuna/BA</td>\n",
       "      <td>BA</td>\n",
       "      <td>Nordeste</td>\n",
       "      <td>Big Bompreço ItabunaGoes Calmon</td>\n",
       "      <td>Goes Calmon</td>\n",
       "      <td>-14.79790</td>\n",
       "      <td>-39.27272</td>\n",
       "    </tr>\n",
       "    <tr>\n",
       "      <th>2</th>\n",
       "      <td>2025-04-18</td>\n",
       "      <td>Kani Congelado Frescatto 200g</td>\n",
       "      <td>12.59</td>\n",
       "      <td>Brasília/DF</td>\n",
       "      <td>DF</td>\n",
       "      <td>Centro-Oeste</td>\n",
       "      <td>Hipermercado Brasilia SulZona Industrial (Guará)</td>\n",
       "      <td>Zona Industrial (Guará)</td>\n",
       "      <td>-15.82938</td>\n",
       "      <td>-47.95478</td>\n",
       "    </tr>\n",
       "    <tr>\n",
       "      <th>3</th>\n",
       "      <td>2025-04-18</td>\n",
       "      <td>Kani Congelado Frescatto 200g</td>\n",
       "      <td>12.19</td>\n",
       "      <td>Taguatinga/DF</td>\n",
       "      <td>DF</td>\n",
       "      <td>Centro-Oeste</td>\n",
       "      <td>Hipermercado Brasilia TaguatingaAguas Claras</td>\n",
       "      <td>Aguas Claras</td>\n",
       "      <td>-15.82804</td>\n",
       "      <td>-48.04138</td>\n",
       "    </tr>\n",
       "    <tr>\n",
       "      <th>4</th>\n",
       "      <td>2025-04-18</td>\n",
       "      <td>Kani Congelado Costa Sul 200g</td>\n",
       "      <td>13.39</td>\n",
       "      <td>Vila Velha/ES</td>\n",
       "      <td>ES</td>\n",
       "      <td>Sudeste</td>\n",
       "      <td>Hipermercado Vila Velha ShoppingDivino Espirit...</td>\n",
       "      <td>Divino Espirito Santo</td>\n",
       "      <td>-20.34885</td>\n",
       "      <td>-40.29805</td>\n",
       "    </tr>\n",
       "    <tr>\n",
       "      <th>...</th>\n",
       "      <td>...</td>\n",
       "      <td>...</td>\n",
       "      <td>...</td>\n",
       "      <td>...</td>\n",
       "      <td>...</td>\n",
       "      <td>...</td>\n",
       "      <td>...</td>\n",
       "      <td>...</td>\n",
       "      <td>...</td>\n",
       "      <td>...</td>\n",
       "    </tr>\n",
       "    <tr>\n",
       "      <th>91</th>\n",
       "      <td>2025-04-19</td>\n",
       "      <td>Kani Congelado Costa Sul 200g</td>\n",
       "      <td>10.19</td>\n",
       "      <td>Sorocaba/Votorantim/SP</td>\n",
       "      <td>SP</td>\n",
       "      <td>Sudeste</td>\n",
       "      <td>Hipermercado Sorocaba NorteVila Carvalho</td>\n",
       "      <td>Vila Carvalho</td>\n",
       "      <td>NaN</td>\n",
       "      <td>NaN</td>\n",
       "    </tr>\n",
       "    <tr>\n",
       "      <th>92</th>\n",
       "      <td>2025-04-19</td>\n",
       "      <td>Kani Congelado Costa Sul 200g</td>\n",
       "      <td>10.19</td>\n",
       "      <td>Taboão da Serra/SP</td>\n",
       "      <td>SP</td>\n",
       "      <td>Sudeste</td>\n",
       "      <td>Hipermercado TaboãoCentro</td>\n",
       "      <td>Centro</td>\n",
       "      <td>NaN</td>\n",
       "      <td>NaN</td>\n",
       "    </tr>\n",
       "    <tr>\n",
       "      <th>93</th>\n",
       "      <td>2025-04-19</td>\n",
       "      <td>Kani Congelado Costa Sul 200g</td>\n",
       "      <td>10.49</td>\n",
       "      <td>Taubate/SP</td>\n",
       "      <td>SP</td>\n",
       "      <td>Sudeste</td>\n",
       "      <td>Carrefour Bairro Taubaté IICentro</td>\n",
       "      <td>Centro</td>\n",
       "      <td>NaN</td>\n",
       "      <td>NaN</td>\n",
       "    </tr>\n",
       "    <tr>\n",
       "      <th>94</th>\n",
       "      <td>2025-04-19</td>\n",
       "      <td>Kani Congelado Costa Sul 200g</td>\n",
       "      <td>14.79</td>\n",
       "      <td>Vinhedo/SP</td>\n",
       "      <td>SP</td>\n",
       "      <td>Sudeste</td>\n",
       "      <td>Carrefour Bairro VinhedoVista Alegre</td>\n",
       "      <td>Vista Alegre</td>\n",
       "      <td>NaN</td>\n",
       "      <td>NaN</td>\n",
       "    </tr>\n",
       "    <tr>\n",
       "      <th>95</th>\n",
       "      <td>2025-04-19</td>\n",
       "      <td>Kani Congelado Frescatto 200g</td>\n",
       "      <td>9.98</td>\n",
       "      <td>Vinhedo/SP</td>\n",
       "      <td>SP</td>\n",
       "      <td>Sudeste</td>\n",
       "      <td>Carrefour Bairro VinhedoVista Alegre</td>\n",
       "      <td>Vista Alegre</td>\n",
       "      <td>NaN</td>\n",
       "      <td>NaN</td>\n",
       "    </tr>\n",
       "  </tbody>\n",
       "</table>\n",
       "<p>96 rows × 10 columns</p>\n",
       "</div>"
      ],
      "text/plain": [
       "          data                        produto  preco               cidade/UF  \\\n",
       "0   2025-04-18  Kani Congelado Frescatto 200g  13.39               Maceió/AL   \n",
       "1   2025-04-18  Kani Congelado Frescatto 200g  12.99              Itabuna/BA   \n",
       "2   2025-04-18  Kani Congelado Frescatto 200g  12.59             Brasília/DF   \n",
       "3   2025-04-18  Kani Congelado Frescatto 200g  12.19           Taguatinga/DF   \n",
       "4   2025-04-18  Kani Congelado Costa Sul 200g  13.39           Vila Velha/ES   \n",
       "..         ...                            ...    ...                     ...   \n",
       "91  2025-04-19  Kani Congelado Costa Sul 200g  10.19  Sorocaba/Votorantim/SP   \n",
       "92  2025-04-19  Kani Congelado Costa Sul 200g  10.19      Taboão da Serra/SP   \n",
       "93  2025-04-19  Kani Congelado Costa Sul 200g  10.49              Taubate/SP   \n",
       "94  2025-04-19  Kani Congelado Costa Sul 200g  14.79              Vinhedo/SP   \n",
       "95  2025-04-19  Kani Congelado Frescatto 200g   9.98              Vinhedo/SP   \n",
       "\n",
       "    UF        regiao                                               loja  \\\n",
       "0   AL      Nordeste                    Hiper Maceió JatiúcaMangabeiras   \n",
       "1   BA      Nordeste                    Big Bompreço ItabunaGoes Calmon   \n",
       "2   DF  Centro-Oeste   Hipermercado Brasilia SulZona Industrial (Guará)   \n",
       "3   DF  Centro-Oeste       Hipermercado Brasilia TaguatingaAguas Claras   \n",
       "4   ES       Sudeste  Hipermercado Vila Velha ShoppingDivino Espirit...   \n",
       "..  ..           ...                                                ...   \n",
       "91  SP       Sudeste           Hipermercado Sorocaba NorteVila Carvalho   \n",
       "92  SP       Sudeste                          Hipermercado TaboãoCentro   \n",
       "93  SP       Sudeste                  Carrefour Bairro Taubaté IICentro   \n",
       "94  SP       Sudeste               Carrefour Bairro VinhedoVista Alegre   \n",
       "95  SP       Sudeste               Carrefour Bairro VinhedoVista Alegre   \n",
       "\n",
       "                     bairro       lat      long  \n",
       "0               Mangabeiras  -9.64959 -35.71739  \n",
       "1               Goes Calmon -14.79790 -39.27272  \n",
       "2   Zona Industrial (Guará) -15.82938 -47.95478  \n",
       "3              Aguas Claras -15.82804 -48.04138  \n",
       "4     Divino Espirito Santo -20.34885 -40.29805  \n",
       "..                      ...       ...       ...  \n",
       "91            Vila Carvalho       NaN       NaN  \n",
       "92                   Centro       NaN       NaN  \n",
       "93                   Centro       NaN       NaN  \n",
       "94             Vista Alegre       NaN       NaN  \n",
       "95             Vista Alegre       NaN       NaN  \n",
       "\n",
       "[96 rows x 10 columns]"
      ]
     },
     "execution_count": 4,
     "metadata": {},
     "output_type": "execute_result"
    }
   ],
   "source": [
    "df_maps = df.merge(list_lojas[['lat', 'long','loja']], how='left', left_on='loja', right_on='loja')\n",
    "df_maps  "
   ]
  },
  {
   "cell_type": "code",
   "execution_count": 40,
   "id": "a067f240",
   "metadata": {},
   "outputs": [
    {
     "data": {
      "application/vnd.plotly.v1+json": {
       "config": {
        "plotlyServerURL": "https://plot.ly"
       },
       "data": [
        {
         "hovertemplate": "produto=Kani Congelado Frescatto 200g<br>Cidade/UF=%{x}<br>Preço (R$)=%{y}<extra></extra>",
         "legendgroup": "Kani Congelado Frescatto 200g",
         "marker": {
          "color": "#636efa",
          "symbol": "circle"
         },
         "mode": "markers",
         "name": "Kani Congelado Frescatto 200g",
         "orientation": "v",
         "showlegend": true,
         "type": "scatter",
         "x": [
          "Maceió/AL",
          "Itabuna/BA",
          "Brasília/DF",
          "Taguatinga/DF",
          "Vila Velha/ES",
          "Anapolis/GO",
          "Goiania/GO",
          "Belo Horizonte/MG",
          "Belo Horizonte/MG",
          "Contagem/MG",
          "Juiz de Fora/MG",
          "Uberlandia/MG",
          "Campo Grande/MS",
          "Campina Grande/PB",
          "João Pessoa/PB",
          "Jaboatão dos Guararapes/PE",
          "Petrolina/PE",
          "Recife/PE",
          "Curitiba/PR",
          "Duque de Caxias/RJ",
          "Rio de Janeiro/RJ",
          "São Gonçalo/RJ",
          "Campos dos Goytacazes/RJ",
          "Macaé/RJ",
          "Mossoró/RN",
          "Natal/RN",
          "Canoas/RS",
          "Caxias do Sul/RS",
          "Gravataí/RS",
          "Novo Hamburgo/RS",
          "Pelotas/RS",
          "Porto Alegre/RS",
          "Santa Maria/RS",
          "Viamão/RS",
          "Balneário Camboriú/SC",
          "Florianópolis/SC",
          "Indaiatuba/SP",
          "Itu/SP",
          "Salto/SP",
          "São Caetano do Sul/SP",
          "São Jose Rio Preto/SP",
          "Vinhedo/SP"
         ],
         "xaxis": "x",
         "y": [
          13.39,
          12.99,
          12.59,
          12.19,
          15.99,
          11.39,
          11.39,
          15.99,
          15.99,
          15.99,
          15.99,
          15.99,
          12.45,
          12.99,
          12.99,
          12.99,
          12.99,
          12.99,
          11.09,
          15.99,
          15.99,
          15.99,
          15.99,
          15.99,
          12.99,
          12.99,
          8.99,
          8.99,
          8.99,
          12.99,
          9.89,
          9.29,
          9.89,
          12.99,
          13.99,
          13.99,
          9.98,
          9.98,
          9.98,
          10.29,
          9.98,
          9.98
         ],
         "yaxis": "y"
        },
        {
         "hovertemplate": "produto=Kani Congelado Costa Sul 200g<br>Cidade/UF=%{x}<br>Preço (R$)=%{y}<extra></extra>",
         "legendgroup": "Kani Congelado Costa Sul 200g",
         "marker": {
          "color": "#EF553B",
          "symbol": "circle"
         },
         "mode": "markers",
         "name": "Kani Congelado Costa Sul 200g",
         "orientation": "v",
         "showlegend": true,
         "type": "scatter",
         "x": [
          "Vila Velha/ES",
          "Belo Horizonte/MG",
          "Belo Horizonte/MG",
          "Contagem/MG",
          "Juiz de Fora/MG",
          "Uberlandia/MG",
          "Campo Grande/MS",
          "Curitiba/PR",
          "Londrina/PR",
          "Pinhais/PR",
          "Duque de Caxias/RJ",
          "Rio de Janeiro/RJ",
          "São Gonçalo/RJ",
          "Campos dos Goytacazes/RJ",
          "Macaé/RJ",
          "Canoas/RS",
          "Caxias do Sul/RS",
          "Gravataí/RS",
          "Novo Hamburgo/RS",
          "Pelotas/RS",
          "Porto Alegre/RS",
          "Santa Maria/RS",
          "Viamão/RS",
          "Barueri/SP",
          "Caçapava/SP",
          "Campinas/SP",
          "Guarujá/SP",
          "Guarulhos/SP",
          "Indaiatuba/SP",
          "Itu/SP",
          "Jundiai/SP",
          "Osasco/SP",
          "Piracicaba/SP",
          "Praia Grande/SP",
          "Presidente Prudente/SP",
          "Ribeirão Preto/SP",
          "Salto/SP",
          "Santana de Parnaíba/SP",
          "São Bernardo do Campo/SP",
          "São Caetano do Sul/SP",
          "São Carlos/SP",
          "São José dos Campos/SP",
          "São Jose Rio Preto/SP",
          "São Paulo/SP",
          "São Vicente/SP",
          "Sorocaba/Votorantim/SP",
          "Taboão da Serra/SP",
          "Taubate/SP",
          "Vinhedo/SP"
         ],
         "xaxis": "x",
         "y": [
          13.39,
          12.99,
          12.99,
          13.39,
          13.39,
          12.99,
          14.25,
          13.89,
          13.89,
          13.89,
          15.99,
          16.49,
          16.49,
          11.89,
          11.89,
          14.15,
          10.99,
          13.69,
          14.15,
          14.15,
          14.15,
          10.99,
          13.69,
          10.19,
          14.79,
          10.19,
          9.89,
          9.89,
          10.49,
          14.79,
          10.19,
          10.19,
          10.09,
          10.49,
          9.89,
          10.19,
          14.79,
          14.79,
          9.89,
          10.19,
          14.79,
          10.19,
          9.89,
          14.79,
          9.89,
          10.19,
          10.19,
          10.49,
          14.79
         ],
         "yaxis": "y"
        },
        {
         "hovertemplate": "produto=Kani Congelado Damm 250g<br>Cidade/UF=%{x}<br>Preço (R$)=%{y}<extra></extra>",
         "legendgroup": "Kani Congelado Damm 250g",
         "marker": {
          "color": "#00cc96",
          "symbol": "circle"
         },
         "mode": "markers",
         "name": "Kani Congelado Damm 250g",
         "orientation": "v",
         "showlegend": true,
         "type": "scatter",
         "x": [
          "Barueri/SP",
          "Guarulhos/SP",
          "Santana de Parnaíba/SP"
         ],
         "xaxis": "x",
         "y": [
          22.69,
          10.79,
          11.19
         ],
         "yaxis": "y"
        },
        {
         "hovertemplate": "produto=Hossomaki Philadelphia Kani Kama 160 g<br>Cidade/UF=%{x}<br>Preço (R$)=%{y}<extra></extra>",
         "legendgroup": "Hossomaki Philadelphia Kani Kama 160 g",
         "marker": {
          "color": "#ab63fa",
          "symbol": "circle"
         },
         "mode": "markers",
         "name": "Hossomaki Philadelphia Kani Kama 160 g",
         "orientation": "v",
         "showlegend": true,
         "type": "scatter",
         "x": [
          "Caçapava/SP",
          "São José dos Campos/SP"
         ],
         "xaxis": "x",
         "y": [
          22.59,
          27.49
         ],
         "yaxis": "y"
        }
       ],
       "layout": {
        "legend": {
         "title": {
          "text": "produto"
         },
         "tracegroupgap": 0
        },
        "template": {
         "data": {
          "bar": [
           {
            "error_x": {
             "color": "#2a3f5f"
            },
            "error_y": {
             "color": "#2a3f5f"
            },
            "marker": {
             "line": {
              "color": "#E5ECF6",
              "width": 0.5
             },
             "pattern": {
              "fillmode": "overlay",
              "size": 10,
              "solidity": 0.2
             }
            },
            "type": "bar"
           }
          ],
          "barpolar": [
           {
            "marker": {
             "line": {
              "color": "#E5ECF6",
              "width": 0.5
             },
             "pattern": {
              "fillmode": "overlay",
              "size": 10,
              "solidity": 0.2
             }
            },
            "type": "barpolar"
           }
          ],
          "carpet": [
           {
            "aaxis": {
             "endlinecolor": "#2a3f5f",
             "gridcolor": "white",
             "linecolor": "white",
             "minorgridcolor": "white",
             "startlinecolor": "#2a3f5f"
            },
            "baxis": {
             "endlinecolor": "#2a3f5f",
             "gridcolor": "white",
             "linecolor": "white",
             "minorgridcolor": "white",
             "startlinecolor": "#2a3f5f"
            },
            "type": "carpet"
           }
          ],
          "choropleth": [
           {
            "colorbar": {
             "outlinewidth": 0,
             "ticks": ""
            },
            "type": "choropleth"
           }
          ],
          "contour": [
           {
            "colorbar": {
             "outlinewidth": 0,
             "ticks": ""
            },
            "colorscale": [
             [
              0,
              "#0d0887"
             ],
             [
              0.1111111111111111,
              "#46039f"
             ],
             [
              0.2222222222222222,
              "#7201a8"
             ],
             [
              0.3333333333333333,
              "#9c179e"
             ],
             [
              0.4444444444444444,
              "#bd3786"
             ],
             [
              0.5555555555555556,
              "#d8576b"
             ],
             [
              0.6666666666666666,
              "#ed7953"
             ],
             [
              0.7777777777777778,
              "#fb9f3a"
             ],
             [
              0.8888888888888888,
              "#fdca26"
             ],
             [
              1,
              "#f0f921"
             ]
            ],
            "type": "contour"
           }
          ],
          "contourcarpet": [
           {
            "colorbar": {
             "outlinewidth": 0,
             "ticks": ""
            },
            "type": "contourcarpet"
           }
          ],
          "heatmap": [
           {
            "colorbar": {
             "outlinewidth": 0,
             "ticks": ""
            },
            "colorscale": [
             [
              0,
              "#0d0887"
             ],
             [
              0.1111111111111111,
              "#46039f"
             ],
             [
              0.2222222222222222,
              "#7201a8"
             ],
             [
              0.3333333333333333,
              "#9c179e"
             ],
             [
              0.4444444444444444,
              "#bd3786"
             ],
             [
              0.5555555555555556,
              "#d8576b"
             ],
             [
              0.6666666666666666,
              "#ed7953"
             ],
             [
              0.7777777777777778,
              "#fb9f3a"
             ],
             [
              0.8888888888888888,
              "#fdca26"
             ],
             [
              1,
              "#f0f921"
             ]
            ],
            "type": "heatmap"
           }
          ],
          "heatmapgl": [
           {
            "colorbar": {
             "outlinewidth": 0,
             "ticks": ""
            },
            "colorscale": [
             [
              0,
              "#0d0887"
             ],
             [
              0.1111111111111111,
              "#46039f"
             ],
             [
              0.2222222222222222,
              "#7201a8"
             ],
             [
              0.3333333333333333,
              "#9c179e"
             ],
             [
              0.4444444444444444,
              "#bd3786"
             ],
             [
              0.5555555555555556,
              "#d8576b"
             ],
             [
              0.6666666666666666,
              "#ed7953"
             ],
             [
              0.7777777777777778,
              "#fb9f3a"
             ],
             [
              0.8888888888888888,
              "#fdca26"
             ],
             [
              1,
              "#f0f921"
             ]
            ],
            "type": "heatmapgl"
           }
          ],
          "histogram": [
           {
            "marker": {
             "pattern": {
              "fillmode": "overlay",
              "size": 10,
              "solidity": 0.2
             }
            },
            "type": "histogram"
           }
          ],
          "histogram2d": [
           {
            "colorbar": {
             "outlinewidth": 0,
             "ticks": ""
            },
            "colorscale": [
             [
              0,
              "#0d0887"
             ],
             [
              0.1111111111111111,
              "#46039f"
             ],
             [
              0.2222222222222222,
              "#7201a8"
             ],
             [
              0.3333333333333333,
              "#9c179e"
             ],
             [
              0.4444444444444444,
              "#bd3786"
             ],
             [
              0.5555555555555556,
              "#d8576b"
             ],
             [
              0.6666666666666666,
              "#ed7953"
             ],
             [
              0.7777777777777778,
              "#fb9f3a"
             ],
             [
              0.8888888888888888,
              "#fdca26"
             ],
             [
              1,
              "#f0f921"
             ]
            ],
            "type": "histogram2d"
           }
          ],
          "histogram2dcontour": [
           {
            "colorbar": {
             "outlinewidth": 0,
             "ticks": ""
            },
            "colorscale": [
             [
              0,
              "#0d0887"
             ],
             [
              0.1111111111111111,
              "#46039f"
             ],
             [
              0.2222222222222222,
              "#7201a8"
             ],
             [
              0.3333333333333333,
              "#9c179e"
             ],
             [
              0.4444444444444444,
              "#bd3786"
             ],
             [
              0.5555555555555556,
              "#d8576b"
             ],
             [
              0.6666666666666666,
              "#ed7953"
             ],
             [
              0.7777777777777778,
              "#fb9f3a"
             ],
             [
              0.8888888888888888,
              "#fdca26"
             ],
             [
              1,
              "#f0f921"
             ]
            ],
            "type": "histogram2dcontour"
           }
          ],
          "mesh3d": [
           {
            "colorbar": {
             "outlinewidth": 0,
             "ticks": ""
            },
            "type": "mesh3d"
           }
          ],
          "parcoords": [
           {
            "line": {
             "colorbar": {
              "outlinewidth": 0,
              "ticks": ""
             }
            },
            "type": "parcoords"
           }
          ],
          "pie": [
           {
            "automargin": true,
            "type": "pie"
           }
          ],
          "scatter": [
           {
            "fillpattern": {
             "fillmode": "overlay",
             "size": 10,
             "solidity": 0.2
            },
            "type": "scatter"
           }
          ],
          "scatter3d": [
           {
            "line": {
             "colorbar": {
              "outlinewidth": 0,
              "ticks": ""
             }
            },
            "marker": {
             "colorbar": {
              "outlinewidth": 0,
              "ticks": ""
             }
            },
            "type": "scatter3d"
           }
          ],
          "scattercarpet": [
           {
            "marker": {
             "colorbar": {
              "outlinewidth": 0,
              "ticks": ""
             }
            },
            "type": "scattercarpet"
           }
          ],
          "scattergeo": [
           {
            "marker": {
             "colorbar": {
              "outlinewidth": 0,
              "ticks": ""
             }
            },
            "type": "scattergeo"
           }
          ],
          "scattergl": [
           {
            "marker": {
             "colorbar": {
              "outlinewidth": 0,
              "ticks": ""
             }
            },
            "type": "scattergl"
           }
          ],
          "scattermapbox": [
           {
            "marker": {
             "colorbar": {
              "outlinewidth": 0,
              "ticks": ""
             }
            },
            "type": "scattermapbox"
           }
          ],
          "scatterpolar": [
           {
            "marker": {
             "colorbar": {
              "outlinewidth": 0,
              "ticks": ""
             }
            },
            "type": "scatterpolar"
           }
          ],
          "scatterpolargl": [
           {
            "marker": {
             "colorbar": {
              "outlinewidth": 0,
              "ticks": ""
             }
            },
            "type": "scatterpolargl"
           }
          ],
          "scatterternary": [
           {
            "marker": {
             "colorbar": {
              "outlinewidth": 0,
              "ticks": ""
             }
            },
            "type": "scatterternary"
           }
          ],
          "surface": [
           {
            "colorbar": {
             "outlinewidth": 0,
             "ticks": ""
            },
            "colorscale": [
             [
              0,
              "#0d0887"
             ],
             [
              0.1111111111111111,
              "#46039f"
             ],
             [
              0.2222222222222222,
              "#7201a8"
             ],
             [
              0.3333333333333333,
              "#9c179e"
             ],
             [
              0.4444444444444444,
              "#bd3786"
             ],
             [
              0.5555555555555556,
              "#d8576b"
             ],
             [
              0.6666666666666666,
              "#ed7953"
             ],
             [
              0.7777777777777778,
              "#fb9f3a"
             ],
             [
              0.8888888888888888,
              "#fdca26"
             ],
             [
              1,
              "#f0f921"
             ]
            ],
            "type": "surface"
           }
          ],
          "table": [
           {
            "cells": {
             "fill": {
              "color": "#EBF0F8"
             },
             "line": {
              "color": "white"
             }
            },
            "header": {
             "fill": {
              "color": "#C8D4E3"
             },
             "line": {
              "color": "white"
             }
            },
            "type": "table"
           }
          ]
         },
         "layout": {
          "annotationdefaults": {
           "arrowcolor": "#2a3f5f",
           "arrowhead": 0,
           "arrowwidth": 1
          },
          "autotypenumbers": "strict",
          "coloraxis": {
           "colorbar": {
            "outlinewidth": 0,
            "ticks": ""
           }
          },
          "colorscale": {
           "diverging": [
            [
             0,
             "#8e0152"
            ],
            [
             0.1,
             "#c51b7d"
            ],
            [
             0.2,
             "#de77ae"
            ],
            [
             0.3,
             "#f1b6da"
            ],
            [
             0.4,
             "#fde0ef"
            ],
            [
             0.5,
             "#f7f7f7"
            ],
            [
             0.6,
             "#e6f5d0"
            ],
            [
             0.7,
             "#b8e186"
            ],
            [
             0.8,
             "#7fbc41"
            ],
            [
             0.9,
             "#4d9221"
            ],
            [
             1,
             "#276419"
            ]
           ],
           "sequential": [
            [
             0,
             "#0d0887"
            ],
            [
             0.1111111111111111,
             "#46039f"
            ],
            [
             0.2222222222222222,
             "#7201a8"
            ],
            [
             0.3333333333333333,
             "#9c179e"
            ],
            [
             0.4444444444444444,
             "#bd3786"
            ],
            [
             0.5555555555555556,
             "#d8576b"
            ],
            [
             0.6666666666666666,
             "#ed7953"
            ],
            [
             0.7777777777777778,
             "#fb9f3a"
            ],
            [
             0.8888888888888888,
             "#fdca26"
            ],
            [
             1,
             "#f0f921"
            ]
           ],
           "sequentialminus": [
            [
             0,
             "#0d0887"
            ],
            [
             0.1111111111111111,
             "#46039f"
            ],
            [
             0.2222222222222222,
             "#7201a8"
            ],
            [
             0.3333333333333333,
             "#9c179e"
            ],
            [
             0.4444444444444444,
             "#bd3786"
            ],
            [
             0.5555555555555556,
             "#d8576b"
            ],
            [
             0.6666666666666666,
             "#ed7953"
            ],
            [
             0.7777777777777778,
             "#fb9f3a"
            ],
            [
             0.8888888888888888,
             "#fdca26"
            ],
            [
             1,
             "#f0f921"
            ]
           ]
          },
          "colorway": [
           "#636efa",
           "#EF553B",
           "#00cc96",
           "#ab63fa",
           "#FFA15A",
           "#19d3f3",
           "#FF6692",
           "#B6E880",
           "#FF97FF",
           "#FECB52"
          ],
          "font": {
           "color": "#2a3f5f"
          },
          "geo": {
           "bgcolor": "white",
           "lakecolor": "white",
           "landcolor": "#E5ECF6",
           "showlakes": true,
           "showland": true,
           "subunitcolor": "white"
          },
          "hoverlabel": {
           "align": "left"
          },
          "hovermode": "closest",
          "mapbox": {
           "style": "light"
          },
          "paper_bgcolor": "white",
          "plot_bgcolor": "#E5ECF6",
          "polar": {
           "angularaxis": {
            "gridcolor": "white",
            "linecolor": "white",
            "ticks": ""
           },
           "bgcolor": "#E5ECF6",
           "radialaxis": {
            "gridcolor": "white",
            "linecolor": "white",
            "ticks": ""
           }
          },
          "scene": {
           "xaxis": {
            "backgroundcolor": "#E5ECF6",
            "gridcolor": "white",
            "gridwidth": 2,
            "linecolor": "white",
            "showbackground": true,
            "ticks": "",
            "zerolinecolor": "white"
           },
           "yaxis": {
            "backgroundcolor": "#E5ECF6",
            "gridcolor": "white",
            "gridwidth": 2,
            "linecolor": "white",
            "showbackground": true,
            "ticks": "",
            "zerolinecolor": "white"
           },
           "zaxis": {
            "backgroundcolor": "#E5ECF6",
            "gridcolor": "white",
            "gridwidth": 2,
            "linecolor": "white",
            "showbackground": true,
            "ticks": "",
            "zerolinecolor": "white"
           }
          },
          "shapedefaults": {
           "line": {
            "color": "#2a3f5f"
           }
          },
          "ternary": {
           "aaxis": {
            "gridcolor": "white",
            "linecolor": "white",
            "ticks": ""
           },
           "baxis": {
            "gridcolor": "white",
            "linecolor": "white",
            "ticks": ""
           },
           "bgcolor": "#E5ECF6",
           "caxis": {
            "gridcolor": "white",
            "linecolor": "white",
            "ticks": ""
           }
          },
          "title": {
           "x": 0.05
          },
          "xaxis": {
           "automargin": true,
           "gridcolor": "white",
           "linecolor": "white",
           "ticks": "",
           "title": {
            "standoff": 15
           },
           "zerolinecolor": "white",
           "zerolinewidth": 2
          },
          "yaxis": {
           "automargin": true,
           "gridcolor": "white",
           "linecolor": "white",
           "ticks": "",
           "title": {
            "standoff": 15
           },
           "zerolinecolor": "white",
           "zerolinewidth": 2
          }
         }
        },
        "title": {
         "text": "Preços por Produto e Cidade"
        },
        "xaxis": {
         "anchor": "y",
         "categoryarray": [
          "Anapolis/GO",
          "Balneário Camboriú/SC",
          "Barueri/SP",
          "Belo Horizonte/MG",
          "Brasília/DF",
          "Campina Grande/PB",
          "Campinas/SP",
          "Campo Grande/MS",
          "Campos dos Goytacazes/RJ",
          "Canoas/RS",
          "Caxias do Sul/RS",
          "Caçapava/SP",
          "Contagem/MG",
          "Curitiba/PR",
          "Duque de Caxias/RJ",
          "Florianópolis/SC",
          "Goiania/GO",
          "Gravataí/RS",
          "Guarujá/SP",
          "Guarulhos/SP",
          "Indaiatuba/SP",
          "Itabuna/BA",
          "Itu/SP",
          "Jaboatão dos Guararapes/PE",
          "João Pessoa/PB",
          "Juiz de Fora/MG",
          "Jundiai/SP",
          "Londrina/PR",
          "Macaé/RJ",
          "Maceió/AL",
          "Mossoró/RN",
          "Natal/RN",
          "Novo Hamburgo/RS",
          "Osasco/SP",
          "Pelotas/RS",
          "Petrolina/PE",
          "Pinhais/PR",
          "Piracicaba/SP",
          "Porto Alegre/RS",
          "Praia Grande/SP",
          "Presidente Prudente/SP",
          "Recife/PE",
          "Ribeirão Preto/SP",
          "Rio de Janeiro/RJ",
          "Salto/SP",
          "Santa Maria/RS",
          "Santana de Parnaíba/SP",
          "Sorocaba/Votorantim/SP",
          "São Bernardo do Campo/SP",
          "São Caetano do Sul/SP",
          "São Carlos/SP",
          "São Gonçalo/RJ",
          "São Jose Rio Preto/SP",
          "São José dos Campos/SP",
          "São Paulo/SP",
          "São Vicente/SP",
          "Taboão da Serra/SP",
          "Taguatinga/DF",
          "Taubate/SP",
          "Uberlandia/MG",
          "Viamão/RS",
          "Vila Velha/ES",
          "Vinhedo/SP"
         ],
         "categoryorder": "array",
         "domain": [
          0,
          1
         ],
         "tickangle": 45,
         "title": {
          "text": "Cidades (separadas por região)"
         }
        },
        "yaxis": {
         "anchor": "x",
         "domain": [
          0,
          1
         ],
         "title": {
          "text": "Preço (R$)"
         }
        }
       }
      }
     },
     "metadata": {},
     "output_type": "display_data"
    }
   ],
   "source": [
    "import plotly.express as px\n",
    "\n",
    "# Criar o gráfico de pontos\n",
    "fig = px.scatter(\n",
    "    df_maps,\n",
    "    x=\"cidade/UF\",\n",
    "    y=\"preco\",\n",
    "    color=\"produto\",\n",
    "    title=\"Preços por Produto e Cidade\",\n",
    "    labels={\"cidade/UF\": \"Cidade/UF\", \"preco\": \"Preço (R$)\"},\n",
    "    category_orders={\"cidade/UF\": sorted(df_maps[\"cidade/UF\"].unique())}  # Ordenar as cidades\n",
    ")\n",
    "\n",
    "# Atualizar layout para separar as cidades por região\n",
    "fig.update_layout(\n",
    "    xaxis=dict(\n",
    "        tickangle=45,\n",
    "        title=\"Cidades (separadas por região)\"\n",
    "    ),\n",
    "    yaxis=dict(title=\"Preço (R$)\")\n",
    ")\n",
    "\n",
    "# Exibir o gráfico\n",
    "fig.show()"
   ]
  },
  {
   "cell_type": "code",
   "execution_count": 42,
   "id": "6b25ff85",
   "metadata": {},
   "outputs": [
    {
     "data": {
      "application/vnd.plotly.v1+json": {
       "config": {
        "plotlyServerURL": "https://plot.ly"
       },
       "data": [
        {
         "hovertemplate": "produto=Kani Congelado Frescatto 200g<br>Cidade/UF (por Região)=%{x}<br>Preço (R$)=%{y}<extra></extra>",
         "legendgroup": "Kani Congelado Frescatto 200g",
         "marker": {
          "color": "#636efa",
          "symbol": "circle"
         },
         "mode": "markers",
         "name": "Kani Congelado Frescatto 200g",
         "orientation": "v",
         "showlegend": true,
         "type": "scatter",
         "x": [
          "Centro-Oeste - Anapolis/GO",
          "Centro-Oeste - Brasília/DF",
          "Centro-Oeste - Campo Grande/MS",
          "Centro-Oeste - Goiania/GO",
          "Centro-Oeste - Taguatinga/DF",
          "Nordeste - Campina Grande/PB",
          "Nordeste - Itabuna/BA",
          "Nordeste - Jaboatão dos Guararapes/PE",
          "Nordeste - João Pessoa/PB",
          "Nordeste - Maceió/AL",
          "Nordeste - Mossoró/RN",
          "Nordeste - Natal/RN",
          "Nordeste - Petrolina/PE",
          "Nordeste - Recife/PE",
          "Sudeste - Belo Horizonte/MG",
          "Sudeste - Belo Horizonte/MG",
          "Sudeste - Campos dos Goytacazes/RJ",
          "Sudeste - Contagem/MG",
          "Sudeste - Duque de Caxias/RJ",
          "Sudeste - Indaiatuba/SP",
          "Sudeste - Itu/SP",
          "Sudeste - Juiz de Fora/MG",
          "Sudeste - Macaé/RJ",
          "Sudeste - Rio de Janeiro/RJ",
          "Sudeste - Salto/SP",
          "Sudeste - São Caetano do Sul/SP",
          "Sudeste - São Gonçalo/RJ",
          "Sudeste - São Jose Rio Preto/SP",
          "Sudeste - Uberlandia/MG",
          "Sudeste - Vila Velha/ES",
          "Sudeste - Vinhedo/SP",
          "Sul - Balneário Camboriú/SC",
          "Sul - Canoas/RS",
          "Sul - Caxias do Sul/RS",
          "Sul - Curitiba/PR",
          "Sul - Florianópolis/SC",
          "Sul - Gravataí/RS",
          "Sul - Novo Hamburgo/RS",
          "Sul - Pelotas/RS",
          "Sul - Porto Alegre/RS",
          "Sul - Santa Maria/RS",
          "Sul - Viamão/RS"
         ],
         "xaxis": "x",
         "y": [
          11.39,
          12.59,
          12.45,
          11.39,
          12.19,
          12.99,
          12.99,
          12.99,
          12.99,
          13.39,
          12.99,
          12.99,
          12.99,
          12.99,
          15.99,
          15.99,
          15.99,
          15.99,
          15.99,
          9.98,
          9.98,
          15.99,
          15.99,
          15.99,
          9.98,
          10.29,
          15.99,
          9.98,
          15.99,
          15.99,
          9.98,
          13.99,
          8.99,
          8.99,
          11.09,
          13.99,
          8.99,
          12.99,
          9.89,
          9.29,
          9.89,
          12.99
         ],
         "yaxis": "y"
        },
        {
         "hovertemplate": "produto=Kani Congelado Costa Sul 200g<br>Cidade/UF (por Região)=%{x}<br>Preço (R$)=%{y}<extra></extra>",
         "legendgroup": "Kani Congelado Costa Sul 200g",
         "marker": {
          "color": "#EF553B",
          "symbol": "circle"
         },
         "mode": "markers",
         "name": "Kani Congelado Costa Sul 200g",
         "orientation": "v",
         "showlegend": true,
         "type": "scatter",
         "x": [
          "Centro-Oeste - Campo Grande/MS",
          "Sudeste - Barueri/SP",
          "Sudeste - Belo Horizonte/MG",
          "Sudeste - Belo Horizonte/MG",
          "Sudeste - Campinas/SP",
          "Sudeste - Campos dos Goytacazes/RJ",
          "Sudeste - Caçapava/SP",
          "Sudeste - Contagem/MG",
          "Sudeste - Duque de Caxias/RJ",
          "Sudeste - Guarujá/SP",
          "Sudeste - Guarulhos/SP",
          "Sudeste - Indaiatuba/SP",
          "Sudeste - Itu/SP",
          "Sudeste - Juiz de Fora/MG",
          "Sudeste - Jundiai/SP",
          "Sudeste - Macaé/RJ",
          "Sudeste - Osasco/SP",
          "Sudeste - Piracicaba/SP",
          "Sudeste - Praia Grande/SP",
          "Sudeste - Presidente Prudente/SP",
          "Sudeste - Ribeirão Preto/SP",
          "Sudeste - Rio de Janeiro/RJ",
          "Sudeste - Salto/SP",
          "Sudeste - Santana de Parnaíba/SP",
          "Sudeste - Sorocaba/Votorantim/SP",
          "Sudeste - São Bernardo do Campo/SP",
          "Sudeste - São Caetano do Sul/SP",
          "Sudeste - São Carlos/SP",
          "Sudeste - São Gonçalo/RJ",
          "Sudeste - São Jose Rio Preto/SP",
          "Sudeste - São José dos Campos/SP",
          "Sudeste - São Paulo/SP",
          "Sudeste - São Vicente/SP",
          "Sudeste - Taboão da Serra/SP",
          "Sudeste - Taubate/SP",
          "Sudeste - Uberlandia/MG",
          "Sudeste - Vila Velha/ES",
          "Sudeste - Vinhedo/SP",
          "Sul - Canoas/RS",
          "Sul - Caxias do Sul/RS",
          "Sul - Curitiba/PR",
          "Sul - Gravataí/RS",
          "Sul - Londrina/PR",
          "Sul - Novo Hamburgo/RS",
          "Sul - Pelotas/RS",
          "Sul - Pinhais/PR",
          "Sul - Porto Alegre/RS",
          "Sul - Santa Maria/RS",
          "Sul - Viamão/RS"
         ],
         "xaxis": "x",
         "y": [
          14.25,
          10.19,
          12.99,
          12.99,
          10.19,
          11.89,
          14.79,
          13.39,
          15.99,
          9.89,
          9.89,
          10.49,
          14.79,
          13.39,
          10.19,
          11.89,
          10.19,
          10.09,
          10.49,
          9.89,
          10.19,
          16.49,
          14.79,
          14.79,
          10.19,
          9.89,
          10.19,
          14.79,
          16.49,
          9.89,
          10.19,
          14.79,
          9.89,
          10.19,
          10.49,
          12.99,
          13.39,
          14.79,
          14.15,
          10.99,
          13.89,
          13.69,
          13.89,
          14.15,
          14.15,
          13.89,
          14.15,
          10.99,
          13.69
         ],
         "yaxis": "y"
        },
        {
         "hovertemplate": "produto=Kani Congelado Damm 250g<br>Cidade/UF (por Região)=%{x}<br>Preço (R$)=%{y}<extra></extra>",
         "legendgroup": "Kani Congelado Damm 250g",
         "marker": {
          "color": "#00cc96",
          "symbol": "circle"
         },
         "mode": "markers",
         "name": "Kani Congelado Damm 250g",
         "orientation": "v",
         "showlegend": true,
         "type": "scatter",
         "x": [
          "Sudeste - Barueri/SP",
          "Sudeste - Guarulhos/SP",
          "Sudeste - Santana de Parnaíba/SP"
         ],
         "xaxis": "x",
         "y": [
          22.69,
          10.79,
          11.19
         ],
         "yaxis": "y"
        },
        {
         "hovertemplate": "produto=Hossomaki Philadelphia Kani Kama 160 g<br>Cidade/UF (por Região)=%{x}<br>Preço (R$)=%{y}<extra></extra>",
         "legendgroup": "Hossomaki Philadelphia Kani Kama 160 g",
         "marker": {
          "color": "#ab63fa",
          "symbol": "circle"
         },
         "mode": "markers",
         "name": "Hossomaki Philadelphia Kani Kama 160 g",
         "orientation": "v",
         "showlegend": true,
         "type": "scatter",
         "x": [
          "Sudeste - Caçapava/SP",
          "Sudeste - São José dos Campos/SP"
         ],
         "xaxis": "x",
         "y": [
          22.59,
          27.49
         ],
         "yaxis": "y"
        }
       ],
       "layout": {
        "legend": {
         "title": {
          "text": "produto"
         },
         "tracegroupgap": 0
        },
        "template": {
         "data": {
          "bar": [
           {
            "error_x": {
             "color": "#2a3f5f"
            },
            "error_y": {
             "color": "#2a3f5f"
            },
            "marker": {
             "line": {
              "color": "#E5ECF6",
              "width": 0.5
             },
             "pattern": {
              "fillmode": "overlay",
              "size": 10,
              "solidity": 0.2
             }
            },
            "type": "bar"
           }
          ],
          "barpolar": [
           {
            "marker": {
             "line": {
              "color": "#E5ECF6",
              "width": 0.5
             },
             "pattern": {
              "fillmode": "overlay",
              "size": 10,
              "solidity": 0.2
             }
            },
            "type": "barpolar"
           }
          ],
          "carpet": [
           {
            "aaxis": {
             "endlinecolor": "#2a3f5f",
             "gridcolor": "white",
             "linecolor": "white",
             "minorgridcolor": "white",
             "startlinecolor": "#2a3f5f"
            },
            "baxis": {
             "endlinecolor": "#2a3f5f",
             "gridcolor": "white",
             "linecolor": "white",
             "minorgridcolor": "white",
             "startlinecolor": "#2a3f5f"
            },
            "type": "carpet"
           }
          ],
          "choropleth": [
           {
            "colorbar": {
             "outlinewidth": 0,
             "ticks": ""
            },
            "type": "choropleth"
           }
          ],
          "contour": [
           {
            "colorbar": {
             "outlinewidth": 0,
             "ticks": ""
            },
            "colorscale": [
             [
              0,
              "#0d0887"
             ],
             [
              0.1111111111111111,
              "#46039f"
             ],
             [
              0.2222222222222222,
              "#7201a8"
             ],
             [
              0.3333333333333333,
              "#9c179e"
             ],
             [
              0.4444444444444444,
              "#bd3786"
             ],
             [
              0.5555555555555556,
              "#d8576b"
             ],
             [
              0.6666666666666666,
              "#ed7953"
             ],
             [
              0.7777777777777778,
              "#fb9f3a"
             ],
             [
              0.8888888888888888,
              "#fdca26"
             ],
             [
              1,
              "#f0f921"
             ]
            ],
            "type": "contour"
           }
          ],
          "contourcarpet": [
           {
            "colorbar": {
             "outlinewidth": 0,
             "ticks": ""
            },
            "type": "contourcarpet"
           }
          ],
          "heatmap": [
           {
            "colorbar": {
             "outlinewidth": 0,
             "ticks": ""
            },
            "colorscale": [
             [
              0,
              "#0d0887"
             ],
             [
              0.1111111111111111,
              "#46039f"
             ],
             [
              0.2222222222222222,
              "#7201a8"
             ],
             [
              0.3333333333333333,
              "#9c179e"
             ],
             [
              0.4444444444444444,
              "#bd3786"
             ],
             [
              0.5555555555555556,
              "#d8576b"
             ],
             [
              0.6666666666666666,
              "#ed7953"
             ],
             [
              0.7777777777777778,
              "#fb9f3a"
             ],
             [
              0.8888888888888888,
              "#fdca26"
             ],
             [
              1,
              "#f0f921"
             ]
            ],
            "type": "heatmap"
           }
          ],
          "heatmapgl": [
           {
            "colorbar": {
             "outlinewidth": 0,
             "ticks": ""
            },
            "colorscale": [
             [
              0,
              "#0d0887"
             ],
             [
              0.1111111111111111,
              "#46039f"
             ],
             [
              0.2222222222222222,
              "#7201a8"
             ],
             [
              0.3333333333333333,
              "#9c179e"
             ],
             [
              0.4444444444444444,
              "#bd3786"
             ],
             [
              0.5555555555555556,
              "#d8576b"
             ],
             [
              0.6666666666666666,
              "#ed7953"
             ],
             [
              0.7777777777777778,
              "#fb9f3a"
             ],
             [
              0.8888888888888888,
              "#fdca26"
             ],
             [
              1,
              "#f0f921"
             ]
            ],
            "type": "heatmapgl"
           }
          ],
          "histogram": [
           {
            "marker": {
             "pattern": {
              "fillmode": "overlay",
              "size": 10,
              "solidity": 0.2
             }
            },
            "type": "histogram"
           }
          ],
          "histogram2d": [
           {
            "colorbar": {
             "outlinewidth": 0,
             "ticks": ""
            },
            "colorscale": [
             [
              0,
              "#0d0887"
             ],
             [
              0.1111111111111111,
              "#46039f"
             ],
             [
              0.2222222222222222,
              "#7201a8"
             ],
             [
              0.3333333333333333,
              "#9c179e"
             ],
             [
              0.4444444444444444,
              "#bd3786"
             ],
             [
              0.5555555555555556,
              "#d8576b"
             ],
             [
              0.6666666666666666,
              "#ed7953"
             ],
             [
              0.7777777777777778,
              "#fb9f3a"
             ],
             [
              0.8888888888888888,
              "#fdca26"
             ],
             [
              1,
              "#f0f921"
             ]
            ],
            "type": "histogram2d"
           }
          ],
          "histogram2dcontour": [
           {
            "colorbar": {
             "outlinewidth": 0,
             "ticks": ""
            },
            "colorscale": [
             [
              0,
              "#0d0887"
             ],
             [
              0.1111111111111111,
              "#46039f"
             ],
             [
              0.2222222222222222,
              "#7201a8"
             ],
             [
              0.3333333333333333,
              "#9c179e"
             ],
             [
              0.4444444444444444,
              "#bd3786"
             ],
             [
              0.5555555555555556,
              "#d8576b"
             ],
             [
              0.6666666666666666,
              "#ed7953"
             ],
             [
              0.7777777777777778,
              "#fb9f3a"
             ],
             [
              0.8888888888888888,
              "#fdca26"
             ],
             [
              1,
              "#f0f921"
             ]
            ],
            "type": "histogram2dcontour"
           }
          ],
          "mesh3d": [
           {
            "colorbar": {
             "outlinewidth": 0,
             "ticks": ""
            },
            "type": "mesh3d"
           }
          ],
          "parcoords": [
           {
            "line": {
             "colorbar": {
              "outlinewidth": 0,
              "ticks": ""
             }
            },
            "type": "parcoords"
           }
          ],
          "pie": [
           {
            "automargin": true,
            "type": "pie"
           }
          ],
          "scatter": [
           {
            "fillpattern": {
             "fillmode": "overlay",
             "size": 10,
             "solidity": 0.2
            },
            "type": "scatter"
           }
          ],
          "scatter3d": [
           {
            "line": {
             "colorbar": {
              "outlinewidth": 0,
              "ticks": ""
             }
            },
            "marker": {
             "colorbar": {
              "outlinewidth": 0,
              "ticks": ""
             }
            },
            "type": "scatter3d"
           }
          ],
          "scattercarpet": [
           {
            "marker": {
             "colorbar": {
              "outlinewidth": 0,
              "ticks": ""
             }
            },
            "type": "scattercarpet"
           }
          ],
          "scattergeo": [
           {
            "marker": {
             "colorbar": {
              "outlinewidth": 0,
              "ticks": ""
             }
            },
            "type": "scattergeo"
           }
          ],
          "scattergl": [
           {
            "marker": {
             "colorbar": {
              "outlinewidth": 0,
              "ticks": ""
             }
            },
            "type": "scattergl"
           }
          ],
          "scattermapbox": [
           {
            "marker": {
             "colorbar": {
              "outlinewidth": 0,
              "ticks": ""
             }
            },
            "type": "scattermapbox"
           }
          ],
          "scatterpolar": [
           {
            "marker": {
             "colorbar": {
              "outlinewidth": 0,
              "ticks": ""
             }
            },
            "type": "scatterpolar"
           }
          ],
          "scatterpolargl": [
           {
            "marker": {
             "colorbar": {
              "outlinewidth": 0,
              "ticks": ""
             }
            },
            "type": "scatterpolargl"
           }
          ],
          "scatterternary": [
           {
            "marker": {
             "colorbar": {
              "outlinewidth": 0,
              "ticks": ""
             }
            },
            "type": "scatterternary"
           }
          ],
          "surface": [
           {
            "colorbar": {
             "outlinewidth": 0,
             "ticks": ""
            },
            "colorscale": [
             [
              0,
              "#0d0887"
             ],
             [
              0.1111111111111111,
              "#46039f"
             ],
             [
              0.2222222222222222,
              "#7201a8"
             ],
             [
              0.3333333333333333,
              "#9c179e"
             ],
             [
              0.4444444444444444,
              "#bd3786"
             ],
             [
              0.5555555555555556,
              "#d8576b"
             ],
             [
              0.6666666666666666,
              "#ed7953"
             ],
             [
              0.7777777777777778,
              "#fb9f3a"
             ],
             [
              0.8888888888888888,
              "#fdca26"
             ],
             [
              1,
              "#f0f921"
             ]
            ],
            "type": "surface"
           }
          ],
          "table": [
           {
            "cells": {
             "fill": {
              "color": "#EBF0F8"
             },
             "line": {
              "color": "white"
             }
            },
            "header": {
             "fill": {
              "color": "#C8D4E3"
             },
             "line": {
              "color": "white"
             }
            },
            "type": "table"
           }
          ]
         },
         "layout": {
          "annotationdefaults": {
           "arrowcolor": "#2a3f5f",
           "arrowhead": 0,
           "arrowwidth": 1
          },
          "autotypenumbers": "strict",
          "coloraxis": {
           "colorbar": {
            "outlinewidth": 0,
            "ticks": ""
           }
          },
          "colorscale": {
           "diverging": [
            [
             0,
             "#8e0152"
            ],
            [
             0.1,
             "#c51b7d"
            ],
            [
             0.2,
             "#de77ae"
            ],
            [
             0.3,
             "#f1b6da"
            ],
            [
             0.4,
             "#fde0ef"
            ],
            [
             0.5,
             "#f7f7f7"
            ],
            [
             0.6,
             "#e6f5d0"
            ],
            [
             0.7,
             "#b8e186"
            ],
            [
             0.8,
             "#7fbc41"
            ],
            [
             0.9,
             "#4d9221"
            ],
            [
             1,
             "#276419"
            ]
           ],
           "sequential": [
            [
             0,
             "#0d0887"
            ],
            [
             0.1111111111111111,
             "#46039f"
            ],
            [
             0.2222222222222222,
             "#7201a8"
            ],
            [
             0.3333333333333333,
             "#9c179e"
            ],
            [
             0.4444444444444444,
             "#bd3786"
            ],
            [
             0.5555555555555556,
             "#d8576b"
            ],
            [
             0.6666666666666666,
             "#ed7953"
            ],
            [
             0.7777777777777778,
             "#fb9f3a"
            ],
            [
             0.8888888888888888,
             "#fdca26"
            ],
            [
             1,
             "#f0f921"
            ]
           ],
           "sequentialminus": [
            [
             0,
             "#0d0887"
            ],
            [
             0.1111111111111111,
             "#46039f"
            ],
            [
             0.2222222222222222,
             "#7201a8"
            ],
            [
             0.3333333333333333,
             "#9c179e"
            ],
            [
             0.4444444444444444,
             "#bd3786"
            ],
            [
             0.5555555555555556,
             "#d8576b"
            ],
            [
             0.6666666666666666,
             "#ed7953"
            ],
            [
             0.7777777777777778,
             "#fb9f3a"
            ],
            [
             0.8888888888888888,
             "#fdca26"
            ],
            [
             1,
             "#f0f921"
            ]
           ]
          },
          "colorway": [
           "#636efa",
           "#EF553B",
           "#00cc96",
           "#ab63fa",
           "#FFA15A",
           "#19d3f3",
           "#FF6692",
           "#B6E880",
           "#FF97FF",
           "#FECB52"
          ],
          "font": {
           "color": "#2a3f5f"
          },
          "geo": {
           "bgcolor": "white",
           "lakecolor": "white",
           "landcolor": "#E5ECF6",
           "showlakes": true,
           "showland": true,
           "subunitcolor": "white"
          },
          "hoverlabel": {
           "align": "left"
          },
          "hovermode": "closest",
          "mapbox": {
           "style": "light"
          },
          "paper_bgcolor": "white",
          "plot_bgcolor": "#E5ECF6",
          "polar": {
           "angularaxis": {
            "gridcolor": "white",
            "linecolor": "white",
            "ticks": ""
           },
           "bgcolor": "#E5ECF6",
           "radialaxis": {
            "gridcolor": "white",
            "linecolor": "white",
            "ticks": ""
           }
          },
          "scene": {
           "xaxis": {
            "backgroundcolor": "#E5ECF6",
            "gridcolor": "white",
            "gridwidth": 2,
            "linecolor": "white",
            "showbackground": true,
            "ticks": "",
            "zerolinecolor": "white"
           },
           "yaxis": {
            "backgroundcolor": "#E5ECF6",
            "gridcolor": "white",
            "gridwidth": 2,
            "linecolor": "white",
            "showbackground": true,
            "ticks": "",
            "zerolinecolor": "white"
           },
           "zaxis": {
            "backgroundcolor": "#E5ECF6",
            "gridcolor": "white",
            "gridwidth": 2,
            "linecolor": "white",
            "showbackground": true,
            "ticks": "",
            "zerolinecolor": "white"
           }
          },
          "shapedefaults": {
           "line": {
            "color": "#2a3f5f"
           }
          },
          "ternary": {
           "aaxis": {
            "gridcolor": "white",
            "linecolor": "white",
            "ticks": ""
           },
           "baxis": {
            "gridcolor": "white",
            "linecolor": "white",
            "ticks": ""
           },
           "bgcolor": "#E5ECF6",
           "caxis": {
            "gridcolor": "white",
            "linecolor": "white",
            "ticks": ""
           }
          },
          "title": {
           "x": 0.05
          },
          "xaxis": {
           "automargin": true,
           "gridcolor": "white",
           "linecolor": "white",
           "ticks": "",
           "title": {
            "standoff": 15
           },
           "zerolinecolor": "white",
           "zerolinewidth": 2
          },
          "yaxis": {
           "automargin": true,
           "gridcolor": "white",
           "linecolor": "white",
           "ticks": "",
           "title": {
            "standoff": 15
           },
           "zerolinecolor": "white",
           "zerolinewidth": 2
          }
         }
        },
        "title": {
         "text": "Preços por Produto e Cidade (Separados por Região)"
        },
        "xaxis": {
         "anchor": "y",
         "domain": [
          0,
          1
         ],
         "tickangle": 45,
         "title": {
          "text": "Cidades (separadas por região)"
         }
        },
        "yaxis": {
         "anchor": "x",
         "domain": [
          0,
          1
         ],
         "title": {
          "text": "Preço (R$)"
         }
        }
       }
      }
     },
     "metadata": {},
     "output_type": "display_data"
    }
   ],
   "source": [
    "import plotly.express as px\n",
    "\n",
    "# Ordenar as cidades por região e dentro de cada região por ordem alfabética\n",
    "df_maps['regiao_ordem'] = df_maps['regiao'] + ' - ' + df_maps['cidade/UF']\n",
    "df_maps = df_maps.sort_values(by=['regiao_ordem', 'cidade/UF'])\n",
    "\n",
    "# Criar o gráfico de pontos\n",
    "fig = px.scatter(\n",
    "    df_maps,\n",
    "    x=\"regiao_ordem\",\n",
    "    y=\"preco\",\n",
    "    color=\"produto\",\n",
    "    title=\"Preços por Produto e Cidade (Separados por Região)\",\n",
    "    labels={\"regiao_ordem\": \"Cidade/UF (por Região)\", \"preco\": \"Preço (R$)\"},\n",
    ")\n",
    "# Atualizar layout para melhorar a visualização\n",
    "fig.update_layout(\n",
    "    xaxis=dict(\n",
    "        tickangle=45,\n",
    "        title=\"Cidades (separadas por região)\"\n",
    "    ),\n",
    "    yaxis=dict(title=\"Preço (R$)\")\n",
    ")\n",
    "\n",
    "# Exibir o gráfico\n",
    "fig.show()"
   ]
  },
  {
   "cell_type": "code",
   "execution_count": null,
   "id": "db873eeb",
   "metadata": {},
   "outputs": [],
   "source": []
  },
  {
   "cell_type": "code",
   "execution_count": null,
   "id": "45eca74d",
   "metadata": {},
   "outputs": [],
   "source": []
  },
  {
   "cell_type": "code",
   "execution_count": null,
   "id": "16b8c814",
   "metadata": {},
   "outputs": [],
   "source": []
  },
  {
   "cell_type": "code",
   "execution_count": 45,
   "id": "b693a2bd",
   "metadata": {},
   "outputs": [
    {
     "data": {
      "application/vnd.plotly.v1+json": {
       "config": {
        "plotlyServerURL": "https://plot.ly"
       },
       "data": [
        {
         "hovertemplate": "produto=Kani Congelado Frescatto 200g<br>regiao=Nordeste<br>Cidade/UF=%{x}<br>Preço (R$)=%{y}<extra></extra>",
         "legendgroup": "Kani Congelado Frescatto 200g",
         "marker": {
          "color": "#636efa",
          "symbol": "circle"
         },
         "mode": "markers",
         "name": "Kani Congelado Frescatto 200g",
         "orientation": "v",
         "showlegend": true,
         "type": "scatter",
         "x": [
          "Maceió/AL",
          "Itabuna/BA",
          "Campina Grande/PB",
          "João Pessoa/PB",
          "Jaboatão dos Guararapes/PE",
          "Petrolina/PE",
          "Recife/PE",
          "Mossoró/RN",
          "Natal/RN"
         ],
         "xaxis": "x3",
         "y": [
          13.39,
          12.99,
          12.99,
          12.99,
          12.99,
          12.99,
          12.99,
          12.99,
          12.99
         ],
         "yaxis": "y3"
        },
        {
         "hovertemplate": "produto=Kani Congelado Frescatto 200g<br>regiao=Centro-Oeste<br>Cidade/UF=%{x}<br>Preço (R$)=%{y}<extra></extra>",
         "legendgroup": "Kani Congelado Frescatto 200g",
         "marker": {
          "color": "#636efa",
          "symbol": "circle"
         },
         "mode": "markers",
         "name": "Kani Congelado Frescatto 200g",
         "orientation": "v",
         "showlegend": false,
         "type": "scatter",
         "x": [
          "Brasília/DF",
          "Taguatinga/DF",
          "Anapolis/GO",
          "Goiania/GO",
          "Campo Grande/MS"
         ],
         "xaxis": "x4",
         "y": [
          12.59,
          12.19,
          11.39,
          11.39,
          12.45
         ],
         "yaxis": "y4"
        },
        {
         "hovertemplate": "produto=Kani Congelado Frescatto 200g<br>regiao=Sudeste<br>Cidade/UF=%{x}<br>Preço (R$)=%{y}<extra></extra>",
         "legendgroup": "Kani Congelado Frescatto 200g",
         "marker": {
          "color": "#636efa",
          "symbol": "circle"
         },
         "mode": "markers",
         "name": "Kani Congelado Frescatto 200g",
         "orientation": "v",
         "showlegend": false,
         "type": "scatter",
         "x": [
          "Vila Velha/ES",
          "Belo Horizonte/MG",
          "Belo Horizonte/MG",
          "Contagem/MG",
          "Juiz de Fora/MG",
          "Uberlandia/MG",
          "Duque de Caxias/RJ",
          "Rio de Janeiro/RJ",
          "São Gonçalo/RJ",
          "Campos dos Goytacazes/RJ",
          "Macaé/RJ",
          "Indaiatuba/SP",
          "Itu/SP",
          "Salto/SP",
          "São Caetano do Sul/SP",
          "São Jose Rio Preto/SP",
          "Vinhedo/SP"
         ],
         "xaxis": "x",
         "y": [
          15.99,
          15.99,
          15.99,
          15.99,
          15.99,
          15.99,
          15.99,
          15.99,
          15.99,
          15.99,
          15.99,
          9.98,
          9.98,
          9.98,
          10.29,
          9.98,
          9.98
         ],
         "yaxis": "y"
        },
        {
         "hovertemplate": "produto=Kani Congelado Frescatto 200g<br>regiao=Sul<br>Cidade/UF=%{x}<br>Preço (R$)=%{y}<extra></extra>",
         "legendgroup": "Kani Congelado Frescatto 200g",
         "marker": {
          "color": "#636efa",
          "symbol": "circle"
         },
         "mode": "markers",
         "name": "Kani Congelado Frescatto 200g",
         "orientation": "v",
         "showlegend": false,
         "type": "scatter",
         "x": [
          "Curitiba/PR",
          "Canoas/RS",
          "Caxias do Sul/RS",
          "Gravataí/RS",
          "Novo Hamburgo/RS",
          "Pelotas/RS",
          "Porto Alegre/RS",
          "Santa Maria/RS",
          "Viamão/RS",
          "Balneário Camboriú/SC",
          "Florianópolis/SC"
         ],
         "xaxis": "x2",
         "y": [
          11.09,
          8.99,
          8.99,
          8.99,
          12.99,
          9.89,
          9.29,
          9.89,
          12.99,
          13.99,
          13.99
         ],
         "yaxis": "y2"
        },
        {
         "hovertemplate": "produto=Kani Congelado Costa Sul 200g<br>regiao=Centro-Oeste<br>Cidade/UF=%{x}<br>Preço (R$)=%{y}<extra></extra>",
         "legendgroup": "Kani Congelado Costa Sul 200g",
         "marker": {
          "color": "#EF553B",
          "symbol": "circle"
         },
         "mode": "markers",
         "name": "Kani Congelado Costa Sul 200g",
         "orientation": "v",
         "showlegend": true,
         "type": "scatter",
         "x": [
          "Campo Grande/MS"
         ],
         "xaxis": "x4",
         "y": [
          14.25
         ],
         "yaxis": "y4"
        },
        {
         "hovertemplate": "produto=Kani Congelado Costa Sul 200g<br>regiao=Sudeste<br>Cidade/UF=%{x}<br>Preço (R$)=%{y}<extra></extra>",
         "legendgroup": "Kani Congelado Costa Sul 200g",
         "marker": {
          "color": "#EF553B",
          "symbol": "circle"
         },
         "mode": "markers",
         "name": "Kani Congelado Costa Sul 200g",
         "orientation": "v",
         "showlegend": false,
         "type": "scatter",
         "x": [
          "Vila Velha/ES",
          "Belo Horizonte/MG",
          "Belo Horizonte/MG",
          "Contagem/MG",
          "Juiz de Fora/MG",
          "Uberlandia/MG",
          "Duque de Caxias/RJ",
          "Rio de Janeiro/RJ",
          "São Gonçalo/RJ",
          "Campos dos Goytacazes/RJ",
          "Macaé/RJ",
          "Barueri/SP",
          "Caçapava/SP",
          "Campinas/SP",
          "Guarujá/SP",
          "Guarulhos/SP",
          "Indaiatuba/SP",
          "Itu/SP",
          "Jundiai/SP",
          "Osasco/SP",
          "Piracicaba/SP",
          "Praia Grande/SP",
          "Presidente Prudente/SP",
          "Ribeirão Preto/SP",
          "Salto/SP",
          "Santana de Parnaíba/SP",
          "São Bernardo do Campo/SP",
          "São Caetano do Sul/SP",
          "São Carlos/SP",
          "São José dos Campos/SP",
          "São Jose Rio Preto/SP",
          "São Paulo/SP",
          "São Vicente/SP",
          "Sorocaba/Votorantim/SP",
          "Taboão da Serra/SP",
          "Taubate/SP",
          "Vinhedo/SP"
         ],
         "xaxis": "x",
         "y": [
          13.39,
          12.99,
          12.99,
          13.39,
          13.39,
          12.99,
          15.99,
          16.49,
          16.49,
          11.89,
          11.89,
          10.19,
          14.79,
          10.19,
          9.89,
          9.89,
          10.49,
          14.79,
          10.19,
          10.19,
          10.09,
          10.49,
          9.89,
          10.19,
          14.79,
          14.79,
          9.89,
          10.19,
          14.79,
          10.19,
          9.89,
          14.79,
          9.89,
          10.19,
          10.19,
          10.49,
          14.79
         ],
         "yaxis": "y"
        },
        {
         "hovertemplate": "produto=Kani Congelado Costa Sul 200g<br>regiao=Sul<br>Cidade/UF=%{x}<br>Preço (R$)=%{y}<extra></extra>",
         "legendgroup": "Kani Congelado Costa Sul 200g",
         "marker": {
          "color": "#EF553B",
          "symbol": "circle"
         },
         "mode": "markers",
         "name": "Kani Congelado Costa Sul 200g",
         "orientation": "v",
         "showlegend": false,
         "type": "scatter",
         "x": [
          "Curitiba/PR",
          "Londrina/PR",
          "Pinhais/PR",
          "Canoas/RS",
          "Caxias do Sul/RS",
          "Gravataí/RS",
          "Novo Hamburgo/RS",
          "Pelotas/RS",
          "Porto Alegre/RS",
          "Santa Maria/RS",
          "Viamão/RS"
         ],
         "xaxis": "x2",
         "y": [
          13.89,
          13.89,
          13.89,
          14.15,
          10.99,
          13.69,
          14.15,
          14.15,
          14.15,
          10.99,
          13.69
         ],
         "yaxis": "y2"
        },
        {
         "hovertemplate": "produto=Kani Congelado Damm 250g<br>regiao=Sudeste<br>Cidade/UF=%{x}<br>Preço (R$)=%{y}<extra></extra>",
         "legendgroup": "Kani Congelado Damm 250g",
         "marker": {
          "color": "#00cc96",
          "symbol": "circle"
         },
         "mode": "markers",
         "name": "Kani Congelado Damm 250g",
         "orientation": "v",
         "showlegend": true,
         "type": "scatter",
         "x": [
          "Barueri/SP",
          "Guarulhos/SP",
          "Santana de Parnaíba/SP"
         ],
         "xaxis": "x",
         "y": [
          22.69,
          10.79,
          11.19
         ],
         "yaxis": "y"
        },
        {
         "hovertemplate": "produto=Hossomaki Philadelphia Kani Kama 160 g<br>regiao=Sudeste<br>Cidade/UF=%{x}<br>Preço (R$)=%{y}<extra></extra>",
         "legendgroup": "Hossomaki Philadelphia Kani Kama 160 g",
         "marker": {
          "color": "#ab63fa",
          "symbol": "circle"
         },
         "mode": "markers",
         "name": "Hossomaki Philadelphia Kani Kama 160 g",
         "orientation": "v",
         "showlegend": true,
         "type": "scatter",
         "x": [
          "Caçapava/SP",
          "São José dos Campos/SP"
         ],
         "xaxis": "x",
         "y": [
          22.59,
          27.49
         ],
         "yaxis": "y"
        }
       ],
       "layout": {
        "annotations": [
         {
          "font": {},
          "showarrow": false,
          "text": "regiao=Sudeste",
          "x": 0.245,
          "xanchor": "center",
          "xref": "paper",
          "y": 0.46499999999999997,
          "yanchor": "bottom",
          "yref": "paper"
         },
         {
          "font": {},
          "showarrow": false,
          "text": "regiao=Sul",
          "x": 0.755,
          "xanchor": "center",
          "xref": "paper",
          "y": 0.46499999999999997,
          "yanchor": "bottom",
          "yref": "paper"
         },
         {
          "font": {},
          "showarrow": false,
          "text": "regiao=Nordeste",
          "x": 0.245,
          "xanchor": "center",
          "xref": "paper",
          "y": 0.9999999999999999,
          "yanchor": "bottom",
          "yref": "paper"
         },
         {
          "font": {},
          "showarrow": false,
          "text": "regiao=Centro-Oeste",
          "x": 0.755,
          "xanchor": "center",
          "xref": "paper",
          "y": 0.9999999999999999,
          "yanchor": "bottom",
          "yref": "paper"
         }
        ],
        "height": 800,
        "hovermode": "closest",
        "legend": {
         "title": {
          "text": "Produto"
         },
         "tracegroupgap": 0
        },
        "margin": {
         "b": 150,
         "l": 50,
         "r": 50,
         "t": 100
        },
        "template": {
         "data": {
          "bar": [
           {
            "error_x": {
             "color": "#2a3f5f"
            },
            "error_y": {
             "color": "#2a3f5f"
            },
            "marker": {
             "line": {
              "color": "#E5ECF6",
              "width": 0.5
             },
             "pattern": {
              "fillmode": "overlay",
              "size": 10,
              "solidity": 0.2
             }
            },
            "type": "bar"
           }
          ],
          "barpolar": [
           {
            "marker": {
             "line": {
              "color": "#E5ECF6",
              "width": 0.5
             },
             "pattern": {
              "fillmode": "overlay",
              "size": 10,
              "solidity": 0.2
             }
            },
            "type": "barpolar"
           }
          ],
          "carpet": [
           {
            "aaxis": {
             "endlinecolor": "#2a3f5f",
             "gridcolor": "white",
             "linecolor": "white",
             "minorgridcolor": "white",
             "startlinecolor": "#2a3f5f"
            },
            "baxis": {
             "endlinecolor": "#2a3f5f",
             "gridcolor": "white",
             "linecolor": "white",
             "minorgridcolor": "white",
             "startlinecolor": "#2a3f5f"
            },
            "type": "carpet"
           }
          ],
          "choropleth": [
           {
            "colorbar": {
             "outlinewidth": 0,
             "ticks": ""
            },
            "type": "choropleth"
           }
          ],
          "contour": [
           {
            "colorbar": {
             "outlinewidth": 0,
             "ticks": ""
            },
            "colorscale": [
             [
              0,
              "#0d0887"
             ],
             [
              0.1111111111111111,
              "#46039f"
             ],
             [
              0.2222222222222222,
              "#7201a8"
             ],
             [
              0.3333333333333333,
              "#9c179e"
             ],
             [
              0.4444444444444444,
              "#bd3786"
             ],
             [
              0.5555555555555556,
              "#d8576b"
             ],
             [
              0.6666666666666666,
              "#ed7953"
             ],
             [
              0.7777777777777778,
              "#fb9f3a"
             ],
             [
              0.8888888888888888,
              "#fdca26"
             ],
             [
              1,
              "#f0f921"
             ]
            ],
            "type": "contour"
           }
          ],
          "contourcarpet": [
           {
            "colorbar": {
             "outlinewidth": 0,
             "ticks": ""
            },
            "type": "contourcarpet"
           }
          ],
          "heatmap": [
           {
            "colorbar": {
             "outlinewidth": 0,
             "ticks": ""
            },
            "colorscale": [
             [
              0,
              "#0d0887"
             ],
             [
              0.1111111111111111,
              "#46039f"
             ],
             [
              0.2222222222222222,
              "#7201a8"
             ],
             [
              0.3333333333333333,
              "#9c179e"
             ],
             [
              0.4444444444444444,
              "#bd3786"
             ],
             [
              0.5555555555555556,
              "#d8576b"
             ],
             [
              0.6666666666666666,
              "#ed7953"
             ],
             [
              0.7777777777777778,
              "#fb9f3a"
             ],
             [
              0.8888888888888888,
              "#fdca26"
             ],
             [
              1,
              "#f0f921"
             ]
            ],
            "type": "heatmap"
           }
          ],
          "heatmapgl": [
           {
            "colorbar": {
             "outlinewidth": 0,
             "ticks": ""
            },
            "colorscale": [
             [
              0,
              "#0d0887"
             ],
             [
              0.1111111111111111,
              "#46039f"
             ],
             [
              0.2222222222222222,
              "#7201a8"
             ],
             [
              0.3333333333333333,
              "#9c179e"
             ],
             [
              0.4444444444444444,
              "#bd3786"
             ],
             [
              0.5555555555555556,
              "#d8576b"
             ],
             [
              0.6666666666666666,
              "#ed7953"
             ],
             [
              0.7777777777777778,
              "#fb9f3a"
             ],
             [
              0.8888888888888888,
              "#fdca26"
             ],
             [
              1,
              "#f0f921"
             ]
            ],
            "type": "heatmapgl"
           }
          ],
          "histogram": [
           {
            "marker": {
             "pattern": {
              "fillmode": "overlay",
              "size": 10,
              "solidity": 0.2
             }
            },
            "type": "histogram"
           }
          ],
          "histogram2d": [
           {
            "colorbar": {
             "outlinewidth": 0,
             "ticks": ""
            },
            "colorscale": [
             [
              0,
              "#0d0887"
             ],
             [
              0.1111111111111111,
              "#46039f"
             ],
             [
              0.2222222222222222,
              "#7201a8"
             ],
             [
              0.3333333333333333,
              "#9c179e"
             ],
             [
              0.4444444444444444,
              "#bd3786"
             ],
             [
              0.5555555555555556,
              "#d8576b"
             ],
             [
              0.6666666666666666,
              "#ed7953"
             ],
             [
              0.7777777777777778,
              "#fb9f3a"
             ],
             [
              0.8888888888888888,
              "#fdca26"
             ],
             [
              1,
              "#f0f921"
             ]
            ],
            "type": "histogram2d"
           }
          ],
          "histogram2dcontour": [
           {
            "colorbar": {
             "outlinewidth": 0,
             "ticks": ""
            },
            "colorscale": [
             [
              0,
              "#0d0887"
             ],
             [
              0.1111111111111111,
              "#46039f"
             ],
             [
              0.2222222222222222,
              "#7201a8"
             ],
             [
              0.3333333333333333,
              "#9c179e"
             ],
             [
              0.4444444444444444,
              "#bd3786"
             ],
             [
              0.5555555555555556,
              "#d8576b"
             ],
             [
              0.6666666666666666,
              "#ed7953"
             ],
             [
              0.7777777777777778,
              "#fb9f3a"
             ],
             [
              0.8888888888888888,
              "#fdca26"
             ],
             [
              1,
              "#f0f921"
             ]
            ],
            "type": "histogram2dcontour"
           }
          ],
          "mesh3d": [
           {
            "colorbar": {
             "outlinewidth": 0,
             "ticks": ""
            },
            "type": "mesh3d"
           }
          ],
          "parcoords": [
           {
            "line": {
             "colorbar": {
              "outlinewidth": 0,
              "ticks": ""
             }
            },
            "type": "parcoords"
           }
          ],
          "pie": [
           {
            "automargin": true,
            "type": "pie"
           }
          ],
          "scatter": [
           {
            "fillpattern": {
             "fillmode": "overlay",
             "size": 10,
             "solidity": 0.2
            },
            "type": "scatter"
           }
          ],
          "scatter3d": [
           {
            "line": {
             "colorbar": {
              "outlinewidth": 0,
              "ticks": ""
             }
            },
            "marker": {
             "colorbar": {
              "outlinewidth": 0,
              "ticks": ""
             }
            },
            "type": "scatter3d"
           }
          ],
          "scattercarpet": [
           {
            "marker": {
             "colorbar": {
              "outlinewidth": 0,
              "ticks": ""
             }
            },
            "type": "scattercarpet"
           }
          ],
          "scattergeo": [
           {
            "marker": {
             "colorbar": {
              "outlinewidth": 0,
              "ticks": ""
             }
            },
            "type": "scattergeo"
           }
          ],
          "scattergl": [
           {
            "marker": {
             "colorbar": {
              "outlinewidth": 0,
              "ticks": ""
             }
            },
            "type": "scattergl"
           }
          ],
          "scattermapbox": [
           {
            "marker": {
             "colorbar": {
              "outlinewidth": 0,
              "ticks": ""
             }
            },
            "type": "scattermapbox"
           }
          ],
          "scatterpolar": [
           {
            "marker": {
             "colorbar": {
              "outlinewidth": 0,
              "ticks": ""
             }
            },
            "type": "scatterpolar"
           }
          ],
          "scatterpolargl": [
           {
            "marker": {
             "colorbar": {
              "outlinewidth": 0,
              "ticks": ""
             }
            },
            "type": "scatterpolargl"
           }
          ],
          "scatterternary": [
           {
            "marker": {
             "colorbar": {
              "outlinewidth": 0,
              "ticks": ""
             }
            },
            "type": "scatterternary"
           }
          ],
          "surface": [
           {
            "colorbar": {
             "outlinewidth": 0,
             "ticks": ""
            },
            "colorscale": [
             [
              0,
              "#0d0887"
             ],
             [
              0.1111111111111111,
              "#46039f"
             ],
             [
              0.2222222222222222,
              "#7201a8"
             ],
             [
              0.3333333333333333,
              "#9c179e"
             ],
             [
              0.4444444444444444,
              "#bd3786"
             ],
             [
              0.5555555555555556,
              "#d8576b"
             ],
             [
              0.6666666666666666,
              "#ed7953"
             ],
             [
              0.7777777777777778,
              "#fb9f3a"
             ],
             [
              0.8888888888888888,
              "#fdca26"
             ],
             [
              1,
              "#f0f921"
             ]
            ],
            "type": "surface"
           }
          ],
          "table": [
           {
            "cells": {
             "fill": {
              "color": "#EBF0F8"
             },
             "line": {
              "color": "white"
             }
            },
            "header": {
             "fill": {
              "color": "#C8D4E3"
             },
             "line": {
              "color": "white"
             }
            },
            "type": "table"
           }
          ]
         },
         "layout": {
          "annotationdefaults": {
           "arrowcolor": "#2a3f5f",
           "arrowhead": 0,
           "arrowwidth": 1
          },
          "autotypenumbers": "strict",
          "coloraxis": {
           "colorbar": {
            "outlinewidth": 0,
            "ticks": ""
           }
          },
          "colorscale": {
           "diverging": [
            [
             0,
             "#8e0152"
            ],
            [
             0.1,
             "#c51b7d"
            ],
            [
             0.2,
             "#de77ae"
            ],
            [
             0.3,
             "#f1b6da"
            ],
            [
             0.4,
             "#fde0ef"
            ],
            [
             0.5,
             "#f7f7f7"
            ],
            [
             0.6,
             "#e6f5d0"
            ],
            [
             0.7,
             "#b8e186"
            ],
            [
             0.8,
             "#7fbc41"
            ],
            [
             0.9,
             "#4d9221"
            ],
            [
             1,
             "#276419"
            ]
           ],
           "sequential": [
            [
             0,
             "#0d0887"
            ],
            [
             0.1111111111111111,
             "#46039f"
            ],
            [
             0.2222222222222222,
             "#7201a8"
            ],
            [
             0.3333333333333333,
             "#9c179e"
            ],
            [
             0.4444444444444444,
             "#bd3786"
            ],
            [
             0.5555555555555556,
             "#d8576b"
            ],
            [
             0.6666666666666666,
             "#ed7953"
            ],
            [
             0.7777777777777778,
             "#fb9f3a"
            ],
            [
             0.8888888888888888,
             "#fdca26"
            ],
            [
             1,
             "#f0f921"
            ]
           ],
           "sequentialminus": [
            [
             0,
             "#0d0887"
            ],
            [
             0.1111111111111111,
             "#46039f"
            ],
            [
             0.2222222222222222,
             "#7201a8"
            ],
            [
             0.3333333333333333,
             "#9c179e"
            ],
            [
             0.4444444444444444,
             "#bd3786"
            ],
            [
             0.5555555555555556,
             "#d8576b"
            ],
            [
             0.6666666666666666,
             "#ed7953"
            ],
            [
             0.7777777777777778,
             "#fb9f3a"
            ],
            [
             0.8888888888888888,
             "#fdca26"
            ],
            [
             1,
             "#f0f921"
            ]
           ]
          },
          "colorway": [
           "#636efa",
           "#EF553B",
           "#00cc96",
           "#ab63fa",
           "#FFA15A",
           "#19d3f3",
           "#FF6692",
           "#B6E880",
           "#FF97FF",
           "#FECB52"
          ],
          "font": {
           "color": "#2a3f5f"
          },
          "geo": {
           "bgcolor": "white",
           "lakecolor": "white",
           "landcolor": "#E5ECF6",
           "showlakes": true,
           "showland": true,
           "subunitcolor": "white"
          },
          "hoverlabel": {
           "align": "left"
          },
          "hovermode": "closest",
          "mapbox": {
           "style": "light"
          },
          "paper_bgcolor": "white",
          "plot_bgcolor": "#E5ECF6",
          "polar": {
           "angularaxis": {
            "gridcolor": "white",
            "linecolor": "white",
            "ticks": ""
           },
           "bgcolor": "#E5ECF6",
           "radialaxis": {
            "gridcolor": "white",
            "linecolor": "white",
            "ticks": ""
           }
          },
          "scene": {
           "xaxis": {
            "backgroundcolor": "#E5ECF6",
            "gridcolor": "white",
            "gridwidth": 2,
            "linecolor": "white",
            "showbackground": true,
            "ticks": "",
            "zerolinecolor": "white"
           },
           "yaxis": {
            "backgroundcolor": "#E5ECF6",
            "gridcolor": "white",
            "gridwidth": 2,
            "linecolor": "white",
            "showbackground": true,
            "ticks": "",
            "zerolinecolor": "white"
           },
           "zaxis": {
            "backgroundcolor": "#E5ECF6",
            "gridcolor": "white",
            "gridwidth": 2,
            "linecolor": "white",
            "showbackground": true,
            "ticks": "",
            "zerolinecolor": "white"
           }
          },
          "shapedefaults": {
           "line": {
            "color": "#2a3f5f"
           }
          },
          "ternary": {
           "aaxis": {
            "gridcolor": "white",
            "linecolor": "white",
            "ticks": ""
           },
           "baxis": {
            "gridcolor": "white",
            "linecolor": "white",
            "ticks": ""
           },
           "bgcolor": "#E5ECF6",
           "caxis": {
            "gridcolor": "white",
            "linecolor": "white",
            "ticks": ""
           }
          },
          "title": {
           "x": 0.05
          },
          "xaxis": {
           "automargin": true,
           "gridcolor": "white",
           "linecolor": "white",
           "ticks": "",
           "title": {
            "standoff": 15
           },
           "zerolinecolor": "white",
           "zerolinewidth": 2
          },
          "yaxis": {
           "automargin": true,
           "gridcolor": "white",
           "linecolor": "white",
           "ticks": "",
           "title": {
            "standoff": 15
           },
           "zerolinecolor": "white",
           "zerolinewidth": 2
          }
         }
        },
        "title": {
         "text": "Preços de Produtos por Cidade/UF e Região"
        },
        "width": 1000,
        "xaxis": {
         "anchor": "y",
         "domain": [
          0,
          0.49
         ],
         "tickangle": 45,
         "title": {
          "text": "Cidade/UF"
         }
        },
        "xaxis2": {
         "anchor": "y2",
         "domain": [
          0.51,
          1
         ],
         "matches": "x",
         "tickangle": 45,
         "title": {
          "text": "Cidade/UF"
         }
        },
        "xaxis3": {
         "anchor": "y3",
         "domain": [
          0,
          0.49
         ],
         "matches": "x",
         "showticklabels": false,
         "tickangle": 45
        },
        "xaxis4": {
         "anchor": "y4",
         "domain": [
          0.51,
          1
         ],
         "matches": "x",
         "showticklabels": false,
         "tickangle": 45
        },
        "yaxis": {
         "anchor": "x",
         "domain": [
          0,
          0.46499999999999997
         ],
         "title": {
          "text": "Preço (R$)"
         }
        },
        "yaxis2": {
         "anchor": "x2",
         "domain": [
          0,
          0.46499999999999997
         ],
         "matches": "y",
         "showticklabels": false
        },
        "yaxis3": {
         "anchor": "x3",
         "domain": [
          0.5349999999999999,
          0.9999999999999999
         ],
         "matches": "y",
         "title": {
          "text": "Preço (R$)"
         }
        },
        "yaxis4": {
         "anchor": "x4",
         "domain": [
          0.5349999999999999,
          0.9999999999999999
         ],
         "matches": "y",
         "showticklabels": false
        }
       }
      }
     },
     "metadata": {},
     "output_type": "display_data"
    }
   ],
   "source": [
    "# Criar o gráfico de pontos interativo\n",
    "fig = px.scatter(df,\n",
    "                 x='cidade/UF',\n",
    "                 y='preco',\n",
    "                 color='produto',\n",
    "                 facet_col='regiao',\n",
    "                 facet_col_wrap=2,  # Organiza em 2 colunas\n",
    "                 title='Preços de Produtos por Cidade/UF e Região',\n",
    "                 labels={'preco': 'Preço (R$)', 'cidade/UF': 'Cidade/UF'},\n",
    "                 height=800,\n",
    "                 width=1000)\n",
    "\n",
    "# Melhorar a formatação\n",
    "fig.update_layout(\n",
    "    hovermode='closest',\n",
    "    xaxis_title='Cidade/UF',\n",
    "    yaxis_title='Preço (R$)',\n",
    "    legend_title='Produto'\n",
    ")\n",
    "\n",
    "# Rotacionar os rótulos do eixo X para melhor visualização\n",
    "fig.update_xaxes(tickangle=45)\n",
    "\n",
    "# Ajustar o espaçamento entre subplots\n",
    "fig.update_layout(margin=dict(l=50, r=50, b=150, t=100))\n",
    "\n",
    "# Mostrar o gráfico\n",
    "fig.show()"
   ]
  },
  {
   "cell_type": "code",
   "execution_count": 46,
   "id": "2716eb02",
   "metadata": {},
   "outputs": [
    {
     "data": {
      "application/vnd.plotly.v1+json": {
       "config": {
        "plotlyServerURL": "https://plot.ly"
       },
       "data": [
        {
         "hovertemplate": "produto=Kani Congelado Frescatto 200g<br>Cidade/UF=%{x}<br>Preço (R$)=%{y}<extra></extra>",
         "legendgroup": "Kani Congelado Frescatto 200g",
         "marker": {
          "color": "#636efa",
          "symbol": "circle"
         },
         "mode": "markers",
         "name": "Kani Congelado Frescatto 200g",
         "orientation": "v",
         "showlegend": true,
         "type": "scatter",
         "x": [
          "Maceió/AL",
          "Itabuna/BA",
          "Campina Grande/PB",
          "João Pessoa/PB",
          "Jaboatão dos Guararapes/PE",
          "Petrolina/PE",
          "Recife/PE",
          "Mossoró/RN",
          "Natal/RN"
         ],
         "xaxis": "x",
         "y": [
          13.39,
          12.99,
          12.99,
          12.99,
          12.99,
          12.99,
          12.99,
          12.99,
          12.99
         ],
         "yaxis": "y"
        }
       ],
       "layout": {
        "height": 600,
        "hovermode": "closest",
        "legend": {
         "title": {
          "text": "Produto"
         },
         "tracegroupgap": 0
        },
        "margin": {
         "b": 150,
         "l": 50,
         "r": 50,
         "t": 100
        },
        "template": {
         "data": {
          "bar": [
           {
            "error_x": {
             "color": "#2a3f5f"
            },
            "error_y": {
             "color": "#2a3f5f"
            },
            "marker": {
             "line": {
              "color": "#E5ECF6",
              "width": 0.5
             },
             "pattern": {
              "fillmode": "overlay",
              "size": 10,
              "solidity": 0.2
             }
            },
            "type": "bar"
           }
          ],
          "barpolar": [
           {
            "marker": {
             "line": {
              "color": "#E5ECF6",
              "width": 0.5
             },
             "pattern": {
              "fillmode": "overlay",
              "size": 10,
              "solidity": 0.2
             }
            },
            "type": "barpolar"
           }
          ],
          "carpet": [
           {
            "aaxis": {
             "endlinecolor": "#2a3f5f",
             "gridcolor": "white",
             "linecolor": "white",
             "minorgridcolor": "white",
             "startlinecolor": "#2a3f5f"
            },
            "baxis": {
             "endlinecolor": "#2a3f5f",
             "gridcolor": "white",
             "linecolor": "white",
             "minorgridcolor": "white",
             "startlinecolor": "#2a3f5f"
            },
            "type": "carpet"
           }
          ],
          "choropleth": [
           {
            "colorbar": {
             "outlinewidth": 0,
             "ticks": ""
            },
            "type": "choropleth"
           }
          ],
          "contour": [
           {
            "colorbar": {
             "outlinewidth": 0,
             "ticks": ""
            },
            "colorscale": [
             [
              0,
              "#0d0887"
             ],
             [
              0.1111111111111111,
              "#46039f"
             ],
             [
              0.2222222222222222,
              "#7201a8"
             ],
             [
              0.3333333333333333,
              "#9c179e"
             ],
             [
              0.4444444444444444,
              "#bd3786"
             ],
             [
              0.5555555555555556,
              "#d8576b"
             ],
             [
              0.6666666666666666,
              "#ed7953"
             ],
             [
              0.7777777777777778,
              "#fb9f3a"
             ],
             [
              0.8888888888888888,
              "#fdca26"
             ],
             [
              1,
              "#f0f921"
             ]
            ],
            "type": "contour"
           }
          ],
          "contourcarpet": [
           {
            "colorbar": {
             "outlinewidth": 0,
             "ticks": ""
            },
            "type": "contourcarpet"
           }
          ],
          "heatmap": [
           {
            "colorbar": {
             "outlinewidth": 0,
             "ticks": ""
            },
            "colorscale": [
             [
              0,
              "#0d0887"
             ],
             [
              0.1111111111111111,
              "#46039f"
             ],
             [
              0.2222222222222222,
              "#7201a8"
             ],
             [
              0.3333333333333333,
              "#9c179e"
             ],
             [
              0.4444444444444444,
              "#bd3786"
             ],
             [
              0.5555555555555556,
              "#d8576b"
             ],
             [
              0.6666666666666666,
              "#ed7953"
             ],
             [
              0.7777777777777778,
              "#fb9f3a"
             ],
             [
              0.8888888888888888,
              "#fdca26"
             ],
             [
              1,
              "#f0f921"
             ]
            ],
            "type": "heatmap"
           }
          ],
          "heatmapgl": [
           {
            "colorbar": {
             "outlinewidth": 0,
             "ticks": ""
            },
            "colorscale": [
             [
              0,
              "#0d0887"
             ],
             [
              0.1111111111111111,
              "#46039f"
             ],
             [
              0.2222222222222222,
              "#7201a8"
             ],
             [
              0.3333333333333333,
              "#9c179e"
             ],
             [
              0.4444444444444444,
              "#bd3786"
             ],
             [
              0.5555555555555556,
              "#d8576b"
             ],
             [
              0.6666666666666666,
              "#ed7953"
             ],
             [
              0.7777777777777778,
              "#fb9f3a"
             ],
             [
              0.8888888888888888,
              "#fdca26"
             ],
             [
              1,
              "#f0f921"
             ]
            ],
            "type": "heatmapgl"
           }
          ],
          "histogram": [
           {
            "marker": {
             "pattern": {
              "fillmode": "overlay",
              "size": 10,
              "solidity": 0.2
             }
            },
            "type": "histogram"
           }
          ],
          "histogram2d": [
           {
            "colorbar": {
             "outlinewidth": 0,
             "ticks": ""
            },
            "colorscale": [
             [
              0,
              "#0d0887"
             ],
             [
              0.1111111111111111,
              "#46039f"
             ],
             [
              0.2222222222222222,
              "#7201a8"
             ],
             [
              0.3333333333333333,
              "#9c179e"
             ],
             [
              0.4444444444444444,
              "#bd3786"
             ],
             [
              0.5555555555555556,
              "#d8576b"
             ],
             [
              0.6666666666666666,
              "#ed7953"
             ],
             [
              0.7777777777777778,
              "#fb9f3a"
             ],
             [
              0.8888888888888888,
              "#fdca26"
             ],
             [
              1,
              "#f0f921"
             ]
            ],
            "type": "histogram2d"
           }
          ],
          "histogram2dcontour": [
           {
            "colorbar": {
             "outlinewidth": 0,
             "ticks": ""
            },
            "colorscale": [
             [
              0,
              "#0d0887"
             ],
             [
              0.1111111111111111,
              "#46039f"
             ],
             [
              0.2222222222222222,
              "#7201a8"
             ],
             [
              0.3333333333333333,
              "#9c179e"
             ],
             [
              0.4444444444444444,
              "#bd3786"
             ],
             [
              0.5555555555555556,
              "#d8576b"
             ],
             [
              0.6666666666666666,
              "#ed7953"
             ],
             [
              0.7777777777777778,
              "#fb9f3a"
             ],
             [
              0.8888888888888888,
              "#fdca26"
             ],
             [
              1,
              "#f0f921"
             ]
            ],
            "type": "histogram2dcontour"
           }
          ],
          "mesh3d": [
           {
            "colorbar": {
             "outlinewidth": 0,
             "ticks": ""
            },
            "type": "mesh3d"
           }
          ],
          "parcoords": [
           {
            "line": {
             "colorbar": {
              "outlinewidth": 0,
              "ticks": ""
             }
            },
            "type": "parcoords"
           }
          ],
          "pie": [
           {
            "automargin": true,
            "type": "pie"
           }
          ],
          "scatter": [
           {
            "fillpattern": {
             "fillmode": "overlay",
             "size": 10,
             "solidity": 0.2
            },
            "type": "scatter"
           }
          ],
          "scatter3d": [
           {
            "line": {
             "colorbar": {
              "outlinewidth": 0,
              "ticks": ""
             }
            },
            "marker": {
             "colorbar": {
              "outlinewidth": 0,
              "ticks": ""
             }
            },
            "type": "scatter3d"
           }
          ],
          "scattercarpet": [
           {
            "marker": {
             "colorbar": {
              "outlinewidth": 0,
              "ticks": ""
             }
            },
            "type": "scattercarpet"
           }
          ],
          "scattergeo": [
           {
            "marker": {
             "colorbar": {
              "outlinewidth": 0,
              "ticks": ""
             }
            },
            "type": "scattergeo"
           }
          ],
          "scattergl": [
           {
            "marker": {
             "colorbar": {
              "outlinewidth": 0,
              "ticks": ""
             }
            },
            "type": "scattergl"
           }
          ],
          "scattermapbox": [
           {
            "marker": {
             "colorbar": {
              "outlinewidth": 0,
              "ticks": ""
             }
            },
            "type": "scattermapbox"
           }
          ],
          "scatterpolar": [
           {
            "marker": {
             "colorbar": {
              "outlinewidth": 0,
              "ticks": ""
             }
            },
            "type": "scatterpolar"
           }
          ],
          "scatterpolargl": [
           {
            "marker": {
             "colorbar": {
              "outlinewidth": 0,
              "ticks": ""
             }
            },
            "type": "scatterpolargl"
           }
          ],
          "scatterternary": [
           {
            "marker": {
             "colorbar": {
              "outlinewidth": 0,
              "ticks": ""
             }
            },
            "type": "scatterternary"
           }
          ],
          "surface": [
           {
            "colorbar": {
             "outlinewidth": 0,
             "ticks": ""
            },
            "colorscale": [
             [
              0,
              "#0d0887"
             ],
             [
              0.1111111111111111,
              "#46039f"
             ],
             [
              0.2222222222222222,
              "#7201a8"
             ],
             [
              0.3333333333333333,
              "#9c179e"
             ],
             [
              0.4444444444444444,
              "#bd3786"
             ],
             [
              0.5555555555555556,
              "#d8576b"
             ],
             [
              0.6666666666666666,
              "#ed7953"
             ],
             [
              0.7777777777777778,
              "#fb9f3a"
             ],
             [
              0.8888888888888888,
              "#fdca26"
             ],
             [
              1,
              "#f0f921"
             ]
            ],
            "type": "surface"
           }
          ],
          "table": [
           {
            "cells": {
             "fill": {
              "color": "#EBF0F8"
             },
             "line": {
              "color": "white"
             }
            },
            "header": {
             "fill": {
              "color": "#C8D4E3"
             },
             "line": {
              "color": "white"
             }
            },
            "type": "table"
           }
          ]
         },
         "layout": {
          "annotationdefaults": {
           "arrowcolor": "#2a3f5f",
           "arrowhead": 0,
           "arrowwidth": 1
          },
          "autotypenumbers": "strict",
          "coloraxis": {
           "colorbar": {
            "outlinewidth": 0,
            "ticks": ""
           }
          },
          "colorscale": {
           "diverging": [
            [
             0,
             "#8e0152"
            ],
            [
             0.1,
             "#c51b7d"
            ],
            [
             0.2,
             "#de77ae"
            ],
            [
             0.3,
             "#f1b6da"
            ],
            [
             0.4,
             "#fde0ef"
            ],
            [
             0.5,
             "#f7f7f7"
            ],
            [
             0.6,
             "#e6f5d0"
            ],
            [
             0.7,
             "#b8e186"
            ],
            [
             0.8,
             "#7fbc41"
            ],
            [
             0.9,
             "#4d9221"
            ],
            [
             1,
             "#276419"
            ]
           ],
           "sequential": [
            [
             0,
             "#0d0887"
            ],
            [
             0.1111111111111111,
             "#46039f"
            ],
            [
             0.2222222222222222,
             "#7201a8"
            ],
            [
             0.3333333333333333,
             "#9c179e"
            ],
            [
             0.4444444444444444,
             "#bd3786"
            ],
            [
             0.5555555555555556,
             "#d8576b"
            ],
            [
             0.6666666666666666,
             "#ed7953"
            ],
            [
             0.7777777777777778,
             "#fb9f3a"
            ],
            [
             0.8888888888888888,
             "#fdca26"
            ],
            [
             1,
             "#f0f921"
            ]
           ],
           "sequentialminus": [
            [
             0,
             "#0d0887"
            ],
            [
             0.1111111111111111,
             "#46039f"
            ],
            [
             0.2222222222222222,
             "#7201a8"
            ],
            [
             0.3333333333333333,
             "#9c179e"
            ],
            [
             0.4444444444444444,
             "#bd3786"
            ],
            [
             0.5555555555555556,
             "#d8576b"
            ],
            [
             0.6666666666666666,
             "#ed7953"
            ],
            [
             0.7777777777777778,
             "#fb9f3a"
            ],
            [
             0.8888888888888888,
             "#fdca26"
            ],
            [
             1,
             "#f0f921"
            ]
           ]
          },
          "colorway": [
           "#636efa",
           "#EF553B",
           "#00cc96",
           "#ab63fa",
           "#FFA15A",
           "#19d3f3",
           "#FF6692",
           "#B6E880",
           "#FF97FF",
           "#FECB52"
          ],
          "font": {
           "color": "#2a3f5f"
          },
          "geo": {
           "bgcolor": "white",
           "lakecolor": "white",
           "landcolor": "#E5ECF6",
           "showlakes": true,
           "showland": true,
           "subunitcolor": "white"
          },
          "hoverlabel": {
           "align": "left"
          },
          "hovermode": "closest",
          "mapbox": {
           "style": "light"
          },
          "paper_bgcolor": "white",
          "plot_bgcolor": "#E5ECF6",
          "polar": {
           "angularaxis": {
            "gridcolor": "white",
            "linecolor": "white",
            "ticks": ""
           },
           "bgcolor": "#E5ECF6",
           "radialaxis": {
            "gridcolor": "white",
            "linecolor": "white",
            "ticks": ""
           }
          },
          "scene": {
           "xaxis": {
            "backgroundcolor": "#E5ECF6",
            "gridcolor": "white",
            "gridwidth": 2,
            "linecolor": "white",
            "showbackground": true,
            "ticks": "",
            "zerolinecolor": "white"
           },
           "yaxis": {
            "backgroundcolor": "#E5ECF6",
            "gridcolor": "white",
            "gridwidth": 2,
            "linecolor": "white",
            "showbackground": true,
            "ticks": "",
            "zerolinecolor": "white"
           },
           "zaxis": {
            "backgroundcolor": "#E5ECF6",
            "gridcolor": "white",
            "gridwidth": 2,
            "linecolor": "white",
            "showbackground": true,
            "ticks": "",
            "zerolinecolor": "white"
           }
          },
          "shapedefaults": {
           "line": {
            "color": "#2a3f5f"
           }
          },
          "ternary": {
           "aaxis": {
            "gridcolor": "white",
            "linecolor": "white",
            "ticks": ""
           },
           "baxis": {
            "gridcolor": "white",
            "linecolor": "white",
            "ticks": ""
           },
           "bgcolor": "#E5ECF6",
           "caxis": {
            "gridcolor": "white",
            "linecolor": "white",
            "ticks": ""
           }
          },
          "title": {
           "x": 0.05
          },
          "xaxis": {
           "automargin": true,
           "gridcolor": "white",
           "linecolor": "white",
           "ticks": "",
           "title": {
            "standoff": 15
           },
           "zerolinecolor": "white",
           "zerolinewidth": 2
          },
          "yaxis": {
           "automargin": true,
           "gridcolor": "white",
           "linecolor": "white",
           "ticks": "",
           "title": {
            "standoff": 15
           },
           "zerolinecolor": "white",
           "zerolinewidth": 2
          }
         }
        },
        "title": {
         "text": "Preços de Produtos - Região Nordeste"
        },
        "width": 900,
        "xaxis": {
         "anchor": "y",
         "domain": [
          0,
          1
         ],
         "tickangle": 45,
         "title": {
          "text": "Cidade/UF"
         }
        },
        "yaxis": {
         "anchor": "x",
         "domain": [
          0,
          1
         ],
         "title": {
          "text": "Preço (R$)"
         }
        }
       }
      }
     },
     "metadata": {},
     "output_type": "display_data"
    },
    {
     "data": {
      "application/vnd.plotly.v1+json": {
       "config": {
        "plotlyServerURL": "https://plot.ly"
       },
       "data": [
        {
         "hovertemplate": "produto=Kani Congelado Frescatto 200g<br>Cidade/UF=%{x}<br>Preço (R$)=%{y}<extra></extra>",
         "legendgroup": "Kani Congelado Frescatto 200g",
         "marker": {
          "color": "#636efa",
          "symbol": "circle"
         },
         "mode": "markers",
         "name": "Kani Congelado Frescatto 200g",
         "orientation": "v",
         "showlegend": true,
         "type": "scatter",
         "x": [
          "Brasília/DF",
          "Taguatinga/DF",
          "Anapolis/GO",
          "Goiania/GO",
          "Campo Grande/MS"
         ],
         "xaxis": "x",
         "y": [
          12.59,
          12.19,
          11.39,
          11.39,
          12.45
         ],
         "yaxis": "y"
        },
        {
         "hovertemplate": "produto=Kani Congelado Costa Sul 200g<br>Cidade/UF=%{x}<br>Preço (R$)=%{y}<extra></extra>",
         "legendgroup": "Kani Congelado Costa Sul 200g",
         "marker": {
          "color": "#EF553B",
          "symbol": "circle"
         },
         "mode": "markers",
         "name": "Kani Congelado Costa Sul 200g",
         "orientation": "v",
         "showlegend": true,
         "type": "scatter",
         "x": [
          "Campo Grande/MS"
         ],
         "xaxis": "x",
         "y": [
          14.25
         ],
         "yaxis": "y"
        }
       ],
       "layout": {
        "height": 600,
        "hovermode": "closest",
        "legend": {
         "title": {
          "text": "Produto"
         },
         "tracegroupgap": 0
        },
        "margin": {
         "b": 150,
         "l": 50,
         "r": 50,
         "t": 100
        },
        "template": {
         "data": {
          "bar": [
           {
            "error_x": {
             "color": "#2a3f5f"
            },
            "error_y": {
             "color": "#2a3f5f"
            },
            "marker": {
             "line": {
              "color": "#E5ECF6",
              "width": 0.5
             },
             "pattern": {
              "fillmode": "overlay",
              "size": 10,
              "solidity": 0.2
             }
            },
            "type": "bar"
           }
          ],
          "barpolar": [
           {
            "marker": {
             "line": {
              "color": "#E5ECF6",
              "width": 0.5
             },
             "pattern": {
              "fillmode": "overlay",
              "size": 10,
              "solidity": 0.2
             }
            },
            "type": "barpolar"
           }
          ],
          "carpet": [
           {
            "aaxis": {
             "endlinecolor": "#2a3f5f",
             "gridcolor": "white",
             "linecolor": "white",
             "minorgridcolor": "white",
             "startlinecolor": "#2a3f5f"
            },
            "baxis": {
             "endlinecolor": "#2a3f5f",
             "gridcolor": "white",
             "linecolor": "white",
             "minorgridcolor": "white",
             "startlinecolor": "#2a3f5f"
            },
            "type": "carpet"
           }
          ],
          "choropleth": [
           {
            "colorbar": {
             "outlinewidth": 0,
             "ticks": ""
            },
            "type": "choropleth"
           }
          ],
          "contour": [
           {
            "colorbar": {
             "outlinewidth": 0,
             "ticks": ""
            },
            "colorscale": [
             [
              0,
              "#0d0887"
             ],
             [
              0.1111111111111111,
              "#46039f"
             ],
             [
              0.2222222222222222,
              "#7201a8"
             ],
             [
              0.3333333333333333,
              "#9c179e"
             ],
             [
              0.4444444444444444,
              "#bd3786"
             ],
             [
              0.5555555555555556,
              "#d8576b"
             ],
             [
              0.6666666666666666,
              "#ed7953"
             ],
             [
              0.7777777777777778,
              "#fb9f3a"
             ],
             [
              0.8888888888888888,
              "#fdca26"
             ],
             [
              1,
              "#f0f921"
             ]
            ],
            "type": "contour"
           }
          ],
          "contourcarpet": [
           {
            "colorbar": {
             "outlinewidth": 0,
             "ticks": ""
            },
            "type": "contourcarpet"
           }
          ],
          "heatmap": [
           {
            "colorbar": {
             "outlinewidth": 0,
             "ticks": ""
            },
            "colorscale": [
             [
              0,
              "#0d0887"
             ],
             [
              0.1111111111111111,
              "#46039f"
             ],
             [
              0.2222222222222222,
              "#7201a8"
             ],
             [
              0.3333333333333333,
              "#9c179e"
             ],
             [
              0.4444444444444444,
              "#bd3786"
             ],
             [
              0.5555555555555556,
              "#d8576b"
             ],
             [
              0.6666666666666666,
              "#ed7953"
             ],
             [
              0.7777777777777778,
              "#fb9f3a"
             ],
             [
              0.8888888888888888,
              "#fdca26"
             ],
             [
              1,
              "#f0f921"
             ]
            ],
            "type": "heatmap"
           }
          ],
          "heatmapgl": [
           {
            "colorbar": {
             "outlinewidth": 0,
             "ticks": ""
            },
            "colorscale": [
             [
              0,
              "#0d0887"
             ],
             [
              0.1111111111111111,
              "#46039f"
             ],
             [
              0.2222222222222222,
              "#7201a8"
             ],
             [
              0.3333333333333333,
              "#9c179e"
             ],
             [
              0.4444444444444444,
              "#bd3786"
             ],
             [
              0.5555555555555556,
              "#d8576b"
             ],
             [
              0.6666666666666666,
              "#ed7953"
             ],
             [
              0.7777777777777778,
              "#fb9f3a"
             ],
             [
              0.8888888888888888,
              "#fdca26"
             ],
             [
              1,
              "#f0f921"
             ]
            ],
            "type": "heatmapgl"
           }
          ],
          "histogram": [
           {
            "marker": {
             "pattern": {
              "fillmode": "overlay",
              "size": 10,
              "solidity": 0.2
             }
            },
            "type": "histogram"
           }
          ],
          "histogram2d": [
           {
            "colorbar": {
             "outlinewidth": 0,
             "ticks": ""
            },
            "colorscale": [
             [
              0,
              "#0d0887"
             ],
             [
              0.1111111111111111,
              "#46039f"
             ],
             [
              0.2222222222222222,
              "#7201a8"
             ],
             [
              0.3333333333333333,
              "#9c179e"
             ],
             [
              0.4444444444444444,
              "#bd3786"
             ],
             [
              0.5555555555555556,
              "#d8576b"
             ],
             [
              0.6666666666666666,
              "#ed7953"
             ],
             [
              0.7777777777777778,
              "#fb9f3a"
             ],
             [
              0.8888888888888888,
              "#fdca26"
             ],
             [
              1,
              "#f0f921"
             ]
            ],
            "type": "histogram2d"
           }
          ],
          "histogram2dcontour": [
           {
            "colorbar": {
             "outlinewidth": 0,
             "ticks": ""
            },
            "colorscale": [
             [
              0,
              "#0d0887"
             ],
             [
              0.1111111111111111,
              "#46039f"
             ],
             [
              0.2222222222222222,
              "#7201a8"
             ],
             [
              0.3333333333333333,
              "#9c179e"
             ],
             [
              0.4444444444444444,
              "#bd3786"
             ],
             [
              0.5555555555555556,
              "#d8576b"
             ],
             [
              0.6666666666666666,
              "#ed7953"
             ],
             [
              0.7777777777777778,
              "#fb9f3a"
             ],
             [
              0.8888888888888888,
              "#fdca26"
             ],
             [
              1,
              "#f0f921"
             ]
            ],
            "type": "histogram2dcontour"
           }
          ],
          "mesh3d": [
           {
            "colorbar": {
             "outlinewidth": 0,
             "ticks": ""
            },
            "type": "mesh3d"
           }
          ],
          "parcoords": [
           {
            "line": {
             "colorbar": {
              "outlinewidth": 0,
              "ticks": ""
             }
            },
            "type": "parcoords"
           }
          ],
          "pie": [
           {
            "automargin": true,
            "type": "pie"
           }
          ],
          "scatter": [
           {
            "fillpattern": {
             "fillmode": "overlay",
             "size": 10,
             "solidity": 0.2
            },
            "type": "scatter"
           }
          ],
          "scatter3d": [
           {
            "line": {
             "colorbar": {
              "outlinewidth": 0,
              "ticks": ""
             }
            },
            "marker": {
             "colorbar": {
              "outlinewidth": 0,
              "ticks": ""
             }
            },
            "type": "scatter3d"
           }
          ],
          "scattercarpet": [
           {
            "marker": {
             "colorbar": {
              "outlinewidth": 0,
              "ticks": ""
             }
            },
            "type": "scattercarpet"
           }
          ],
          "scattergeo": [
           {
            "marker": {
             "colorbar": {
              "outlinewidth": 0,
              "ticks": ""
             }
            },
            "type": "scattergeo"
           }
          ],
          "scattergl": [
           {
            "marker": {
             "colorbar": {
              "outlinewidth": 0,
              "ticks": ""
             }
            },
            "type": "scattergl"
           }
          ],
          "scattermapbox": [
           {
            "marker": {
             "colorbar": {
              "outlinewidth": 0,
              "ticks": ""
             }
            },
            "type": "scattermapbox"
           }
          ],
          "scatterpolar": [
           {
            "marker": {
             "colorbar": {
              "outlinewidth": 0,
              "ticks": ""
             }
            },
            "type": "scatterpolar"
           }
          ],
          "scatterpolargl": [
           {
            "marker": {
             "colorbar": {
              "outlinewidth": 0,
              "ticks": ""
             }
            },
            "type": "scatterpolargl"
           }
          ],
          "scatterternary": [
           {
            "marker": {
             "colorbar": {
              "outlinewidth": 0,
              "ticks": ""
             }
            },
            "type": "scatterternary"
           }
          ],
          "surface": [
           {
            "colorbar": {
             "outlinewidth": 0,
             "ticks": ""
            },
            "colorscale": [
             [
              0,
              "#0d0887"
             ],
             [
              0.1111111111111111,
              "#46039f"
             ],
             [
              0.2222222222222222,
              "#7201a8"
             ],
             [
              0.3333333333333333,
              "#9c179e"
             ],
             [
              0.4444444444444444,
              "#bd3786"
             ],
             [
              0.5555555555555556,
              "#d8576b"
             ],
             [
              0.6666666666666666,
              "#ed7953"
             ],
             [
              0.7777777777777778,
              "#fb9f3a"
             ],
             [
              0.8888888888888888,
              "#fdca26"
             ],
             [
              1,
              "#f0f921"
             ]
            ],
            "type": "surface"
           }
          ],
          "table": [
           {
            "cells": {
             "fill": {
              "color": "#EBF0F8"
             },
             "line": {
              "color": "white"
             }
            },
            "header": {
             "fill": {
              "color": "#C8D4E3"
             },
             "line": {
              "color": "white"
             }
            },
            "type": "table"
           }
          ]
         },
         "layout": {
          "annotationdefaults": {
           "arrowcolor": "#2a3f5f",
           "arrowhead": 0,
           "arrowwidth": 1
          },
          "autotypenumbers": "strict",
          "coloraxis": {
           "colorbar": {
            "outlinewidth": 0,
            "ticks": ""
           }
          },
          "colorscale": {
           "diverging": [
            [
             0,
             "#8e0152"
            ],
            [
             0.1,
             "#c51b7d"
            ],
            [
             0.2,
             "#de77ae"
            ],
            [
             0.3,
             "#f1b6da"
            ],
            [
             0.4,
             "#fde0ef"
            ],
            [
             0.5,
             "#f7f7f7"
            ],
            [
             0.6,
             "#e6f5d0"
            ],
            [
             0.7,
             "#b8e186"
            ],
            [
             0.8,
             "#7fbc41"
            ],
            [
             0.9,
             "#4d9221"
            ],
            [
             1,
             "#276419"
            ]
           ],
           "sequential": [
            [
             0,
             "#0d0887"
            ],
            [
             0.1111111111111111,
             "#46039f"
            ],
            [
             0.2222222222222222,
             "#7201a8"
            ],
            [
             0.3333333333333333,
             "#9c179e"
            ],
            [
             0.4444444444444444,
             "#bd3786"
            ],
            [
             0.5555555555555556,
             "#d8576b"
            ],
            [
             0.6666666666666666,
             "#ed7953"
            ],
            [
             0.7777777777777778,
             "#fb9f3a"
            ],
            [
             0.8888888888888888,
             "#fdca26"
            ],
            [
             1,
             "#f0f921"
            ]
           ],
           "sequentialminus": [
            [
             0,
             "#0d0887"
            ],
            [
             0.1111111111111111,
             "#46039f"
            ],
            [
             0.2222222222222222,
             "#7201a8"
            ],
            [
             0.3333333333333333,
             "#9c179e"
            ],
            [
             0.4444444444444444,
             "#bd3786"
            ],
            [
             0.5555555555555556,
             "#d8576b"
            ],
            [
             0.6666666666666666,
             "#ed7953"
            ],
            [
             0.7777777777777778,
             "#fb9f3a"
            ],
            [
             0.8888888888888888,
             "#fdca26"
            ],
            [
             1,
             "#f0f921"
            ]
           ]
          },
          "colorway": [
           "#636efa",
           "#EF553B",
           "#00cc96",
           "#ab63fa",
           "#FFA15A",
           "#19d3f3",
           "#FF6692",
           "#B6E880",
           "#FF97FF",
           "#FECB52"
          ],
          "font": {
           "color": "#2a3f5f"
          },
          "geo": {
           "bgcolor": "white",
           "lakecolor": "white",
           "landcolor": "#E5ECF6",
           "showlakes": true,
           "showland": true,
           "subunitcolor": "white"
          },
          "hoverlabel": {
           "align": "left"
          },
          "hovermode": "closest",
          "mapbox": {
           "style": "light"
          },
          "paper_bgcolor": "white",
          "plot_bgcolor": "#E5ECF6",
          "polar": {
           "angularaxis": {
            "gridcolor": "white",
            "linecolor": "white",
            "ticks": ""
           },
           "bgcolor": "#E5ECF6",
           "radialaxis": {
            "gridcolor": "white",
            "linecolor": "white",
            "ticks": ""
           }
          },
          "scene": {
           "xaxis": {
            "backgroundcolor": "#E5ECF6",
            "gridcolor": "white",
            "gridwidth": 2,
            "linecolor": "white",
            "showbackground": true,
            "ticks": "",
            "zerolinecolor": "white"
           },
           "yaxis": {
            "backgroundcolor": "#E5ECF6",
            "gridcolor": "white",
            "gridwidth": 2,
            "linecolor": "white",
            "showbackground": true,
            "ticks": "",
            "zerolinecolor": "white"
           },
           "zaxis": {
            "backgroundcolor": "#E5ECF6",
            "gridcolor": "white",
            "gridwidth": 2,
            "linecolor": "white",
            "showbackground": true,
            "ticks": "",
            "zerolinecolor": "white"
           }
          },
          "shapedefaults": {
           "line": {
            "color": "#2a3f5f"
           }
          },
          "ternary": {
           "aaxis": {
            "gridcolor": "white",
            "linecolor": "white",
            "ticks": ""
           },
           "baxis": {
            "gridcolor": "white",
            "linecolor": "white",
            "ticks": ""
           },
           "bgcolor": "#E5ECF6",
           "caxis": {
            "gridcolor": "white",
            "linecolor": "white",
            "ticks": ""
           }
          },
          "title": {
           "x": 0.05
          },
          "xaxis": {
           "automargin": true,
           "gridcolor": "white",
           "linecolor": "white",
           "ticks": "",
           "title": {
            "standoff": 15
           },
           "zerolinecolor": "white",
           "zerolinewidth": 2
          },
          "yaxis": {
           "automargin": true,
           "gridcolor": "white",
           "linecolor": "white",
           "ticks": "",
           "title": {
            "standoff": 15
           },
           "zerolinecolor": "white",
           "zerolinewidth": 2
          }
         }
        },
        "title": {
         "text": "Preços de Produtos - Região Centro-Oeste"
        },
        "width": 900,
        "xaxis": {
         "anchor": "y",
         "domain": [
          0,
          1
         ],
         "tickangle": 45,
         "title": {
          "text": "Cidade/UF"
         }
        },
        "yaxis": {
         "anchor": "x",
         "domain": [
          0,
          1
         ],
         "title": {
          "text": "Preço (R$)"
         }
        }
       }
      }
     },
     "metadata": {},
     "output_type": "display_data"
    },
    {
     "data": {
      "application/vnd.plotly.v1+json": {
       "config": {
        "plotlyServerURL": "https://plot.ly"
       },
       "data": [
        {
         "hovertemplate": "produto=Kani Congelado Costa Sul 200g<br>Cidade/UF=%{x}<br>Preço (R$)=%{y}<extra></extra>",
         "legendgroup": "Kani Congelado Costa Sul 200g",
         "marker": {
          "color": "#636efa",
          "symbol": "circle"
         },
         "mode": "markers",
         "name": "Kani Congelado Costa Sul 200g",
         "orientation": "v",
         "showlegend": true,
         "type": "scatter",
         "x": [
          "Vila Velha/ES",
          "Belo Horizonte/MG",
          "Belo Horizonte/MG",
          "Contagem/MG",
          "Juiz de Fora/MG",
          "Uberlandia/MG",
          "Duque de Caxias/RJ",
          "Rio de Janeiro/RJ",
          "São Gonçalo/RJ",
          "Campos dos Goytacazes/RJ",
          "Macaé/RJ",
          "Barueri/SP",
          "Caçapava/SP",
          "Campinas/SP",
          "Guarujá/SP",
          "Guarulhos/SP",
          "Indaiatuba/SP",
          "Itu/SP",
          "Jundiai/SP",
          "Osasco/SP",
          "Piracicaba/SP",
          "Praia Grande/SP",
          "Presidente Prudente/SP",
          "Ribeirão Preto/SP",
          "Salto/SP",
          "Santana de Parnaíba/SP",
          "São Bernardo do Campo/SP",
          "São Caetano do Sul/SP",
          "São Carlos/SP",
          "São José dos Campos/SP",
          "São Jose Rio Preto/SP",
          "São Paulo/SP",
          "São Vicente/SP",
          "Sorocaba/Votorantim/SP",
          "Taboão da Serra/SP",
          "Taubate/SP",
          "Vinhedo/SP"
         ],
         "xaxis": "x",
         "y": [
          13.39,
          12.99,
          12.99,
          13.39,
          13.39,
          12.99,
          15.99,
          16.49,
          16.49,
          11.89,
          11.89,
          10.19,
          14.79,
          10.19,
          9.89,
          9.89,
          10.49,
          14.79,
          10.19,
          10.19,
          10.09,
          10.49,
          9.89,
          10.19,
          14.79,
          14.79,
          9.89,
          10.19,
          14.79,
          10.19,
          9.89,
          14.79,
          9.89,
          10.19,
          10.19,
          10.49,
          14.79
         ],
         "yaxis": "y"
        },
        {
         "hovertemplate": "produto=Kani Congelado Frescatto 200g<br>Cidade/UF=%{x}<br>Preço (R$)=%{y}<extra></extra>",
         "legendgroup": "Kani Congelado Frescatto 200g",
         "marker": {
          "color": "#EF553B",
          "symbol": "circle"
         },
         "mode": "markers",
         "name": "Kani Congelado Frescatto 200g",
         "orientation": "v",
         "showlegend": true,
         "type": "scatter",
         "x": [
          "Vila Velha/ES",
          "Belo Horizonte/MG",
          "Belo Horizonte/MG",
          "Contagem/MG",
          "Juiz de Fora/MG",
          "Uberlandia/MG",
          "Duque de Caxias/RJ",
          "Rio de Janeiro/RJ",
          "São Gonçalo/RJ",
          "Campos dos Goytacazes/RJ",
          "Macaé/RJ",
          "Indaiatuba/SP",
          "Itu/SP",
          "Salto/SP",
          "São Caetano do Sul/SP",
          "São Jose Rio Preto/SP",
          "Vinhedo/SP"
         ],
         "xaxis": "x",
         "y": [
          15.99,
          15.99,
          15.99,
          15.99,
          15.99,
          15.99,
          15.99,
          15.99,
          15.99,
          15.99,
          15.99,
          9.98,
          9.98,
          9.98,
          10.29,
          9.98,
          9.98
         ],
         "yaxis": "y"
        },
        {
         "hovertemplate": "produto=Kani Congelado Damm 250g<br>Cidade/UF=%{x}<br>Preço (R$)=%{y}<extra></extra>",
         "legendgroup": "Kani Congelado Damm 250g",
         "marker": {
          "color": "#00cc96",
          "symbol": "circle"
         },
         "mode": "markers",
         "name": "Kani Congelado Damm 250g",
         "orientation": "v",
         "showlegend": true,
         "type": "scatter",
         "x": [
          "Barueri/SP",
          "Guarulhos/SP",
          "Santana de Parnaíba/SP"
         ],
         "xaxis": "x",
         "y": [
          22.69,
          10.79,
          11.19
         ],
         "yaxis": "y"
        },
        {
         "hovertemplate": "produto=Hossomaki Philadelphia Kani Kama 160 g<br>Cidade/UF=%{x}<br>Preço (R$)=%{y}<extra></extra>",
         "legendgroup": "Hossomaki Philadelphia Kani Kama 160 g",
         "marker": {
          "color": "#ab63fa",
          "symbol": "circle"
         },
         "mode": "markers",
         "name": "Hossomaki Philadelphia Kani Kama 160 g",
         "orientation": "v",
         "showlegend": true,
         "type": "scatter",
         "x": [
          "Caçapava/SP",
          "São José dos Campos/SP"
         ],
         "xaxis": "x",
         "y": [
          22.59,
          27.49
         ],
         "yaxis": "y"
        }
       ],
       "layout": {
        "height": 600,
        "hovermode": "closest",
        "legend": {
         "title": {
          "text": "Produto"
         },
         "tracegroupgap": 0
        },
        "margin": {
         "b": 150,
         "l": 50,
         "r": 50,
         "t": 100
        },
        "template": {
         "data": {
          "bar": [
           {
            "error_x": {
             "color": "#2a3f5f"
            },
            "error_y": {
             "color": "#2a3f5f"
            },
            "marker": {
             "line": {
              "color": "#E5ECF6",
              "width": 0.5
             },
             "pattern": {
              "fillmode": "overlay",
              "size": 10,
              "solidity": 0.2
             }
            },
            "type": "bar"
           }
          ],
          "barpolar": [
           {
            "marker": {
             "line": {
              "color": "#E5ECF6",
              "width": 0.5
             },
             "pattern": {
              "fillmode": "overlay",
              "size": 10,
              "solidity": 0.2
             }
            },
            "type": "barpolar"
           }
          ],
          "carpet": [
           {
            "aaxis": {
             "endlinecolor": "#2a3f5f",
             "gridcolor": "white",
             "linecolor": "white",
             "minorgridcolor": "white",
             "startlinecolor": "#2a3f5f"
            },
            "baxis": {
             "endlinecolor": "#2a3f5f",
             "gridcolor": "white",
             "linecolor": "white",
             "minorgridcolor": "white",
             "startlinecolor": "#2a3f5f"
            },
            "type": "carpet"
           }
          ],
          "choropleth": [
           {
            "colorbar": {
             "outlinewidth": 0,
             "ticks": ""
            },
            "type": "choropleth"
           }
          ],
          "contour": [
           {
            "colorbar": {
             "outlinewidth": 0,
             "ticks": ""
            },
            "colorscale": [
             [
              0,
              "#0d0887"
             ],
             [
              0.1111111111111111,
              "#46039f"
             ],
             [
              0.2222222222222222,
              "#7201a8"
             ],
             [
              0.3333333333333333,
              "#9c179e"
             ],
             [
              0.4444444444444444,
              "#bd3786"
             ],
             [
              0.5555555555555556,
              "#d8576b"
             ],
             [
              0.6666666666666666,
              "#ed7953"
             ],
             [
              0.7777777777777778,
              "#fb9f3a"
             ],
             [
              0.8888888888888888,
              "#fdca26"
             ],
             [
              1,
              "#f0f921"
             ]
            ],
            "type": "contour"
           }
          ],
          "contourcarpet": [
           {
            "colorbar": {
             "outlinewidth": 0,
             "ticks": ""
            },
            "type": "contourcarpet"
           }
          ],
          "heatmap": [
           {
            "colorbar": {
             "outlinewidth": 0,
             "ticks": ""
            },
            "colorscale": [
             [
              0,
              "#0d0887"
             ],
             [
              0.1111111111111111,
              "#46039f"
             ],
             [
              0.2222222222222222,
              "#7201a8"
             ],
             [
              0.3333333333333333,
              "#9c179e"
             ],
             [
              0.4444444444444444,
              "#bd3786"
             ],
             [
              0.5555555555555556,
              "#d8576b"
             ],
             [
              0.6666666666666666,
              "#ed7953"
             ],
             [
              0.7777777777777778,
              "#fb9f3a"
             ],
             [
              0.8888888888888888,
              "#fdca26"
             ],
             [
              1,
              "#f0f921"
             ]
            ],
            "type": "heatmap"
           }
          ],
          "heatmapgl": [
           {
            "colorbar": {
             "outlinewidth": 0,
             "ticks": ""
            },
            "colorscale": [
             [
              0,
              "#0d0887"
             ],
             [
              0.1111111111111111,
              "#46039f"
             ],
             [
              0.2222222222222222,
              "#7201a8"
             ],
             [
              0.3333333333333333,
              "#9c179e"
             ],
             [
              0.4444444444444444,
              "#bd3786"
             ],
             [
              0.5555555555555556,
              "#d8576b"
             ],
             [
              0.6666666666666666,
              "#ed7953"
             ],
             [
              0.7777777777777778,
              "#fb9f3a"
             ],
             [
              0.8888888888888888,
              "#fdca26"
             ],
             [
              1,
              "#f0f921"
             ]
            ],
            "type": "heatmapgl"
           }
          ],
          "histogram": [
           {
            "marker": {
             "pattern": {
              "fillmode": "overlay",
              "size": 10,
              "solidity": 0.2
             }
            },
            "type": "histogram"
           }
          ],
          "histogram2d": [
           {
            "colorbar": {
             "outlinewidth": 0,
             "ticks": ""
            },
            "colorscale": [
             [
              0,
              "#0d0887"
             ],
             [
              0.1111111111111111,
              "#46039f"
             ],
             [
              0.2222222222222222,
              "#7201a8"
             ],
             [
              0.3333333333333333,
              "#9c179e"
             ],
             [
              0.4444444444444444,
              "#bd3786"
             ],
             [
              0.5555555555555556,
              "#d8576b"
             ],
             [
              0.6666666666666666,
              "#ed7953"
             ],
             [
              0.7777777777777778,
              "#fb9f3a"
             ],
             [
              0.8888888888888888,
              "#fdca26"
             ],
             [
              1,
              "#f0f921"
             ]
            ],
            "type": "histogram2d"
           }
          ],
          "histogram2dcontour": [
           {
            "colorbar": {
             "outlinewidth": 0,
             "ticks": ""
            },
            "colorscale": [
             [
              0,
              "#0d0887"
             ],
             [
              0.1111111111111111,
              "#46039f"
             ],
             [
              0.2222222222222222,
              "#7201a8"
             ],
             [
              0.3333333333333333,
              "#9c179e"
             ],
             [
              0.4444444444444444,
              "#bd3786"
             ],
             [
              0.5555555555555556,
              "#d8576b"
             ],
             [
              0.6666666666666666,
              "#ed7953"
             ],
             [
              0.7777777777777778,
              "#fb9f3a"
             ],
             [
              0.8888888888888888,
              "#fdca26"
             ],
             [
              1,
              "#f0f921"
             ]
            ],
            "type": "histogram2dcontour"
           }
          ],
          "mesh3d": [
           {
            "colorbar": {
             "outlinewidth": 0,
             "ticks": ""
            },
            "type": "mesh3d"
           }
          ],
          "parcoords": [
           {
            "line": {
             "colorbar": {
              "outlinewidth": 0,
              "ticks": ""
             }
            },
            "type": "parcoords"
           }
          ],
          "pie": [
           {
            "automargin": true,
            "type": "pie"
           }
          ],
          "scatter": [
           {
            "fillpattern": {
             "fillmode": "overlay",
             "size": 10,
             "solidity": 0.2
            },
            "type": "scatter"
           }
          ],
          "scatter3d": [
           {
            "line": {
             "colorbar": {
              "outlinewidth": 0,
              "ticks": ""
             }
            },
            "marker": {
             "colorbar": {
              "outlinewidth": 0,
              "ticks": ""
             }
            },
            "type": "scatter3d"
           }
          ],
          "scattercarpet": [
           {
            "marker": {
             "colorbar": {
              "outlinewidth": 0,
              "ticks": ""
             }
            },
            "type": "scattercarpet"
           }
          ],
          "scattergeo": [
           {
            "marker": {
             "colorbar": {
              "outlinewidth": 0,
              "ticks": ""
             }
            },
            "type": "scattergeo"
           }
          ],
          "scattergl": [
           {
            "marker": {
             "colorbar": {
              "outlinewidth": 0,
              "ticks": ""
             }
            },
            "type": "scattergl"
           }
          ],
          "scattermapbox": [
           {
            "marker": {
             "colorbar": {
              "outlinewidth": 0,
              "ticks": ""
             }
            },
            "type": "scattermapbox"
           }
          ],
          "scatterpolar": [
           {
            "marker": {
             "colorbar": {
              "outlinewidth": 0,
              "ticks": ""
             }
            },
            "type": "scatterpolar"
           }
          ],
          "scatterpolargl": [
           {
            "marker": {
             "colorbar": {
              "outlinewidth": 0,
              "ticks": ""
             }
            },
            "type": "scatterpolargl"
           }
          ],
          "scatterternary": [
           {
            "marker": {
             "colorbar": {
              "outlinewidth": 0,
              "ticks": ""
             }
            },
            "type": "scatterternary"
           }
          ],
          "surface": [
           {
            "colorbar": {
             "outlinewidth": 0,
             "ticks": ""
            },
            "colorscale": [
             [
              0,
              "#0d0887"
             ],
             [
              0.1111111111111111,
              "#46039f"
             ],
             [
              0.2222222222222222,
              "#7201a8"
             ],
             [
              0.3333333333333333,
              "#9c179e"
             ],
             [
              0.4444444444444444,
              "#bd3786"
             ],
             [
              0.5555555555555556,
              "#d8576b"
             ],
             [
              0.6666666666666666,
              "#ed7953"
             ],
             [
              0.7777777777777778,
              "#fb9f3a"
             ],
             [
              0.8888888888888888,
              "#fdca26"
             ],
             [
              1,
              "#f0f921"
             ]
            ],
            "type": "surface"
           }
          ],
          "table": [
           {
            "cells": {
             "fill": {
              "color": "#EBF0F8"
             },
             "line": {
              "color": "white"
             }
            },
            "header": {
             "fill": {
              "color": "#C8D4E3"
             },
             "line": {
              "color": "white"
             }
            },
            "type": "table"
           }
          ]
         },
         "layout": {
          "annotationdefaults": {
           "arrowcolor": "#2a3f5f",
           "arrowhead": 0,
           "arrowwidth": 1
          },
          "autotypenumbers": "strict",
          "coloraxis": {
           "colorbar": {
            "outlinewidth": 0,
            "ticks": ""
           }
          },
          "colorscale": {
           "diverging": [
            [
             0,
             "#8e0152"
            ],
            [
             0.1,
             "#c51b7d"
            ],
            [
             0.2,
             "#de77ae"
            ],
            [
             0.3,
             "#f1b6da"
            ],
            [
             0.4,
             "#fde0ef"
            ],
            [
             0.5,
             "#f7f7f7"
            ],
            [
             0.6,
             "#e6f5d0"
            ],
            [
             0.7,
             "#b8e186"
            ],
            [
             0.8,
             "#7fbc41"
            ],
            [
             0.9,
             "#4d9221"
            ],
            [
             1,
             "#276419"
            ]
           ],
           "sequential": [
            [
             0,
             "#0d0887"
            ],
            [
             0.1111111111111111,
             "#46039f"
            ],
            [
             0.2222222222222222,
             "#7201a8"
            ],
            [
             0.3333333333333333,
             "#9c179e"
            ],
            [
             0.4444444444444444,
             "#bd3786"
            ],
            [
             0.5555555555555556,
             "#d8576b"
            ],
            [
             0.6666666666666666,
             "#ed7953"
            ],
            [
             0.7777777777777778,
             "#fb9f3a"
            ],
            [
             0.8888888888888888,
             "#fdca26"
            ],
            [
             1,
             "#f0f921"
            ]
           ],
           "sequentialminus": [
            [
             0,
             "#0d0887"
            ],
            [
             0.1111111111111111,
             "#46039f"
            ],
            [
             0.2222222222222222,
             "#7201a8"
            ],
            [
             0.3333333333333333,
             "#9c179e"
            ],
            [
             0.4444444444444444,
             "#bd3786"
            ],
            [
             0.5555555555555556,
             "#d8576b"
            ],
            [
             0.6666666666666666,
             "#ed7953"
            ],
            [
             0.7777777777777778,
             "#fb9f3a"
            ],
            [
             0.8888888888888888,
             "#fdca26"
            ],
            [
             1,
             "#f0f921"
            ]
           ]
          },
          "colorway": [
           "#636efa",
           "#EF553B",
           "#00cc96",
           "#ab63fa",
           "#FFA15A",
           "#19d3f3",
           "#FF6692",
           "#B6E880",
           "#FF97FF",
           "#FECB52"
          ],
          "font": {
           "color": "#2a3f5f"
          },
          "geo": {
           "bgcolor": "white",
           "lakecolor": "white",
           "landcolor": "#E5ECF6",
           "showlakes": true,
           "showland": true,
           "subunitcolor": "white"
          },
          "hoverlabel": {
           "align": "left"
          },
          "hovermode": "closest",
          "mapbox": {
           "style": "light"
          },
          "paper_bgcolor": "white",
          "plot_bgcolor": "#E5ECF6",
          "polar": {
           "angularaxis": {
            "gridcolor": "white",
            "linecolor": "white",
            "ticks": ""
           },
           "bgcolor": "#E5ECF6",
           "radialaxis": {
            "gridcolor": "white",
            "linecolor": "white",
            "ticks": ""
           }
          },
          "scene": {
           "xaxis": {
            "backgroundcolor": "#E5ECF6",
            "gridcolor": "white",
            "gridwidth": 2,
            "linecolor": "white",
            "showbackground": true,
            "ticks": "",
            "zerolinecolor": "white"
           },
           "yaxis": {
            "backgroundcolor": "#E5ECF6",
            "gridcolor": "white",
            "gridwidth": 2,
            "linecolor": "white",
            "showbackground": true,
            "ticks": "",
            "zerolinecolor": "white"
           },
           "zaxis": {
            "backgroundcolor": "#E5ECF6",
            "gridcolor": "white",
            "gridwidth": 2,
            "linecolor": "white",
            "showbackground": true,
            "ticks": "",
            "zerolinecolor": "white"
           }
          },
          "shapedefaults": {
           "line": {
            "color": "#2a3f5f"
           }
          },
          "ternary": {
           "aaxis": {
            "gridcolor": "white",
            "linecolor": "white",
            "ticks": ""
           },
           "baxis": {
            "gridcolor": "white",
            "linecolor": "white",
            "ticks": ""
           },
           "bgcolor": "#E5ECF6",
           "caxis": {
            "gridcolor": "white",
            "linecolor": "white",
            "ticks": ""
           }
          },
          "title": {
           "x": 0.05
          },
          "xaxis": {
           "automargin": true,
           "gridcolor": "white",
           "linecolor": "white",
           "ticks": "",
           "title": {
            "standoff": 15
           },
           "zerolinecolor": "white",
           "zerolinewidth": 2
          },
          "yaxis": {
           "automargin": true,
           "gridcolor": "white",
           "linecolor": "white",
           "ticks": "",
           "title": {
            "standoff": 15
           },
           "zerolinecolor": "white",
           "zerolinewidth": 2
          }
         }
        },
        "title": {
         "text": "Preços de Produtos - Região Sudeste"
        },
        "width": 900,
        "xaxis": {
         "anchor": "y",
         "domain": [
          0,
          1
         ],
         "tickangle": 45,
         "title": {
          "text": "Cidade/UF"
         }
        },
        "yaxis": {
         "anchor": "x",
         "domain": [
          0,
          1
         ],
         "title": {
          "text": "Preço (R$)"
         }
        }
       }
      }
     },
     "metadata": {},
     "output_type": "display_data"
    },
    {
     "data": {
      "application/vnd.plotly.v1+json": {
       "config": {
        "plotlyServerURL": "https://plot.ly"
       },
       "data": [
        {
         "hovertemplate": "produto=Kani Congelado Costa Sul 200g<br>Cidade/UF=%{x}<br>Preço (R$)=%{y}<extra></extra>",
         "legendgroup": "Kani Congelado Costa Sul 200g",
         "marker": {
          "color": "#636efa",
          "symbol": "circle"
         },
         "mode": "markers",
         "name": "Kani Congelado Costa Sul 200g",
         "orientation": "v",
         "showlegend": true,
         "type": "scatter",
         "x": [
          "Curitiba/PR",
          "Londrina/PR",
          "Pinhais/PR",
          "Canoas/RS",
          "Caxias do Sul/RS",
          "Gravataí/RS",
          "Novo Hamburgo/RS",
          "Pelotas/RS",
          "Porto Alegre/RS",
          "Santa Maria/RS",
          "Viamão/RS"
         ],
         "xaxis": "x",
         "y": [
          13.89,
          13.89,
          13.89,
          14.15,
          10.99,
          13.69,
          14.15,
          14.15,
          14.15,
          10.99,
          13.69
         ],
         "yaxis": "y"
        },
        {
         "hovertemplate": "produto=Kani Congelado Frescatto 200g<br>Cidade/UF=%{x}<br>Preço (R$)=%{y}<extra></extra>",
         "legendgroup": "Kani Congelado Frescatto 200g",
         "marker": {
          "color": "#EF553B",
          "symbol": "circle"
         },
         "mode": "markers",
         "name": "Kani Congelado Frescatto 200g",
         "orientation": "v",
         "showlegend": true,
         "type": "scatter",
         "x": [
          "Curitiba/PR",
          "Canoas/RS",
          "Caxias do Sul/RS",
          "Gravataí/RS",
          "Novo Hamburgo/RS",
          "Pelotas/RS",
          "Porto Alegre/RS",
          "Santa Maria/RS",
          "Viamão/RS",
          "Balneário Camboriú/SC",
          "Florianópolis/SC"
         ],
         "xaxis": "x",
         "y": [
          11.09,
          8.99,
          8.99,
          8.99,
          12.99,
          9.89,
          9.29,
          9.89,
          12.99,
          13.99,
          13.99
         ],
         "yaxis": "y"
        }
       ],
       "layout": {
        "height": 600,
        "hovermode": "closest",
        "legend": {
         "title": {
          "text": "Produto"
         },
         "tracegroupgap": 0
        },
        "margin": {
         "b": 150,
         "l": 50,
         "r": 50,
         "t": 100
        },
        "template": {
         "data": {
          "bar": [
           {
            "error_x": {
             "color": "#2a3f5f"
            },
            "error_y": {
             "color": "#2a3f5f"
            },
            "marker": {
             "line": {
              "color": "#E5ECF6",
              "width": 0.5
             },
             "pattern": {
              "fillmode": "overlay",
              "size": 10,
              "solidity": 0.2
             }
            },
            "type": "bar"
           }
          ],
          "barpolar": [
           {
            "marker": {
             "line": {
              "color": "#E5ECF6",
              "width": 0.5
             },
             "pattern": {
              "fillmode": "overlay",
              "size": 10,
              "solidity": 0.2
             }
            },
            "type": "barpolar"
           }
          ],
          "carpet": [
           {
            "aaxis": {
             "endlinecolor": "#2a3f5f",
             "gridcolor": "white",
             "linecolor": "white",
             "minorgridcolor": "white",
             "startlinecolor": "#2a3f5f"
            },
            "baxis": {
             "endlinecolor": "#2a3f5f",
             "gridcolor": "white",
             "linecolor": "white",
             "minorgridcolor": "white",
             "startlinecolor": "#2a3f5f"
            },
            "type": "carpet"
           }
          ],
          "choropleth": [
           {
            "colorbar": {
             "outlinewidth": 0,
             "ticks": ""
            },
            "type": "choropleth"
           }
          ],
          "contour": [
           {
            "colorbar": {
             "outlinewidth": 0,
             "ticks": ""
            },
            "colorscale": [
             [
              0,
              "#0d0887"
             ],
             [
              0.1111111111111111,
              "#46039f"
             ],
             [
              0.2222222222222222,
              "#7201a8"
             ],
             [
              0.3333333333333333,
              "#9c179e"
             ],
             [
              0.4444444444444444,
              "#bd3786"
             ],
             [
              0.5555555555555556,
              "#d8576b"
             ],
             [
              0.6666666666666666,
              "#ed7953"
             ],
             [
              0.7777777777777778,
              "#fb9f3a"
             ],
             [
              0.8888888888888888,
              "#fdca26"
             ],
             [
              1,
              "#f0f921"
             ]
            ],
            "type": "contour"
           }
          ],
          "contourcarpet": [
           {
            "colorbar": {
             "outlinewidth": 0,
             "ticks": ""
            },
            "type": "contourcarpet"
           }
          ],
          "heatmap": [
           {
            "colorbar": {
             "outlinewidth": 0,
             "ticks": ""
            },
            "colorscale": [
             [
              0,
              "#0d0887"
             ],
             [
              0.1111111111111111,
              "#46039f"
             ],
             [
              0.2222222222222222,
              "#7201a8"
             ],
             [
              0.3333333333333333,
              "#9c179e"
             ],
             [
              0.4444444444444444,
              "#bd3786"
             ],
             [
              0.5555555555555556,
              "#d8576b"
             ],
             [
              0.6666666666666666,
              "#ed7953"
             ],
             [
              0.7777777777777778,
              "#fb9f3a"
             ],
             [
              0.8888888888888888,
              "#fdca26"
             ],
             [
              1,
              "#f0f921"
             ]
            ],
            "type": "heatmap"
           }
          ],
          "heatmapgl": [
           {
            "colorbar": {
             "outlinewidth": 0,
             "ticks": ""
            },
            "colorscale": [
             [
              0,
              "#0d0887"
             ],
             [
              0.1111111111111111,
              "#46039f"
             ],
             [
              0.2222222222222222,
              "#7201a8"
             ],
             [
              0.3333333333333333,
              "#9c179e"
             ],
             [
              0.4444444444444444,
              "#bd3786"
             ],
             [
              0.5555555555555556,
              "#d8576b"
             ],
             [
              0.6666666666666666,
              "#ed7953"
             ],
             [
              0.7777777777777778,
              "#fb9f3a"
             ],
             [
              0.8888888888888888,
              "#fdca26"
             ],
             [
              1,
              "#f0f921"
             ]
            ],
            "type": "heatmapgl"
           }
          ],
          "histogram": [
           {
            "marker": {
             "pattern": {
              "fillmode": "overlay",
              "size": 10,
              "solidity": 0.2
             }
            },
            "type": "histogram"
           }
          ],
          "histogram2d": [
           {
            "colorbar": {
             "outlinewidth": 0,
             "ticks": ""
            },
            "colorscale": [
             [
              0,
              "#0d0887"
             ],
             [
              0.1111111111111111,
              "#46039f"
             ],
             [
              0.2222222222222222,
              "#7201a8"
             ],
             [
              0.3333333333333333,
              "#9c179e"
             ],
             [
              0.4444444444444444,
              "#bd3786"
             ],
             [
              0.5555555555555556,
              "#d8576b"
             ],
             [
              0.6666666666666666,
              "#ed7953"
             ],
             [
              0.7777777777777778,
              "#fb9f3a"
             ],
             [
              0.8888888888888888,
              "#fdca26"
             ],
             [
              1,
              "#f0f921"
             ]
            ],
            "type": "histogram2d"
           }
          ],
          "histogram2dcontour": [
           {
            "colorbar": {
             "outlinewidth": 0,
             "ticks": ""
            },
            "colorscale": [
             [
              0,
              "#0d0887"
             ],
             [
              0.1111111111111111,
              "#46039f"
             ],
             [
              0.2222222222222222,
              "#7201a8"
             ],
             [
              0.3333333333333333,
              "#9c179e"
             ],
             [
              0.4444444444444444,
              "#bd3786"
             ],
             [
              0.5555555555555556,
              "#d8576b"
             ],
             [
              0.6666666666666666,
              "#ed7953"
             ],
             [
              0.7777777777777778,
              "#fb9f3a"
             ],
             [
              0.8888888888888888,
              "#fdca26"
             ],
             [
              1,
              "#f0f921"
             ]
            ],
            "type": "histogram2dcontour"
           }
          ],
          "mesh3d": [
           {
            "colorbar": {
             "outlinewidth": 0,
             "ticks": ""
            },
            "type": "mesh3d"
           }
          ],
          "parcoords": [
           {
            "line": {
             "colorbar": {
              "outlinewidth": 0,
              "ticks": ""
             }
            },
            "type": "parcoords"
           }
          ],
          "pie": [
           {
            "automargin": true,
            "type": "pie"
           }
          ],
          "scatter": [
           {
            "fillpattern": {
             "fillmode": "overlay",
             "size": 10,
             "solidity": 0.2
            },
            "type": "scatter"
           }
          ],
          "scatter3d": [
           {
            "line": {
             "colorbar": {
              "outlinewidth": 0,
              "ticks": ""
             }
            },
            "marker": {
             "colorbar": {
              "outlinewidth": 0,
              "ticks": ""
             }
            },
            "type": "scatter3d"
           }
          ],
          "scattercarpet": [
           {
            "marker": {
             "colorbar": {
              "outlinewidth": 0,
              "ticks": ""
             }
            },
            "type": "scattercarpet"
           }
          ],
          "scattergeo": [
           {
            "marker": {
             "colorbar": {
              "outlinewidth": 0,
              "ticks": ""
             }
            },
            "type": "scattergeo"
           }
          ],
          "scattergl": [
           {
            "marker": {
             "colorbar": {
              "outlinewidth": 0,
              "ticks": ""
             }
            },
            "type": "scattergl"
           }
          ],
          "scattermapbox": [
           {
            "marker": {
             "colorbar": {
              "outlinewidth": 0,
              "ticks": ""
             }
            },
            "type": "scattermapbox"
           }
          ],
          "scatterpolar": [
           {
            "marker": {
             "colorbar": {
              "outlinewidth": 0,
              "ticks": ""
             }
            },
            "type": "scatterpolar"
           }
          ],
          "scatterpolargl": [
           {
            "marker": {
             "colorbar": {
              "outlinewidth": 0,
              "ticks": ""
             }
            },
            "type": "scatterpolargl"
           }
          ],
          "scatterternary": [
           {
            "marker": {
             "colorbar": {
              "outlinewidth": 0,
              "ticks": ""
             }
            },
            "type": "scatterternary"
           }
          ],
          "surface": [
           {
            "colorbar": {
             "outlinewidth": 0,
             "ticks": ""
            },
            "colorscale": [
             [
              0,
              "#0d0887"
             ],
             [
              0.1111111111111111,
              "#46039f"
             ],
             [
              0.2222222222222222,
              "#7201a8"
             ],
             [
              0.3333333333333333,
              "#9c179e"
             ],
             [
              0.4444444444444444,
              "#bd3786"
             ],
             [
              0.5555555555555556,
              "#d8576b"
             ],
             [
              0.6666666666666666,
              "#ed7953"
             ],
             [
              0.7777777777777778,
              "#fb9f3a"
             ],
             [
              0.8888888888888888,
              "#fdca26"
             ],
             [
              1,
              "#f0f921"
             ]
            ],
            "type": "surface"
           }
          ],
          "table": [
           {
            "cells": {
             "fill": {
              "color": "#EBF0F8"
             },
             "line": {
              "color": "white"
             }
            },
            "header": {
             "fill": {
              "color": "#C8D4E3"
             },
             "line": {
              "color": "white"
             }
            },
            "type": "table"
           }
          ]
         },
         "layout": {
          "annotationdefaults": {
           "arrowcolor": "#2a3f5f",
           "arrowhead": 0,
           "arrowwidth": 1
          },
          "autotypenumbers": "strict",
          "coloraxis": {
           "colorbar": {
            "outlinewidth": 0,
            "ticks": ""
           }
          },
          "colorscale": {
           "diverging": [
            [
             0,
             "#8e0152"
            ],
            [
             0.1,
             "#c51b7d"
            ],
            [
             0.2,
             "#de77ae"
            ],
            [
             0.3,
             "#f1b6da"
            ],
            [
             0.4,
             "#fde0ef"
            ],
            [
             0.5,
             "#f7f7f7"
            ],
            [
             0.6,
             "#e6f5d0"
            ],
            [
             0.7,
             "#b8e186"
            ],
            [
             0.8,
             "#7fbc41"
            ],
            [
             0.9,
             "#4d9221"
            ],
            [
             1,
             "#276419"
            ]
           ],
           "sequential": [
            [
             0,
             "#0d0887"
            ],
            [
             0.1111111111111111,
             "#46039f"
            ],
            [
             0.2222222222222222,
             "#7201a8"
            ],
            [
             0.3333333333333333,
             "#9c179e"
            ],
            [
             0.4444444444444444,
             "#bd3786"
            ],
            [
             0.5555555555555556,
             "#d8576b"
            ],
            [
             0.6666666666666666,
             "#ed7953"
            ],
            [
             0.7777777777777778,
             "#fb9f3a"
            ],
            [
             0.8888888888888888,
             "#fdca26"
            ],
            [
             1,
             "#f0f921"
            ]
           ],
           "sequentialminus": [
            [
             0,
             "#0d0887"
            ],
            [
             0.1111111111111111,
             "#46039f"
            ],
            [
             0.2222222222222222,
             "#7201a8"
            ],
            [
             0.3333333333333333,
             "#9c179e"
            ],
            [
             0.4444444444444444,
             "#bd3786"
            ],
            [
             0.5555555555555556,
             "#d8576b"
            ],
            [
             0.6666666666666666,
             "#ed7953"
            ],
            [
             0.7777777777777778,
             "#fb9f3a"
            ],
            [
             0.8888888888888888,
             "#fdca26"
            ],
            [
             1,
             "#f0f921"
            ]
           ]
          },
          "colorway": [
           "#636efa",
           "#EF553B",
           "#00cc96",
           "#ab63fa",
           "#FFA15A",
           "#19d3f3",
           "#FF6692",
           "#B6E880",
           "#FF97FF",
           "#FECB52"
          ],
          "font": {
           "color": "#2a3f5f"
          },
          "geo": {
           "bgcolor": "white",
           "lakecolor": "white",
           "landcolor": "#E5ECF6",
           "showlakes": true,
           "showland": true,
           "subunitcolor": "white"
          },
          "hoverlabel": {
           "align": "left"
          },
          "hovermode": "closest",
          "mapbox": {
           "style": "light"
          },
          "paper_bgcolor": "white",
          "plot_bgcolor": "#E5ECF6",
          "polar": {
           "angularaxis": {
            "gridcolor": "white",
            "linecolor": "white",
            "ticks": ""
           },
           "bgcolor": "#E5ECF6",
           "radialaxis": {
            "gridcolor": "white",
            "linecolor": "white",
            "ticks": ""
           }
          },
          "scene": {
           "xaxis": {
            "backgroundcolor": "#E5ECF6",
            "gridcolor": "white",
            "gridwidth": 2,
            "linecolor": "white",
            "showbackground": true,
            "ticks": "",
            "zerolinecolor": "white"
           },
           "yaxis": {
            "backgroundcolor": "#E5ECF6",
            "gridcolor": "white",
            "gridwidth": 2,
            "linecolor": "white",
            "showbackground": true,
            "ticks": "",
            "zerolinecolor": "white"
           },
           "zaxis": {
            "backgroundcolor": "#E5ECF6",
            "gridcolor": "white",
            "gridwidth": 2,
            "linecolor": "white",
            "showbackground": true,
            "ticks": "",
            "zerolinecolor": "white"
           }
          },
          "shapedefaults": {
           "line": {
            "color": "#2a3f5f"
           }
          },
          "ternary": {
           "aaxis": {
            "gridcolor": "white",
            "linecolor": "white",
            "ticks": ""
           },
           "baxis": {
            "gridcolor": "white",
            "linecolor": "white",
            "ticks": ""
           },
           "bgcolor": "#E5ECF6",
           "caxis": {
            "gridcolor": "white",
            "linecolor": "white",
            "ticks": ""
           }
          },
          "title": {
           "x": 0.05
          },
          "xaxis": {
           "automargin": true,
           "gridcolor": "white",
           "linecolor": "white",
           "ticks": "",
           "title": {
            "standoff": 15
           },
           "zerolinecolor": "white",
           "zerolinewidth": 2
          },
          "yaxis": {
           "automargin": true,
           "gridcolor": "white",
           "linecolor": "white",
           "ticks": "",
           "title": {
            "standoff": 15
           },
           "zerolinecolor": "white",
           "zerolinewidth": 2
          }
         }
        },
        "title": {
         "text": "Preços de Produtos - Região Sul"
        },
        "width": 900,
        "xaxis": {
         "anchor": "y",
         "domain": [
          0,
          1
         ],
         "tickangle": 45,
         "title": {
          "text": "Cidade/UF"
         }
        },
        "yaxis": {
         "anchor": "x",
         "domain": [
          0,
          1
         ],
         "title": {
          "text": "Preço (R$)"
         }
        }
       }
      }
     },
     "metadata": {},
     "output_type": "display_data"
    }
   ],
   "source": [
    "regioes = df['regiao'].unique()\n",
    "\n",
    "for regiao in regioes:\n",
    "    df_reg = df[df['regiao'] == regiao]\n",
    "    fig = px.scatter(df_reg,\n",
    "                     x='cidade/UF',\n",
    "                     y='preco',\n",
    "                     color='produto',\n",
    "                     title=f'Preços de Produtos - Região {regiao}',\n",
    "                     labels={'preco': 'Preço (R$)', 'cidade/UF': 'Cidade/UF'},\n",
    "                     height=600,\n",
    "                     width=900)\n",
    "    \n",
    "    fig.update_layout(\n",
    "        hovermode='closest',\n",
    "        xaxis_title='Cidade/UF',\n",
    "        yaxis_title='Preço (R$)',\n",
    "        legend_title='Produto',\n",
    "        margin=dict(l=50, r=50, b=150, t=100)\n",
    "    )\n",
    "    fig.update_xaxes(tickangle=45)\n",
    "    fig.show()\n"
   ]
  },
  {
   "cell_type": "code",
   "execution_count": 48,
   "id": "6c6ffeed",
   "metadata": {},
   "outputs": [
    {
     "data": {
      "text/plain": [
       "array(['Kani Congelado Frescatto 200g', 'Kani Congelado Costa Sul 200g',\n",
       "       'Kani Congelado Damm 250g',\n",
       "       'Hossomaki Philadelphia Kani Kama 160 g'], dtype=object)"
      ]
     },
     "execution_count": 48,
     "metadata": {},
     "output_type": "execute_result"
    }
   ],
   "source": [
    "df['produto'].unique()"
   ]
  },
  {
   "cell_type": "code",
   "execution_count": 57,
   "id": "507731e0",
   "metadata": {},
   "outputs": [],
   "source": [
    "# Dicionário de cores fixas\n",
    "cores_produtos = {\n",
    "    'Kani Congelado Frescatto 200g': 'blue',\n",
    "    'Kani Congelado Costa Sul 200g': 'red',\n",
    "    'Kani Congelado Damm 250g': 'orange',\n",
    "    'Hossomaki Philadelphia Kani Kama 160 g': 'green'\n",
    "}\n"
   ]
  },
  {
   "cell_type": "code",
   "execution_count": 58,
   "id": "2fd2cba8",
   "metadata": {},
   "outputs": [
    {
     "data": {
      "application/vnd.plotly.v1+json": {
       "config": {
        "plotlyServerURL": "https://plot.ly"
       },
       "data": [
        {
         "hovertemplate": "produto=Kani Congelado Frescatto 200g<br>Cidade/UF=%{x}<br>Preço (R$)=%{y}<extra></extra>",
         "legendgroup": "Kani Congelado Frescatto 200g",
         "marker": {
          "color": "blue",
          "symbol": "circle"
         },
         "mode": "markers",
         "name": "Kani Congelado Frescatto 200g",
         "orientation": "v",
         "showlegend": true,
         "type": "scatter",
         "x": [
          "Maceió/AL",
          "Itabuna/BA",
          "Campina Grande/PB",
          "João Pessoa/PB",
          "Jaboatão dos Guararapes/PE",
          "Petrolina/PE",
          "Recife/PE",
          "Mossoró/RN",
          "Natal/RN"
         ],
         "xaxis": "x",
         "y": [
          13.39,
          12.99,
          12.99,
          12.99,
          12.99,
          12.99,
          12.99,
          12.99,
          12.99
         ],
         "yaxis": "y"
        }
       ],
       "layout": {
        "height": 600,
        "hovermode": "closest",
        "legend": {
         "title": {
          "text": "Produto"
         },
         "tracegroupgap": 0
        },
        "margin": {
         "b": 150,
         "l": 50,
         "r": 50,
         "t": 100
        },
        "template": {
         "data": {
          "bar": [
           {
            "error_x": {
             "color": "#2a3f5f"
            },
            "error_y": {
             "color": "#2a3f5f"
            },
            "marker": {
             "line": {
              "color": "#E5ECF6",
              "width": 0.5
             },
             "pattern": {
              "fillmode": "overlay",
              "size": 10,
              "solidity": 0.2
             }
            },
            "type": "bar"
           }
          ],
          "barpolar": [
           {
            "marker": {
             "line": {
              "color": "#E5ECF6",
              "width": 0.5
             },
             "pattern": {
              "fillmode": "overlay",
              "size": 10,
              "solidity": 0.2
             }
            },
            "type": "barpolar"
           }
          ],
          "carpet": [
           {
            "aaxis": {
             "endlinecolor": "#2a3f5f",
             "gridcolor": "white",
             "linecolor": "white",
             "minorgridcolor": "white",
             "startlinecolor": "#2a3f5f"
            },
            "baxis": {
             "endlinecolor": "#2a3f5f",
             "gridcolor": "white",
             "linecolor": "white",
             "minorgridcolor": "white",
             "startlinecolor": "#2a3f5f"
            },
            "type": "carpet"
           }
          ],
          "choropleth": [
           {
            "colorbar": {
             "outlinewidth": 0,
             "ticks": ""
            },
            "type": "choropleth"
           }
          ],
          "contour": [
           {
            "colorbar": {
             "outlinewidth": 0,
             "ticks": ""
            },
            "colorscale": [
             [
              0,
              "#0d0887"
             ],
             [
              0.1111111111111111,
              "#46039f"
             ],
             [
              0.2222222222222222,
              "#7201a8"
             ],
             [
              0.3333333333333333,
              "#9c179e"
             ],
             [
              0.4444444444444444,
              "#bd3786"
             ],
             [
              0.5555555555555556,
              "#d8576b"
             ],
             [
              0.6666666666666666,
              "#ed7953"
             ],
             [
              0.7777777777777778,
              "#fb9f3a"
             ],
             [
              0.8888888888888888,
              "#fdca26"
             ],
             [
              1,
              "#f0f921"
             ]
            ],
            "type": "contour"
           }
          ],
          "contourcarpet": [
           {
            "colorbar": {
             "outlinewidth": 0,
             "ticks": ""
            },
            "type": "contourcarpet"
           }
          ],
          "heatmap": [
           {
            "colorbar": {
             "outlinewidth": 0,
             "ticks": ""
            },
            "colorscale": [
             [
              0,
              "#0d0887"
             ],
             [
              0.1111111111111111,
              "#46039f"
             ],
             [
              0.2222222222222222,
              "#7201a8"
             ],
             [
              0.3333333333333333,
              "#9c179e"
             ],
             [
              0.4444444444444444,
              "#bd3786"
             ],
             [
              0.5555555555555556,
              "#d8576b"
             ],
             [
              0.6666666666666666,
              "#ed7953"
             ],
             [
              0.7777777777777778,
              "#fb9f3a"
             ],
             [
              0.8888888888888888,
              "#fdca26"
             ],
             [
              1,
              "#f0f921"
             ]
            ],
            "type": "heatmap"
           }
          ],
          "heatmapgl": [
           {
            "colorbar": {
             "outlinewidth": 0,
             "ticks": ""
            },
            "colorscale": [
             [
              0,
              "#0d0887"
             ],
             [
              0.1111111111111111,
              "#46039f"
             ],
             [
              0.2222222222222222,
              "#7201a8"
             ],
             [
              0.3333333333333333,
              "#9c179e"
             ],
             [
              0.4444444444444444,
              "#bd3786"
             ],
             [
              0.5555555555555556,
              "#d8576b"
             ],
             [
              0.6666666666666666,
              "#ed7953"
             ],
             [
              0.7777777777777778,
              "#fb9f3a"
             ],
             [
              0.8888888888888888,
              "#fdca26"
             ],
             [
              1,
              "#f0f921"
             ]
            ],
            "type": "heatmapgl"
           }
          ],
          "histogram": [
           {
            "marker": {
             "pattern": {
              "fillmode": "overlay",
              "size": 10,
              "solidity": 0.2
             }
            },
            "type": "histogram"
           }
          ],
          "histogram2d": [
           {
            "colorbar": {
             "outlinewidth": 0,
             "ticks": ""
            },
            "colorscale": [
             [
              0,
              "#0d0887"
             ],
             [
              0.1111111111111111,
              "#46039f"
             ],
             [
              0.2222222222222222,
              "#7201a8"
             ],
             [
              0.3333333333333333,
              "#9c179e"
             ],
             [
              0.4444444444444444,
              "#bd3786"
             ],
             [
              0.5555555555555556,
              "#d8576b"
             ],
             [
              0.6666666666666666,
              "#ed7953"
             ],
             [
              0.7777777777777778,
              "#fb9f3a"
             ],
             [
              0.8888888888888888,
              "#fdca26"
             ],
             [
              1,
              "#f0f921"
             ]
            ],
            "type": "histogram2d"
           }
          ],
          "histogram2dcontour": [
           {
            "colorbar": {
             "outlinewidth": 0,
             "ticks": ""
            },
            "colorscale": [
             [
              0,
              "#0d0887"
             ],
             [
              0.1111111111111111,
              "#46039f"
             ],
             [
              0.2222222222222222,
              "#7201a8"
             ],
             [
              0.3333333333333333,
              "#9c179e"
             ],
             [
              0.4444444444444444,
              "#bd3786"
             ],
             [
              0.5555555555555556,
              "#d8576b"
             ],
             [
              0.6666666666666666,
              "#ed7953"
             ],
             [
              0.7777777777777778,
              "#fb9f3a"
             ],
             [
              0.8888888888888888,
              "#fdca26"
             ],
             [
              1,
              "#f0f921"
             ]
            ],
            "type": "histogram2dcontour"
           }
          ],
          "mesh3d": [
           {
            "colorbar": {
             "outlinewidth": 0,
             "ticks": ""
            },
            "type": "mesh3d"
           }
          ],
          "parcoords": [
           {
            "line": {
             "colorbar": {
              "outlinewidth": 0,
              "ticks": ""
             }
            },
            "type": "parcoords"
           }
          ],
          "pie": [
           {
            "automargin": true,
            "type": "pie"
           }
          ],
          "scatter": [
           {
            "fillpattern": {
             "fillmode": "overlay",
             "size": 10,
             "solidity": 0.2
            },
            "type": "scatter"
           }
          ],
          "scatter3d": [
           {
            "line": {
             "colorbar": {
              "outlinewidth": 0,
              "ticks": ""
             }
            },
            "marker": {
             "colorbar": {
              "outlinewidth": 0,
              "ticks": ""
             }
            },
            "type": "scatter3d"
           }
          ],
          "scattercarpet": [
           {
            "marker": {
             "colorbar": {
              "outlinewidth": 0,
              "ticks": ""
             }
            },
            "type": "scattercarpet"
           }
          ],
          "scattergeo": [
           {
            "marker": {
             "colorbar": {
              "outlinewidth": 0,
              "ticks": ""
             }
            },
            "type": "scattergeo"
           }
          ],
          "scattergl": [
           {
            "marker": {
             "colorbar": {
              "outlinewidth": 0,
              "ticks": ""
             }
            },
            "type": "scattergl"
           }
          ],
          "scattermapbox": [
           {
            "marker": {
             "colorbar": {
              "outlinewidth": 0,
              "ticks": ""
             }
            },
            "type": "scattermapbox"
           }
          ],
          "scatterpolar": [
           {
            "marker": {
             "colorbar": {
              "outlinewidth": 0,
              "ticks": ""
             }
            },
            "type": "scatterpolar"
           }
          ],
          "scatterpolargl": [
           {
            "marker": {
             "colorbar": {
              "outlinewidth": 0,
              "ticks": ""
             }
            },
            "type": "scatterpolargl"
           }
          ],
          "scatterternary": [
           {
            "marker": {
             "colorbar": {
              "outlinewidth": 0,
              "ticks": ""
             }
            },
            "type": "scatterternary"
           }
          ],
          "surface": [
           {
            "colorbar": {
             "outlinewidth": 0,
             "ticks": ""
            },
            "colorscale": [
             [
              0,
              "#0d0887"
             ],
             [
              0.1111111111111111,
              "#46039f"
             ],
             [
              0.2222222222222222,
              "#7201a8"
             ],
             [
              0.3333333333333333,
              "#9c179e"
             ],
             [
              0.4444444444444444,
              "#bd3786"
             ],
             [
              0.5555555555555556,
              "#d8576b"
             ],
             [
              0.6666666666666666,
              "#ed7953"
             ],
             [
              0.7777777777777778,
              "#fb9f3a"
             ],
             [
              0.8888888888888888,
              "#fdca26"
             ],
             [
              1,
              "#f0f921"
             ]
            ],
            "type": "surface"
           }
          ],
          "table": [
           {
            "cells": {
             "fill": {
              "color": "#EBF0F8"
             },
             "line": {
              "color": "white"
             }
            },
            "header": {
             "fill": {
              "color": "#C8D4E3"
             },
             "line": {
              "color": "white"
             }
            },
            "type": "table"
           }
          ]
         },
         "layout": {
          "annotationdefaults": {
           "arrowcolor": "#2a3f5f",
           "arrowhead": 0,
           "arrowwidth": 1
          },
          "autotypenumbers": "strict",
          "coloraxis": {
           "colorbar": {
            "outlinewidth": 0,
            "ticks": ""
           }
          },
          "colorscale": {
           "diverging": [
            [
             0,
             "#8e0152"
            ],
            [
             0.1,
             "#c51b7d"
            ],
            [
             0.2,
             "#de77ae"
            ],
            [
             0.3,
             "#f1b6da"
            ],
            [
             0.4,
             "#fde0ef"
            ],
            [
             0.5,
             "#f7f7f7"
            ],
            [
             0.6,
             "#e6f5d0"
            ],
            [
             0.7,
             "#b8e186"
            ],
            [
             0.8,
             "#7fbc41"
            ],
            [
             0.9,
             "#4d9221"
            ],
            [
             1,
             "#276419"
            ]
           ],
           "sequential": [
            [
             0,
             "#0d0887"
            ],
            [
             0.1111111111111111,
             "#46039f"
            ],
            [
             0.2222222222222222,
             "#7201a8"
            ],
            [
             0.3333333333333333,
             "#9c179e"
            ],
            [
             0.4444444444444444,
             "#bd3786"
            ],
            [
             0.5555555555555556,
             "#d8576b"
            ],
            [
             0.6666666666666666,
             "#ed7953"
            ],
            [
             0.7777777777777778,
             "#fb9f3a"
            ],
            [
             0.8888888888888888,
             "#fdca26"
            ],
            [
             1,
             "#f0f921"
            ]
           ],
           "sequentialminus": [
            [
             0,
             "#0d0887"
            ],
            [
             0.1111111111111111,
             "#46039f"
            ],
            [
             0.2222222222222222,
             "#7201a8"
            ],
            [
             0.3333333333333333,
             "#9c179e"
            ],
            [
             0.4444444444444444,
             "#bd3786"
            ],
            [
             0.5555555555555556,
             "#d8576b"
            ],
            [
             0.6666666666666666,
             "#ed7953"
            ],
            [
             0.7777777777777778,
             "#fb9f3a"
            ],
            [
             0.8888888888888888,
             "#fdca26"
            ],
            [
             1,
             "#f0f921"
            ]
           ]
          },
          "colorway": [
           "#636efa",
           "#EF553B",
           "#00cc96",
           "#ab63fa",
           "#FFA15A",
           "#19d3f3",
           "#FF6692",
           "#B6E880",
           "#FF97FF",
           "#FECB52"
          ],
          "font": {
           "color": "#2a3f5f"
          },
          "geo": {
           "bgcolor": "white",
           "lakecolor": "white",
           "landcolor": "#E5ECF6",
           "showlakes": true,
           "showland": true,
           "subunitcolor": "white"
          },
          "hoverlabel": {
           "align": "left"
          },
          "hovermode": "closest",
          "mapbox": {
           "style": "light"
          },
          "paper_bgcolor": "white",
          "plot_bgcolor": "#E5ECF6",
          "polar": {
           "angularaxis": {
            "gridcolor": "white",
            "linecolor": "white",
            "ticks": ""
           },
           "bgcolor": "#E5ECF6",
           "radialaxis": {
            "gridcolor": "white",
            "linecolor": "white",
            "ticks": ""
           }
          },
          "scene": {
           "xaxis": {
            "backgroundcolor": "#E5ECF6",
            "gridcolor": "white",
            "gridwidth": 2,
            "linecolor": "white",
            "showbackground": true,
            "ticks": "",
            "zerolinecolor": "white"
           },
           "yaxis": {
            "backgroundcolor": "#E5ECF6",
            "gridcolor": "white",
            "gridwidth": 2,
            "linecolor": "white",
            "showbackground": true,
            "ticks": "",
            "zerolinecolor": "white"
           },
           "zaxis": {
            "backgroundcolor": "#E5ECF6",
            "gridcolor": "white",
            "gridwidth": 2,
            "linecolor": "white",
            "showbackground": true,
            "ticks": "",
            "zerolinecolor": "white"
           }
          },
          "shapedefaults": {
           "line": {
            "color": "#2a3f5f"
           }
          },
          "ternary": {
           "aaxis": {
            "gridcolor": "white",
            "linecolor": "white",
            "ticks": ""
           },
           "baxis": {
            "gridcolor": "white",
            "linecolor": "white",
            "ticks": ""
           },
           "bgcolor": "#E5ECF6",
           "caxis": {
            "gridcolor": "white",
            "linecolor": "white",
            "ticks": ""
           }
          },
          "title": {
           "x": 0.05
          },
          "xaxis": {
           "automargin": true,
           "gridcolor": "white",
           "linecolor": "white",
           "ticks": "",
           "title": {
            "standoff": 15
           },
           "zerolinecolor": "white",
           "zerolinewidth": 2
          },
          "yaxis": {
           "automargin": true,
           "gridcolor": "white",
           "linecolor": "white",
           "ticks": "",
           "title": {
            "standoff": 15
           },
           "zerolinecolor": "white",
           "zerolinewidth": 2
          }
         }
        },
        "title": {
         "text": "Preços de Produtos - Região Nordeste"
        },
        "width": 900,
        "xaxis": {
         "anchor": "y",
         "domain": [
          0,
          1
         ],
         "tickangle": 45,
         "title": {
          "text": "Cidade/UF"
         }
        },
        "yaxis": {
         "anchor": "x",
         "domain": [
          0,
          1
         ],
         "title": {
          "text": "Preço (R$)"
         }
        }
       }
      }
     },
     "metadata": {},
     "output_type": "display_data"
    },
    {
     "data": {
      "application/vnd.plotly.v1+json": {
       "config": {
        "plotlyServerURL": "https://plot.ly"
       },
       "data": [
        {
         "hovertemplate": "produto=Kani Congelado Frescatto 200g<br>Cidade/UF=%{x}<br>Preço (R$)=%{y}<extra></extra>",
         "legendgroup": "Kani Congelado Frescatto 200g",
         "marker": {
          "color": "blue",
          "symbol": "circle"
         },
         "mode": "markers",
         "name": "Kani Congelado Frescatto 200g",
         "orientation": "v",
         "showlegend": true,
         "type": "scatter",
         "x": [
          "Brasília/DF",
          "Taguatinga/DF",
          "Anapolis/GO",
          "Goiania/GO",
          "Campo Grande/MS"
         ],
         "xaxis": "x",
         "y": [
          12.59,
          12.19,
          11.39,
          11.39,
          12.45
         ],
         "yaxis": "y"
        },
        {
         "hovertemplate": "produto=Kani Congelado Costa Sul 200g<br>Cidade/UF=%{x}<br>Preço (R$)=%{y}<extra></extra>",
         "legendgroup": "Kani Congelado Costa Sul 200g",
         "marker": {
          "color": "red",
          "symbol": "circle"
         },
         "mode": "markers",
         "name": "Kani Congelado Costa Sul 200g",
         "orientation": "v",
         "showlegend": true,
         "type": "scatter",
         "x": [
          "Campo Grande/MS"
         ],
         "xaxis": "x",
         "y": [
          14.25
         ],
         "yaxis": "y"
        }
       ],
       "layout": {
        "height": 600,
        "hovermode": "closest",
        "legend": {
         "title": {
          "text": "Produto"
         },
         "tracegroupgap": 0
        },
        "margin": {
         "b": 150,
         "l": 50,
         "r": 50,
         "t": 100
        },
        "template": {
         "data": {
          "bar": [
           {
            "error_x": {
             "color": "#2a3f5f"
            },
            "error_y": {
             "color": "#2a3f5f"
            },
            "marker": {
             "line": {
              "color": "#E5ECF6",
              "width": 0.5
             },
             "pattern": {
              "fillmode": "overlay",
              "size": 10,
              "solidity": 0.2
             }
            },
            "type": "bar"
           }
          ],
          "barpolar": [
           {
            "marker": {
             "line": {
              "color": "#E5ECF6",
              "width": 0.5
             },
             "pattern": {
              "fillmode": "overlay",
              "size": 10,
              "solidity": 0.2
             }
            },
            "type": "barpolar"
           }
          ],
          "carpet": [
           {
            "aaxis": {
             "endlinecolor": "#2a3f5f",
             "gridcolor": "white",
             "linecolor": "white",
             "minorgridcolor": "white",
             "startlinecolor": "#2a3f5f"
            },
            "baxis": {
             "endlinecolor": "#2a3f5f",
             "gridcolor": "white",
             "linecolor": "white",
             "minorgridcolor": "white",
             "startlinecolor": "#2a3f5f"
            },
            "type": "carpet"
           }
          ],
          "choropleth": [
           {
            "colorbar": {
             "outlinewidth": 0,
             "ticks": ""
            },
            "type": "choropleth"
           }
          ],
          "contour": [
           {
            "colorbar": {
             "outlinewidth": 0,
             "ticks": ""
            },
            "colorscale": [
             [
              0,
              "#0d0887"
             ],
             [
              0.1111111111111111,
              "#46039f"
             ],
             [
              0.2222222222222222,
              "#7201a8"
             ],
             [
              0.3333333333333333,
              "#9c179e"
             ],
             [
              0.4444444444444444,
              "#bd3786"
             ],
             [
              0.5555555555555556,
              "#d8576b"
             ],
             [
              0.6666666666666666,
              "#ed7953"
             ],
             [
              0.7777777777777778,
              "#fb9f3a"
             ],
             [
              0.8888888888888888,
              "#fdca26"
             ],
             [
              1,
              "#f0f921"
             ]
            ],
            "type": "contour"
           }
          ],
          "contourcarpet": [
           {
            "colorbar": {
             "outlinewidth": 0,
             "ticks": ""
            },
            "type": "contourcarpet"
           }
          ],
          "heatmap": [
           {
            "colorbar": {
             "outlinewidth": 0,
             "ticks": ""
            },
            "colorscale": [
             [
              0,
              "#0d0887"
             ],
             [
              0.1111111111111111,
              "#46039f"
             ],
             [
              0.2222222222222222,
              "#7201a8"
             ],
             [
              0.3333333333333333,
              "#9c179e"
             ],
             [
              0.4444444444444444,
              "#bd3786"
             ],
             [
              0.5555555555555556,
              "#d8576b"
             ],
             [
              0.6666666666666666,
              "#ed7953"
             ],
             [
              0.7777777777777778,
              "#fb9f3a"
             ],
             [
              0.8888888888888888,
              "#fdca26"
             ],
             [
              1,
              "#f0f921"
             ]
            ],
            "type": "heatmap"
           }
          ],
          "heatmapgl": [
           {
            "colorbar": {
             "outlinewidth": 0,
             "ticks": ""
            },
            "colorscale": [
             [
              0,
              "#0d0887"
             ],
             [
              0.1111111111111111,
              "#46039f"
             ],
             [
              0.2222222222222222,
              "#7201a8"
             ],
             [
              0.3333333333333333,
              "#9c179e"
             ],
             [
              0.4444444444444444,
              "#bd3786"
             ],
             [
              0.5555555555555556,
              "#d8576b"
             ],
             [
              0.6666666666666666,
              "#ed7953"
             ],
             [
              0.7777777777777778,
              "#fb9f3a"
             ],
             [
              0.8888888888888888,
              "#fdca26"
             ],
             [
              1,
              "#f0f921"
             ]
            ],
            "type": "heatmapgl"
           }
          ],
          "histogram": [
           {
            "marker": {
             "pattern": {
              "fillmode": "overlay",
              "size": 10,
              "solidity": 0.2
             }
            },
            "type": "histogram"
           }
          ],
          "histogram2d": [
           {
            "colorbar": {
             "outlinewidth": 0,
             "ticks": ""
            },
            "colorscale": [
             [
              0,
              "#0d0887"
             ],
             [
              0.1111111111111111,
              "#46039f"
             ],
             [
              0.2222222222222222,
              "#7201a8"
             ],
             [
              0.3333333333333333,
              "#9c179e"
             ],
             [
              0.4444444444444444,
              "#bd3786"
             ],
             [
              0.5555555555555556,
              "#d8576b"
             ],
             [
              0.6666666666666666,
              "#ed7953"
             ],
             [
              0.7777777777777778,
              "#fb9f3a"
             ],
             [
              0.8888888888888888,
              "#fdca26"
             ],
             [
              1,
              "#f0f921"
             ]
            ],
            "type": "histogram2d"
           }
          ],
          "histogram2dcontour": [
           {
            "colorbar": {
             "outlinewidth": 0,
             "ticks": ""
            },
            "colorscale": [
             [
              0,
              "#0d0887"
             ],
             [
              0.1111111111111111,
              "#46039f"
             ],
             [
              0.2222222222222222,
              "#7201a8"
             ],
             [
              0.3333333333333333,
              "#9c179e"
             ],
             [
              0.4444444444444444,
              "#bd3786"
             ],
             [
              0.5555555555555556,
              "#d8576b"
             ],
             [
              0.6666666666666666,
              "#ed7953"
             ],
             [
              0.7777777777777778,
              "#fb9f3a"
             ],
             [
              0.8888888888888888,
              "#fdca26"
             ],
             [
              1,
              "#f0f921"
             ]
            ],
            "type": "histogram2dcontour"
           }
          ],
          "mesh3d": [
           {
            "colorbar": {
             "outlinewidth": 0,
             "ticks": ""
            },
            "type": "mesh3d"
           }
          ],
          "parcoords": [
           {
            "line": {
             "colorbar": {
              "outlinewidth": 0,
              "ticks": ""
             }
            },
            "type": "parcoords"
           }
          ],
          "pie": [
           {
            "automargin": true,
            "type": "pie"
           }
          ],
          "scatter": [
           {
            "fillpattern": {
             "fillmode": "overlay",
             "size": 10,
             "solidity": 0.2
            },
            "type": "scatter"
           }
          ],
          "scatter3d": [
           {
            "line": {
             "colorbar": {
              "outlinewidth": 0,
              "ticks": ""
             }
            },
            "marker": {
             "colorbar": {
              "outlinewidth": 0,
              "ticks": ""
             }
            },
            "type": "scatter3d"
           }
          ],
          "scattercarpet": [
           {
            "marker": {
             "colorbar": {
              "outlinewidth": 0,
              "ticks": ""
             }
            },
            "type": "scattercarpet"
           }
          ],
          "scattergeo": [
           {
            "marker": {
             "colorbar": {
              "outlinewidth": 0,
              "ticks": ""
             }
            },
            "type": "scattergeo"
           }
          ],
          "scattergl": [
           {
            "marker": {
             "colorbar": {
              "outlinewidth": 0,
              "ticks": ""
             }
            },
            "type": "scattergl"
           }
          ],
          "scattermapbox": [
           {
            "marker": {
             "colorbar": {
              "outlinewidth": 0,
              "ticks": ""
             }
            },
            "type": "scattermapbox"
           }
          ],
          "scatterpolar": [
           {
            "marker": {
             "colorbar": {
              "outlinewidth": 0,
              "ticks": ""
             }
            },
            "type": "scatterpolar"
           }
          ],
          "scatterpolargl": [
           {
            "marker": {
             "colorbar": {
              "outlinewidth": 0,
              "ticks": ""
             }
            },
            "type": "scatterpolargl"
           }
          ],
          "scatterternary": [
           {
            "marker": {
             "colorbar": {
              "outlinewidth": 0,
              "ticks": ""
             }
            },
            "type": "scatterternary"
           }
          ],
          "surface": [
           {
            "colorbar": {
             "outlinewidth": 0,
             "ticks": ""
            },
            "colorscale": [
             [
              0,
              "#0d0887"
             ],
             [
              0.1111111111111111,
              "#46039f"
             ],
             [
              0.2222222222222222,
              "#7201a8"
             ],
             [
              0.3333333333333333,
              "#9c179e"
             ],
             [
              0.4444444444444444,
              "#bd3786"
             ],
             [
              0.5555555555555556,
              "#d8576b"
             ],
             [
              0.6666666666666666,
              "#ed7953"
             ],
             [
              0.7777777777777778,
              "#fb9f3a"
             ],
             [
              0.8888888888888888,
              "#fdca26"
             ],
             [
              1,
              "#f0f921"
             ]
            ],
            "type": "surface"
           }
          ],
          "table": [
           {
            "cells": {
             "fill": {
              "color": "#EBF0F8"
             },
             "line": {
              "color": "white"
             }
            },
            "header": {
             "fill": {
              "color": "#C8D4E3"
             },
             "line": {
              "color": "white"
             }
            },
            "type": "table"
           }
          ]
         },
         "layout": {
          "annotationdefaults": {
           "arrowcolor": "#2a3f5f",
           "arrowhead": 0,
           "arrowwidth": 1
          },
          "autotypenumbers": "strict",
          "coloraxis": {
           "colorbar": {
            "outlinewidth": 0,
            "ticks": ""
           }
          },
          "colorscale": {
           "diverging": [
            [
             0,
             "#8e0152"
            ],
            [
             0.1,
             "#c51b7d"
            ],
            [
             0.2,
             "#de77ae"
            ],
            [
             0.3,
             "#f1b6da"
            ],
            [
             0.4,
             "#fde0ef"
            ],
            [
             0.5,
             "#f7f7f7"
            ],
            [
             0.6,
             "#e6f5d0"
            ],
            [
             0.7,
             "#b8e186"
            ],
            [
             0.8,
             "#7fbc41"
            ],
            [
             0.9,
             "#4d9221"
            ],
            [
             1,
             "#276419"
            ]
           ],
           "sequential": [
            [
             0,
             "#0d0887"
            ],
            [
             0.1111111111111111,
             "#46039f"
            ],
            [
             0.2222222222222222,
             "#7201a8"
            ],
            [
             0.3333333333333333,
             "#9c179e"
            ],
            [
             0.4444444444444444,
             "#bd3786"
            ],
            [
             0.5555555555555556,
             "#d8576b"
            ],
            [
             0.6666666666666666,
             "#ed7953"
            ],
            [
             0.7777777777777778,
             "#fb9f3a"
            ],
            [
             0.8888888888888888,
             "#fdca26"
            ],
            [
             1,
             "#f0f921"
            ]
           ],
           "sequentialminus": [
            [
             0,
             "#0d0887"
            ],
            [
             0.1111111111111111,
             "#46039f"
            ],
            [
             0.2222222222222222,
             "#7201a8"
            ],
            [
             0.3333333333333333,
             "#9c179e"
            ],
            [
             0.4444444444444444,
             "#bd3786"
            ],
            [
             0.5555555555555556,
             "#d8576b"
            ],
            [
             0.6666666666666666,
             "#ed7953"
            ],
            [
             0.7777777777777778,
             "#fb9f3a"
            ],
            [
             0.8888888888888888,
             "#fdca26"
            ],
            [
             1,
             "#f0f921"
            ]
           ]
          },
          "colorway": [
           "#636efa",
           "#EF553B",
           "#00cc96",
           "#ab63fa",
           "#FFA15A",
           "#19d3f3",
           "#FF6692",
           "#B6E880",
           "#FF97FF",
           "#FECB52"
          ],
          "font": {
           "color": "#2a3f5f"
          },
          "geo": {
           "bgcolor": "white",
           "lakecolor": "white",
           "landcolor": "#E5ECF6",
           "showlakes": true,
           "showland": true,
           "subunitcolor": "white"
          },
          "hoverlabel": {
           "align": "left"
          },
          "hovermode": "closest",
          "mapbox": {
           "style": "light"
          },
          "paper_bgcolor": "white",
          "plot_bgcolor": "#E5ECF6",
          "polar": {
           "angularaxis": {
            "gridcolor": "white",
            "linecolor": "white",
            "ticks": ""
           },
           "bgcolor": "#E5ECF6",
           "radialaxis": {
            "gridcolor": "white",
            "linecolor": "white",
            "ticks": ""
           }
          },
          "scene": {
           "xaxis": {
            "backgroundcolor": "#E5ECF6",
            "gridcolor": "white",
            "gridwidth": 2,
            "linecolor": "white",
            "showbackground": true,
            "ticks": "",
            "zerolinecolor": "white"
           },
           "yaxis": {
            "backgroundcolor": "#E5ECF6",
            "gridcolor": "white",
            "gridwidth": 2,
            "linecolor": "white",
            "showbackground": true,
            "ticks": "",
            "zerolinecolor": "white"
           },
           "zaxis": {
            "backgroundcolor": "#E5ECF6",
            "gridcolor": "white",
            "gridwidth": 2,
            "linecolor": "white",
            "showbackground": true,
            "ticks": "",
            "zerolinecolor": "white"
           }
          },
          "shapedefaults": {
           "line": {
            "color": "#2a3f5f"
           }
          },
          "ternary": {
           "aaxis": {
            "gridcolor": "white",
            "linecolor": "white",
            "ticks": ""
           },
           "baxis": {
            "gridcolor": "white",
            "linecolor": "white",
            "ticks": ""
           },
           "bgcolor": "#E5ECF6",
           "caxis": {
            "gridcolor": "white",
            "linecolor": "white",
            "ticks": ""
           }
          },
          "title": {
           "x": 0.05
          },
          "xaxis": {
           "automargin": true,
           "gridcolor": "white",
           "linecolor": "white",
           "ticks": "",
           "title": {
            "standoff": 15
           },
           "zerolinecolor": "white",
           "zerolinewidth": 2
          },
          "yaxis": {
           "automargin": true,
           "gridcolor": "white",
           "linecolor": "white",
           "ticks": "",
           "title": {
            "standoff": 15
           },
           "zerolinecolor": "white",
           "zerolinewidth": 2
          }
         }
        },
        "title": {
         "text": "Preços de Produtos - Região Centro-Oeste"
        },
        "width": 900,
        "xaxis": {
         "anchor": "y",
         "domain": [
          0,
          1
         ],
         "tickangle": 45,
         "title": {
          "text": "Cidade/UF"
         }
        },
        "yaxis": {
         "anchor": "x",
         "domain": [
          0,
          1
         ],
         "title": {
          "text": "Preço (R$)"
         }
        }
       }
      }
     },
     "metadata": {},
     "output_type": "display_data"
    },
    {
     "data": {
      "application/vnd.plotly.v1+json": {
       "config": {
        "plotlyServerURL": "https://plot.ly"
       },
       "data": [
        {
         "hovertemplate": "produto=Kani Congelado Costa Sul 200g<br>Cidade/UF=%{x}<br>Preço (R$)=%{y}<extra></extra>",
         "legendgroup": "Kani Congelado Costa Sul 200g",
         "marker": {
          "color": "red",
          "symbol": "circle"
         },
         "mode": "markers",
         "name": "Kani Congelado Costa Sul 200g",
         "orientation": "v",
         "showlegend": true,
         "type": "scatter",
         "x": [
          "Vila Velha/ES",
          "Belo Horizonte/MG",
          "Belo Horizonte/MG",
          "Contagem/MG",
          "Juiz de Fora/MG",
          "Uberlandia/MG",
          "Duque de Caxias/RJ",
          "Rio de Janeiro/RJ",
          "São Gonçalo/RJ",
          "Campos dos Goytacazes/RJ",
          "Macaé/RJ",
          "Barueri/SP",
          "Caçapava/SP",
          "Campinas/SP",
          "Guarujá/SP",
          "Guarulhos/SP",
          "Indaiatuba/SP",
          "Itu/SP",
          "Jundiai/SP",
          "Osasco/SP",
          "Piracicaba/SP",
          "Praia Grande/SP",
          "Presidente Prudente/SP",
          "Ribeirão Preto/SP",
          "Salto/SP",
          "Santana de Parnaíba/SP",
          "São Bernardo do Campo/SP",
          "São Caetano do Sul/SP",
          "São Carlos/SP",
          "São José dos Campos/SP",
          "São Jose Rio Preto/SP",
          "São Paulo/SP",
          "São Vicente/SP",
          "Sorocaba/Votorantim/SP",
          "Taboão da Serra/SP",
          "Taubate/SP",
          "Vinhedo/SP"
         ],
         "xaxis": "x",
         "y": [
          13.39,
          12.99,
          12.99,
          13.39,
          13.39,
          12.99,
          15.99,
          16.49,
          16.49,
          11.89,
          11.89,
          10.19,
          14.79,
          10.19,
          9.89,
          9.89,
          10.49,
          14.79,
          10.19,
          10.19,
          10.09,
          10.49,
          9.89,
          10.19,
          14.79,
          14.79,
          9.89,
          10.19,
          14.79,
          10.19,
          9.89,
          14.79,
          9.89,
          10.19,
          10.19,
          10.49,
          14.79
         ],
         "yaxis": "y"
        },
        {
         "hovertemplate": "produto=Kani Congelado Frescatto 200g<br>Cidade/UF=%{x}<br>Preço (R$)=%{y}<extra></extra>",
         "legendgroup": "Kani Congelado Frescatto 200g",
         "marker": {
          "color": "blue",
          "symbol": "circle"
         },
         "mode": "markers",
         "name": "Kani Congelado Frescatto 200g",
         "orientation": "v",
         "showlegend": true,
         "type": "scatter",
         "x": [
          "Vila Velha/ES",
          "Belo Horizonte/MG",
          "Belo Horizonte/MG",
          "Contagem/MG",
          "Juiz de Fora/MG",
          "Uberlandia/MG",
          "Duque de Caxias/RJ",
          "Rio de Janeiro/RJ",
          "São Gonçalo/RJ",
          "Campos dos Goytacazes/RJ",
          "Macaé/RJ",
          "Indaiatuba/SP",
          "Itu/SP",
          "Salto/SP",
          "São Caetano do Sul/SP",
          "São Jose Rio Preto/SP",
          "Vinhedo/SP"
         ],
         "xaxis": "x",
         "y": [
          15.99,
          15.99,
          15.99,
          15.99,
          15.99,
          15.99,
          15.99,
          15.99,
          15.99,
          15.99,
          15.99,
          9.98,
          9.98,
          9.98,
          10.29,
          9.98,
          9.98
         ],
         "yaxis": "y"
        },
        {
         "hovertemplate": "produto=Kani Congelado Damm 250g<br>Cidade/UF=%{x}<br>Preço (R$)=%{y}<extra></extra>",
         "legendgroup": "Kani Congelado Damm 250g",
         "marker": {
          "color": "orange",
          "symbol": "circle"
         },
         "mode": "markers",
         "name": "Kani Congelado Damm 250g",
         "orientation": "v",
         "showlegend": true,
         "type": "scatter",
         "x": [
          "Barueri/SP",
          "Guarulhos/SP",
          "Santana de Parnaíba/SP"
         ],
         "xaxis": "x",
         "y": [
          22.69,
          10.79,
          11.19
         ],
         "yaxis": "y"
        },
        {
         "hovertemplate": "produto=Hossomaki Philadelphia Kani Kama 160 g<br>Cidade/UF=%{x}<br>Preço (R$)=%{y}<extra></extra>",
         "legendgroup": "Hossomaki Philadelphia Kani Kama 160 g",
         "marker": {
          "color": "green",
          "symbol": "circle"
         },
         "mode": "markers",
         "name": "Hossomaki Philadelphia Kani Kama 160 g",
         "orientation": "v",
         "showlegend": true,
         "type": "scatter",
         "x": [
          "Caçapava/SP",
          "São José dos Campos/SP"
         ],
         "xaxis": "x",
         "y": [
          22.59,
          27.49
         ],
         "yaxis": "y"
        }
       ],
       "layout": {
        "height": 600,
        "hovermode": "closest",
        "legend": {
         "title": {
          "text": "Produto"
         },
         "tracegroupgap": 0
        },
        "margin": {
         "b": 150,
         "l": 50,
         "r": 50,
         "t": 100
        },
        "template": {
         "data": {
          "bar": [
           {
            "error_x": {
             "color": "#2a3f5f"
            },
            "error_y": {
             "color": "#2a3f5f"
            },
            "marker": {
             "line": {
              "color": "#E5ECF6",
              "width": 0.5
             },
             "pattern": {
              "fillmode": "overlay",
              "size": 10,
              "solidity": 0.2
             }
            },
            "type": "bar"
           }
          ],
          "barpolar": [
           {
            "marker": {
             "line": {
              "color": "#E5ECF6",
              "width": 0.5
             },
             "pattern": {
              "fillmode": "overlay",
              "size": 10,
              "solidity": 0.2
             }
            },
            "type": "barpolar"
           }
          ],
          "carpet": [
           {
            "aaxis": {
             "endlinecolor": "#2a3f5f",
             "gridcolor": "white",
             "linecolor": "white",
             "minorgridcolor": "white",
             "startlinecolor": "#2a3f5f"
            },
            "baxis": {
             "endlinecolor": "#2a3f5f",
             "gridcolor": "white",
             "linecolor": "white",
             "minorgridcolor": "white",
             "startlinecolor": "#2a3f5f"
            },
            "type": "carpet"
           }
          ],
          "choropleth": [
           {
            "colorbar": {
             "outlinewidth": 0,
             "ticks": ""
            },
            "type": "choropleth"
           }
          ],
          "contour": [
           {
            "colorbar": {
             "outlinewidth": 0,
             "ticks": ""
            },
            "colorscale": [
             [
              0,
              "#0d0887"
             ],
             [
              0.1111111111111111,
              "#46039f"
             ],
             [
              0.2222222222222222,
              "#7201a8"
             ],
             [
              0.3333333333333333,
              "#9c179e"
             ],
             [
              0.4444444444444444,
              "#bd3786"
             ],
             [
              0.5555555555555556,
              "#d8576b"
             ],
             [
              0.6666666666666666,
              "#ed7953"
             ],
             [
              0.7777777777777778,
              "#fb9f3a"
             ],
             [
              0.8888888888888888,
              "#fdca26"
             ],
             [
              1,
              "#f0f921"
             ]
            ],
            "type": "contour"
           }
          ],
          "contourcarpet": [
           {
            "colorbar": {
             "outlinewidth": 0,
             "ticks": ""
            },
            "type": "contourcarpet"
           }
          ],
          "heatmap": [
           {
            "colorbar": {
             "outlinewidth": 0,
             "ticks": ""
            },
            "colorscale": [
             [
              0,
              "#0d0887"
             ],
             [
              0.1111111111111111,
              "#46039f"
             ],
             [
              0.2222222222222222,
              "#7201a8"
             ],
             [
              0.3333333333333333,
              "#9c179e"
             ],
             [
              0.4444444444444444,
              "#bd3786"
             ],
             [
              0.5555555555555556,
              "#d8576b"
             ],
             [
              0.6666666666666666,
              "#ed7953"
             ],
             [
              0.7777777777777778,
              "#fb9f3a"
             ],
             [
              0.8888888888888888,
              "#fdca26"
             ],
             [
              1,
              "#f0f921"
             ]
            ],
            "type": "heatmap"
           }
          ],
          "heatmapgl": [
           {
            "colorbar": {
             "outlinewidth": 0,
             "ticks": ""
            },
            "colorscale": [
             [
              0,
              "#0d0887"
             ],
             [
              0.1111111111111111,
              "#46039f"
             ],
             [
              0.2222222222222222,
              "#7201a8"
             ],
             [
              0.3333333333333333,
              "#9c179e"
             ],
             [
              0.4444444444444444,
              "#bd3786"
             ],
             [
              0.5555555555555556,
              "#d8576b"
             ],
             [
              0.6666666666666666,
              "#ed7953"
             ],
             [
              0.7777777777777778,
              "#fb9f3a"
             ],
             [
              0.8888888888888888,
              "#fdca26"
             ],
             [
              1,
              "#f0f921"
             ]
            ],
            "type": "heatmapgl"
           }
          ],
          "histogram": [
           {
            "marker": {
             "pattern": {
              "fillmode": "overlay",
              "size": 10,
              "solidity": 0.2
             }
            },
            "type": "histogram"
           }
          ],
          "histogram2d": [
           {
            "colorbar": {
             "outlinewidth": 0,
             "ticks": ""
            },
            "colorscale": [
             [
              0,
              "#0d0887"
             ],
             [
              0.1111111111111111,
              "#46039f"
             ],
             [
              0.2222222222222222,
              "#7201a8"
             ],
             [
              0.3333333333333333,
              "#9c179e"
             ],
             [
              0.4444444444444444,
              "#bd3786"
             ],
             [
              0.5555555555555556,
              "#d8576b"
             ],
             [
              0.6666666666666666,
              "#ed7953"
             ],
             [
              0.7777777777777778,
              "#fb9f3a"
             ],
             [
              0.8888888888888888,
              "#fdca26"
             ],
             [
              1,
              "#f0f921"
             ]
            ],
            "type": "histogram2d"
           }
          ],
          "histogram2dcontour": [
           {
            "colorbar": {
             "outlinewidth": 0,
             "ticks": ""
            },
            "colorscale": [
             [
              0,
              "#0d0887"
             ],
             [
              0.1111111111111111,
              "#46039f"
             ],
             [
              0.2222222222222222,
              "#7201a8"
             ],
             [
              0.3333333333333333,
              "#9c179e"
             ],
             [
              0.4444444444444444,
              "#bd3786"
             ],
             [
              0.5555555555555556,
              "#d8576b"
             ],
             [
              0.6666666666666666,
              "#ed7953"
             ],
             [
              0.7777777777777778,
              "#fb9f3a"
             ],
             [
              0.8888888888888888,
              "#fdca26"
             ],
             [
              1,
              "#f0f921"
             ]
            ],
            "type": "histogram2dcontour"
           }
          ],
          "mesh3d": [
           {
            "colorbar": {
             "outlinewidth": 0,
             "ticks": ""
            },
            "type": "mesh3d"
           }
          ],
          "parcoords": [
           {
            "line": {
             "colorbar": {
              "outlinewidth": 0,
              "ticks": ""
             }
            },
            "type": "parcoords"
           }
          ],
          "pie": [
           {
            "automargin": true,
            "type": "pie"
           }
          ],
          "scatter": [
           {
            "fillpattern": {
             "fillmode": "overlay",
             "size": 10,
             "solidity": 0.2
            },
            "type": "scatter"
           }
          ],
          "scatter3d": [
           {
            "line": {
             "colorbar": {
              "outlinewidth": 0,
              "ticks": ""
             }
            },
            "marker": {
             "colorbar": {
              "outlinewidth": 0,
              "ticks": ""
             }
            },
            "type": "scatter3d"
           }
          ],
          "scattercarpet": [
           {
            "marker": {
             "colorbar": {
              "outlinewidth": 0,
              "ticks": ""
             }
            },
            "type": "scattercarpet"
           }
          ],
          "scattergeo": [
           {
            "marker": {
             "colorbar": {
              "outlinewidth": 0,
              "ticks": ""
             }
            },
            "type": "scattergeo"
           }
          ],
          "scattergl": [
           {
            "marker": {
             "colorbar": {
              "outlinewidth": 0,
              "ticks": ""
             }
            },
            "type": "scattergl"
           }
          ],
          "scattermapbox": [
           {
            "marker": {
             "colorbar": {
              "outlinewidth": 0,
              "ticks": ""
             }
            },
            "type": "scattermapbox"
           }
          ],
          "scatterpolar": [
           {
            "marker": {
             "colorbar": {
              "outlinewidth": 0,
              "ticks": ""
             }
            },
            "type": "scatterpolar"
           }
          ],
          "scatterpolargl": [
           {
            "marker": {
             "colorbar": {
              "outlinewidth": 0,
              "ticks": ""
             }
            },
            "type": "scatterpolargl"
           }
          ],
          "scatterternary": [
           {
            "marker": {
             "colorbar": {
              "outlinewidth": 0,
              "ticks": ""
             }
            },
            "type": "scatterternary"
           }
          ],
          "surface": [
           {
            "colorbar": {
             "outlinewidth": 0,
             "ticks": ""
            },
            "colorscale": [
             [
              0,
              "#0d0887"
             ],
             [
              0.1111111111111111,
              "#46039f"
             ],
             [
              0.2222222222222222,
              "#7201a8"
             ],
             [
              0.3333333333333333,
              "#9c179e"
             ],
             [
              0.4444444444444444,
              "#bd3786"
             ],
             [
              0.5555555555555556,
              "#d8576b"
             ],
             [
              0.6666666666666666,
              "#ed7953"
             ],
             [
              0.7777777777777778,
              "#fb9f3a"
             ],
             [
              0.8888888888888888,
              "#fdca26"
             ],
             [
              1,
              "#f0f921"
             ]
            ],
            "type": "surface"
           }
          ],
          "table": [
           {
            "cells": {
             "fill": {
              "color": "#EBF0F8"
             },
             "line": {
              "color": "white"
             }
            },
            "header": {
             "fill": {
              "color": "#C8D4E3"
             },
             "line": {
              "color": "white"
             }
            },
            "type": "table"
           }
          ]
         },
         "layout": {
          "annotationdefaults": {
           "arrowcolor": "#2a3f5f",
           "arrowhead": 0,
           "arrowwidth": 1
          },
          "autotypenumbers": "strict",
          "coloraxis": {
           "colorbar": {
            "outlinewidth": 0,
            "ticks": ""
           }
          },
          "colorscale": {
           "diverging": [
            [
             0,
             "#8e0152"
            ],
            [
             0.1,
             "#c51b7d"
            ],
            [
             0.2,
             "#de77ae"
            ],
            [
             0.3,
             "#f1b6da"
            ],
            [
             0.4,
             "#fde0ef"
            ],
            [
             0.5,
             "#f7f7f7"
            ],
            [
             0.6,
             "#e6f5d0"
            ],
            [
             0.7,
             "#b8e186"
            ],
            [
             0.8,
             "#7fbc41"
            ],
            [
             0.9,
             "#4d9221"
            ],
            [
             1,
             "#276419"
            ]
           ],
           "sequential": [
            [
             0,
             "#0d0887"
            ],
            [
             0.1111111111111111,
             "#46039f"
            ],
            [
             0.2222222222222222,
             "#7201a8"
            ],
            [
             0.3333333333333333,
             "#9c179e"
            ],
            [
             0.4444444444444444,
             "#bd3786"
            ],
            [
             0.5555555555555556,
             "#d8576b"
            ],
            [
             0.6666666666666666,
             "#ed7953"
            ],
            [
             0.7777777777777778,
             "#fb9f3a"
            ],
            [
             0.8888888888888888,
             "#fdca26"
            ],
            [
             1,
             "#f0f921"
            ]
           ],
           "sequentialminus": [
            [
             0,
             "#0d0887"
            ],
            [
             0.1111111111111111,
             "#46039f"
            ],
            [
             0.2222222222222222,
             "#7201a8"
            ],
            [
             0.3333333333333333,
             "#9c179e"
            ],
            [
             0.4444444444444444,
             "#bd3786"
            ],
            [
             0.5555555555555556,
             "#d8576b"
            ],
            [
             0.6666666666666666,
             "#ed7953"
            ],
            [
             0.7777777777777778,
             "#fb9f3a"
            ],
            [
             0.8888888888888888,
             "#fdca26"
            ],
            [
             1,
             "#f0f921"
            ]
           ]
          },
          "colorway": [
           "#636efa",
           "#EF553B",
           "#00cc96",
           "#ab63fa",
           "#FFA15A",
           "#19d3f3",
           "#FF6692",
           "#B6E880",
           "#FF97FF",
           "#FECB52"
          ],
          "font": {
           "color": "#2a3f5f"
          },
          "geo": {
           "bgcolor": "white",
           "lakecolor": "white",
           "landcolor": "#E5ECF6",
           "showlakes": true,
           "showland": true,
           "subunitcolor": "white"
          },
          "hoverlabel": {
           "align": "left"
          },
          "hovermode": "closest",
          "mapbox": {
           "style": "light"
          },
          "paper_bgcolor": "white",
          "plot_bgcolor": "#E5ECF6",
          "polar": {
           "angularaxis": {
            "gridcolor": "white",
            "linecolor": "white",
            "ticks": ""
           },
           "bgcolor": "#E5ECF6",
           "radialaxis": {
            "gridcolor": "white",
            "linecolor": "white",
            "ticks": ""
           }
          },
          "scene": {
           "xaxis": {
            "backgroundcolor": "#E5ECF6",
            "gridcolor": "white",
            "gridwidth": 2,
            "linecolor": "white",
            "showbackground": true,
            "ticks": "",
            "zerolinecolor": "white"
           },
           "yaxis": {
            "backgroundcolor": "#E5ECF6",
            "gridcolor": "white",
            "gridwidth": 2,
            "linecolor": "white",
            "showbackground": true,
            "ticks": "",
            "zerolinecolor": "white"
           },
           "zaxis": {
            "backgroundcolor": "#E5ECF6",
            "gridcolor": "white",
            "gridwidth": 2,
            "linecolor": "white",
            "showbackground": true,
            "ticks": "",
            "zerolinecolor": "white"
           }
          },
          "shapedefaults": {
           "line": {
            "color": "#2a3f5f"
           }
          },
          "ternary": {
           "aaxis": {
            "gridcolor": "white",
            "linecolor": "white",
            "ticks": ""
           },
           "baxis": {
            "gridcolor": "white",
            "linecolor": "white",
            "ticks": ""
           },
           "bgcolor": "#E5ECF6",
           "caxis": {
            "gridcolor": "white",
            "linecolor": "white",
            "ticks": ""
           }
          },
          "title": {
           "x": 0.05
          },
          "xaxis": {
           "automargin": true,
           "gridcolor": "white",
           "linecolor": "white",
           "ticks": "",
           "title": {
            "standoff": 15
           },
           "zerolinecolor": "white",
           "zerolinewidth": 2
          },
          "yaxis": {
           "automargin": true,
           "gridcolor": "white",
           "linecolor": "white",
           "ticks": "",
           "title": {
            "standoff": 15
           },
           "zerolinecolor": "white",
           "zerolinewidth": 2
          }
         }
        },
        "title": {
         "text": "Preços de Produtos - Região Sudeste"
        },
        "width": 900,
        "xaxis": {
         "anchor": "y",
         "domain": [
          0,
          1
         ],
         "tickangle": 45,
         "title": {
          "text": "Cidade/UF"
         }
        },
        "yaxis": {
         "anchor": "x",
         "domain": [
          0,
          1
         ],
         "title": {
          "text": "Preço (R$)"
         }
        }
       }
      }
     },
     "metadata": {},
     "output_type": "display_data"
    },
    {
     "data": {
      "application/vnd.plotly.v1+json": {
       "config": {
        "plotlyServerURL": "https://plot.ly"
       },
       "data": [
        {
         "hovertemplate": "produto=Kani Congelado Costa Sul 200g<br>Cidade/UF=%{x}<br>Preço (R$)=%{y}<extra></extra>",
         "legendgroup": "Kani Congelado Costa Sul 200g",
         "marker": {
          "color": "red",
          "symbol": "circle"
         },
         "mode": "markers",
         "name": "Kani Congelado Costa Sul 200g",
         "orientation": "v",
         "showlegend": true,
         "type": "scatter",
         "x": [
          "Curitiba/PR",
          "Londrina/PR",
          "Pinhais/PR",
          "Canoas/RS",
          "Caxias do Sul/RS",
          "Gravataí/RS",
          "Novo Hamburgo/RS",
          "Pelotas/RS",
          "Porto Alegre/RS",
          "Santa Maria/RS",
          "Viamão/RS"
         ],
         "xaxis": "x",
         "y": [
          13.89,
          13.89,
          13.89,
          14.15,
          10.99,
          13.69,
          14.15,
          14.15,
          14.15,
          10.99,
          13.69
         ],
         "yaxis": "y"
        },
        {
         "hovertemplate": "produto=Kani Congelado Frescatto 200g<br>Cidade/UF=%{x}<br>Preço (R$)=%{y}<extra></extra>",
         "legendgroup": "Kani Congelado Frescatto 200g",
         "marker": {
          "color": "blue",
          "symbol": "circle"
         },
         "mode": "markers",
         "name": "Kani Congelado Frescatto 200g",
         "orientation": "v",
         "showlegend": true,
         "type": "scatter",
         "x": [
          "Curitiba/PR",
          "Canoas/RS",
          "Caxias do Sul/RS",
          "Gravataí/RS",
          "Novo Hamburgo/RS",
          "Pelotas/RS",
          "Porto Alegre/RS",
          "Santa Maria/RS",
          "Viamão/RS",
          "Balneário Camboriú/SC",
          "Florianópolis/SC"
         ],
         "xaxis": "x",
         "y": [
          11.09,
          8.99,
          8.99,
          8.99,
          12.99,
          9.89,
          9.29,
          9.89,
          12.99,
          13.99,
          13.99
         ],
         "yaxis": "y"
        }
       ],
       "layout": {
        "height": 600,
        "hovermode": "closest",
        "legend": {
         "title": {
          "text": "Produto"
         },
         "tracegroupgap": 0
        },
        "margin": {
         "b": 150,
         "l": 50,
         "r": 50,
         "t": 100
        },
        "template": {
         "data": {
          "bar": [
           {
            "error_x": {
             "color": "#2a3f5f"
            },
            "error_y": {
             "color": "#2a3f5f"
            },
            "marker": {
             "line": {
              "color": "#E5ECF6",
              "width": 0.5
             },
             "pattern": {
              "fillmode": "overlay",
              "size": 10,
              "solidity": 0.2
             }
            },
            "type": "bar"
           }
          ],
          "barpolar": [
           {
            "marker": {
             "line": {
              "color": "#E5ECF6",
              "width": 0.5
             },
             "pattern": {
              "fillmode": "overlay",
              "size": 10,
              "solidity": 0.2
             }
            },
            "type": "barpolar"
           }
          ],
          "carpet": [
           {
            "aaxis": {
             "endlinecolor": "#2a3f5f",
             "gridcolor": "white",
             "linecolor": "white",
             "minorgridcolor": "white",
             "startlinecolor": "#2a3f5f"
            },
            "baxis": {
             "endlinecolor": "#2a3f5f",
             "gridcolor": "white",
             "linecolor": "white",
             "minorgridcolor": "white",
             "startlinecolor": "#2a3f5f"
            },
            "type": "carpet"
           }
          ],
          "choropleth": [
           {
            "colorbar": {
             "outlinewidth": 0,
             "ticks": ""
            },
            "type": "choropleth"
           }
          ],
          "contour": [
           {
            "colorbar": {
             "outlinewidth": 0,
             "ticks": ""
            },
            "colorscale": [
             [
              0,
              "#0d0887"
             ],
             [
              0.1111111111111111,
              "#46039f"
             ],
             [
              0.2222222222222222,
              "#7201a8"
             ],
             [
              0.3333333333333333,
              "#9c179e"
             ],
             [
              0.4444444444444444,
              "#bd3786"
             ],
             [
              0.5555555555555556,
              "#d8576b"
             ],
             [
              0.6666666666666666,
              "#ed7953"
             ],
             [
              0.7777777777777778,
              "#fb9f3a"
             ],
             [
              0.8888888888888888,
              "#fdca26"
             ],
             [
              1,
              "#f0f921"
             ]
            ],
            "type": "contour"
           }
          ],
          "contourcarpet": [
           {
            "colorbar": {
             "outlinewidth": 0,
             "ticks": ""
            },
            "type": "contourcarpet"
           }
          ],
          "heatmap": [
           {
            "colorbar": {
             "outlinewidth": 0,
             "ticks": ""
            },
            "colorscale": [
             [
              0,
              "#0d0887"
             ],
             [
              0.1111111111111111,
              "#46039f"
             ],
             [
              0.2222222222222222,
              "#7201a8"
             ],
             [
              0.3333333333333333,
              "#9c179e"
             ],
             [
              0.4444444444444444,
              "#bd3786"
             ],
             [
              0.5555555555555556,
              "#d8576b"
             ],
             [
              0.6666666666666666,
              "#ed7953"
             ],
             [
              0.7777777777777778,
              "#fb9f3a"
             ],
             [
              0.8888888888888888,
              "#fdca26"
             ],
             [
              1,
              "#f0f921"
             ]
            ],
            "type": "heatmap"
           }
          ],
          "heatmapgl": [
           {
            "colorbar": {
             "outlinewidth": 0,
             "ticks": ""
            },
            "colorscale": [
             [
              0,
              "#0d0887"
             ],
             [
              0.1111111111111111,
              "#46039f"
             ],
             [
              0.2222222222222222,
              "#7201a8"
             ],
             [
              0.3333333333333333,
              "#9c179e"
             ],
             [
              0.4444444444444444,
              "#bd3786"
             ],
             [
              0.5555555555555556,
              "#d8576b"
             ],
             [
              0.6666666666666666,
              "#ed7953"
             ],
             [
              0.7777777777777778,
              "#fb9f3a"
             ],
             [
              0.8888888888888888,
              "#fdca26"
             ],
             [
              1,
              "#f0f921"
             ]
            ],
            "type": "heatmapgl"
           }
          ],
          "histogram": [
           {
            "marker": {
             "pattern": {
              "fillmode": "overlay",
              "size": 10,
              "solidity": 0.2
             }
            },
            "type": "histogram"
           }
          ],
          "histogram2d": [
           {
            "colorbar": {
             "outlinewidth": 0,
             "ticks": ""
            },
            "colorscale": [
             [
              0,
              "#0d0887"
             ],
             [
              0.1111111111111111,
              "#46039f"
             ],
             [
              0.2222222222222222,
              "#7201a8"
             ],
             [
              0.3333333333333333,
              "#9c179e"
             ],
             [
              0.4444444444444444,
              "#bd3786"
             ],
             [
              0.5555555555555556,
              "#d8576b"
             ],
             [
              0.6666666666666666,
              "#ed7953"
             ],
             [
              0.7777777777777778,
              "#fb9f3a"
             ],
             [
              0.8888888888888888,
              "#fdca26"
             ],
             [
              1,
              "#f0f921"
             ]
            ],
            "type": "histogram2d"
           }
          ],
          "histogram2dcontour": [
           {
            "colorbar": {
             "outlinewidth": 0,
             "ticks": ""
            },
            "colorscale": [
             [
              0,
              "#0d0887"
             ],
             [
              0.1111111111111111,
              "#46039f"
             ],
             [
              0.2222222222222222,
              "#7201a8"
             ],
             [
              0.3333333333333333,
              "#9c179e"
             ],
             [
              0.4444444444444444,
              "#bd3786"
             ],
             [
              0.5555555555555556,
              "#d8576b"
             ],
             [
              0.6666666666666666,
              "#ed7953"
             ],
             [
              0.7777777777777778,
              "#fb9f3a"
             ],
             [
              0.8888888888888888,
              "#fdca26"
             ],
             [
              1,
              "#f0f921"
             ]
            ],
            "type": "histogram2dcontour"
           }
          ],
          "mesh3d": [
           {
            "colorbar": {
             "outlinewidth": 0,
             "ticks": ""
            },
            "type": "mesh3d"
           }
          ],
          "parcoords": [
           {
            "line": {
             "colorbar": {
              "outlinewidth": 0,
              "ticks": ""
             }
            },
            "type": "parcoords"
           }
          ],
          "pie": [
           {
            "automargin": true,
            "type": "pie"
           }
          ],
          "scatter": [
           {
            "fillpattern": {
             "fillmode": "overlay",
             "size": 10,
             "solidity": 0.2
            },
            "type": "scatter"
           }
          ],
          "scatter3d": [
           {
            "line": {
             "colorbar": {
              "outlinewidth": 0,
              "ticks": ""
             }
            },
            "marker": {
             "colorbar": {
              "outlinewidth": 0,
              "ticks": ""
             }
            },
            "type": "scatter3d"
           }
          ],
          "scattercarpet": [
           {
            "marker": {
             "colorbar": {
              "outlinewidth": 0,
              "ticks": ""
             }
            },
            "type": "scattercarpet"
           }
          ],
          "scattergeo": [
           {
            "marker": {
             "colorbar": {
              "outlinewidth": 0,
              "ticks": ""
             }
            },
            "type": "scattergeo"
           }
          ],
          "scattergl": [
           {
            "marker": {
             "colorbar": {
              "outlinewidth": 0,
              "ticks": ""
             }
            },
            "type": "scattergl"
           }
          ],
          "scattermapbox": [
           {
            "marker": {
             "colorbar": {
              "outlinewidth": 0,
              "ticks": ""
             }
            },
            "type": "scattermapbox"
           }
          ],
          "scatterpolar": [
           {
            "marker": {
             "colorbar": {
              "outlinewidth": 0,
              "ticks": ""
             }
            },
            "type": "scatterpolar"
           }
          ],
          "scatterpolargl": [
           {
            "marker": {
             "colorbar": {
              "outlinewidth": 0,
              "ticks": ""
             }
            },
            "type": "scatterpolargl"
           }
          ],
          "scatterternary": [
           {
            "marker": {
             "colorbar": {
              "outlinewidth": 0,
              "ticks": ""
             }
            },
            "type": "scatterternary"
           }
          ],
          "surface": [
           {
            "colorbar": {
             "outlinewidth": 0,
             "ticks": ""
            },
            "colorscale": [
             [
              0,
              "#0d0887"
             ],
             [
              0.1111111111111111,
              "#46039f"
             ],
             [
              0.2222222222222222,
              "#7201a8"
             ],
             [
              0.3333333333333333,
              "#9c179e"
             ],
             [
              0.4444444444444444,
              "#bd3786"
             ],
             [
              0.5555555555555556,
              "#d8576b"
             ],
             [
              0.6666666666666666,
              "#ed7953"
             ],
             [
              0.7777777777777778,
              "#fb9f3a"
             ],
             [
              0.8888888888888888,
              "#fdca26"
             ],
             [
              1,
              "#f0f921"
             ]
            ],
            "type": "surface"
           }
          ],
          "table": [
           {
            "cells": {
             "fill": {
              "color": "#EBF0F8"
             },
             "line": {
              "color": "white"
             }
            },
            "header": {
             "fill": {
              "color": "#C8D4E3"
             },
             "line": {
              "color": "white"
             }
            },
            "type": "table"
           }
          ]
         },
         "layout": {
          "annotationdefaults": {
           "arrowcolor": "#2a3f5f",
           "arrowhead": 0,
           "arrowwidth": 1
          },
          "autotypenumbers": "strict",
          "coloraxis": {
           "colorbar": {
            "outlinewidth": 0,
            "ticks": ""
           }
          },
          "colorscale": {
           "diverging": [
            [
             0,
             "#8e0152"
            ],
            [
             0.1,
             "#c51b7d"
            ],
            [
             0.2,
             "#de77ae"
            ],
            [
             0.3,
             "#f1b6da"
            ],
            [
             0.4,
             "#fde0ef"
            ],
            [
             0.5,
             "#f7f7f7"
            ],
            [
             0.6,
             "#e6f5d0"
            ],
            [
             0.7,
             "#b8e186"
            ],
            [
             0.8,
             "#7fbc41"
            ],
            [
             0.9,
             "#4d9221"
            ],
            [
             1,
             "#276419"
            ]
           ],
           "sequential": [
            [
             0,
             "#0d0887"
            ],
            [
             0.1111111111111111,
             "#46039f"
            ],
            [
             0.2222222222222222,
             "#7201a8"
            ],
            [
             0.3333333333333333,
             "#9c179e"
            ],
            [
             0.4444444444444444,
             "#bd3786"
            ],
            [
             0.5555555555555556,
             "#d8576b"
            ],
            [
             0.6666666666666666,
             "#ed7953"
            ],
            [
             0.7777777777777778,
             "#fb9f3a"
            ],
            [
             0.8888888888888888,
             "#fdca26"
            ],
            [
             1,
             "#f0f921"
            ]
           ],
           "sequentialminus": [
            [
             0,
             "#0d0887"
            ],
            [
             0.1111111111111111,
             "#46039f"
            ],
            [
             0.2222222222222222,
             "#7201a8"
            ],
            [
             0.3333333333333333,
             "#9c179e"
            ],
            [
             0.4444444444444444,
             "#bd3786"
            ],
            [
             0.5555555555555556,
             "#d8576b"
            ],
            [
             0.6666666666666666,
             "#ed7953"
            ],
            [
             0.7777777777777778,
             "#fb9f3a"
            ],
            [
             0.8888888888888888,
             "#fdca26"
            ],
            [
             1,
             "#f0f921"
            ]
           ]
          },
          "colorway": [
           "#636efa",
           "#EF553B",
           "#00cc96",
           "#ab63fa",
           "#FFA15A",
           "#19d3f3",
           "#FF6692",
           "#B6E880",
           "#FF97FF",
           "#FECB52"
          ],
          "font": {
           "color": "#2a3f5f"
          },
          "geo": {
           "bgcolor": "white",
           "lakecolor": "white",
           "landcolor": "#E5ECF6",
           "showlakes": true,
           "showland": true,
           "subunitcolor": "white"
          },
          "hoverlabel": {
           "align": "left"
          },
          "hovermode": "closest",
          "mapbox": {
           "style": "light"
          },
          "paper_bgcolor": "white",
          "plot_bgcolor": "#E5ECF6",
          "polar": {
           "angularaxis": {
            "gridcolor": "white",
            "linecolor": "white",
            "ticks": ""
           },
           "bgcolor": "#E5ECF6",
           "radialaxis": {
            "gridcolor": "white",
            "linecolor": "white",
            "ticks": ""
           }
          },
          "scene": {
           "xaxis": {
            "backgroundcolor": "#E5ECF6",
            "gridcolor": "white",
            "gridwidth": 2,
            "linecolor": "white",
            "showbackground": true,
            "ticks": "",
            "zerolinecolor": "white"
           },
           "yaxis": {
            "backgroundcolor": "#E5ECF6",
            "gridcolor": "white",
            "gridwidth": 2,
            "linecolor": "white",
            "showbackground": true,
            "ticks": "",
            "zerolinecolor": "white"
           },
           "zaxis": {
            "backgroundcolor": "#E5ECF6",
            "gridcolor": "white",
            "gridwidth": 2,
            "linecolor": "white",
            "showbackground": true,
            "ticks": "",
            "zerolinecolor": "white"
           }
          },
          "shapedefaults": {
           "line": {
            "color": "#2a3f5f"
           }
          },
          "ternary": {
           "aaxis": {
            "gridcolor": "white",
            "linecolor": "white",
            "ticks": ""
           },
           "baxis": {
            "gridcolor": "white",
            "linecolor": "white",
            "ticks": ""
           },
           "bgcolor": "#E5ECF6",
           "caxis": {
            "gridcolor": "white",
            "linecolor": "white",
            "ticks": ""
           }
          },
          "title": {
           "x": 0.05
          },
          "xaxis": {
           "automargin": true,
           "gridcolor": "white",
           "linecolor": "white",
           "ticks": "",
           "title": {
            "standoff": 15
           },
           "zerolinecolor": "white",
           "zerolinewidth": 2
          },
          "yaxis": {
           "automargin": true,
           "gridcolor": "white",
           "linecolor": "white",
           "ticks": "",
           "title": {
            "standoff": 15
           },
           "zerolinecolor": "white",
           "zerolinewidth": 2
          }
         }
        },
        "title": {
         "text": "Preços de Produtos - Região Sul"
        },
        "width": 900,
        "xaxis": {
         "anchor": "y",
         "domain": [
          0,
          1
         ],
         "tickangle": 45,
         "title": {
          "text": "Cidade/UF"
         }
        },
        "yaxis": {
         "anchor": "x",
         "domain": [
          0,
          1
         ],
         "title": {
          "text": "Preço (R$)"
         }
        }
       }
      }
     },
     "metadata": {},
     "output_type": "display_data"
    }
   ],
   "source": [
    "regioes = df['regiao'].unique()\n",
    "\n",
    "for regiao in regioes:\n",
    "    df_reg = df[df['regiao'] == regiao]\n",
    "    \n",
    "    fig = px.scatter(df_reg,\n",
    "                     x='cidade/UF',\n",
    "                     y='preco',\n",
    "                     color='produto',\n",
    "                     color_discrete_map=cores_produtos,\n",
    "                     title=f'Preços de Produtos - Região {regiao}',\n",
    "                     labels={'preco': 'Preço (R$)', 'cidade/UF': 'Cidade/UF'},\n",
    "                     height=600,\n",
    "                     width=900)\n",
    "    \n",
    "    fig.update_layout(\n",
    "        hovermode='closest',\n",
    "        xaxis_title='Cidade/UF',\n",
    "        yaxis_title='Preço (R$)',\n",
    "        legend_title='Produto',\n",
    "        margin=dict(l=50, r=50, b=150, t=100)\n",
    "    )\n",
    "    fig.update_xaxes(tickangle=45)\n",
    "    fig.show()\n"
   ]
  },
  {
   "cell_type": "code",
   "execution_count": 68,
   "id": "a47a23ae",
   "metadata": {},
   "outputs": [
    {
     "data": {
      "text/plain": [
       "data            0\n",
       "produto         0\n",
       "preco           0\n",
       "cidade/UF       0\n",
       "UF              0\n",
       "regiao          0\n",
       "loja            0\n",
       "bairro          0\n",
       "lat             0\n",
       "long            0\n",
       "regiao_ordem    0\n",
       "dtype: int64"
      ]
     },
     "execution_count": 68,
     "metadata": {},
     "output_type": "execute_result"
    }
   ],
   "source": [
    "# Verificar se há valores NaN em todo o DataFrame\n",
    "df.isna().any()\n",
    "\n",
    "# Contar o número de valores NaN em cada coluna\n",
    "df.isna().sum()"
   ]
  },
  {
   "cell_type": "code",
   "execution_count": 72,
   "id": "246dfca2",
   "metadata": {},
   "outputs": [],
   "source": [
    "#excluir dados NaN\n",
    "df = df.dropna()"
   ]
  },
  {
   "cell_type": "code",
   "execution_count": 67,
   "id": "83116b17",
   "metadata": {},
   "outputs": [
    {
     "data": {
      "text/html": [
       "<div>\n",
       "<style scoped>\n",
       "    .dataframe tbody tr th:only-of-type {\n",
       "        vertical-align: middle;\n",
       "    }\n",
       "\n",
       "    .dataframe tbody tr th {\n",
       "        vertical-align: top;\n",
       "    }\n",
       "\n",
       "    .dataframe thead th {\n",
       "        text-align: right;\n",
       "    }\n",
       "</style>\n",
       "<table border=\"1\" class=\"dataframe\">\n",
       "  <thead>\n",
       "    <tr style=\"text-align: right;\">\n",
       "      <th></th>\n",
       "      <th>data</th>\n",
       "      <th>produto</th>\n",
       "      <th>preco</th>\n",
       "      <th>cidade/UF</th>\n",
       "      <th>UF</th>\n",
       "      <th>regiao</th>\n",
       "      <th>loja</th>\n",
       "      <th>bairro</th>\n",
       "      <th>lat</th>\n",
       "      <th>long</th>\n",
       "      <th>regiao_ordem</th>\n",
       "    </tr>\n",
       "  </thead>\n",
       "  <tbody>\n",
       "    <tr>\n",
       "      <th>0</th>\n",
       "      <td>2025-04-18</td>\n",
       "      <td>Kani Congelado Frescatto 200g</td>\n",
       "      <td>11.39</td>\n",
       "      <td>Anapolis/GO</td>\n",
       "      <td>GO</td>\n",
       "      <td>Centro-Oeste</td>\n",
       "      <td>Hipermercado Goiânia AnápolisCidade Jardim</td>\n",
       "      <td>Cidade Jardim</td>\n",
       "      <td>-16.32138</td>\n",
       "      <td>-48.94862</td>\n",
       "      <td>Centro-Oeste - Anapolis/GO</td>\n",
       "    </tr>\n",
       "    <tr>\n",
       "      <th>1</th>\n",
       "      <td>2025-04-18</td>\n",
       "      <td>Kani Congelado Frescatto 200g</td>\n",
       "      <td>12.59</td>\n",
       "      <td>Brasília/DF</td>\n",
       "      <td>DF</td>\n",
       "      <td>Centro-Oeste</td>\n",
       "      <td>Hipermercado Brasilia SulZona Industrial (Guará)</td>\n",
       "      <td>Zona Industrial (Guará)</td>\n",
       "      <td>-15.82938</td>\n",
       "      <td>-47.95478</td>\n",
       "      <td>Centro-Oeste - Brasília/DF</td>\n",
       "    </tr>\n",
       "    <tr>\n",
       "      <th>2</th>\n",
       "      <td>2025-04-18</td>\n",
       "      <td>Kani Congelado Costa Sul 200g</td>\n",
       "      <td>14.25</td>\n",
       "      <td>Campo Grande/MS</td>\n",
       "      <td>MS</td>\n",
       "      <td>Centro-Oeste</td>\n",
       "      <td>Hipermercado Campo GrandeSanta Fe</td>\n",
       "      <td>Santa Fe</td>\n",
       "      <td>-20.45765</td>\n",
       "      <td>-54.58963</td>\n",
       "      <td>Centro-Oeste - Campo Grande/MS</td>\n",
       "    </tr>\n",
       "    <tr>\n",
       "      <th>3</th>\n",
       "      <td>2025-04-18</td>\n",
       "      <td>Kani Congelado Frescatto 200g</td>\n",
       "      <td>12.45</td>\n",
       "      <td>Campo Grande/MS</td>\n",
       "      <td>MS</td>\n",
       "      <td>Centro-Oeste</td>\n",
       "      <td>Hipermercado Campo GrandeSanta Fe</td>\n",
       "      <td>Santa Fe</td>\n",
       "      <td>-20.45765</td>\n",
       "      <td>-54.58963</td>\n",
       "      <td>Centro-Oeste - Campo Grande/MS</td>\n",
       "    </tr>\n",
       "    <tr>\n",
       "      <th>4</th>\n",
       "      <td>2025-04-18</td>\n",
       "      <td>Kani Congelado Frescatto 200g</td>\n",
       "      <td>11.39</td>\n",
       "      <td>Goiania/GO</td>\n",
       "      <td>GO</td>\n",
       "      <td>Centro-Oeste</td>\n",
       "      <td>Hipermercado Goiânia SulJd Goias</td>\n",
       "      <td>Jd Goias</td>\n",
       "      <td>-16.70961</td>\n",
       "      <td>-49.23282</td>\n",
       "      <td>Centro-Oeste - Goiania/GO</td>\n",
       "    </tr>\n",
       "    <tr>\n",
       "      <th>...</th>\n",
       "      <td>...</td>\n",
       "      <td>...</td>\n",
       "      <td>...</td>\n",
       "      <td>...</td>\n",
       "      <td>...</td>\n",
       "      <td>...</td>\n",
       "      <td>...</td>\n",
       "      <td>...</td>\n",
       "      <td>...</td>\n",
       "      <td>...</td>\n",
       "      <td>...</td>\n",
       "    </tr>\n",
       "    <tr>\n",
       "      <th>91</th>\n",
       "      <td>2025-04-18</td>\n",
       "      <td>Kani Congelado Frescatto 200g</td>\n",
       "      <td>9.29</td>\n",
       "      <td>Porto Alegre/RS</td>\n",
       "      <td>RS</td>\n",
       "      <td>Sul</td>\n",
       "      <td>Hipermercado PartenonPartenon</td>\n",
       "      <td>Partenon</td>\n",
       "      <td>-30.05709</td>\n",
       "      <td>-51.16583</td>\n",
       "      <td>Sul - Porto Alegre/RS</td>\n",
       "    </tr>\n",
       "    <tr>\n",
       "      <th>92</th>\n",
       "      <td>2025-04-18</td>\n",
       "      <td>Kani Congelado Costa Sul 200g</td>\n",
       "      <td>10.99</td>\n",
       "      <td>Santa Maria/RS</td>\n",
       "      <td>RS</td>\n",
       "      <td>Sul</td>\n",
       "      <td>Hipermercado Santa MariaCentro</td>\n",
       "      <td>Centro</td>\n",
       "      <td>-29.67947</td>\n",
       "      <td>-53.80657</td>\n",
       "      <td>Sul - Santa Maria/RS</td>\n",
       "    </tr>\n",
       "    <tr>\n",
       "      <th>93</th>\n",
       "      <td>2025-04-18</td>\n",
       "      <td>Kani Congelado Frescatto 200g</td>\n",
       "      <td>9.89</td>\n",
       "      <td>Santa Maria/RS</td>\n",
       "      <td>RS</td>\n",
       "      <td>Sul</td>\n",
       "      <td>Hipermercado Santa MariaCentro</td>\n",
       "      <td>Centro</td>\n",
       "      <td>-29.67947</td>\n",
       "      <td>-53.80657</td>\n",
       "      <td>Sul - Santa Maria/RS</td>\n",
       "    </tr>\n",
       "    <tr>\n",
       "      <th>94</th>\n",
       "      <td>2025-04-18</td>\n",
       "      <td>Kani Congelado Costa Sul 200g</td>\n",
       "      <td>13.69</td>\n",
       "      <td>Viamão/RS</td>\n",
       "      <td>RS</td>\n",
       "      <td>Sul</td>\n",
       "      <td>BIG ViamãoCecília</td>\n",
       "      <td>Cecília</td>\n",
       "      <td>-30.07905</td>\n",
       "      <td>-51.10104</td>\n",
       "      <td>Sul - Viamão/RS</td>\n",
       "    </tr>\n",
       "    <tr>\n",
       "      <th>95</th>\n",
       "      <td>2025-04-18</td>\n",
       "      <td>Kani Congelado Frescatto 200g</td>\n",
       "      <td>12.99</td>\n",
       "      <td>Viamão/RS</td>\n",
       "      <td>RS</td>\n",
       "      <td>Sul</td>\n",
       "      <td>BIG ViamãoCecília</td>\n",
       "      <td>Cecília</td>\n",
       "      <td>-30.07905</td>\n",
       "      <td>-51.10104</td>\n",
       "      <td>Sul - Viamão/RS</td>\n",
       "    </tr>\n",
       "  </tbody>\n",
       "</table>\n",
       "<p>88 rows × 11 columns</p>\n",
       "</div>"
      ],
      "text/plain": [
       "          data                        produto  preco        cidade/UF  UF  \\\n",
       "0   2025-04-18  Kani Congelado Frescatto 200g  11.39      Anapolis/GO  GO   \n",
       "1   2025-04-18  Kani Congelado Frescatto 200g  12.59      Brasília/DF  DF   \n",
       "2   2025-04-18  Kani Congelado Costa Sul 200g  14.25  Campo Grande/MS  MS   \n",
       "3   2025-04-18  Kani Congelado Frescatto 200g  12.45  Campo Grande/MS  MS   \n",
       "4   2025-04-18  Kani Congelado Frescatto 200g  11.39       Goiania/GO  GO   \n",
       "..         ...                            ...    ...              ...  ..   \n",
       "91  2025-04-18  Kani Congelado Frescatto 200g   9.29  Porto Alegre/RS  RS   \n",
       "92  2025-04-18  Kani Congelado Costa Sul 200g  10.99   Santa Maria/RS  RS   \n",
       "93  2025-04-18  Kani Congelado Frescatto 200g   9.89   Santa Maria/RS  RS   \n",
       "94  2025-04-18  Kani Congelado Costa Sul 200g  13.69        Viamão/RS  RS   \n",
       "95  2025-04-18  Kani Congelado Frescatto 200g  12.99        Viamão/RS  RS   \n",
       "\n",
       "          regiao                                              loja  \\\n",
       "0   Centro-Oeste        Hipermercado Goiânia AnápolisCidade Jardim   \n",
       "1   Centro-Oeste  Hipermercado Brasilia SulZona Industrial (Guará)   \n",
       "2   Centro-Oeste                 Hipermercado Campo GrandeSanta Fe   \n",
       "3   Centro-Oeste                 Hipermercado Campo GrandeSanta Fe   \n",
       "4   Centro-Oeste                  Hipermercado Goiânia SulJd Goias   \n",
       "..           ...                                               ...   \n",
       "91           Sul                     Hipermercado PartenonPartenon   \n",
       "92           Sul                    Hipermercado Santa MariaCentro   \n",
       "93           Sul                    Hipermercado Santa MariaCentro   \n",
       "94           Sul                                 BIG ViamãoCecília   \n",
       "95           Sul                                 BIG ViamãoCecília   \n",
       "\n",
       "                     bairro       lat      long  \\\n",
       "0             Cidade Jardim -16.32138 -48.94862   \n",
       "1   Zona Industrial (Guará) -15.82938 -47.95478   \n",
       "2                  Santa Fe -20.45765 -54.58963   \n",
       "3                  Santa Fe -20.45765 -54.58963   \n",
       "4                  Jd Goias -16.70961 -49.23282   \n",
       "..                      ...       ...       ...   \n",
       "91                 Partenon -30.05709 -51.16583   \n",
       "92                   Centro -29.67947 -53.80657   \n",
       "93                   Centro -29.67947 -53.80657   \n",
       "94                  Cecília -30.07905 -51.10104   \n",
       "95                  Cecília -30.07905 -51.10104   \n",
       "\n",
       "                      regiao_ordem  \n",
       "0       Centro-Oeste - Anapolis/GO  \n",
       "1       Centro-Oeste - Brasília/DF  \n",
       "2   Centro-Oeste - Campo Grande/MS  \n",
       "3   Centro-Oeste - Campo Grande/MS  \n",
       "4        Centro-Oeste - Goiania/GO  \n",
       "..                             ...  \n",
       "91           Sul - Porto Alegre/RS  \n",
       "92            Sul - Santa Maria/RS  \n",
       "93            Sul - Santa Maria/RS  \n",
       "94                 Sul - Viamão/RS  \n",
       "95                 Sul - Viamão/RS  \n",
       "\n",
       "[88 rows x 11 columns]"
      ]
     },
     "execution_count": 67,
     "metadata": {},
     "output_type": "execute_result"
    }
   ],
   "source": [
    "df"
   ]
  },
  {
   "cell_type": "code",
   "execution_count": 69,
   "id": "f2c8fd28",
   "metadata": {},
   "outputs": [
    {
     "data": {
      "text/html": [
       "<div style=\"width:100%;\"><div style=\"position:relative;width:100%;height:0;padding-bottom:60%;\"><span style=\"color:#565656\">Make this Notebook Trusted to load map: File -> Trust Notebook</span><iframe srcdoc=\"&lt;!DOCTYPE html&gt;\n",
       "&lt;html&gt;\n",
       "&lt;head&gt;\n",
       "    \n",
       "    &lt;meta http-equiv=&quot;content-type&quot; content=&quot;text/html; charset=UTF-8&quot; /&gt;\n",
       "    \n",
       "        &lt;script&gt;\n",
       "            L_NO_TOUCH = false;\n",
       "            L_DISABLE_3D = false;\n",
       "        &lt;/script&gt;\n",
       "    \n",
       "    &lt;style&gt;html, body {width: 100%;height: 100%;margin: 0;padding: 0;}&lt;/style&gt;\n",
       "    &lt;style&gt;#map {position:absolute;top:0;bottom:0;right:0;left:0;}&lt;/style&gt;\n",
       "    &lt;script src=&quot;https://cdn.jsdelivr.net/npm/leaflet@1.9.3/dist/leaflet.js&quot;&gt;&lt;/script&gt;\n",
       "    &lt;script src=&quot;https://code.jquery.com/jquery-3.7.1.min.js&quot;&gt;&lt;/script&gt;\n",
       "    &lt;script src=&quot;https://cdn.jsdelivr.net/npm/bootstrap@5.2.2/dist/js/bootstrap.bundle.min.js&quot;&gt;&lt;/script&gt;\n",
       "    &lt;script src=&quot;https://cdnjs.cloudflare.com/ajax/libs/Leaflet.awesome-markers/2.0.2/leaflet.awesome-markers.js&quot;&gt;&lt;/script&gt;\n",
       "    &lt;link rel=&quot;stylesheet&quot; href=&quot;https://cdn.jsdelivr.net/npm/leaflet@1.9.3/dist/leaflet.css&quot;/&gt;\n",
       "    &lt;link rel=&quot;stylesheet&quot; href=&quot;https://cdn.jsdelivr.net/npm/bootstrap@5.2.2/dist/css/bootstrap.min.css&quot;/&gt;\n",
       "    &lt;link rel=&quot;stylesheet&quot; href=&quot;https://netdna.bootstrapcdn.com/bootstrap/3.0.0/css/bootstrap-glyphicons.css&quot;/&gt;\n",
       "    &lt;link rel=&quot;stylesheet&quot; href=&quot;https://cdn.jsdelivr.net/npm/@fortawesome/fontawesome-free@6.2.0/css/all.min.css&quot;/&gt;\n",
       "    &lt;link rel=&quot;stylesheet&quot; href=&quot;https://cdnjs.cloudflare.com/ajax/libs/Leaflet.awesome-markers/2.0.2/leaflet.awesome-markers.css&quot;/&gt;\n",
       "    &lt;link rel=&quot;stylesheet&quot; href=&quot;https://cdn.jsdelivr.net/gh/python-visualization/folium/folium/templates/leaflet.awesome.rotate.min.css&quot;/&gt;\n",
       "    \n",
       "            &lt;meta name=&quot;viewport&quot; content=&quot;width=device-width,\n",
       "                initial-scale=1.0, maximum-scale=1.0, user-scalable=no&quot; /&gt;\n",
       "            &lt;style&gt;\n",
       "                #map_d4cbc4feeedecb14afdb37c03024c5d2 {\n",
       "                    position: relative;\n",
       "                    width: 100.0%;\n",
       "                    height: 100.0%;\n",
       "                    left: 0.0%;\n",
       "                    top: 0.0%;\n",
       "                }\n",
       "                .leaflet-container { font-size: 1rem; }\n",
       "            &lt;/style&gt;\n",
       "        \n",
       "    &lt;script src=&quot;https://cdnjs.cloudflare.com/ajax/libs/d3/3.5.5/d3.min.js&quot;&gt;&lt;/script&gt;\n",
       "&lt;/head&gt;\n",
       "&lt;body&gt;\n",
       "    \n",
       "    \n",
       "            &lt;div class=&quot;folium-map&quot; id=&quot;map_d4cbc4feeedecb14afdb37c03024c5d2&quot; &gt;&lt;/div&gt;\n",
       "        \n",
       "&lt;/body&gt;\n",
       "&lt;script&gt;\n",
       "    \n",
       "    \n",
       "            var map_d4cbc4feeedecb14afdb37c03024c5d2 = L.map(\n",
       "                &quot;map_d4cbc4feeedecb14afdb37c03024c5d2&quot;,\n",
       "                {\n",
       "                    center: [-15.793889, -47.882778],\n",
       "                    crs: L.CRS.EPSG3857,\n",
       "                    zoom: 4,\n",
       "                    zoomControl: true,\n",
       "                    preferCanvas: false,\n",
       "                }\n",
       "            );\n",
       "\n",
       "            \n",
       "\n",
       "        \n",
       "    \n",
       "            var tile_layer_6a0396b32853e2483de4595c1b3f29f4 = L.tileLayer(\n",
       "                &quot;https://tile.openstreetmap.org/{z}/{x}/{y}.png&quot;,\n",
       "                {&quot;attribution&quot;: &quot;\\u0026copy; \\u003ca href=\\&quot;https://www.openstreetmap.org/copyright\\&quot;\\u003eOpenStreetMap\\u003c/a\\u003e contributors&quot;, &quot;detectRetina&quot;: false, &quot;maxNativeZoom&quot;: 19, &quot;maxZoom&quot;: 19, &quot;minZoom&quot;: 0, &quot;noWrap&quot;: false, &quot;opacity&quot;: 1, &quot;subdomains&quot;: &quot;abc&quot;, &quot;tms&quot;: false}\n",
       "            );\n",
       "        \n",
       "    \n",
       "            tile_layer_6a0396b32853e2483de4595c1b3f29f4.addTo(map_d4cbc4feeedecb14afdb37c03024c5d2);\n",
       "        \n",
       "    \n",
       "            var marker_1dfa429449a13d6633e466e60dac25d2 = L.marker(\n",
       "                [-16.331380000000003, -48.94862],\n",
       "                {}\n",
       "            ).addTo(map_d4cbc4feeedecb14afdb37c03024c5d2);\n",
       "        \n",
       "    \n",
       "            var div_icon_e32d836490b50231db4969973a0c6917 = L.divIcon({&quot;className&quot;: &quot;empty&quot;, &quot;html&quot;: &quot;\\u003cdiv style=\\u0027font-size: 10pt; color: black\\u0027\\u003e\\u003cb\\u003eR$11.39\\u003c/b\\u003e\\u003c/div\\u003e&quot;});\n",
       "            marker_1dfa429449a13d6633e466e60dac25d2.setIcon(div_icon_e32d836490b50231db4969973a0c6917);\n",
       "        \n",
       "    \n",
       "            var circle_marker_2508a9371940760d1f3ddd5f7b9b2f15 = L.circleMarker(\n",
       "                [-16.32138, -48.94862],\n",
       "                {&quot;bubblingMouseEvents&quot;: true, &quot;color&quot;: &quot;black&quot;, &quot;dashArray&quot;: null, &quot;dashOffset&quot;: null, &quot;fill&quot;: true, &quot;fillColor&quot;: &quot;#ffed9fff&quot;, &quot;fillOpacity&quot;: 0.7, &quot;fillRule&quot;: &quot;evenodd&quot;, &quot;lineCap&quot;: &quot;round&quot;, &quot;lineJoin&quot;: &quot;round&quot;, &quot;opacity&quot;: 1.0, &quot;radius&quot;: 10, &quot;stroke&quot;: true, &quot;weight&quot;: 3}\n",
       "            ).addTo(map_d4cbc4feeedecb14afdb37c03024c5d2);\n",
       "        \n",
       "    \n",
       "        var popup_97ea2d47ad7a7d0e3a44733f579cf339 = L.popup({&quot;maxWidth&quot;: &quot;100%&quot;});\n",
       "\n",
       "        \n",
       "            \n",
       "                var html_2638a06c2dc1a5b2447161ce6140dd2b = $(`&lt;div id=&quot;html_2638a06c2dc1a5b2447161ce6140dd2b&quot; style=&quot;width: 100.0%; height: 100.0%;&quot;&gt;&lt;b&gt;Hipermercado Goiânia AnápolisCidade Jardim&lt;/b&gt;&lt;br&gt;Kani Congelado Frescatto 200g&lt;br&gt;Preço: &lt;b&gt;R$11.39&lt;/b&gt;&lt;/div&gt;`)[0];\n",
       "                popup_97ea2d47ad7a7d0e3a44733f579cf339.setContent(html_2638a06c2dc1a5b2447161ce6140dd2b);\n",
       "            \n",
       "        \n",
       "\n",
       "        circle_marker_2508a9371940760d1f3ddd5f7b9b2f15.bindPopup(popup_97ea2d47ad7a7d0e3a44733f579cf339)\n",
       "        ;\n",
       "\n",
       "        \n",
       "    \n",
       "    \n",
       "            var marker_cbbaafb4b855ace80037c44c10c67eab = L.marker(\n",
       "                [-15.83938, -47.95478],\n",
       "                {}\n",
       "            ).addTo(map_d4cbc4feeedecb14afdb37c03024c5d2);\n",
       "        \n",
       "    \n",
       "            var div_icon_08e5171d1ef83be72a90f28cb27b4405 = L.divIcon({&quot;className&quot;: &quot;empty&quot;, &quot;html&quot;: &quot;\\u003cdiv style=\\u0027font-size: 10pt; color: black\\u0027\\u003e\\u003cb\\u003eR$12.59\\u003c/b\\u003e\\u003c/div\\u003e&quot;});\n",
       "            marker_cbbaafb4b855ace80037c44c10c67eab.setIcon(div_icon_08e5171d1ef83be72a90f28cb27b4405);\n",
       "        \n",
       "    \n",
       "            var circle_marker_1efed2aefda31b8cf07d2ef0a43be307 = L.circleMarker(\n",
       "                [-15.82938, -47.95478],\n",
       "                {&quot;bubblingMouseEvents&quot;: true, &quot;color&quot;: &quot;black&quot;, &quot;dashArray&quot;: null, &quot;dashOffset&quot;: null, &quot;fill&quot;: true, &quot;fillColor&quot;: &quot;#ffe289ff&quot;, &quot;fillOpacity&quot;: 0.7, &quot;fillRule&quot;: &quot;evenodd&quot;, &quot;lineCap&quot;: &quot;round&quot;, &quot;lineJoin&quot;: &quot;round&quot;, &quot;opacity&quot;: 1.0, &quot;radius&quot;: 10, &quot;stroke&quot;: true, &quot;weight&quot;: 3}\n",
       "            ).addTo(map_d4cbc4feeedecb14afdb37c03024c5d2);\n",
       "        \n",
       "    \n",
       "        var popup_cec46cc1ed50c74fb0c6d410cb344ccb = L.popup({&quot;maxWidth&quot;: &quot;100%&quot;});\n",
       "\n",
       "        \n",
       "            \n",
       "                var html_b17b8dc506867e5354f344b12877e33e = $(`&lt;div id=&quot;html_b17b8dc506867e5354f344b12877e33e&quot; style=&quot;width: 100.0%; height: 100.0%;&quot;&gt;&lt;b&gt;Hipermercado Brasilia SulZona Industrial (Guará)&lt;/b&gt;&lt;br&gt;Kani Congelado Frescatto 200g&lt;br&gt;Preço: &lt;b&gt;R$12.59&lt;/b&gt;&lt;/div&gt;`)[0];\n",
       "                popup_cec46cc1ed50c74fb0c6d410cb344ccb.setContent(html_b17b8dc506867e5354f344b12877e33e);\n",
       "            \n",
       "        \n",
       "\n",
       "        circle_marker_1efed2aefda31b8cf07d2ef0a43be307.bindPopup(popup_cec46cc1ed50c74fb0c6d410cb344ccb)\n",
       "        ;\n",
       "\n",
       "        \n",
       "    \n",
       "    \n",
       "            var marker_d2ac735234f81058e39e7af9ba3985ee = L.marker(\n",
       "                [-20.467650000000003, -54.58963],\n",
       "                {}\n",
       "            ).addTo(map_d4cbc4feeedecb14afdb37c03024c5d2);\n",
       "        \n",
       "    \n",
       "            var div_icon_b75f46ce49c942c34af92f0c14bba542 = L.divIcon({&quot;className&quot;: &quot;empty&quot;, &quot;html&quot;: &quot;\\u003cdiv style=\\u0027font-size: 10pt; color: black\\u0027\\u003e\\u003cb\\u003eR$14.25\\u003c/b\\u003e\\u003c/div\\u003e&quot;});\n",
       "            marker_d2ac735234f81058e39e7af9ba3985ee.setIcon(div_icon_b75f46ce49c942c34af92f0c14bba542);\n",
       "        \n",
       "    \n",
       "            var circle_marker_be193c378f87c9cece5464682cf0ad92 = L.circleMarker(\n",
       "                [-20.45765, -54.58963],\n",
       "                {&quot;bubblingMouseEvents&quot;: true, &quot;color&quot;: &quot;black&quot;, &quot;dashArray&quot;: null, &quot;dashOffset&quot;: null, &quot;fill&quot;: true, &quot;fillColor&quot;: &quot;#fecf6aff&quot;, &quot;fillOpacity&quot;: 0.7, &quot;fillRule&quot;: &quot;evenodd&quot;, &quot;lineCap&quot;: &quot;round&quot;, &quot;lineJoin&quot;: &quot;round&quot;, &quot;opacity&quot;: 1.0, &quot;radius&quot;: 10, &quot;stroke&quot;: true, &quot;weight&quot;: 3}\n",
       "            ).addTo(map_d4cbc4feeedecb14afdb37c03024c5d2);\n",
       "        \n",
       "    \n",
       "        var popup_2f0fc66675c3fcae24f9e47d5647f9f4 = L.popup({&quot;maxWidth&quot;: &quot;100%&quot;});\n",
       "\n",
       "        \n",
       "            \n",
       "                var html_bfb917a71fa838d35c797ad4863c22ef = $(`&lt;div id=&quot;html_bfb917a71fa838d35c797ad4863c22ef&quot; style=&quot;width: 100.0%; height: 100.0%;&quot;&gt;&lt;b&gt;Hipermercado Campo GrandeSanta Fe&lt;/b&gt;&lt;br&gt;Kani Congelado Costa Sul 200g&lt;br&gt;Preço: &lt;b&gt;R$14.25&lt;/b&gt;&lt;/div&gt;`)[0];\n",
       "                popup_2f0fc66675c3fcae24f9e47d5647f9f4.setContent(html_bfb917a71fa838d35c797ad4863c22ef);\n",
       "            \n",
       "        \n",
       "\n",
       "        circle_marker_be193c378f87c9cece5464682cf0ad92.bindPopup(popup_2f0fc66675c3fcae24f9e47d5647f9f4)\n",
       "        ;\n",
       "\n",
       "        \n",
       "    \n",
       "    \n",
       "            var marker_209894301b0b188bf765fcbf318fcd49 = L.marker(\n",
       "                [-20.467650000000003, -54.58963],\n",
       "                {}\n",
       "            ).addTo(map_d4cbc4feeedecb14afdb37c03024c5d2);\n",
       "        \n",
       "    \n",
       "            var div_icon_855724147891d2a83cf1c49f630ffa11 = L.divIcon({&quot;className&quot;: &quot;empty&quot;, &quot;html&quot;: &quot;\\u003cdiv style=\\u0027font-size: 10pt; color: black\\u0027\\u003e\\u003cb\\u003eR$12.45\\u003c/b\\u003e\\u003c/div\\u003e&quot;});\n",
       "            marker_209894301b0b188bf765fcbf318fcd49.setIcon(div_icon_855724147891d2a83cf1c49f630ffa11);\n",
       "        \n",
       "    \n",
       "            var circle_marker_a14434c3f468adad1bab4973a65d3af3 = L.circleMarker(\n",
       "                [-20.45765, -54.58963],\n",
       "                {&quot;bubblingMouseEvents&quot;: true, &quot;color&quot;: &quot;black&quot;, &quot;dashArray&quot;: null, &quot;dashOffset&quot;: null, &quot;fill&quot;: true, &quot;fillColor&quot;: &quot;#ffe38bff&quot;, &quot;fillOpacity&quot;: 0.7, &quot;fillRule&quot;: &quot;evenodd&quot;, &quot;lineCap&quot;: &quot;round&quot;, &quot;lineJoin&quot;: &quot;round&quot;, &quot;opacity&quot;: 1.0, &quot;radius&quot;: 10, &quot;stroke&quot;: true, &quot;weight&quot;: 3}\n",
       "            ).addTo(map_d4cbc4feeedecb14afdb37c03024c5d2);\n",
       "        \n",
       "    \n",
       "        var popup_91a5d05684d21c4ebf4a395a1ad55825 = L.popup({&quot;maxWidth&quot;: &quot;100%&quot;});\n",
       "\n",
       "        \n",
       "            \n",
       "                var html_c92cec1c953a446f273116a075ce1d01 = $(`&lt;div id=&quot;html_c92cec1c953a446f273116a075ce1d01&quot; style=&quot;width: 100.0%; height: 100.0%;&quot;&gt;&lt;b&gt;Hipermercado Campo GrandeSanta Fe&lt;/b&gt;&lt;br&gt;Kani Congelado Frescatto 200g&lt;br&gt;Preço: &lt;b&gt;R$12.45&lt;/b&gt;&lt;/div&gt;`)[0];\n",
       "                popup_91a5d05684d21c4ebf4a395a1ad55825.setContent(html_c92cec1c953a446f273116a075ce1d01);\n",
       "            \n",
       "        \n",
       "\n",
       "        circle_marker_a14434c3f468adad1bab4973a65d3af3.bindPopup(popup_91a5d05684d21c4ebf4a395a1ad55825)\n",
       "        ;\n",
       "\n",
       "        \n",
       "    \n",
       "    \n",
       "            var marker_19d36366d8705fa548eafbea3cddf81f = L.marker(\n",
       "                [-16.719610000000003, -49.23282],\n",
       "                {}\n",
       "            ).addTo(map_d4cbc4feeedecb14afdb37c03024c5d2);\n",
       "        \n",
       "    \n",
       "            var div_icon_086ab4b2fca08264ec993f86a84b49b9 = L.divIcon({&quot;className&quot;: &quot;empty&quot;, &quot;html&quot;: &quot;\\u003cdiv style=\\u0027font-size: 10pt; color: black\\u0027\\u003e\\u003cb\\u003eR$11.39\\u003c/b\\u003e\\u003c/div\\u003e&quot;});\n",
       "            marker_19d36366d8705fa548eafbea3cddf81f.setIcon(div_icon_086ab4b2fca08264ec993f86a84b49b9);\n",
       "        \n",
       "    \n",
       "            var circle_marker_1de5e156d984e54204e96691782e35ce = L.circleMarker(\n",
       "                [-16.70961, -49.23282],\n",
       "                {&quot;bubblingMouseEvents&quot;: true, &quot;color&quot;: &quot;black&quot;, &quot;dashArray&quot;: null, &quot;dashOffset&quot;: null, &quot;fill&quot;: true, &quot;fillColor&quot;: &quot;#ffed9fff&quot;, &quot;fillOpacity&quot;: 0.7, &quot;fillRule&quot;: &quot;evenodd&quot;, &quot;lineCap&quot;: &quot;round&quot;, &quot;lineJoin&quot;: &quot;round&quot;, &quot;opacity&quot;: 1.0, &quot;radius&quot;: 10, &quot;stroke&quot;: true, &quot;weight&quot;: 3}\n",
       "            ).addTo(map_d4cbc4feeedecb14afdb37c03024c5d2);\n",
       "        \n",
       "    \n",
       "        var popup_87e750627e8e8e298130c1420ddf6ef7 = L.popup({&quot;maxWidth&quot;: &quot;100%&quot;});\n",
       "\n",
       "        \n",
       "            \n",
       "                var html_6d1dca34a72a06a421fcd1f300993b04 = $(`&lt;div id=&quot;html_6d1dca34a72a06a421fcd1f300993b04&quot; style=&quot;width: 100.0%; height: 100.0%;&quot;&gt;&lt;b&gt;Hipermercado Goiânia SulJd Goias&lt;/b&gt;&lt;br&gt;Kani Congelado Frescatto 200g&lt;br&gt;Preço: &lt;b&gt;R$11.39&lt;/b&gt;&lt;/div&gt;`)[0];\n",
       "                popup_87e750627e8e8e298130c1420ddf6ef7.setContent(html_6d1dca34a72a06a421fcd1f300993b04);\n",
       "            \n",
       "        \n",
       "\n",
       "        circle_marker_1de5e156d984e54204e96691782e35ce.bindPopup(popup_87e750627e8e8e298130c1420ddf6ef7)\n",
       "        ;\n",
       "\n",
       "        \n",
       "    \n",
       "    \n",
       "            var marker_06486d226c8eb979da91eaf6d5b2382b = L.marker(\n",
       "                [-15.83804, -48.04138],\n",
       "                {}\n",
       "            ).addTo(map_d4cbc4feeedecb14afdb37c03024c5d2);\n",
       "        \n",
       "    \n",
       "            var div_icon_3e83f727d6228f701feec852783382e6 = L.divIcon({&quot;className&quot;: &quot;empty&quot;, &quot;html&quot;: &quot;\\u003cdiv style=\\u0027font-size: 10pt; color: black\\u0027\\u003e\\u003cb\\u003eR$12.19\\u003c/b\\u003e\\u003c/div\\u003e&quot;});\n",
       "            marker_06486d226c8eb979da91eaf6d5b2382b.setIcon(div_icon_3e83f727d6228f701feec852783382e6);\n",
       "        \n",
       "    \n",
       "            var circle_marker_6b89c1310e89b380a70db3f516561c10 = L.circleMarker(\n",
       "                [-15.82804, -48.04138],\n",
       "                {&quot;bubblingMouseEvents&quot;: true, &quot;color&quot;: &quot;black&quot;, &quot;dashArray&quot;: null, &quot;dashOffset&quot;: null, &quot;fill&quot;: true, &quot;fillColor&quot;: &quot;#ffe690ff&quot;, &quot;fillOpacity&quot;: 0.7, &quot;fillRule&quot;: &quot;evenodd&quot;, &quot;lineCap&quot;: &quot;round&quot;, &quot;lineJoin&quot;: &quot;round&quot;, &quot;opacity&quot;: 1.0, &quot;radius&quot;: 10, &quot;stroke&quot;: true, &quot;weight&quot;: 3}\n",
       "            ).addTo(map_d4cbc4feeedecb14afdb37c03024c5d2);\n",
       "        \n",
       "    \n",
       "        var popup_60f820ef44a4dab300fecdf955824fc8 = L.popup({&quot;maxWidth&quot;: &quot;100%&quot;});\n",
       "\n",
       "        \n",
       "            \n",
       "                var html_9f9205a0c5d97ce9f582ffc41a49c881 = $(`&lt;div id=&quot;html_9f9205a0c5d97ce9f582ffc41a49c881&quot; style=&quot;width: 100.0%; height: 100.0%;&quot;&gt;&lt;b&gt;Hipermercado Brasilia TaguatingaAguas Claras&lt;/b&gt;&lt;br&gt;Kani Congelado Frescatto 200g&lt;br&gt;Preço: &lt;b&gt;R$12.19&lt;/b&gt;&lt;/div&gt;`)[0];\n",
       "                popup_60f820ef44a4dab300fecdf955824fc8.setContent(html_9f9205a0c5d97ce9f582ffc41a49c881);\n",
       "            \n",
       "        \n",
       "\n",
       "        circle_marker_6b89c1310e89b380a70db3f516561c10.bindPopup(popup_60f820ef44a4dab300fecdf955824fc8)\n",
       "        ;\n",
       "\n",
       "        \n",
       "    \n",
       "    \n",
       "            var marker_42e53b8be7f90e265827f249b45e79a6 = L.marker(\n",
       "                [-7.2320199999999994, -35.88584],\n",
       "                {}\n",
       "            ).addTo(map_d4cbc4feeedecb14afdb37c03024c5d2);\n",
       "        \n",
       "    \n",
       "            var div_icon_e6bf8ec203bd159f19f296080b80ee12 = L.divIcon({&quot;className&quot;: &quot;empty&quot;, &quot;html&quot;: &quot;\\u003cdiv style=\\u0027font-size: 10pt; color: black\\u0027\\u003e\\u003cb\\u003eR$12.99\\u003c/b\\u003e\\u003c/div\\u003e&quot;});\n",
       "            marker_42e53b8be7f90e265827f249b45e79a6.setIcon(div_icon_e6bf8ec203bd159f19f296080b80ee12);\n",
       "        \n",
       "    \n",
       "            var circle_marker_741ad50779cede6edce8c1667a1dece8 = L.circleMarker(\n",
       "                [-7.22202, -35.88584],\n",
       "                {&quot;bubblingMouseEvents&quot;: true, &quot;color&quot;: &quot;black&quot;, &quot;dashArray&quot;: null, &quot;dashOffset&quot;: null, &quot;fill&quot;: true, &quot;fillColor&quot;: &quot;#ffdf81ff&quot;, &quot;fillOpacity&quot;: 0.7, &quot;fillRule&quot;: &quot;evenodd&quot;, &quot;lineCap&quot;: &quot;round&quot;, &quot;lineJoin&quot;: &quot;round&quot;, &quot;opacity&quot;: 1.0, &quot;radius&quot;: 10, &quot;stroke&quot;: true, &quot;weight&quot;: 3}\n",
       "            ).addTo(map_d4cbc4feeedecb14afdb37c03024c5d2);\n",
       "        \n",
       "    \n",
       "        var popup_cc01042410ee91c77e88bc6eccc19899 = L.popup({&quot;maxWidth&quot;: &quot;100%&quot;});\n",
       "\n",
       "        \n",
       "            \n",
       "                var html_5f13735c3c19a89b9e4b226ca71387ec = $(`&lt;div id=&quot;html_5f13735c3c19a89b9e4b226ca71387ec&quot; style=&quot;width: 100.0%; height: 100.0%;&quot;&gt;&lt;b&gt;Hiper Campina GrandeS José&lt;/b&gt;&lt;br&gt;Kani Congelado Frescatto 200g&lt;br&gt;Preço: &lt;b&gt;R$12.99&lt;/b&gt;&lt;/div&gt;`)[0];\n",
       "                popup_cc01042410ee91c77e88bc6eccc19899.setContent(html_5f13735c3c19a89b9e4b226ca71387ec);\n",
       "            \n",
       "        \n",
       "\n",
       "        circle_marker_741ad50779cede6edce8c1667a1dece8.bindPopup(popup_cc01042410ee91c77e88bc6eccc19899)\n",
       "        ;\n",
       "\n",
       "        \n",
       "    \n",
       "    \n",
       "            var marker_c27dff7b31a750cd8c726db7e1f39c4e = L.marker(\n",
       "                [-14.8079, -39.27272],\n",
       "                {}\n",
       "            ).addTo(map_d4cbc4feeedecb14afdb37c03024c5d2);\n",
       "        \n",
       "    \n",
       "            var div_icon_bb83741889993015ecfe1c1edc8dd43e = L.divIcon({&quot;className&quot;: &quot;empty&quot;, &quot;html&quot;: &quot;\\u003cdiv style=\\u0027font-size: 10pt; color: black\\u0027\\u003e\\u003cb\\u003eR$12.99\\u003c/b\\u003e\\u003c/div\\u003e&quot;});\n",
       "            marker_c27dff7b31a750cd8c726db7e1f39c4e.setIcon(div_icon_bb83741889993015ecfe1c1edc8dd43e);\n",
       "        \n",
       "    \n",
       "            var circle_marker_68745cb74cab52bdbc7545bc50928ef1 = L.circleMarker(\n",
       "                [-14.7979, -39.27272],\n",
       "                {&quot;bubblingMouseEvents&quot;: true, &quot;color&quot;: &quot;black&quot;, &quot;dashArray&quot;: null, &quot;dashOffset&quot;: null, &quot;fill&quot;: true, &quot;fillColor&quot;: &quot;#ffdf81ff&quot;, &quot;fillOpacity&quot;: 0.7, &quot;fillRule&quot;: &quot;evenodd&quot;, &quot;lineCap&quot;: &quot;round&quot;, &quot;lineJoin&quot;: &quot;round&quot;, &quot;opacity&quot;: 1.0, &quot;radius&quot;: 10, &quot;stroke&quot;: true, &quot;weight&quot;: 3}\n",
       "            ).addTo(map_d4cbc4feeedecb14afdb37c03024c5d2);\n",
       "        \n",
       "    \n",
       "        var popup_980d49d7a1f22d98742a69d6f790cb92 = L.popup({&quot;maxWidth&quot;: &quot;100%&quot;});\n",
       "\n",
       "        \n",
       "            \n",
       "                var html_f8e0585238ae641e135743fd0b136209 = $(`&lt;div id=&quot;html_f8e0585238ae641e135743fd0b136209&quot; style=&quot;width: 100.0%; height: 100.0%;&quot;&gt;&lt;b&gt;Big Bompreço ItabunaGoes Calmon&lt;/b&gt;&lt;br&gt;Kani Congelado Frescatto 200g&lt;br&gt;Preço: &lt;b&gt;R$12.99&lt;/b&gt;&lt;/div&gt;`)[0];\n",
       "                popup_980d49d7a1f22d98742a69d6f790cb92.setContent(html_f8e0585238ae641e135743fd0b136209);\n",
       "            \n",
       "        \n",
       "\n",
       "        circle_marker_68745cb74cab52bdbc7545bc50928ef1.bindPopup(popup_980d49d7a1f22d98742a69d6f790cb92)\n",
       "        ;\n",
       "\n",
       "        \n",
       "    \n",
       "    \n",
       "            var marker_facc805480c1b33e8d5efdeac2122581 = L.marker(\n",
       "                [-8.159559999999999, -34.91658],\n",
       "                {}\n",
       "            ).addTo(map_d4cbc4feeedecb14afdb37c03024c5d2);\n",
       "        \n",
       "    \n",
       "            var div_icon_6b859ac7d65a81e9186164d44d82c9a7 = L.divIcon({&quot;className&quot;: &quot;empty&quot;, &quot;html&quot;: &quot;\\u003cdiv style=\\u0027font-size: 10pt; color: black\\u0027\\u003e\\u003cb\\u003eR$12.99\\u003c/b\\u003e\\u003c/div\\u003e&quot;});\n",
       "            marker_facc805480c1b33e8d5efdeac2122581.setIcon(div_icon_6b859ac7d65a81e9186164d44d82c9a7);\n",
       "        \n",
       "    \n",
       "            var circle_marker_d2f65eff48439fc2811c4809e55939da = L.circleMarker(\n",
       "                [-8.14956, -34.91658],\n",
       "                {&quot;bubblingMouseEvents&quot;: true, &quot;color&quot;: &quot;black&quot;, &quot;dashArray&quot;: null, &quot;dashOffset&quot;: null, &quot;fill&quot;: true, &quot;fillColor&quot;: &quot;#ffdf81ff&quot;, &quot;fillOpacity&quot;: 0.7, &quot;fillRule&quot;: &quot;evenodd&quot;, &quot;lineCap&quot;: &quot;round&quot;, &quot;lineJoin&quot;: &quot;round&quot;, &quot;opacity&quot;: 1.0, &quot;radius&quot;: 10, &quot;stroke&quot;: true, &quot;weight&quot;: 3}\n",
       "            ).addTo(map_d4cbc4feeedecb14afdb37c03024c5d2);\n",
       "        \n",
       "    \n",
       "        var popup_9ce37e35c35fcb5a634d51c645211d94 = L.popup({&quot;maxWidth&quot;: &quot;100%&quot;});\n",
       "\n",
       "        \n",
       "            \n",
       "                var html_5001af9f392e48adb125a547df2ab011 = $(`&lt;div id=&quot;html_5001af9f392e48adb125a547df2ab011&quot; style=&quot;width: 100.0%; height: 100.0%;&quot;&gt;&lt;b&gt;Hiper JaboatãoPiedade&lt;/b&gt;&lt;br&gt;Kani Congelado Frescatto 200g&lt;br&gt;Preço: &lt;b&gt;R$12.99&lt;/b&gt;&lt;/div&gt;`)[0];\n",
       "                popup_9ce37e35c35fcb5a634d51c645211d94.setContent(html_5001af9f392e48adb125a547df2ab011);\n",
       "            \n",
       "        \n",
       "\n",
       "        circle_marker_d2f65eff48439fc2811c4809e55939da.bindPopup(popup_9ce37e35c35fcb5a634d51c645211d94)\n",
       "        ;\n",
       "\n",
       "        \n",
       "    \n",
       "    \n",
       "            var marker_6d97ceaf8b0aa04ea66d55ca3b7cd734 = L.marker(\n",
       "                [-7.15594, -34.84909],\n",
       "                {}\n",
       "            ).addTo(map_d4cbc4feeedecb14afdb37c03024c5d2);\n",
       "        \n",
       "    \n",
       "            var div_icon_a96d4d7164a737ece8d26b11efb4785d = L.divIcon({&quot;className&quot;: &quot;empty&quot;, &quot;html&quot;: &quot;\\u003cdiv style=\\u0027font-size: 10pt; color: black\\u0027\\u003e\\u003cb\\u003eR$12.99\\u003c/b\\u003e\\u003c/div\\u003e&quot;});\n",
       "            marker_6d97ceaf8b0aa04ea66d55ca3b7cd734.setIcon(div_icon_a96d4d7164a737ece8d26b11efb4785d);\n",
       "        \n",
       "    \n",
       "            var circle_marker_12fef47a2c184f0127395d97dd4cf4a5 = L.circleMarker(\n",
       "                [-7.14594, -34.84909],\n",
       "                {&quot;bubblingMouseEvents&quot;: true, &quot;color&quot;: &quot;black&quot;, &quot;dashArray&quot;: null, &quot;dashOffset&quot;: null, &quot;fill&quot;: true, &quot;fillColor&quot;: &quot;#ffdf81ff&quot;, &quot;fillOpacity&quot;: 0.7, &quot;fillRule&quot;: &quot;evenodd&quot;, &quot;lineCap&quot;: &quot;round&quot;, &quot;lineJoin&quot;: &quot;round&quot;, &quot;opacity&quot;: 1.0, &quot;radius&quot;: 10, &quot;stroke&quot;: true, &quot;weight&quot;: 3}\n",
       "            ).addTo(map_d4cbc4feeedecb14afdb37c03024c5d2);\n",
       "        \n",
       "    \n",
       "        var popup_7049874fd2005446dba2d16e13dc44bd = L.popup({&quot;maxWidth&quot;: &quot;100%&quot;});\n",
       "\n",
       "        \n",
       "            \n",
       "                var html_eddfca656ad44c989f500fb29a7dabaf = $(`&lt;div id=&quot;html_eddfca656ad44c989f500fb29a7dabaf&quot; style=&quot;width: 100.0%; height: 100.0%;&quot;&gt;&lt;b&gt;Hipermercado JP Cidade dos BancáriosJardim Sao Paulo&lt;/b&gt;&lt;br&gt;Kani Congelado Frescatto 200g&lt;br&gt;Preço: &lt;b&gt;R$12.99&lt;/b&gt;&lt;/div&gt;`)[0];\n",
       "                popup_7049874fd2005446dba2d16e13dc44bd.setContent(html_eddfca656ad44c989f500fb29a7dabaf);\n",
       "            \n",
       "        \n",
       "\n",
       "        circle_marker_12fef47a2c184f0127395d97dd4cf4a5.bindPopup(popup_7049874fd2005446dba2d16e13dc44bd)\n",
       "        ;\n",
       "\n",
       "        \n",
       "    \n",
       "    \n",
       "            var marker_b277b589067420436fd732036daa7443 = L.marker(\n",
       "                [-9.65959, -35.71739],\n",
       "                {}\n",
       "            ).addTo(map_d4cbc4feeedecb14afdb37c03024c5d2);\n",
       "        \n",
       "    \n",
       "            var div_icon_3a87c5ca4678f37b4bd330a29cd0b7e7 = L.divIcon({&quot;className&quot;: &quot;empty&quot;, &quot;html&quot;: &quot;\\u003cdiv style=\\u0027font-size: 10pt; color: black\\u0027\\u003e\\u003cb\\u003eR$13.39\\u003c/b\\u003e\\u003c/div\\u003e&quot;});\n",
       "            marker_b277b589067420436fd732036daa7443.setIcon(div_icon_3a87c5ca4678f37b4bd330a29cd0b7e7);\n",
       "        \n",
       "    \n",
       "            var circle_marker_26d04a68c3b087f8597170a8b4c1c8b9 = L.circleMarker(\n",
       "                [-9.64959, -35.71739],\n",
       "                {&quot;bubblingMouseEvents&quot;: true, &quot;color&quot;: &quot;black&quot;, &quot;dashArray&quot;: null, &quot;dashOffset&quot;: null, &quot;fill&quot;: true, &quot;fillColor&quot;: &quot;#ffdb7aff&quot;, &quot;fillOpacity&quot;: 0.7, &quot;fillRule&quot;: &quot;evenodd&quot;, &quot;lineCap&quot;: &quot;round&quot;, &quot;lineJoin&quot;: &quot;round&quot;, &quot;opacity&quot;: 1.0, &quot;radius&quot;: 10, &quot;stroke&quot;: true, &quot;weight&quot;: 3}\n",
       "            ).addTo(map_d4cbc4feeedecb14afdb37c03024c5d2);\n",
       "        \n",
       "    \n",
       "        var popup_1189054ec0b943663b9d4c90b4535274 = L.popup({&quot;maxWidth&quot;: &quot;100%&quot;});\n",
       "\n",
       "        \n",
       "            \n",
       "                var html_56d225aee58ba79ab53b5192f13a5a0f = $(`&lt;div id=&quot;html_56d225aee58ba79ab53b5192f13a5a0f&quot; style=&quot;width: 100.0%; height: 100.0%;&quot;&gt;&lt;b&gt;Hiper Maceió JatiúcaMangabeiras&lt;/b&gt;&lt;br&gt;Kani Congelado Frescatto 200g&lt;br&gt;Preço: &lt;b&gt;R$13.39&lt;/b&gt;&lt;/div&gt;`)[0];\n",
       "                popup_1189054ec0b943663b9d4c90b4535274.setContent(html_56d225aee58ba79ab53b5192f13a5a0f);\n",
       "            \n",
       "        \n",
       "\n",
       "        circle_marker_26d04a68c3b087f8597170a8b4c1c8b9.bindPopup(popup_1189054ec0b943663b9d4c90b4535274)\n",
       "        ;\n",
       "\n",
       "        \n",
       "    \n",
       "    \n",
       "            var marker_e1fe5ca1a401252c45b2faf2abb7ece1 = L.marker(\n",
       "                [-5.1944, -37.35065],\n",
       "                {}\n",
       "            ).addTo(map_d4cbc4feeedecb14afdb37c03024c5d2);\n",
       "        \n",
       "    \n",
       "            var div_icon_22b825a007b7374a1046268597ba0a95 = L.divIcon({&quot;className&quot;: &quot;empty&quot;, &quot;html&quot;: &quot;\\u003cdiv style=\\u0027font-size: 10pt; color: black\\u0027\\u003e\\u003cb\\u003eR$12.99\\u003c/b\\u003e\\u003c/div\\u003e&quot;});\n",
       "            marker_e1fe5ca1a401252c45b2faf2abb7ece1.setIcon(div_icon_22b825a007b7374a1046268597ba0a95);\n",
       "        \n",
       "    \n",
       "            var circle_marker_7dbd38413b072a5d89e9e665fc2c827b = L.circleMarker(\n",
       "                [-5.1844, -37.35065],\n",
       "                {&quot;bubblingMouseEvents&quot;: true, &quot;color&quot;: &quot;black&quot;, &quot;dashArray&quot;: null, &quot;dashOffset&quot;: null, &quot;fill&quot;: true, &quot;fillColor&quot;: &quot;#ffdf81ff&quot;, &quot;fillOpacity&quot;: 0.7, &quot;fillRule&quot;: &quot;evenodd&quot;, &quot;lineCap&quot;: &quot;round&quot;, &quot;lineJoin&quot;: &quot;round&quot;, &quot;opacity&quot;: 1.0, &quot;radius&quot;: 10, &quot;stroke&quot;: true, &quot;weight&quot;: 3}\n",
       "            ).addTo(map_d4cbc4feeedecb14afdb37c03024c5d2);\n",
       "        \n",
       "    \n",
       "        var popup_a56e3290d61ddba4723554e46ea4270c = L.popup({&quot;maxWidth&quot;: &quot;100%&quot;});\n",
       "\n",
       "        \n",
       "            \n",
       "                var html_e62844c191a8763f2b115b2650f5550c = $(`&lt;div id=&quot;html_e62844c191a8763f2b115b2650f5550c&quot; style=&quot;width: 100.0%; height: 100.0%;&quot;&gt;&lt;b&gt;BIG MossoróDoze Anos&lt;/b&gt;&lt;br&gt;Kani Congelado Frescatto 200g&lt;br&gt;Preço: &lt;b&gt;R$12.99&lt;/b&gt;&lt;/div&gt;`)[0];\n",
       "                popup_a56e3290d61ddba4723554e46ea4270c.setContent(html_e62844c191a8763f2b115b2650f5550c);\n",
       "            \n",
       "        \n",
       "\n",
       "        circle_marker_7dbd38413b072a5d89e9e665fc2c827b.bindPopup(popup_a56e3290d61ddba4723554e46ea4270c)\n",
       "        ;\n",
       "\n",
       "        \n",
       "    \n",
       "    \n",
       "            var marker_f8c06ed7604943647bab5dc1eb5a73f4 = L.marker(\n",
       "                [-5.8360899999999996, -35.21258],\n",
       "                {}\n",
       "            ).addTo(map_d4cbc4feeedecb14afdb37c03024c5d2);\n",
       "        \n",
       "    \n",
       "            var div_icon_7868d2ea5570c47d5b05446e43459af6 = L.divIcon({&quot;className&quot;: &quot;empty&quot;, &quot;html&quot;: &quot;\\u003cdiv style=\\u0027font-size: 10pt; color: black\\u0027\\u003e\\u003cb\\u003eR$12.99\\u003c/b\\u003e\\u003c/div\\u003e&quot;});\n",
       "            marker_f8c06ed7604943647bab5dc1eb5a73f4.setIcon(div_icon_7868d2ea5570c47d5b05446e43459af6);\n",
       "        \n",
       "    \n",
       "            var circle_marker_9bd7ba8c6d722c2707afe2fea96d22af = L.circleMarker(\n",
       "                [-5.82609, -35.21258],\n",
       "                {&quot;bubblingMouseEvents&quot;: true, &quot;color&quot;: &quot;black&quot;, &quot;dashArray&quot;: null, &quot;dashOffset&quot;: null, &quot;fill&quot;: true, &quot;fillColor&quot;: &quot;#ffdf81ff&quot;, &quot;fillOpacity&quot;: 0.7, &quot;fillRule&quot;: &quot;evenodd&quot;, &quot;lineCap&quot;: &quot;round&quot;, &quot;lineJoin&quot;: &quot;round&quot;, &quot;opacity&quot;: 1.0, &quot;radius&quot;: 10, &quot;stroke&quot;: true, &quot;weight&quot;: 3}\n",
       "            ).addTo(map_d4cbc4feeedecb14afdb37c03024c5d2);\n",
       "        \n",
       "    \n",
       "        var popup_a8f452ec91ad932eb746d1a1c11e5e08 = L.popup({&quot;maxWidth&quot;: &quot;100%&quot;});\n",
       "\n",
       "        \n",
       "            \n",
       "                var html_c21dafbfb7f4989c4fc9640bcabe868d = $(`&lt;div id=&quot;html_c21dafbfb7f4989c4fc9640bcabe868d&quot; style=&quot;width: 100.0%; height: 100.0%;&quot;&gt;&lt;b&gt;Hipermercado NatalLagoa Nova&lt;/b&gt;&lt;br&gt;Kani Congelado Frescatto 200g&lt;br&gt;Preço: &lt;b&gt;R$12.99&lt;/b&gt;&lt;/div&gt;`)[0];\n",
       "                popup_a8f452ec91ad932eb746d1a1c11e5e08.setContent(html_c21dafbfb7f4989c4fc9640bcabe868d);\n",
       "            \n",
       "        \n",
       "\n",
       "        circle_marker_9bd7ba8c6d722c2707afe2fea96d22af.bindPopup(popup_a8f452ec91ad932eb746d1a1c11e5e08)\n",
       "        ;\n",
       "\n",
       "        \n",
       "    \n",
       "    \n",
       "            var marker_9fe2f7923ce72649ea32619da307c6fd = L.marker(\n",
       "                [-9.39299, -40.4901],\n",
       "                {}\n",
       "            ).addTo(map_d4cbc4feeedecb14afdb37c03024c5d2);\n",
       "        \n",
       "    \n",
       "            var div_icon_8ee01f786e7fdfcec253291c6e689858 = L.divIcon({&quot;className&quot;: &quot;empty&quot;, &quot;html&quot;: &quot;\\u003cdiv style=\\u0027font-size: 10pt; color: black\\u0027\\u003e\\u003cb\\u003eR$12.99\\u003c/b\\u003e\\u003c/div\\u003e&quot;});\n",
       "            marker_9fe2f7923ce72649ea32619da307c6fd.setIcon(div_icon_8ee01f786e7fdfcec253291c6e689858);\n",
       "        \n",
       "    \n",
       "            var circle_marker_3b4604eb7b2586d9313d992e9e9e5a1a = L.circleMarker(\n",
       "                [-9.38299, -40.4901],\n",
       "                {&quot;bubblingMouseEvents&quot;: true, &quot;color&quot;: &quot;black&quot;, &quot;dashArray&quot;: null, &quot;dashOffset&quot;: null, &quot;fill&quot;: true, &quot;fillColor&quot;: &quot;#ffdf81ff&quot;, &quot;fillOpacity&quot;: 0.7, &quot;fillRule&quot;: &quot;evenodd&quot;, &quot;lineCap&quot;: &quot;round&quot;, &quot;lineJoin&quot;: &quot;round&quot;, &quot;opacity&quot;: 1.0, &quot;radius&quot;: 10, &quot;stroke&quot;: true, &quot;weight&quot;: 3}\n",
       "            ).addTo(map_d4cbc4feeedecb14afdb37c03024c5d2);\n",
       "        \n",
       "    \n",
       "        var popup_f2ca21c8c1ae3857fbeb93e13999904b = L.popup({&quot;maxWidth&quot;: &quot;100%&quot;});\n",
       "\n",
       "        \n",
       "            \n",
       "                var html_4d04a04bf9f81e553b4ed41b78cf6a9a = $(`&lt;div id=&quot;html_4d04a04bf9f81e553b4ed41b78cf6a9a&quot; style=&quot;width: 100.0%; height: 100.0%;&quot;&gt;&lt;b&gt;Hiper Shopping PetrolinaCentro&lt;/b&gt;&lt;br&gt;Kani Congelado Frescatto 200g&lt;br&gt;Preço: &lt;b&gt;R$12.99&lt;/b&gt;&lt;/div&gt;`)[0];\n",
       "                popup_f2ca21c8c1ae3857fbeb93e13999904b.setContent(html_4d04a04bf9f81e553b4ed41b78cf6a9a);\n",
       "            \n",
       "        \n",
       "\n",
       "        circle_marker_3b4604eb7b2586d9313d992e9e9e5a1a.bindPopup(popup_f2ca21c8c1ae3857fbeb93e13999904b)\n",
       "        ;\n",
       "\n",
       "        \n",
       "    \n",
       "    \n",
       "            var marker_13729ada1e74a40deb86fd2dafb6f60d = L.marker(\n",
       "                [-8.10017, -34.90133],\n",
       "                {}\n",
       "            ).addTo(map_d4cbc4feeedecb14afdb37c03024c5d2);\n",
       "        \n",
       "    \n",
       "            var div_icon_98ef1d178df71f4d2c5ad2190c9b0b4e = L.divIcon({&quot;className&quot;: &quot;empty&quot;, &quot;html&quot;: &quot;\\u003cdiv style=\\u0027font-size: 10pt; color: black\\u0027\\u003e\\u003cb\\u003eR$12.99\\u003c/b\\u003e\\u003c/div\\u003e&quot;});\n",
       "            marker_13729ada1e74a40deb86fd2dafb6f60d.setIcon(div_icon_98ef1d178df71f4d2c5ad2190c9b0b4e);\n",
       "        \n",
       "    \n",
       "            var circle_marker_66ff22aaf9a23069374277075c471cad = L.circleMarker(\n",
       "                [-8.09017, -34.90133],\n",
       "                {&quot;bubblingMouseEvents&quot;: true, &quot;color&quot;: &quot;black&quot;, &quot;dashArray&quot;: null, &quot;dashOffset&quot;: null, &quot;fill&quot;: true, &quot;fillColor&quot;: &quot;#ffdf81ff&quot;, &quot;fillOpacity&quot;: 0.7, &quot;fillRule&quot;: &quot;evenodd&quot;, &quot;lineCap&quot;: &quot;round&quot;, &quot;lineJoin&quot;: &quot;round&quot;, &quot;opacity&quot;: 1.0, &quot;radius&quot;: 10, &quot;stroke&quot;: true, &quot;weight&quot;: 3}\n",
       "            ).addTo(map_d4cbc4feeedecb14afdb37c03024c5d2);\n",
       "        \n",
       "    \n",
       "        var popup_7fb34415e4e70ef3c508b10284c82955 = L.popup({&quot;maxWidth&quot;: &quot;100%&quot;});\n",
       "\n",
       "        \n",
       "            \n",
       "                var html_4256cc8bd6fe100778ae0fff83e53a8e = $(`&lt;div id=&quot;html_4256cc8bd6fe100778ae0fff83e53a8e&quot; style=&quot;width: 100.0%; height: 100.0%;&quot;&gt;&lt;b&gt;Hipermercado Domingos FerreiraBoa Viagem&lt;/b&gt;&lt;br&gt;Kani Congelado Frescatto 200g&lt;br&gt;Preço: &lt;b&gt;R$12.99&lt;/b&gt;&lt;/div&gt;`)[0];\n",
       "                popup_7fb34415e4e70ef3c508b10284c82955.setContent(html_4256cc8bd6fe100778ae0fff83e53a8e);\n",
       "            \n",
       "        \n",
       "\n",
       "        circle_marker_66ff22aaf9a23069374277075c471cad.bindPopup(popup_7fb34415e4e70ef3c508b10284c82955)\n",
       "        ;\n",
       "\n",
       "        \n",
       "    \n",
       "    \n",
       "            var marker_61000036e082abf39ea655248d8f9710 = L.marker(\n",
       "                [-23.513150000000003, -46.83511],\n",
       "                {}\n",
       "            ).addTo(map_d4cbc4feeedecb14afdb37c03024c5d2);\n",
       "        \n",
       "    \n",
       "            var div_icon_cb66f7d90614a1ca60790e63e64e9827 = L.divIcon({&quot;className&quot;: &quot;empty&quot;, &quot;html&quot;: &quot;\\u003cdiv style=\\u0027font-size: 10pt; color: black\\u0027\\u003e\\u003cb\\u003eR$10.19\\u003c/b\\u003e\\u003c/div\\u003e&quot;});\n",
       "            marker_61000036e082abf39ea655248d8f9710.setIcon(div_icon_cb66f7d90614a1ca60790e63e64e9827);\n",
       "        \n",
       "    \n",
       "            var circle_marker_6abdf6cffa9bdfba4a3708edaadcf52c = L.circleMarker(\n",
       "                [-23.50315, -46.83511],\n",
       "                {&quot;bubblingMouseEvents&quot;: true, &quot;color&quot;: &quot;black&quot;, &quot;dashArray&quot;: null, &quot;dashOffset&quot;: null, &quot;fill&quot;: true, &quot;fillColor&quot;: &quot;#fff6b5ff&quot;, &quot;fillOpacity&quot;: 0.7, &quot;fillRule&quot;: &quot;evenodd&quot;, &quot;lineCap&quot;: &quot;round&quot;, &quot;lineJoin&quot;: &quot;round&quot;, &quot;opacity&quot;: 1.0, &quot;radius&quot;: 10, &quot;stroke&quot;: true, &quot;weight&quot;: 3}\n",
       "            ).addTo(map_d4cbc4feeedecb14afdb37c03024c5d2);\n",
       "        \n",
       "    \n",
       "        var popup_9c77dc25c3a986be9db2f68bfbb5077b = L.popup({&quot;maxWidth&quot;: &quot;100%&quot;});\n",
       "\n",
       "        \n",
       "            \n",
       "                var html_c1f2caff6997141338ba6edfa7746a3e = $(`&lt;div id=&quot;html_c1f2caff6997141338ba6edfa7746a3e&quot; style=&quot;width: 100.0%; height: 100.0%;&quot;&gt;&lt;b&gt;Hipermercado TamboréCentro Empresarial Tamboré&lt;/b&gt;&lt;br&gt;Kani Congelado Costa Sul 200g&lt;br&gt;Preço: &lt;b&gt;R$10.19&lt;/b&gt;&lt;/div&gt;`)[0];\n",
       "                popup_9c77dc25c3a986be9db2f68bfbb5077b.setContent(html_c1f2caff6997141338ba6edfa7746a3e);\n",
       "            \n",
       "        \n",
       "\n",
       "        circle_marker_6abdf6cffa9bdfba4a3708edaadcf52c.bindPopup(popup_9c77dc25c3a986be9db2f68bfbb5077b)\n",
       "        ;\n",
       "\n",
       "        \n",
       "    \n",
       "    \n",
       "            var marker_3d2f99fa16cfe57e71db0d54264b2888 = L.marker(\n",
       "                [-23.513150000000003, -46.83511],\n",
       "                {}\n",
       "            ).addTo(map_d4cbc4feeedecb14afdb37c03024c5d2);\n",
       "        \n",
       "    \n",
       "            var div_icon_aa3731f5e5df032c399016487738223c = L.divIcon({&quot;className&quot;: &quot;empty&quot;, &quot;html&quot;: &quot;\\u003cdiv style=\\u0027font-size: 10pt; color: black\\u0027\\u003e\\u003cb\\u003eR$22.69\\u003c/b\\u003e\\u003c/div\\u003e&quot;});\n",
       "            marker_3d2f99fa16cfe57e71db0d54264b2888.setIcon(div_icon_aa3731f5e5df032c399016487738223c);\n",
       "        \n",
       "    \n",
       "            var circle_marker_ad29c0891f3a5ac31ccc3f2cddd71474 = L.circleMarker(\n",
       "                [-23.50315, -46.83511],\n",
       "                {&quot;bubblingMouseEvents&quot;: true, &quot;color&quot;: &quot;black&quot;, &quot;dashArray&quot;: null, &quot;dashOffset&quot;: null, &quot;fill&quot;: true, &quot;fillColor&quot;: &quot;#e51e1dff&quot;, &quot;fillOpacity&quot;: 0.7, &quot;fillRule&quot;: &quot;evenodd&quot;, &quot;lineCap&quot;: &quot;round&quot;, &quot;lineJoin&quot;: &quot;round&quot;, &quot;opacity&quot;: 1.0, &quot;radius&quot;: 10, &quot;stroke&quot;: true, &quot;weight&quot;: 3}\n",
       "            ).addTo(map_d4cbc4feeedecb14afdb37c03024c5d2);\n",
       "        \n",
       "    \n",
       "        var popup_054951a697981e5e1836b366f4445bd8 = L.popup({&quot;maxWidth&quot;: &quot;100%&quot;});\n",
       "\n",
       "        \n",
       "            \n",
       "                var html_295d1bd8a0506c256c07e36da204a43d = $(`&lt;div id=&quot;html_295d1bd8a0506c256c07e36da204a43d&quot; style=&quot;width: 100.0%; height: 100.0%;&quot;&gt;&lt;b&gt;Hipermercado TamboréCentro Empresarial Tamboré&lt;/b&gt;&lt;br&gt;Kani Congelado Damm 250g&lt;br&gt;Preço: &lt;b&gt;R$22.69&lt;/b&gt;&lt;/div&gt;`)[0];\n",
       "                popup_054951a697981e5e1836b366f4445bd8.setContent(html_295d1bd8a0506c256c07e36da204a43d);\n",
       "            \n",
       "        \n",
       "\n",
       "        circle_marker_ad29c0891f3a5ac31ccc3f2cddd71474.bindPopup(popup_054951a697981e5e1836b366f4445bd8)\n",
       "        ;\n",
       "\n",
       "        \n",
       "    \n",
       "    \n",
       "            var marker_c0e9ed1729f5ff66b91e2e0dd929d69d = L.marker(\n",
       "                [-19.983500000000003, -43.94444],\n",
       "                {}\n",
       "            ).addTo(map_d4cbc4feeedecb14afdb37c03024c5d2);\n",
       "        \n",
       "    \n",
       "            var div_icon_e6af8b75b16c97eef05f2f02e8425c9c = L.divIcon({&quot;className&quot;: &quot;empty&quot;, &quot;html&quot;: &quot;\\u003cdiv style=\\u0027font-size: 10pt; color: black\\u0027\\u003e\\u003cb\\u003eR$12.99\\u003c/b\\u003e\\u003c/div\\u003e&quot;});\n",
       "            marker_c0e9ed1729f5ff66b91e2e0dd929d69d.setIcon(div_icon_e6af8b75b16c97eef05f2f02e8425c9c);\n",
       "        \n",
       "    \n",
       "            var circle_marker_10e401f0d4d6faee6b5298cb73ea026d = L.circleMarker(\n",
       "                [-19.9735, -43.94444],\n",
       "                {&quot;bubblingMouseEvents&quot;: true, &quot;color&quot;: &quot;black&quot;, &quot;dashArray&quot;: null, &quot;dashOffset&quot;: null, &quot;fill&quot;: true, &quot;fillColor&quot;: &quot;#ffdf81ff&quot;, &quot;fillOpacity&quot;: 0.7, &quot;fillRule&quot;: &quot;evenodd&quot;, &quot;lineCap&quot;: &quot;round&quot;, &quot;lineJoin&quot;: &quot;round&quot;, &quot;opacity&quot;: 1.0, &quot;radius&quot;: 10, &quot;stroke&quot;: true, &quot;weight&quot;: 3}\n",
       "            ).addTo(map_d4cbc4feeedecb14afdb37c03024c5d2);\n",
       "        \n",
       "    \n",
       "        var popup_12f8389be5a75711c2d4239e1cf2dd8d = L.popup({&quot;maxWidth&quot;: &quot;100%&quot;});\n",
       "\n",
       "        \n",
       "            \n",
       "                var html_07cbc8517b960defc7ce0787a647a3a2 = $(`&lt;div id=&quot;html_07cbc8517b960defc7ce0787a647a3a2&quot; style=&quot;width: 100.0%; height: 100.0%;&quot;&gt;&lt;b&gt;Hipermercado BH ShoppingBelvedere&lt;/b&gt;&lt;br&gt;Kani Congelado Costa Sul 200g&lt;br&gt;Preço: &lt;b&gt;R$12.99&lt;/b&gt;&lt;/div&gt;`)[0];\n",
       "                popup_12f8389be5a75711c2d4239e1cf2dd8d.setContent(html_07cbc8517b960defc7ce0787a647a3a2);\n",
       "            \n",
       "        \n",
       "\n",
       "        circle_marker_10e401f0d4d6faee6b5298cb73ea026d.bindPopup(popup_12f8389be5a75711c2d4239e1cf2dd8d)\n",
       "        ;\n",
       "\n",
       "        \n",
       "    \n",
       "    \n",
       "            var marker_68f0a7d1da361e7c8c403db076f2dc40 = L.marker(\n",
       "                [-19.983500000000003, -43.94444],\n",
       "                {}\n",
       "            ).addTo(map_d4cbc4feeedecb14afdb37c03024c5d2);\n",
       "        \n",
       "    \n",
       "            var div_icon_eaded6936116101187a7fadc1a2bf9fe = L.divIcon({&quot;className&quot;: &quot;empty&quot;, &quot;html&quot;: &quot;\\u003cdiv style=\\u0027font-size: 10pt; color: black\\u0027\\u003e\\u003cb\\u003eR$15.99\\u003c/b\\u003e\\u003c/div\\u003e&quot;});\n",
       "            marker_68f0a7d1da361e7c8c403db076f2dc40.setIcon(div_icon_eaded6936116101187a7fadc1a2bf9fe);\n",
       "        \n",
       "    \n",
       "            var circle_marker_76bd6b1b052bd74378707666c5f6b6e0 = L.circleMarker(\n",
       "                [-19.9735, -43.94444],\n",
       "                {&quot;bubblingMouseEvents&quot;: true, &quot;color&quot;: &quot;black&quot;, &quot;dashArray&quot;: null, &quot;dashOffset&quot;: null, &quot;fill&quot;: true, &quot;fillColor&quot;: &quot;#feb14bff&quot;, &quot;fillOpacity&quot;: 0.7, &quot;fillRule&quot;: &quot;evenodd&quot;, &quot;lineCap&quot;: &quot;round&quot;, &quot;lineJoin&quot;: &quot;round&quot;, &quot;opacity&quot;: 1.0, &quot;radius&quot;: 10, &quot;stroke&quot;: true, &quot;weight&quot;: 3}\n",
       "            ).addTo(map_d4cbc4feeedecb14afdb37c03024c5d2);\n",
       "        \n",
       "    \n",
       "        var popup_2e82f6e64e583eb4a0908c74ddfd8348 = L.popup({&quot;maxWidth&quot;: &quot;100%&quot;});\n",
       "\n",
       "        \n",
       "            \n",
       "                var html_384f4df480e48d0c6a093e192dd74b57 = $(`&lt;div id=&quot;html_384f4df480e48d0c6a093e192dd74b57&quot; style=&quot;width: 100.0%; height: 100.0%;&quot;&gt;&lt;b&gt;Hipermercado BH ShoppingBelvedere&lt;/b&gt;&lt;br&gt;Kani Congelado Frescatto 200g&lt;br&gt;Preço: &lt;b&gt;R$15.99&lt;/b&gt;&lt;/div&gt;`)[0];\n",
       "                popup_2e82f6e64e583eb4a0908c74ddfd8348.setContent(html_384f4df480e48d0c6a093e192dd74b57);\n",
       "            \n",
       "        \n",
       "\n",
       "        circle_marker_76bd6b1b052bd74378707666c5f6b6e0.bindPopup(popup_2e82f6e64e583eb4a0908c74ddfd8348)\n",
       "        ;\n",
       "\n",
       "        \n",
       "    \n",
       "    \n",
       "            var marker_7aaa6345818522a6f4f8e221c858ac53 = L.marker(\n",
       "                [-19.983500000000003, -43.94444],\n",
       "                {}\n",
       "            ).addTo(map_d4cbc4feeedecb14afdb37c03024c5d2);\n",
       "        \n",
       "    \n",
       "            var div_icon_13658b33e29a605526f12e8621e016c8 = L.divIcon({&quot;className&quot;: &quot;empty&quot;, &quot;html&quot;: &quot;\\u003cdiv style=\\u0027font-size: 10pt; color: black\\u0027\\u003e\\u003cb\\u003eR$12.99\\u003c/b\\u003e\\u003c/div\\u003e&quot;});\n",
       "            marker_7aaa6345818522a6f4f8e221c858ac53.setIcon(div_icon_13658b33e29a605526f12e8621e016c8);\n",
       "        \n",
       "    \n",
       "            var circle_marker_7b9eaed66665655cdbc0ed5a17d1402c = L.circleMarker(\n",
       "                [-19.9735, -43.94444],\n",
       "                {&quot;bubblingMouseEvents&quot;: true, &quot;color&quot;: &quot;black&quot;, &quot;dashArray&quot;: null, &quot;dashOffset&quot;: null, &quot;fill&quot;: true, &quot;fillColor&quot;: &quot;#ffdf81ff&quot;, &quot;fillOpacity&quot;: 0.7, &quot;fillRule&quot;: &quot;evenodd&quot;, &quot;lineCap&quot;: &quot;round&quot;, &quot;lineJoin&quot;: &quot;round&quot;, &quot;opacity&quot;: 1.0, &quot;radius&quot;: 10, &quot;stroke&quot;: true, &quot;weight&quot;: 3}\n",
       "            ).addTo(map_d4cbc4feeedecb14afdb37c03024c5d2);\n",
       "        \n",
       "    \n",
       "        var popup_4b173d5b24c86022bdbdd17b2095f6bc = L.popup({&quot;maxWidth&quot;: &quot;100%&quot;});\n",
       "\n",
       "        \n",
       "            \n",
       "                var html_9c2e9f2303460495bba16f6005ac839f = $(`&lt;div id=&quot;html_9c2e9f2303460495bba16f6005ac839f&quot; style=&quot;width: 100.0%; height: 100.0%;&quot;&gt;&lt;b&gt;Hipermercado BH ShoppingBelvedere&lt;/b&gt;&lt;br&gt;Kani Congelado Costa Sul 200g&lt;br&gt;Preço: &lt;b&gt;R$12.99&lt;/b&gt;&lt;/div&gt;`)[0];\n",
       "                popup_4b173d5b24c86022bdbdd17b2095f6bc.setContent(html_9c2e9f2303460495bba16f6005ac839f);\n",
       "            \n",
       "        \n",
       "\n",
       "        circle_marker_7b9eaed66665655cdbc0ed5a17d1402c.bindPopup(popup_4b173d5b24c86022bdbdd17b2095f6bc)\n",
       "        ;\n",
       "\n",
       "        \n",
       "    \n",
       "    \n",
       "            var marker_b5f5540b28ce32d993d205bc27019efb = L.marker(\n",
       "                [-19.983500000000003, -43.94444],\n",
       "                {}\n",
       "            ).addTo(map_d4cbc4feeedecb14afdb37c03024c5d2);\n",
       "        \n",
       "    \n",
       "            var div_icon_c39e12ea94dd9a6407586cb93aebe189 = L.divIcon({&quot;className&quot;: &quot;empty&quot;, &quot;html&quot;: &quot;\\u003cdiv style=\\u0027font-size: 10pt; color: black\\u0027\\u003e\\u003cb\\u003eR$15.99\\u003c/b\\u003e\\u003c/div\\u003e&quot;});\n",
       "            marker_b5f5540b28ce32d993d205bc27019efb.setIcon(div_icon_c39e12ea94dd9a6407586cb93aebe189);\n",
       "        \n",
       "    \n",
       "            var circle_marker_3c56765aa29c34702d13f336f8eddfa5 = L.circleMarker(\n",
       "                [-19.9735, -43.94444],\n",
       "                {&quot;bubblingMouseEvents&quot;: true, &quot;color&quot;: &quot;black&quot;, &quot;dashArray&quot;: null, &quot;dashOffset&quot;: null, &quot;fill&quot;: true, &quot;fillColor&quot;: &quot;#feb14bff&quot;, &quot;fillOpacity&quot;: 0.7, &quot;fillRule&quot;: &quot;evenodd&quot;, &quot;lineCap&quot;: &quot;round&quot;, &quot;lineJoin&quot;: &quot;round&quot;, &quot;opacity&quot;: 1.0, &quot;radius&quot;: 10, &quot;stroke&quot;: true, &quot;weight&quot;: 3}\n",
       "            ).addTo(map_d4cbc4feeedecb14afdb37c03024c5d2);\n",
       "        \n",
       "    \n",
       "        var popup_019fcfb744ae8ef09ee470559fe7658b = L.popup({&quot;maxWidth&quot;: &quot;100%&quot;});\n",
       "\n",
       "        \n",
       "            \n",
       "                var html_b2861163e634e99b40fae0670bf5be75 = $(`&lt;div id=&quot;html_b2861163e634e99b40fae0670bf5be75&quot; style=&quot;width: 100.0%; height: 100.0%;&quot;&gt;&lt;b&gt;Hipermercado BH ShoppingBelvedere&lt;/b&gt;&lt;br&gt;Kani Congelado Frescatto 200g&lt;br&gt;Preço: &lt;b&gt;R$15.99&lt;/b&gt;&lt;/div&gt;`)[0];\n",
       "                popup_019fcfb744ae8ef09ee470559fe7658b.setContent(html_b2861163e634e99b40fae0670bf5be75);\n",
       "            \n",
       "        \n",
       "\n",
       "        circle_marker_3c56765aa29c34702d13f336f8eddfa5.bindPopup(popup_019fcfb744ae8ef09ee470559fe7658b)\n",
       "        ;\n",
       "\n",
       "        \n",
       "    \n",
       "    \n",
       "            var marker_8a30e2ef3ae133e95c6ff92c31688580 = L.marker(\n",
       "                [-22.96214, -47.01448],\n",
       "                {}\n",
       "            ).addTo(map_d4cbc4feeedecb14afdb37c03024c5d2);\n",
       "        \n",
       "    \n",
       "            var div_icon_778fe12b38416459bb247c584a31087a = L.divIcon({&quot;className&quot;: &quot;empty&quot;, &quot;html&quot;: &quot;\\u003cdiv style=\\u0027font-size: 10pt; color: black\\u0027\\u003e\\u003cb\\u003eR$10.19\\u003c/b\\u003e\\u003c/div\\u003e&quot;});\n",
       "            marker_8a30e2ef3ae133e95c6ff92c31688580.setIcon(div_icon_778fe12b38416459bb247c584a31087a);\n",
       "        \n",
       "    \n",
       "            var circle_marker_acd4022e5bdffbf7fd077d64a81fea9a = L.circleMarker(\n",
       "                [-22.95214, -47.01448],\n",
       "                {&quot;bubblingMouseEvents&quot;: true, &quot;color&quot;: &quot;black&quot;, &quot;dashArray&quot;: null, &quot;dashOffset&quot;: null, &quot;fill&quot;: true, &quot;fillColor&quot;: &quot;#fff6b5ff&quot;, &quot;fillOpacity&quot;: 0.7, &quot;fillRule&quot;: &quot;evenodd&quot;, &quot;lineCap&quot;: &quot;round&quot;, &quot;lineJoin&quot;: &quot;round&quot;, &quot;opacity&quot;: 1.0, &quot;radius&quot;: 10, &quot;stroke&quot;: true, &quot;weight&quot;: 3}\n",
       "            ).addTo(map_d4cbc4feeedecb14afdb37c03024c5d2);\n",
       "        \n",
       "    \n",
       "        var popup_1d626c4f7eed7d0e86df0f827731232b = L.popup({&quot;maxWidth&quot;: &quot;100%&quot;});\n",
       "\n",
       "        \n",
       "            \n",
       "                var html_5900b5c06bafb165e0075ce54999dfe4 = $(`&lt;div id=&quot;html_5900b5c06bafb165e0075ce54999dfe4&quot; style=&quot;width: 100.0%; height: 100.0%;&quot;&gt;&lt;b&gt;Hipermercado Campinas ValinhosJardim Von Zuben&lt;/b&gt;&lt;br&gt;Kani Congelado Costa Sul 200g&lt;br&gt;Preço: &lt;b&gt;R$10.19&lt;/b&gt;&lt;/div&gt;`)[0];\n",
       "                popup_1d626c4f7eed7d0e86df0f827731232b.setContent(html_5900b5c06bafb165e0075ce54999dfe4);\n",
       "            \n",
       "        \n",
       "\n",
       "        circle_marker_acd4022e5bdffbf7fd077d64a81fea9a.bindPopup(popup_1d626c4f7eed7d0e86df0f827731232b)\n",
       "        ;\n",
       "\n",
       "        \n",
       "    \n",
       "    \n",
       "            var marker_2a06dee233bdc54577c3cd2aa3a1e22d = L.marker(\n",
       "                [-21.77534, -41.34352],\n",
       "                {}\n",
       "            ).addTo(map_d4cbc4feeedecb14afdb37c03024c5d2);\n",
       "        \n",
       "    \n",
       "            var div_icon_943b44c445e0be953aefa6c15a0a6f09 = L.divIcon({&quot;className&quot;: &quot;empty&quot;, &quot;html&quot;: &quot;\\u003cdiv style=\\u0027font-size: 10pt; color: black\\u0027\\u003e\\u003cb\\u003eR$11.89\\u003c/b\\u003e\\u003c/div\\u003e&quot;});\n",
       "            marker_2a06dee233bdc54577c3cd2aa3a1e22d.setIcon(div_icon_943b44c445e0be953aefa6c15a0a6f09);\n",
       "        \n",
       "    \n",
       "            var circle_marker_0357a1b67ab74c2c39d71128b753c079 = L.circleMarker(\n",
       "                [-21.76534, -41.34352],\n",
       "                {&quot;bubblingMouseEvents&quot;: true, &quot;color&quot;: &quot;black&quot;, &quot;dashArray&quot;: null, &quot;dashOffset&quot;: null, &quot;fill&quot;: true, &quot;fillColor&quot;: &quot;#ffe895ff&quot;, &quot;fillOpacity&quot;: 0.7, &quot;fillRule&quot;: &quot;evenodd&quot;, &quot;lineCap&quot;: &quot;round&quot;, &quot;lineJoin&quot;: &quot;round&quot;, &quot;opacity&quot;: 1.0, &quot;radius&quot;: 10, &quot;stroke&quot;: true, &quot;weight&quot;: 3}\n",
       "            ).addTo(map_d4cbc4feeedecb14afdb37c03024c5d2);\n",
       "        \n",
       "    \n",
       "        var popup_0be139f8f676e2c855213a9b8fa9277d = L.popup({&quot;maxWidth&quot;: &quot;100%&quot;});\n",
       "\n",
       "        \n",
       "            \n",
       "                var html_4aca2287bdb94eebb3c72a38b7808daf = $(`&lt;div id=&quot;html_4aca2287bdb94eebb3c72a38b7808daf&quot; style=&quot;width: 100.0%; height: 100.0%;&quot;&gt;&lt;b&gt;Hiper Campos de GoytacazesQueimados&lt;/b&gt;&lt;br&gt;Kani Congelado Costa Sul 200g&lt;br&gt;Preço: &lt;b&gt;R$11.89&lt;/b&gt;&lt;/div&gt;`)[0];\n",
       "                popup_0be139f8f676e2c855213a9b8fa9277d.setContent(html_4aca2287bdb94eebb3c72a38b7808daf);\n",
       "            \n",
       "        \n",
       "\n",
       "        circle_marker_0357a1b67ab74c2c39d71128b753c079.bindPopup(popup_0be139f8f676e2c855213a9b8fa9277d)\n",
       "        ;\n",
       "\n",
       "        \n",
       "    \n",
       "    \n",
       "            var marker_6fe796123206fea15fa828c46b9940c2 = L.marker(\n",
       "                [-21.77534, -41.34352],\n",
       "                {}\n",
       "            ).addTo(map_d4cbc4feeedecb14afdb37c03024c5d2);\n",
       "        \n",
       "    \n",
       "            var div_icon_435b1a92fc8efbd3b1ee104704c92d69 = L.divIcon({&quot;className&quot;: &quot;empty&quot;, &quot;html&quot;: &quot;\\u003cdiv style=\\u0027font-size: 10pt; color: black\\u0027\\u003e\\u003cb\\u003eR$15.99\\u003c/b\\u003e\\u003c/div\\u003e&quot;});\n",
       "            marker_6fe796123206fea15fa828c46b9940c2.setIcon(div_icon_435b1a92fc8efbd3b1ee104704c92d69);\n",
       "        \n",
       "    \n",
       "            var circle_marker_00519e2e8c0394bdeca3a034cf9014ab = L.circleMarker(\n",
       "                [-21.76534, -41.34352],\n",
       "                {&quot;bubblingMouseEvents&quot;: true, &quot;color&quot;: &quot;black&quot;, &quot;dashArray&quot;: null, &quot;dashOffset&quot;: null, &quot;fill&quot;: true, &quot;fillColor&quot;: &quot;#feb14bff&quot;, &quot;fillOpacity&quot;: 0.7, &quot;fillRule&quot;: &quot;evenodd&quot;, &quot;lineCap&quot;: &quot;round&quot;, &quot;lineJoin&quot;: &quot;round&quot;, &quot;opacity&quot;: 1.0, &quot;radius&quot;: 10, &quot;stroke&quot;: true, &quot;weight&quot;: 3}\n",
       "            ).addTo(map_d4cbc4feeedecb14afdb37c03024c5d2);\n",
       "        \n",
       "    \n",
       "        var popup_819d925113b54d15aaf5d369ab4fc5c7 = L.popup({&quot;maxWidth&quot;: &quot;100%&quot;});\n",
       "\n",
       "        \n",
       "            \n",
       "                var html_2319a2b4c45ee40c5ee1bdc24e6ba072 = $(`&lt;div id=&quot;html_2319a2b4c45ee40c5ee1bdc24e6ba072&quot; style=&quot;width: 100.0%; height: 100.0%;&quot;&gt;&lt;b&gt;Hiper Campos de GoytacazesQueimados&lt;/b&gt;&lt;br&gt;Kani Congelado Frescatto 200g&lt;br&gt;Preço: &lt;b&gt;R$15.99&lt;/b&gt;&lt;/div&gt;`)[0];\n",
       "                popup_819d925113b54d15aaf5d369ab4fc5c7.setContent(html_2319a2b4c45ee40c5ee1bdc24e6ba072);\n",
       "            \n",
       "        \n",
       "\n",
       "        circle_marker_00519e2e8c0394bdeca3a034cf9014ab.bindPopup(popup_819d925113b54d15aaf5d369ab4fc5c7)\n",
       "        ;\n",
       "\n",
       "        \n",
       "    \n",
       "    \n",
       "            var marker_cc023420c55bbf277680a7e40ace617e = L.marker(\n",
       "                [-23.11352, -45.70926],\n",
       "                {}\n",
       "            ).addTo(map_d4cbc4feeedecb14afdb37c03024c5d2);\n",
       "        \n",
       "    \n",
       "            var div_icon_315feb730c880cbaad3d7c72dd51e28b = L.divIcon({&quot;className&quot;: &quot;empty&quot;, &quot;html&quot;: &quot;\\u003cdiv style=\\u0027font-size: 10pt; color: black\\u0027\\u003e\\u003cb\\u003eR$14.79\\u003c/b\\u003e\\u003c/div\\u003e&quot;});\n",
       "            marker_cc023420c55bbf277680a7e40ace617e.setIcon(div_icon_315feb730c880cbaad3d7c72dd51e28b);\n",
       "        \n",
       "    \n",
       "            var circle_marker_26fb96213505e876ea9125f7821135b2 = L.circleMarker(\n",
       "                [-23.10352, -45.70926],\n",
       "                {&quot;bubblingMouseEvents&quot;: true, &quot;color&quot;: &quot;black&quot;, &quot;dashArray&quot;: null, &quot;dashOffset&quot;: null, &quot;fill&quot;: true, &quot;fillColor&quot;: &quot;#fec561ff&quot;, &quot;fillOpacity&quot;: 0.7, &quot;fillRule&quot;: &quot;evenodd&quot;, &quot;lineCap&quot;: &quot;round&quot;, &quot;lineJoin&quot;: &quot;round&quot;, &quot;opacity&quot;: 1.0, &quot;radius&quot;: 10, &quot;stroke&quot;: true, &quot;weight&quot;: 3}\n",
       "            ).addTo(map_d4cbc4feeedecb14afdb37c03024c5d2);\n",
       "        \n",
       "    \n",
       "        var popup_01d2decad3517f890ffe0a8127060942 = L.popup({&quot;maxWidth&quot;: &quot;100%&quot;});\n",
       "\n",
       "        \n",
       "            \n",
       "                var html_d96682e9f1a8b8727d267d4739f3723c = $(`&lt;div id=&quot;html_d96682e9f1a8b8727d267d4739f3723c&quot; style=&quot;width: 100.0%; height: 100.0%;&quot;&gt;&lt;b&gt;Carrefour Bairro CaçapavaCentro&lt;/b&gt;&lt;br&gt;Kani Congelado Costa Sul 200g&lt;br&gt;Preço: &lt;b&gt;R$14.79&lt;/b&gt;&lt;/div&gt;`)[0];\n",
       "                popup_01d2decad3517f890ffe0a8127060942.setContent(html_d96682e9f1a8b8727d267d4739f3723c);\n",
       "            \n",
       "        \n",
       "\n",
       "        circle_marker_26fb96213505e876ea9125f7821135b2.bindPopup(popup_01d2decad3517f890ffe0a8127060942)\n",
       "        ;\n",
       "\n",
       "        \n",
       "    \n",
       "    \n",
       "            var marker_cd76a39adab2192c12410ad88e144701 = L.marker(\n",
       "                [-23.11352, -45.70926],\n",
       "                {}\n",
       "            ).addTo(map_d4cbc4feeedecb14afdb37c03024c5d2);\n",
       "        \n",
       "    \n",
       "            var div_icon_b881a57f04ef3c7486e984f1d07220b7 = L.divIcon({&quot;className&quot;: &quot;empty&quot;, &quot;html&quot;: &quot;\\u003cdiv style=\\u0027font-size: 10pt; color: black\\u0027\\u003e\\u003cb\\u003eR$22.59\\u003c/b\\u003e\\u003c/div\\u003e&quot;});\n",
       "            marker_cd76a39adab2192c12410ad88e144701.setIcon(div_icon_b881a57f04ef3c7486e984f1d07220b7);\n",
       "        \n",
       "    \n",
       "            var circle_marker_1fee3a845bc0aade1d35ff018cc09876 = L.circleMarker(\n",
       "                [-23.10352, -45.70926],\n",
       "                {&quot;bubblingMouseEvents&quot;: true, &quot;color&quot;: &quot;black&quot;, &quot;dashArray&quot;: null, &quot;dashOffset&quot;: null, &quot;fill&quot;: true, &quot;fillColor&quot;: &quot;#e6201dff&quot;, &quot;fillOpacity&quot;: 0.7, &quot;fillRule&quot;: &quot;evenodd&quot;, &quot;lineCap&quot;: &quot;round&quot;, &quot;lineJoin&quot;: &quot;round&quot;, &quot;opacity&quot;: 1.0, &quot;radius&quot;: 10, &quot;stroke&quot;: true, &quot;weight&quot;: 3}\n",
       "            ).addTo(map_d4cbc4feeedecb14afdb37c03024c5d2);\n",
       "        \n",
       "    \n",
       "        var popup_6b77d073f5e0e9318dc17b34296755aa = L.popup({&quot;maxWidth&quot;: &quot;100%&quot;});\n",
       "\n",
       "        \n",
       "            \n",
       "                var html_2fd2131e80e73d23fd29f8696bb68bc3 = $(`&lt;div id=&quot;html_2fd2131e80e73d23fd29f8696bb68bc3&quot; style=&quot;width: 100.0%; height: 100.0%;&quot;&gt;&lt;b&gt;Carrefour Bairro CaçapavaCentro&lt;/b&gt;&lt;br&gt;Hossomaki Philadelphia Kani Kama 160 g&lt;br&gt;Preço: &lt;b&gt;R$22.59&lt;/b&gt;&lt;/div&gt;`)[0];\n",
       "                popup_6b77d073f5e0e9318dc17b34296755aa.setContent(html_2fd2131e80e73d23fd29f8696bb68bc3);\n",
       "            \n",
       "        \n",
       "\n",
       "        circle_marker_1fee3a845bc0aade1d35ff018cc09876.bindPopup(popup_6b77d073f5e0e9318dc17b34296755aa)\n",
       "        ;\n",
       "\n",
       "        \n",
       "    \n",
       "    \n",
       "            var marker_a1fb18fed0d92ff0cd66cb35a36b33ff = L.marker(\n",
       "                [-19.9648, -44.06368],\n",
       "                {}\n",
       "            ).addTo(map_d4cbc4feeedecb14afdb37c03024c5d2);\n",
       "        \n",
       "    \n",
       "            var div_icon_99e145a94f7bdf6709d1db57d903f7ee = L.divIcon({&quot;className&quot;: &quot;empty&quot;, &quot;html&quot;: &quot;\\u003cdiv style=\\u0027font-size: 10pt; color: black\\u0027\\u003e\\u003cb\\u003eR$13.39\\u003c/b\\u003e\\u003c/div\\u003e&quot;});\n",
       "            marker_a1fb18fed0d92ff0cd66cb35a36b33ff.setIcon(div_icon_99e145a94f7bdf6709d1db57d903f7ee);\n",
       "        \n",
       "    \n",
       "            var circle_marker_2655fde728b246ad937e308375013548 = L.circleMarker(\n",
       "                [-19.9548, -44.06368],\n",
       "                {&quot;bubblingMouseEvents&quot;: true, &quot;color&quot;: &quot;black&quot;, &quot;dashArray&quot;: null, &quot;dashOffset&quot;: null, &quot;fill&quot;: true, &quot;fillColor&quot;: &quot;#ffdb7aff&quot;, &quot;fillOpacity&quot;: 0.7, &quot;fillRule&quot;: &quot;evenodd&quot;, &quot;lineCap&quot;: &quot;round&quot;, &quot;lineJoin&quot;: &quot;round&quot;, &quot;opacity&quot;: 1.0, &quot;radius&quot;: 10, &quot;stroke&quot;: true, &quot;weight&quot;: 3}\n",
       "            ).addTo(map_d4cbc4feeedecb14afdb37c03024c5d2);\n",
       "        \n",
       "    \n",
       "        var popup_181779b90359ebf4c6472a7945f0a0c3 = L.popup({&quot;maxWidth&quot;: &quot;100%&quot;});\n",
       "\n",
       "        \n",
       "            \n",
       "                var html_24279f467d2785d692382c25ee581654 = $(`&lt;div id=&quot;html_24279f467d2785d692382c25ee581654&quot; style=&quot;width: 100.0%; height: 100.0%;&quot;&gt;&lt;b&gt;Hipermercado ContagemRiacho&lt;/b&gt;&lt;br&gt;Kani Congelado Costa Sul 200g&lt;br&gt;Preço: &lt;b&gt;R$13.39&lt;/b&gt;&lt;/div&gt;`)[0];\n",
       "                popup_181779b90359ebf4c6472a7945f0a0c3.setContent(html_24279f467d2785d692382c25ee581654);\n",
       "            \n",
       "        \n",
       "\n",
       "        circle_marker_2655fde728b246ad937e308375013548.bindPopup(popup_181779b90359ebf4c6472a7945f0a0c3)\n",
       "        ;\n",
       "\n",
       "        \n",
       "    \n",
       "    \n",
       "            var marker_3bf6384307b686ea51a1477861e14940 = L.marker(\n",
       "                [-19.9648, -44.06368],\n",
       "                {}\n",
       "            ).addTo(map_d4cbc4feeedecb14afdb37c03024c5d2);\n",
       "        \n",
       "    \n",
       "            var div_icon_f23de367d7467f09708575114f51247e = L.divIcon({&quot;className&quot;: &quot;empty&quot;, &quot;html&quot;: &quot;\\u003cdiv style=\\u0027font-size: 10pt; color: black\\u0027\\u003e\\u003cb\\u003eR$15.99\\u003c/b\\u003e\\u003c/div\\u003e&quot;});\n",
       "            marker_3bf6384307b686ea51a1477861e14940.setIcon(div_icon_f23de367d7467f09708575114f51247e);\n",
       "        \n",
       "    \n",
       "            var circle_marker_18761062b9fb1c14faa6cca1ed4b4e75 = L.circleMarker(\n",
       "                [-19.9548, -44.06368],\n",
       "                {&quot;bubblingMouseEvents&quot;: true, &quot;color&quot;: &quot;black&quot;, &quot;dashArray&quot;: null, &quot;dashOffset&quot;: null, &quot;fill&quot;: true, &quot;fillColor&quot;: &quot;#feb14bff&quot;, &quot;fillOpacity&quot;: 0.7, &quot;fillRule&quot;: &quot;evenodd&quot;, &quot;lineCap&quot;: &quot;round&quot;, &quot;lineJoin&quot;: &quot;round&quot;, &quot;opacity&quot;: 1.0, &quot;radius&quot;: 10, &quot;stroke&quot;: true, &quot;weight&quot;: 3}\n",
       "            ).addTo(map_d4cbc4feeedecb14afdb37c03024c5d2);\n",
       "        \n",
       "    \n",
       "        var popup_0ff256aa1e09c8a5ded10ad00115ae0e = L.popup({&quot;maxWidth&quot;: &quot;100%&quot;});\n",
       "\n",
       "        \n",
       "            \n",
       "                var html_2b1cedf52667ded12172093e84b20d55 = $(`&lt;div id=&quot;html_2b1cedf52667ded12172093e84b20d55&quot; style=&quot;width: 100.0%; height: 100.0%;&quot;&gt;&lt;b&gt;Hipermercado ContagemRiacho&lt;/b&gt;&lt;br&gt;Kani Congelado Frescatto 200g&lt;br&gt;Preço: &lt;b&gt;R$15.99&lt;/b&gt;&lt;/div&gt;`)[0];\n",
       "                popup_0ff256aa1e09c8a5ded10ad00115ae0e.setContent(html_2b1cedf52667ded12172093e84b20d55);\n",
       "            \n",
       "        \n",
       "\n",
       "        circle_marker_18761062b9fb1c14faa6cca1ed4b4e75.bindPopup(popup_0ff256aa1e09c8a5ded10ad00115ae0e)\n",
       "        ;\n",
       "\n",
       "        \n",
       "    \n",
       "    \n",
       "            var marker_b4ac3c7da3fb2fb0a76943d16a777de8 = L.marker(\n",
       "                [-22.802030000000002, -43.30081],\n",
       "                {}\n",
       "            ).addTo(map_d4cbc4feeedecb14afdb37c03024c5d2);\n",
       "        \n",
       "    \n",
       "            var div_icon_62ab23da4ef2fa682e59dc255facbf64 = L.divIcon({&quot;className&quot;: &quot;empty&quot;, &quot;html&quot;: &quot;\\u003cdiv style=\\u0027font-size: 10pt; color: black\\u0027\\u003e\\u003cb\\u003eR$15.99\\u003c/b\\u003e\\u003c/div\\u003e&quot;});\n",
       "            marker_b4ac3c7da3fb2fb0a76943d16a777de8.setIcon(div_icon_62ab23da4ef2fa682e59dc255facbf64);\n",
       "        \n",
       "    \n",
       "            var circle_marker_b22d509cf4db847ad8cc383c8635a056 = L.circleMarker(\n",
       "                [-22.79203, -43.30081],\n",
       "                {&quot;bubblingMouseEvents&quot;: true, &quot;color&quot;: &quot;black&quot;, &quot;dashArray&quot;: null, &quot;dashOffset&quot;: null, &quot;fill&quot;: true, &quot;fillColor&quot;: &quot;#feb14bff&quot;, &quot;fillOpacity&quot;: 0.7, &quot;fillRule&quot;: &quot;evenodd&quot;, &quot;lineCap&quot;: &quot;round&quot;, &quot;lineJoin&quot;: &quot;round&quot;, &quot;opacity&quot;: 1.0, &quot;radius&quot;: 10, &quot;stroke&quot;: true, &quot;weight&quot;: 3}\n",
       "            ).addTo(map_d4cbc4feeedecb14afdb37c03024c5d2);\n",
       "        \n",
       "    \n",
       "        var popup_4de272793fb7970be3649bd17d1a8a61 = L.popup({&quot;maxWidth&quot;: &quot;100%&quot;});\n",
       "\n",
       "        \n",
       "            \n",
       "                var html_5d93788eb8b57c0c40498e04366720cd = $(`&lt;div id=&quot;html_5d93788eb8b57c0c40498e04366720cd&quot; style=&quot;width: 100.0%; height: 100.0%;&quot;&gt;&lt;b&gt;Hipermercado Duque de Caxias BrigadeiroJardim Vinte e Cinco de Agosto&lt;/b&gt;&lt;br&gt;Kani Congelado Costa Sul 200g&lt;br&gt;Preço: &lt;b&gt;R$15.99&lt;/b&gt;&lt;/div&gt;`)[0];\n",
       "                popup_4de272793fb7970be3649bd17d1a8a61.setContent(html_5d93788eb8b57c0c40498e04366720cd);\n",
       "            \n",
       "        \n",
       "\n",
       "        circle_marker_b22d509cf4db847ad8cc383c8635a056.bindPopup(popup_4de272793fb7970be3649bd17d1a8a61)\n",
       "        ;\n",
       "\n",
       "        \n",
       "    \n",
       "    \n",
       "            var marker_6c0894509fa2963a066e3a57558fb32f = L.marker(\n",
       "                [-22.802030000000002, -43.30081],\n",
       "                {}\n",
       "            ).addTo(map_d4cbc4feeedecb14afdb37c03024c5d2);\n",
       "        \n",
       "    \n",
       "            var div_icon_6936f4b6ec5d37f373af37505d94f87c = L.divIcon({&quot;className&quot;: &quot;empty&quot;, &quot;html&quot;: &quot;\\u003cdiv style=\\u0027font-size: 10pt; color: black\\u0027\\u003e\\u003cb\\u003eR$15.99\\u003c/b\\u003e\\u003c/div\\u003e&quot;});\n",
       "            marker_6c0894509fa2963a066e3a57558fb32f.setIcon(div_icon_6936f4b6ec5d37f373af37505d94f87c);\n",
       "        \n",
       "    \n",
       "            var circle_marker_745d8354789bc163781b8c521f9500cd = L.circleMarker(\n",
       "                [-22.79203, -43.30081],\n",
       "                {&quot;bubblingMouseEvents&quot;: true, &quot;color&quot;: &quot;black&quot;, &quot;dashArray&quot;: null, &quot;dashOffset&quot;: null, &quot;fill&quot;: true, &quot;fillColor&quot;: &quot;#feb14bff&quot;, &quot;fillOpacity&quot;: 0.7, &quot;fillRule&quot;: &quot;evenodd&quot;, &quot;lineCap&quot;: &quot;round&quot;, &quot;lineJoin&quot;: &quot;round&quot;, &quot;opacity&quot;: 1.0, &quot;radius&quot;: 10, &quot;stroke&quot;: true, &quot;weight&quot;: 3}\n",
       "            ).addTo(map_d4cbc4feeedecb14afdb37c03024c5d2);\n",
       "        \n",
       "    \n",
       "        var popup_03fee81a631c30dfadafbe37d013c7dc = L.popup({&quot;maxWidth&quot;: &quot;100%&quot;});\n",
       "\n",
       "        \n",
       "            \n",
       "                var html_1b9a448080841f1407a16df570a2d0f9 = $(`&lt;div id=&quot;html_1b9a448080841f1407a16df570a2d0f9&quot; style=&quot;width: 100.0%; height: 100.0%;&quot;&gt;&lt;b&gt;Hipermercado Duque de Caxias BrigadeiroJardim Vinte e Cinco de Agosto&lt;/b&gt;&lt;br&gt;Kani Congelado Frescatto 200g&lt;br&gt;Preço: &lt;b&gt;R$15.99&lt;/b&gt;&lt;/div&gt;`)[0];\n",
       "                popup_03fee81a631c30dfadafbe37d013c7dc.setContent(html_1b9a448080841f1407a16df570a2d0f9);\n",
       "            \n",
       "        \n",
       "\n",
       "        circle_marker_745d8354789bc163781b8c521f9500cd.bindPopup(popup_03fee81a631c30dfadafbe37d013c7dc)\n",
       "        ;\n",
       "\n",
       "        \n",
       "    \n",
       "    \n",
       "            var marker_d649151ba3edf0214e2ca2fad68e04ea = L.marker(\n",
       "                [-23.99031, -46.23148],\n",
       "                {}\n",
       "            ).addTo(map_d4cbc4feeedecb14afdb37c03024c5d2);\n",
       "        \n",
       "    \n",
       "            var div_icon_ebfccfbfc21b456cd43fba1551ace59b = L.divIcon({&quot;className&quot;: &quot;empty&quot;, &quot;html&quot;: &quot;\\u003cdiv style=\\u0027font-size: 10pt; color: black\\u0027\\u003e\\u003cb\\u003eR$9.89\\u003c/b\\u003e\\u003c/div\\u003e&quot;});\n",
       "            marker_d649151ba3edf0214e2ca2fad68e04ea.setIcon(div_icon_ebfccfbfc21b456cd43fba1551ace59b);\n",
       "        \n",
       "    \n",
       "            var circle_marker_40f9d529a4f72a69d244470cc313c8e2 = L.circleMarker(\n",
       "                [-23.98031, -46.23148],\n",
       "                {&quot;bubblingMouseEvents&quot;: true, &quot;color&quot;: &quot;black&quot;, &quot;dashArray&quot;: null, &quot;dashOffset&quot;: null, &quot;fill&quot;: true, &quot;fillColor&quot;: &quot;#fff8bbff&quot;, &quot;fillOpacity&quot;: 0.7, &quot;fillRule&quot;: &quot;evenodd&quot;, &quot;lineCap&quot;: &quot;round&quot;, &quot;lineJoin&quot;: &quot;round&quot;, &quot;opacity&quot;: 1.0, &quot;radius&quot;: 10, &quot;stroke&quot;: true, &quot;weight&quot;: 3}\n",
       "            ).addTo(map_d4cbc4feeedecb14afdb37c03024c5d2);\n",
       "        \n",
       "    \n",
       "        var popup_018c7a77f2bd58e7237881dfd8f99c3f = L.popup({&quot;maxWidth&quot;: &quot;100%&quot;});\n",
       "\n",
       "        \n",
       "            \n",
       "                var html_91a0f8d487ada1d6b93c5d4e15a293a5 = $(`&lt;div id=&quot;html_91a0f8d487ada1d6b93c5d4e15a293a5&quot; style=&quot;width: 100.0%; height: 100.0%;&quot;&gt;&lt;b&gt;Hipermercado GuarujáJd Belmar&lt;/b&gt;&lt;br&gt;Kani Congelado Costa Sul 200g&lt;br&gt;Preço: &lt;b&gt;R$9.89&lt;/b&gt;&lt;/div&gt;`)[0];\n",
       "                popup_018c7a77f2bd58e7237881dfd8f99c3f.setContent(html_91a0f8d487ada1d6b93c5d4e15a293a5);\n",
       "            \n",
       "        \n",
       "\n",
       "        circle_marker_40f9d529a4f72a69d244470cc313c8e2.bindPopup(popup_018c7a77f2bd58e7237881dfd8f99c3f)\n",
       "        ;\n",
       "\n",
       "        \n",
       "    \n",
       "    \n",
       "            var marker_4bc72e712d5803750d1be84e86c9bcbb = L.marker(\n",
       "                [-23.449340000000003, -46.54139],\n",
       "                {}\n",
       "            ).addTo(map_d4cbc4feeedecb14afdb37c03024c5d2);\n",
       "        \n",
       "    \n",
       "            var div_icon_77798e614436094e96e174de6a020b82 = L.divIcon({&quot;className&quot;: &quot;empty&quot;, &quot;html&quot;: &quot;\\u003cdiv style=\\u0027font-size: 10pt; color: black\\u0027\\u003e\\u003cb\\u003eR$9.89\\u003c/b\\u003e\\u003c/div\\u003e&quot;});\n",
       "            marker_4bc72e712d5803750d1be84e86c9bcbb.setIcon(div_icon_77798e614436094e96e174de6a020b82);\n",
       "        \n",
       "    \n",
       "            var circle_marker_7a12828463699230106f427f89f4a795 = L.circleMarker(\n",
       "                [-23.43934, -46.54139],\n",
       "                {&quot;bubblingMouseEvents&quot;: true, &quot;color&quot;: &quot;black&quot;, &quot;dashArray&quot;: null, &quot;dashOffset&quot;: null, &quot;fill&quot;: true, &quot;fillColor&quot;: &quot;#fff8bbff&quot;, &quot;fillOpacity&quot;: 0.7, &quot;fillRule&quot;: &quot;evenodd&quot;, &quot;lineCap&quot;: &quot;round&quot;, &quot;lineJoin&quot;: &quot;round&quot;, &quot;opacity&quot;: 1.0, &quot;radius&quot;: 10, &quot;stroke&quot;: true, &quot;weight&quot;: 3}\n",
       "            ).addTo(map_d4cbc4feeedecb14afdb37c03024c5d2);\n",
       "        \n",
       "    \n",
       "        var popup_25b6540ec1d1ff00fee809368fc88f6a = L.popup({&quot;maxWidth&quot;: &quot;100%&quot;});\n",
       "\n",
       "        \n",
       "            \n",
       "                var html_541e4c6a0ecb006a5c9014adfe2c7223 = $(`&lt;div id=&quot;html_541e4c6a0ecb006a5c9014adfe2c7223&quot; style=&quot;width: 100.0%; height: 100.0%;&quot;&gt;&lt;b&gt;Hipermercado GuarulhosVila Rio de Janeiro&lt;/b&gt;&lt;br&gt;Kani Congelado Costa Sul 200g&lt;br&gt;Preço: &lt;b&gt;R$9.89&lt;/b&gt;&lt;/div&gt;`)[0];\n",
       "                popup_25b6540ec1d1ff00fee809368fc88f6a.setContent(html_541e4c6a0ecb006a5c9014adfe2c7223);\n",
       "            \n",
       "        \n",
       "\n",
       "        circle_marker_7a12828463699230106f427f89f4a795.bindPopup(popup_25b6540ec1d1ff00fee809368fc88f6a)\n",
       "        ;\n",
       "\n",
       "        \n",
       "    \n",
       "    \n",
       "            var marker_a11a62550c5b54d53949a08e12bbf8e5 = L.marker(\n",
       "                [-23.449340000000003, -46.54139],\n",
       "                {}\n",
       "            ).addTo(map_d4cbc4feeedecb14afdb37c03024c5d2);\n",
       "        \n",
       "    \n",
       "            var div_icon_d8026ce016397f527e7e8bfd030f654f = L.divIcon({&quot;className&quot;: &quot;empty&quot;, &quot;html&quot;: &quot;\\u003cdiv style=\\u0027font-size: 10pt; color: black\\u0027\\u003e\\u003cb\\u003eR$10.79\\u003c/b\\u003e\\u003c/div\\u003e&quot;});\n",
       "            marker_a11a62550c5b54d53949a08e12bbf8e5.setIcon(div_icon_d8026ce016397f527e7e8bfd030f654f);\n",
       "        \n",
       "    \n",
       "            var circle_marker_e1f99bb54930b2eb314ff05399cc979c = L.circleMarker(\n",
       "                [-23.43934, -46.54139],\n",
       "                {&quot;bubblingMouseEvents&quot;: true, &quot;color&quot;: &quot;black&quot;, &quot;dashArray&quot;: null, &quot;dashOffset&quot;: null, &quot;fill&quot;: true, &quot;fillColor&quot;: &quot;#fff1aaff&quot;, &quot;fillOpacity&quot;: 0.7, &quot;fillRule&quot;: &quot;evenodd&quot;, &quot;lineCap&quot;: &quot;round&quot;, &quot;lineJoin&quot;: &quot;round&quot;, &quot;opacity&quot;: 1.0, &quot;radius&quot;: 10, &quot;stroke&quot;: true, &quot;weight&quot;: 3}\n",
       "            ).addTo(map_d4cbc4feeedecb14afdb37c03024c5d2);\n",
       "        \n",
       "    \n",
       "        var popup_8989120a900eb8a1987fba77b7b7a6c8 = L.popup({&quot;maxWidth&quot;: &quot;100%&quot;});\n",
       "\n",
       "        \n",
       "            \n",
       "                var html_057c4de0502157ae9e0579cb836e64ee = $(`&lt;div id=&quot;html_057c4de0502157ae9e0579cb836e64ee&quot; style=&quot;width: 100.0%; height: 100.0%;&quot;&gt;&lt;b&gt;Hipermercado GuarulhosVila Rio de Janeiro&lt;/b&gt;&lt;br&gt;Kani Congelado Damm 250g&lt;br&gt;Preço: &lt;b&gt;R$10.79&lt;/b&gt;&lt;/div&gt;`)[0];\n",
       "                popup_8989120a900eb8a1987fba77b7b7a6c8.setContent(html_057c4de0502157ae9e0579cb836e64ee);\n",
       "            \n",
       "        \n",
       "\n",
       "        circle_marker_e1f99bb54930b2eb314ff05399cc979c.bindPopup(popup_8989120a900eb8a1987fba77b7b7a6c8)\n",
       "        ;\n",
       "\n",
       "        \n",
       "    \n",
       "    \n",
       "            var marker_858c0a5635f60c863045acceb0cba8ed = L.marker(\n",
       "                [-23.090290000000003, -47.21039],\n",
       "                {}\n",
       "            ).addTo(map_d4cbc4feeedecb14afdb37c03024c5d2);\n",
       "        \n",
       "    \n",
       "            var div_icon_e3ff6bb6b1a2ef2def7e4313d95ce2fc = L.divIcon({&quot;className&quot;: &quot;empty&quot;, &quot;html&quot;: &quot;\\u003cdiv style=\\u0027font-size: 10pt; color: black\\u0027\\u003e\\u003cb\\u003eR$10.49\\u003c/b\\u003e\\u003c/div\\u003e&quot;});\n",
       "            marker_858c0a5635f60c863045acceb0cba8ed.setIcon(div_icon_e3ff6bb6b1a2ef2def7e4313d95ce2fc);\n",
       "        \n",
       "    \n",
       "            var circle_marker_6feba59e7ee476bd190dd0446b17dc69 = L.circleMarker(\n",
       "                [-23.08029, -47.21039],\n",
       "                {&quot;bubblingMouseEvents&quot;: true, &quot;color&quot;: &quot;black&quot;, &quot;dashArray&quot;: null, &quot;dashOffset&quot;: null, &quot;fill&quot;: true, &quot;fillColor&quot;: &quot;#fff4b0ff&quot;, &quot;fillOpacity&quot;: 0.7, &quot;fillRule&quot;: &quot;evenodd&quot;, &quot;lineCap&quot;: &quot;round&quot;, &quot;lineJoin&quot;: &quot;round&quot;, &quot;opacity&quot;: 1.0, &quot;radius&quot;: 10, &quot;stroke&quot;: true, &quot;weight&quot;: 3}\n",
       "            ).addTo(map_d4cbc4feeedecb14afdb37c03024c5d2);\n",
       "        \n",
       "    \n",
       "        var popup_f9e9640c60a9376a08f6341d29c11f77 = L.popup({&quot;maxWidth&quot;: &quot;100%&quot;});\n",
       "\n",
       "        \n",
       "            \n",
       "                var html_d26e56334251a5cc9cd8c5a43b06ad04 = $(`&lt;div id=&quot;html_d26e56334251a5cc9cd8c5a43b06ad04&quot; style=&quot;width: 100.0%; height: 100.0%;&quot;&gt;&lt;b&gt;Carrefour Bairro IndaiatubaCidade Nova&lt;/b&gt;&lt;br&gt;Kani Congelado Costa Sul 200g&lt;br&gt;Preço: &lt;b&gt;R$10.49&lt;/b&gt;&lt;/div&gt;`)[0];\n",
       "                popup_f9e9640c60a9376a08f6341d29c11f77.setContent(html_d26e56334251a5cc9cd8c5a43b06ad04);\n",
       "            \n",
       "        \n",
       "\n",
       "        circle_marker_6feba59e7ee476bd190dd0446b17dc69.bindPopup(popup_f9e9640c60a9376a08f6341d29c11f77)\n",
       "        ;\n",
       "\n",
       "        \n",
       "    \n",
       "    \n",
       "            var marker_93360b058c0cd3379d5ee6eb4c781e60 = L.marker(\n",
       "                [-23.090290000000003, -47.21039],\n",
       "                {}\n",
       "            ).addTo(map_d4cbc4feeedecb14afdb37c03024c5d2);\n",
       "        \n",
       "    \n",
       "            var div_icon_35c5f56a2bd2c9f39c96f95b010379fd = L.divIcon({&quot;className&quot;: &quot;empty&quot;, &quot;html&quot;: &quot;\\u003cdiv style=\\u0027font-size: 10pt; color: black\\u0027\\u003e\\u003cb\\u003eR$9.98\\u003c/b\\u003e\\u003c/div\\u003e&quot;});\n",
       "            marker_93360b058c0cd3379d5ee6eb4c781e60.setIcon(div_icon_35c5f56a2bd2c9f39c96f95b010379fd);\n",
       "        \n",
       "    \n",
       "            var circle_marker_8f803a94cefeaae7878ee3a0c2dd39b7 = L.circleMarker(\n",
       "                [-23.08029, -47.21039],\n",
       "                {&quot;bubblingMouseEvents&quot;: true, &quot;color&quot;: &quot;black&quot;, &quot;dashArray&quot;: null, &quot;dashOffset&quot;: null, &quot;fill&quot;: true, &quot;fillColor&quot;: &quot;#fff8b9ff&quot;, &quot;fillOpacity&quot;: 0.7, &quot;fillRule&quot;: &quot;evenodd&quot;, &quot;lineCap&quot;: &quot;round&quot;, &quot;lineJoin&quot;: &quot;round&quot;, &quot;opacity&quot;: 1.0, &quot;radius&quot;: 10, &quot;stroke&quot;: true, &quot;weight&quot;: 3}\n",
       "            ).addTo(map_d4cbc4feeedecb14afdb37c03024c5d2);\n",
       "        \n",
       "    \n",
       "        var popup_fbd86baeacc7dda8cd4144b1ede40570 = L.popup({&quot;maxWidth&quot;: &quot;100%&quot;});\n",
       "\n",
       "        \n",
       "            \n",
       "                var html_613243cb5ff807506aea8b216f514ed2 = $(`&lt;div id=&quot;html_613243cb5ff807506aea8b216f514ed2&quot; style=&quot;width: 100.0%; height: 100.0%;&quot;&gt;&lt;b&gt;Carrefour Bairro IndaiatubaCidade Nova&lt;/b&gt;&lt;br&gt;Kani Congelado Frescatto 200g&lt;br&gt;Preço: &lt;b&gt;R$9.98&lt;/b&gt;&lt;/div&gt;`)[0];\n",
       "                popup_fbd86baeacc7dda8cd4144b1ede40570.setContent(html_613243cb5ff807506aea8b216f514ed2);\n",
       "            \n",
       "        \n",
       "\n",
       "        circle_marker_8f803a94cefeaae7878ee3a0c2dd39b7.bindPopup(popup_fbd86baeacc7dda8cd4144b1ede40570)\n",
       "        ;\n",
       "\n",
       "        \n",
       "    \n",
       "    \n",
       "            var marker_c94319eba50e1b902c3f9149ad3b62d5 = L.marker(\n",
       "                [-23.262240000000002, -47.2995],\n",
       "                {}\n",
       "            ).addTo(map_d4cbc4feeedecb14afdb37c03024c5d2);\n",
       "        \n",
       "    \n",
       "            var div_icon_d584c80e6d9c2afa7b955c8e1a27abf7 = L.divIcon({&quot;className&quot;: &quot;empty&quot;, &quot;html&quot;: &quot;\\u003cdiv style=\\u0027font-size: 10pt; color: black\\u0027\\u003e\\u003cb\\u003eR$14.79\\u003c/b\\u003e\\u003c/div\\u003e&quot;});\n",
       "            marker_c94319eba50e1b902c3f9149ad3b62d5.setIcon(div_icon_d584c80e6d9c2afa7b955c8e1a27abf7);\n",
       "        \n",
       "    \n",
       "            var circle_marker_cdf1f4717f678b29002be8c30165f2bb = L.circleMarker(\n",
       "                [-23.25224, -47.2995],\n",
       "                {&quot;bubblingMouseEvents&quot;: true, &quot;color&quot;: &quot;black&quot;, &quot;dashArray&quot;: null, &quot;dashOffset&quot;: null, &quot;fill&quot;: true, &quot;fillColor&quot;: &quot;#fec561ff&quot;, &quot;fillOpacity&quot;: 0.7, &quot;fillRule&quot;: &quot;evenodd&quot;, &quot;lineCap&quot;: &quot;round&quot;, &quot;lineJoin&quot;: &quot;round&quot;, &quot;opacity&quot;: 1.0, &quot;radius&quot;: 10, &quot;stroke&quot;: true, &quot;weight&quot;: 3}\n",
       "            ).addTo(map_d4cbc4feeedecb14afdb37c03024c5d2);\n",
       "        \n",
       "    \n",
       "        var popup_211f84a18db6605619af8e4e41c94650 = L.popup({&quot;maxWidth&quot;: &quot;100%&quot;});\n",
       "\n",
       "        \n",
       "            \n",
       "                var html_7b9af24bcdf4695262e706b1057a6033 = $(`&lt;div id=&quot;html_7b9af24bcdf4695262e706b1057a6033&quot; style=&quot;width: 100.0%; height: 100.0%;&quot;&gt;&lt;b&gt;Carrefour Bairro ItuLiberdade&lt;/b&gt;&lt;br&gt;Kani Congelado Costa Sul 200g&lt;br&gt;Preço: &lt;b&gt;R$14.79&lt;/b&gt;&lt;/div&gt;`)[0];\n",
       "                popup_211f84a18db6605619af8e4e41c94650.setContent(html_7b9af24bcdf4695262e706b1057a6033);\n",
       "            \n",
       "        \n",
       "\n",
       "        circle_marker_cdf1f4717f678b29002be8c30165f2bb.bindPopup(popup_211f84a18db6605619af8e4e41c94650)\n",
       "        ;\n",
       "\n",
       "        \n",
       "    \n",
       "    \n",
       "            var marker_2d4d81d16c9cef0772aaf00a436ffc49 = L.marker(\n",
       "                [-23.262240000000002, -47.2995],\n",
       "                {}\n",
       "            ).addTo(map_d4cbc4feeedecb14afdb37c03024c5d2);\n",
       "        \n",
       "    \n",
       "            var div_icon_7aa06d624611e7fb8453c7a77674b645 = L.divIcon({&quot;className&quot;: &quot;empty&quot;, &quot;html&quot;: &quot;\\u003cdiv style=\\u0027font-size: 10pt; color: black\\u0027\\u003e\\u003cb\\u003eR$9.98\\u003c/b\\u003e\\u003c/div\\u003e&quot;});\n",
       "            marker_2d4d81d16c9cef0772aaf00a436ffc49.setIcon(div_icon_7aa06d624611e7fb8453c7a77674b645);\n",
       "        \n",
       "    \n",
       "            var circle_marker_0a02905d8c6ade3b5875d32e9d6de279 = L.circleMarker(\n",
       "                [-23.25224, -47.2995],\n",
       "                {&quot;bubblingMouseEvents&quot;: true, &quot;color&quot;: &quot;black&quot;, &quot;dashArray&quot;: null, &quot;dashOffset&quot;: null, &quot;fill&quot;: true, &quot;fillColor&quot;: &quot;#fff8b9ff&quot;, &quot;fillOpacity&quot;: 0.7, &quot;fillRule&quot;: &quot;evenodd&quot;, &quot;lineCap&quot;: &quot;round&quot;, &quot;lineJoin&quot;: &quot;round&quot;, &quot;opacity&quot;: 1.0, &quot;radius&quot;: 10, &quot;stroke&quot;: true, &quot;weight&quot;: 3}\n",
       "            ).addTo(map_d4cbc4feeedecb14afdb37c03024c5d2);\n",
       "        \n",
       "    \n",
       "        var popup_80fad6d2d85c47ebfc2fb35924b97084 = L.popup({&quot;maxWidth&quot;: &quot;100%&quot;});\n",
       "\n",
       "        \n",
       "            \n",
       "                var html_91fae7ae2f134e57b5f6afad7fb1f34a = $(`&lt;div id=&quot;html_91fae7ae2f134e57b5f6afad7fb1f34a&quot; style=&quot;width: 100.0%; height: 100.0%;&quot;&gt;&lt;b&gt;Carrefour Bairro ItuLiberdade&lt;/b&gt;&lt;br&gt;Kani Congelado Frescatto 200g&lt;br&gt;Preço: &lt;b&gt;R$9.98&lt;/b&gt;&lt;/div&gt;`)[0];\n",
       "                popup_80fad6d2d85c47ebfc2fb35924b97084.setContent(html_91fae7ae2f134e57b5f6afad7fb1f34a);\n",
       "            \n",
       "        \n",
       "\n",
       "        circle_marker_0a02905d8c6ade3b5875d32e9d6de279.bindPopup(popup_80fad6d2d85c47ebfc2fb35924b97084)\n",
       "        ;\n",
       "\n",
       "        \n",
       "    \n",
       "    \n",
       "            var marker_4da189c154749fd25d02dc430f6f3060 = L.marker(\n",
       "                [-21.79397, -43.33813],\n",
       "                {}\n",
       "            ).addTo(map_d4cbc4feeedecb14afdb37c03024c5d2);\n",
       "        \n",
       "    \n",
       "            var div_icon_28b71007e9c752579c475fd2ade4790a = L.divIcon({&quot;className&quot;: &quot;empty&quot;, &quot;html&quot;: &quot;\\u003cdiv style=\\u0027font-size: 10pt; color: black\\u0027\\u003e\\u003cb\\u003eR$13.39\\u003c/b\\u003e\\u003c/div\\u003e&quot;});\n",
       "            marker_4da189c154749fd25d02dc430f6f3060.setIcon(div_icon_28b71007e9c752579c475fd2ade4790a);\n",
       "        \n",
       "    \n",
       "            var circle_marker_1ba76365fc8c10d9271fff1258c97e20 = L.circleMarker(\n",
       "                [-21.78397, -43.33813],\n",
       "                {&quot;bubblingMouseEvents&quot;: true, &quot;color&quot;: &quot;black&quot;, &quot;dashArray&quot;: null, &quot;dashOffset&quot;: null, &quot;fill&quot;: true, &quot;fillColor&quot;: &quot;#ffdb7aff&quot;, &quot;fillOpacity&quot;: 0.7, &quot;fillRule&quot;: &quot;evenodd&quot;, &quot;lineCap&quot;: &quot;round&quot;, &quot;lineJoin&quot;: &quot;round&quot;, &quot;opacity&quot;: 1.0, &quot;radius&quot;: 10, &quot;stroke&quot;: true, &quot;weight&quot;: 3}\n",
       "            ).addTo(map_d4cbc4feeedecb14afdb37c03024c5d2);\n",
       "        \n",
       "    \n",
       "        var popup_df30d332c26e31cf9d6872e3a897bb4b = L.popup({&quot;maxWidth&quot;: &quot;100%&quot;});\n",
       "\n",
       "        \n",
       "            \n",
       "                var html_cb4eba41faa0d4dcf18ef869f3acc8d5 = $(`&lt;div id=&quot;html_cb4eba41faa0d4dcf18ef869f3acc8d5&quot; style=&quot;width: 100.0%; height: 100.0%;&quot;&gt;&lt;b&gt;Hipermercado Juiz de ForaGraminha&lt;/b&gt;&lt;br&gt;Kani Congelado Costa Sul 200g&lt;br&gt;Preço: &lt;b&gt;R$13.39&lt;/b&gt;&lt;/div&gt;`)[0];\n",
       "                popup_df30d332c26e31cf9d6872e3a897bb4b.setContent(html_cb4eba41faa0d4dcf18ef869f3acc8d5);\n",
       "            \n",
       "        \n",
       "\n",
       "        circle_marker_1ba76365fc8c10d9271fff1258c97e20.bindPopup(popup_df30d332c26e31cf9d6872e3a897bb4b)\n",
       "        ;\n",
       "\n",
       "        \n",
       "    \n",
       "    \n",
       "            var marker_145e1644f010dc7e4fcdfb1beb796244 = L.marker(\n",
       "                [-21.79397, -43.33813],\n",
       "                {}\n",
       "            ).addTo(map_d4cbc4feeedecb14afdb37c03024c5d2);\n",
       "        \n",
       "    \n",
       "            var div_icon_ea75366ba20fd134eea91af05a9e6840 = L.divIcon({&quot;className&quot;: &quot;empty&quot;, &quot;html&quot;: &quot;\\u003cdiv style=\\u0027font-size: 10pt; color: black\\u0027\\u003e\\u003cb\\u003eR$15.99\\u003c/b\\u003e\\u003c/div\\u003e&quot;});\n",
       "            marker_145e1644f010dc7e4fcdfb1beb796244.setIcon(div_icon_ea75366ba20fd134eea91af05a9e6840);\n",
       "        \n",
       "    \n",
       "            var circle_marker_b47a84bdd87d34a0d8091269bd0f4777 = L.circleMarker(\n",
       "                [-21.78397, -43.33813],\n",
       "                {&quot;bubblingMouseEvents&quot;: true, &quot;color&quot;: &quot;black&quot;, &quot;dashArray&quot;: null, &quot;dashOffset&quot;: null, &quot;fill&quot;: true, &quot;fillColor&quot;: &quot;#feb14bff&quot;, &quot;fillOpacity&quot;: 0.7, &quot;fillRule&quot;: &quot;evenodd&quot;, &quot;lineCap&quot;: &quot;round&quot;, &quot;lineJoin&quot;: &quot;round&quot;, &quot;opacity&quot;: 1.0, &quot;radius&quot;: 10, &quot;stroke&quot;: true, &quot;weight&quot;: 3}\n",
       "            ).addTo(map_d4cbc4feeedecb14afdb37c03024c5d2);\n",
       "        \n",
       "    \n",
       "        var popup_7fdafd0fe11f82cac50f03a6cab2a851 = L.popup({&quot;maxWidth&quot;: &quot;100%&quot;});\n",
       "\n",
       "        \n",
       "            \n",
       "                var html_2c6d57b73814d1ed2701945920ac84ba = $(`&lt;div id=&quot;html_2c6d57b73814d1ed2701945920ac84ba&quot; style=&quot;width: 100.0%; height: 100.0%;&quot;&gt;&lt;b&gt;Hipermercado Juiz de ForaGraminha&lt;/b&gt;&lt;br&gt;Kani Congelado Frescatto 200g&lt;br&gt;Preço: &lt;b&gt;R$15.99&lt;/b&gt;&lt;/div&gt;`)[0];\n",
       "                popup_7fdafd0fe11f82cac50f03a6cab2a851.setContent(html_2c6d57b73814d1ed2701945920ac84ba);\n",
       "            \n",
       "        \n",
       "\n",
       "        circle_marker_b47a84bdd87d34a0d8091269bd0f4777.bindPopup(popup_7fdafd0fe11f82cac50f03a6cab2a851)\n",
       "        ;\n",
       "\n",
       "        \n",
       "    \n",
       "    \n",
       "            var marker_a79fc6f6a51089ec9e54742899f394bc = L.marker(\n",
       "                [-23.19283, -46.90793],\n",
       "                {}\n",
       "            ).addTo(map_d4cbc4feeedecb14afdb37c03024c5d2);\n",
       "        \n",
       "    \n",
       "            var div_icon_80a726fa9a1906f52cf6cc416513147c = L.divIcon({&quot;className&quot;: &quot;empty&quot;, &quot;html&quot;: &quot;\\u003cdiv style=\\u0027font-size: 10pt; color: black\\u0027\\u003e\\u003cb\\u003eR$10.19\\u003c/b\\u003e\\u003c/div\\u003e&quot;});\n",
       "            marker_a79fc6f6a51089ec9e54742899f394bc.setIcon(div_icon_80a726fa9a1906f52cf6cc416513147c);\n",
       "        \n",
       "    \n",
       "            var circle_marker_8b69303e13af72dc4e47b0eadb56ba27 = L.circleMarker(\n",
       "                [-23.18283, -46.90793],\n",
       "                {&quot;bubblingMouseEvents&quot;: true, &quot;color&quot;: &quot;black&quot;, &quot;dashArray&quot;: null, &quot;dashOffset&quot;: null, &quot;fill&quot;: true, &quot;fillColor&quot;: &quot;#fff6b5ff&quot;, &quot;fillOpacity&quot;: 0.7, &quot;fillRule&quot;: &quot;evenodd&quot;, &quot;lineCap&quot;: &quot;round&quot;, &quot;lineJoin&quot;: &quot;round&quot;, &quot;opacity&quot;: 1.0, &quot;radius&quot;: 10, &quot;stroke&quot;: true, &quot;weight&quot;: 3}\n",
       "            ).addTo(map_d4cbc4feeedecb14afdb37c03024c5d2);\n",
       "        \n",
       "    \n",
       "        var popup_da26b20e9f1ac1c89d4b5c15897fc346 = L.popup({&quot;maxWidth&quot;: &quot;100%&quot;});\n",
       "\n",
       "        \n",
       "            \n",
       "                var html_f271600d8e62e877d741c0e637a70fa9 = $(`&lt;div id=&quot;html_f271600d8e62e877d741c0e637a70fa9&quot; style=&quot;width: 100.0%; height: 100.0%;&quot;&gt;&lt;b&gt;Hipermercado JundiaiVila Vioto&lt;/b&gt;&lt;br&gt;Kani Congelado Costa Sul 200g&lt;br&gt;Preço: &lt;b&gt;R$10.19&lt;/b&gt;&lt;/div&gt;`)[0];\n",
       "                popup_da26b20e9f1ac1c89d4b5c15897fc346.setContent(html_f271600d8e62e877d741c0e637a70fa9);\n",
       "            \n",
       "        \n",
       "\n",
       "        circle_marker_8b69303e13af72dc4e47b0eadb56ba27.bindPopup(popup_da26b20e9f1ac1c89d4b5c15897fc346)\n",
       "        ;\n",
       "\n",
       "        \n",
       "    \n",
       "    \n",
       "            var marker_31a8e51ae8e5d4ea652046b13bfe0829 = L.marker(\n",
       "                [-22.3943, -41.80788],\n",
       "                {}\n",
       "            ).addTo(map_d4cbc4feeedecb14afdb37c03024c5d2);\n",
       "        \n",
       "    \n",
       "            var div_icon_5aeb12d68f2e71735bc1226dd8f257a6 = L.divIcon({&quot;className&quot;: &quot;empty&quot;, &quot;html&quot;: &quot;\\u003cdiv style=\\u0027font-size: 10pt; color: black\\u0027\\u003e\\u003cb\\u003eR$11.89\\u003c/b\\u003e\\u003c/div\\u003e&quot;});\n",
       "            marker_31a8e51ae8e5d4ea652046b13bfe0829.setIcon(div_icon_5aeb12d68f2e71735bc1226dd8f257a6);\n",
       "        \n",
       "    \n",
       "            var circle_marker_98a7fac10e1276476f78555b72d79324 = L.circleMarker(\n",
       "                [-22.3843, -41.80788],\n",
       "                {&quot;bubblingMouseEvents&quot;: true, &quot;color&quot;: &quot;black&quot;, &quot;dashArray&quot;: null, &quot;dashOffset&quot;: null, &quot;fill&quot;: true, &quot;fillColor&quot;: &quot;#ffe895ff&quot;, &quot;fillOpacity&quot;: 0.7, &quot;fillRule&quot;: &quot;evenodd&quot;, &quot;lineCap&quot;: &quot;round&quot;, &quot;lineJoin&quot;: &quot;round&quot;, &quot;opacity&quot;: 1.0, &quot;radius&quot;: 10, &quot;stroke&quot;: true, &quot;weight&quot;: 3}\n",
       "            ).addTo(map_d4cbc4feeedecb14afdb37c03024c5d2);\n",
       "        \n",
       "    \n",
       "        var popup_73c6c45cc504341dbfd28abf914fce13 = L.popup({&quot;maxWidth&quot;: &quot;100%&quot;});\n",
       "\n",
       "        \n",
       "            \n",
       "                var html_5663cc7cc56c77b476bec282c6fa0d3b = $(`&lt;div id=&quot;html_5663cc7cc56c77b476bec282c6fa0d3b&quot; style=&quot;width: 100.0%; height: 100.0%;&quot;&gt;&lt;b&gt;Hiper MacaéGranja dos Cavaleiros&lt;/b&gt;&lt;br&gt;Kani Congelado Costa Sul 200g&lt;br&gt;Preço: &lt;b&gt;R$11.89&lt;/b&gt;&lt;/div&gt;`)[0];\n",
       "                popup_73c6c45cc504341dbfd28abf914fce13.setContent(html_5663cc7cc56c77b476bec282c6fa0d3b);\n",
       "            \n",
       "        \n",
       "\n",
       "        circle_marker_98a7fac10e1276476f78555b72d79324.bindPopup(popup_73c6c45cc504341dbfd28abf914fce13)\n",
       "        ;\n",
       "\n",
       "        \n",
       "    \n",
       "    \n",
       "            var marker_c0ebfaa972a004ad734e9d7bb94facb0 = L.marker(\n",
       "                [-22.3943, -41.80788],\n",
       "                {}\n",
       "            ).addTo(map_d4cbc4feeedecb14afdb37c03024c5d2);\n",
       "        \n",
       "    \n",
       "            var div_icon_47a2fd5816f210e942299f14de1bb9e0 = L.divIcon({&quot;className&quot;: &quot;empty&quot;, &quot;html&quot;: &quot;\\u003cdiv style=\\u0027font-size: 10pt; color: black\\u0027\\u003e\\u003cb\\u003eR$15.99\\u003c/b\\u003e\\u003c/div\\u003e&quot;});\n",
       "            marker_c0ebfaa972a004ad734e9d7bb94facb0.setIcon(div_icon_47a2fd5816f210e942299f14de1bb9e0);\n",
       "        \n",
       "    \n",
       "            var circle_marker_4746e0a092f1315bfda9ed653ab4295a = L.circleMarker(\n",
       "                [-22.3843, -41.80788],\n",
       "                {&quot;bubblingMouseEvents&quot;: true, &quot;color&quot;: &quot;black&quot;, &quot;dashArray&quot;: null, &quot;dashOffset&quot;: null, &quot;fill&quot;: true, &quot;fillColor&quot;: &quot;#feb14bff&quot;, &quot;fillOpacity&quot;: 0.7, &quot;fillRule&quot;: &quot;evenodd&quot;, &quot;lineCap&quot;: &quot;round&quot;, &quot;lineJoin&quot;: &quot;round&quot;, &quot;opacity&quot;: 1.0, &quot;radius&quot;: 10, &quot;stroke&quot;: true, &quot;weight&quot;: 3}\n",
       "            ).addTo(map_d4cbc4feeedecb14afdb37c03024c5d2);\n",
       "        \n",
       "    \n",
       "        var popup_2ce152ae3ed31c6215bf6b598fa9ca72 = L.popup({&quot;maxWidth&quot;: &quot;100%&quot;});\n",
       "\n",
       "        \n",
       "            \n",
       "                var html_36e87cd6e4b4dec2e802316e82427753 = $(`&lt;div id=&quot;html_36e87cd6e4b4dec2e802316e82427753&quot; style=&quot;width: 100.0%; height: 100.0%;&quot;&gt;&lt;b&gt;Hiper MacaéGranja dos Cavaleiros&lt;/b&gt;&lt;br&gt;Kani Congelado Frescatto 200g&lt;br&gt;Preço: &lt;b&gt;R$15.99&lt;/b&gt;&lt;/div&gt;`)[0];\n",
       "                popup_2ce152ae3ed31c6215bf6b598fa9ca72.setContent(html_36e87cd6e4b4dec2e802316e82427753);\n",
       "            \n",
       "        \n",
       "\n",
       "        circle_marker_4746e0a092f1315bfda9ed653ab4295a.bindPopup(popup_2ce152ae3ed31c6215bf6b598fa9ca72)\n",
       "        ;\n",
       "\n",
       "        \n",
       "    \n",
       "    \n",
       "            var marker_746906239d455bafebd55852fb2dd34a = L.marker(\n",
       "                [-23.546750000000003, -46.76887],\n",
       "                {}\n",
       "            ).addTo(map_d4cbc4feeedecb14afdb37c03024c5d2);\n",
       "        \n",
       "    \n",
       "            var div_icon_1012214a517260f1a92a57d5d5a21f16 = L.divIcon({&quot;className&quot;: &quot;empty&quot;, &quot;html&quot;: &quot;\\u003cdiv style=\\u0027font-size: 10pt; color: black\\u0027\\u003e\\u003cb\\u003eR$10.19\\u003c/b\\u003e\\u003c/div\\u003e&quot;});\n",
       "            marker_746906239d455bafebd55852fb2dd34a.setIcon(div_icon_1012214a517260f1a92a57d5d5a21f16);\n",
       "        \n",
       "    \n",
       "            var circle_marker_6073dcff08704997ff16213da479d3e5 = L.circleMarker(\n",
       "                [-23.53675, -46.76887],\n",
       "                {&quot;bubblingMouseEvents&quot;: true, &quot;color&quot;: &quot;black&quot;, &quot;dashArray&quot;: null, &quot;dashOffset&quot;: null, &quot;fill&quot;: true, &quot;fillColor&quot;: &quot;#fff6b5ff&quot;, &quot;fillOpacity&quot;: 0.7, &quot;fillRule&quot;: &quot;evenodd&quot;, &quot;lineCap&quot;: &quot;round&quot;, &quot;lineJoin&quot;: &quot;round&quot;, &quot;opacity&quot;: 1.0, &quot;radius&quot;: 10, &quot;stroke&quot;: true, &quot;weight&quot;: 3}\n",
       "            ).addTo(map_d4cbc4feeedecb14afdb37c03024c5d2);\n",
       "        \n",
       "    \n",
       "        var popup_16402c7d16b9b3d6b16b33e81241580f = L.popup({&quot;maxWidth&quot;: &quot;100%&quot;});\n",
       "\n",
       "        \n",
       "            \n",
       "                var html_640a38123632819d24d71692feb5be57 = $(`&lt;div id=&quot;html_640a38123632819d24d71692feb5be57&quot; style=&quot;width: 100.0%; height: 100.0%;&quot;&gt;&lt;b&gt;Hipermercado OsascoVila Yara&lt;/b&gt;&lt;br&gt;Kani Congelado Costa Sul 200g&lt;br&gt;Preço: &lt;b&gt;R$10.19&lt;/b&gt;&lt;/div&gt;`)[0];\n",
       "                popup_16402c7d16b9b3d6b16b33e81241580f.setContent(html_640a38123632819d24d71692feb5be57);\n",
       "            \n",
       "        \n",
       "\n",
       "        circle_marker_6073dcff08704997ff16213da479d3e5.bindPopup(popup_16402c7d16b9b3d6b16b33e81241580f)\n",
       "        ;\n",
       "\n",
       "        \n",
       "    \n",
       "    \n",
       "            var marker_d54a8101cb172c1df9543a0e638c0cff = L.marker(\n",
       "                [-22.678230000000003, -47.66848],\n",
       "                {}\n",
       "            ).addTo(map_d4cbc4feeedecb14afdb37c03024c5d2);\n",
       "        \n",
       "    \n",
       "            var div_icon_60c76f2fb3048d0ceb170556ab8990fe = L.divIcon({&quot;className&quot;: &quot;empty&quot;, &quot;html&quot;: &quot;\\u003cdiv style=\\u0027font-size: 10pt; color: black\\u0027\\u003e\\u003cb\\u003eR$10.09\\u003c/b\\u003e\\u003c/div\\u003e&quot;});\n",
       "            marker_d54a8101cb172c1df9543a0e638c0cff.setIcon(div_icon_60c76f2fb3048d0ceb170556ab8990fe);\n",
       "        \n",
       "    \n",
       "            var circle_marker_f85113e555e32fb41d62de1ba84ee26f = L.circleMarker(\n",
       "                [-22.66823, -47.66848],\n",
       "                {&quot;bubblingMouseEvents&quot;: true, &quot;color&quot;: &quot;black&quot;, &quot;dashArray&quot;: null, &quot;dashOffset&quot;: null, &quot;fill&quot;: true, &quot;fillColor&quot;: &quot;#fff7b7ff&quot;, &quot;fillOpacity&quot;: 0.7, &quot;fillRule&quot;: &quot;evenodd&quot;, &quot;lineCap&quot;: &quot;round&quot;, &quot;lineJoin&quot;: &quot;round&quot;, &quot;opacity&quot;: 1.0, &quot;radius&quot;: 10, &quot;stroke&quot;: true, &quot;weight&quot;: 3}\n",
       "            ).addTo(map_d4cbc4feeedecb14afdb37c03024c5d2);\n",
       "        \n",
       "    \n",
       "        var popup_b6c67d40550214cf816d57593322a1e1 = L.popup({&quot;maxWidth&quot;: &quot;100%&quot;});\n",
       "\n",
       "        \n",
       "            \n",
       "                var html_86227630ce9cd6caacef75905789a9e7 = $(`&lt;div id=&quot;html_86227630ce9cd6caacef75905789a9e7&quot; style=&quot;width: 100.0%; height: 100.0%;&quot;&gt;&lt;b&gt;Hipermercado PiracicabaTerras de Piracicaba&lt;/b&gt;&lt;br&gt;Kani Congelado Costa Sul 200g&lt;br&gt;Preço: &lt;b&gt;R$10.09&lt;/b&gt;&lt;/div&gt;`)[0];\n",
       "                popup_b6c67d40550214cf816d57593322a1e1.setContent(html_86227630ce9cd6caacef75905789a9e7);\n",
       "            \n",
       "        \n",
       "\n",
       "        circle_marker_f85113e555e32fb41d62de1ba84ee26f.bindPopup(popup_b6c67d40550214cf816d57593322a1e1)\n",
       "        ;\n",
       "\n",
       "        \n",
       "    \n",
       "    \n",
       "            var marker_60b4046ea063ce47476e9c6e6eb66860 = L.marker(\n",
       "                [-24.02306, -46.41808],\n",
       "                {}\n",
       "            ).addTo(map_d4cbc4feeedecb14afdb37c03024c5d2);\n",
       "        \n",
       "    \n",
       "            var div_icon_fec7ea90aa109ef6055189e1f5e6bd0a = L.divIcon({&quot;className&quot;: &quot;empty&quot;, &quot;html&quot;: &quot;\\u003cdiv style=\\u0027font-size: 10pt; color: black\\u0027\\u003e\\u003cb\\u003eR$10.49\\u003c/b\\u003e\\u003c/div\\u003e&quot;});\n",
       "            marker_60b4046ea063ce47476e9c6e6eb66860.setIcon(div_icon_fec7ea90aa109ef6055189e1f5e6bd0a);\n",
       "        \n",
       "    \n",
       "            var circle_marker_3b511dc2191f6b052a84540f864b29ff = L.circleMarker(\n",
       "                [-24.01306, -46.41808],\n",
       "                {&quot;bubblingMouseEvents&quot;: true, &quot;color&quot;: &quot;black&quot;, &quot;dashArray&quot;: null, &quot;dashOffset&quot;: null, &quot;fill&quot;: true, &quot;fillColor&quot;: &quot;#fff4b0ff&quot;, &quot;fillOpacity&quot;: 0.7, &quot;fillRule&quot;: &quot;evenodd&quot;, &quot;lineCap&quot;: &quot;round&quot;, &quot;lineJoin&quot;: &quot;round&quot;, &quot;opacity&quot;: 1.0, &quot;radius&quot;: 10, &quot;stroke&quot;: true, &quot;weight&quot;: 3}\n",
       "            ).addTo(map_d4cbc4feeedecb14afdb37c03024c5d2);\n",
       "        \n",
       "    \n",
       "        var popup_f383a82773be881332c7b5a5951a87e9 = L.popup({&quot;maxWidth&quot;: &quot;100%&quot;});\n",
       "\n",
       "        \n",
       "            \n",
       "                var html_181ada6ecb748415859ece29565e2be1 = $(`&lt;div id=&quot;html_181ada6ecb748415859ece29565e2be1&quot; style=&quot;width: 100.0%; height: 100.0%;&quot;&gt;&lt;b&gt;Carrefour Bairro Central Praia GrandeVila Guilhermina&lt;/b&gt;&lt;br&gt;Kani Congelado Costa Sul 200g&lt;br&gt;Preço: &lt;b&gt;R$10.49&lt;/b&gt;&lt;/div&gt;`)[0];\n",
       "                popup_f383a82773be881332c7b5a5951a87e9.setContent(html_181ada6ecb748415859ece29565e2be1);\n",
       "            \n",
       "        \n",
       "\n",
       "        circle_marker_3b511dc2191f6b052a84540f864b29ff.bindPopup(popup_f383a82773be881332c7b5a5951a87e9)\n",
       "        ;\n",
       "\n",
       "        \n",
       "    \n",
       "    \n",
       "            var marker_d502fa788444ce98cf31af1e1ed9427c = L.marker(\n",
       "                [-22.119570000000003, -51.40939],\n",
       "                {}\n",
       "            ).addTo(map_d4cbc4feeedecb14afdb37c03024c5d2);\n",
       "        \n",
       "    \n",
       "            var div_icon_c09d051f9c133541156647a8c8ae7aef = L.divIcon({&quot;className&quot;: &quot;empty&quot;, &quot;html&quot;: &quot;\\u003cdiv style=\\u0027font-size: 10pt; color: black\\u0027\\u003e\\u003cb\\u003eR$9.89\\u003c/b\\u003e\\u003c/div\\u003e&quot;});\n",
       "            marker_d502fa788444ce98cf31af1e1ed9427c.setIcon(div_icon_c09d051f9c133541156647a8c8ae7aef);\n",
       "        \n",
       "    \n",
       "            var circle_marker_888f912b4a8f0d8189075bb0a650a972 = L.circleMarker(\n",
       "                [-22.10957, -51.40939],\n",
       "                {&quot;bubblingMouseEvents&quot;: true, &quot;color&quot;: &quot;black&quot;, &quot;dashArray&quot;: null, &quot;dashOffset&quot;: null, &quot;fill&quot;: true, &quot;fillColor&quot;: &quot;#fff8bbff&quot;, &quot;fillOpacity&quot;: 0.7, &quot;fillRule&quot;: &quot;evenodd&quot;, &quot;lineCap&quot;: &quot;round&quot;, &quot;lineJoin&quot;: &quot;round&quot;, &quot;opacity&quot;: 1.0, &quot;radius&quot;: 10, &quot;stroke&quot;: true, &quot;weight&quot;: 3}\n",
       "            ).addTo(map_d4cbc4feeedecb14afdb37c03024c5d2);\n",
       "        \n",
       "    \n",
       "        var popup_92ed42b56db5773b43fb2e6035054701 = L.popup({&quot;maxWidth&quot;: &quot;100%&quot;});\n",
       "\n",
       "        \n",
       "            \n",
       "                var html_635a5ffd860950be16f98e61925e9f46 = $(`&lt;div id=&quot;html_635a5ffd860950be16f98e61925e9f46&quot; style=&quot;width: 100.0%; height: 100.0%;&quot;&gt;&lt;b&gt;Hipermercado Presidente PrudenteJd Das Rosas&lt;/b&gt;&lt;br&gt;Kani Congelado Costa Sul 200g&lt;br&gt;Preço: &lt;b&gt;R$9.89&lt;/b&gt;&lt;/div&gt;`)[0];\n",
       "                popup_92ed42b56db5773b43fb2e6035054701.setContent(html_635a5ffd860950be16f98e61925e9f46);\n",
       "            \n",
       "        \n",
       "\n",
       "        circle_marker_888f912b4a8f0d8189075bb0a650a972.bindPopup(popup_92ed42b56db5773b43fb2e6035054701)\n",
       "        ;\n",
       "\n",
       "        \n",
       "    \n",
       "    \n",
       "            var marker_8f0385e2bca4778f7e9c0403bb4c2008 = L.marker(\n",
       "                [-21.17069, -47.81497],\n",
       "                {}\n",
       "            ).addTo(map_d4cbc4feeedecb14afdb37c03024c5d2);\n",
       "        \n",
       "    \n",
       "            var div_icon_9a5ae0f252acb696699481f20ab8baa2 = L.divIcon({&quot;className&quot;: &quot;empty&quot;, &quot;html&quot;: &quot;\\u003cdiv style=\\u0027font-size: 10pt; color: black\\u0027\\u003e\\u003cb\\u003eR$10.19\\u003c/b\\u003e\\u003c/div\\u003e&quot;});\n",
       "            marker_8f0385e2bca4778f7e9c0403bb4c2008.setIcon(div_icon_9a5ae0f252acb696699481f20ab8baa2);\n",
       "        \n",
       "    \n",
       "            var circle_marker_ebc8cca5110c0973567188ceaa170b1a = L.circleMarker(\n",
       "                [-21.16069, -47.81497],\n",
       "                {&quot;bubblingMouseEvents&quot;: true, &quot;color&quot;: &quot;black&quot;, &quot;dashArray&quot;: null, &quot;dashOffset&quot;: null, &quot;fill&quot;: true, &quot;fillColor&quot;: &quot;#fff6b5ff&quot;, &quot;fillOpacity&quot;: 0.7, &quot;fillRule&quot;: &quot;evenodd&quot;, &quot;lineCap&quot;: &quot;round&quot;, &quot;lineJoin&quot;: &quot;round&quot;, &quot;opacity&quot;: 1.0, &quot;radius&quot;: 10, &quot;stroke&quot;: true, &quot;weight&quot;: 3}\n",
       "            ).addTo(map_d4cbc4feeedecb14afdb37c03024c5d2);\n",
       "        \n",
       "    \n",
       "        var popup_37677c795f2bc389261d83a1b1dc73e0 = L.popup({&quot;maxWidth&quot;: &quot;100%&quot;});\n",
       "\n",
       "        \n",
       "            \n",
       "                var html_6974256cb6439baf0635a2c074a489a9 = $(`&lt;div id=&quot;html_6974256cb6439baf0635a2c074a489a9&quot; style=&quot;width: 100.0%; height: 100.0%;&quot;&gt;&lt;b&gt;Hipermercado Ribeirão Preto NorteIpiranga&lt;/b&gt;&lt;br&gt;Kani Congelado Costa Sul 200g&lt;br&gt;Preço: &lt;b&gt;R$10.19&lt;/b&gt;&lt;/div&gt;`)[0];\n",
       "                popup_37677c795f2bc389261d83a1b1dc73e0.setContent(html_6974256cb6439baf0635a2c074a489a9);\n",
       "            \n",
       "        \n",
       "\n",
       "        circle_marker_ebc8cca5110c0973567188ceaa170b1a.bindPopup(popup_37677c795f2bc389261d83a1b1dc73e0)\n",
       "        ;\n",
       "\n",
       "        \n",
       "    \n",
       "    \n",
       "            var marker_d8ed8573b85c4a334c3fc2893c63102d = L.marker(\n",
       "                [-22.99773, -43.36071],\n",
       "                {}\n",
       "            ).addTo(map_d4cbc4feeedecb14afdb37c03024c5d2);\n",
       "        \n",
       "    \n",
       "            var div_icon_b3532c6a90e2877202da1ba16a70d38b = L.divIcon({&quot;className&quot;: &quot;empty&quot;, &quot;html&quot;: &quot;\\u003cdiv style=\\u0027font-size: 10pt; color: black\\u0027\\u003e\\u003cb\\u003eR$16.49\\u003c/b\\u003e\\u003c/div\\u003e&quot;});\n",
       "            marker_d8ed8573b85c4a334c3fc2893c63102d.setIcon(div_icon_b3532c6a90e2877202da1ba16a70d38b);\n",
       "        \n",
       "    \n",
       "            var circle_marker_ba3fd2376faa79cf2c9df3edccf1c84c = L.circleMarker(\n",
       "                [-22.98773, -43.36071],\n",
       "                {&quot;bubblingMouseEvents&quot;: true, &quot;color&quot;: &quot;black&quot;, &quot;dashArray&quot;: null, &quot;dashOffset&quot;: null, &quot;fill&quot;: true, &quot;fillColor&quot;: &quot;#fea948ff&quot;, &quot;fillOpacity&quot;: 0.7, &quot;fillRule&quot;: &quot;evenodd&quot;, &quot;lineCap&quot;: &quot;round&quot;, &quot;lineJoin&quot;: &quot;round&quot;, &quot;opacity&quot;: 1.0, &quot;radius&quot;: 10, &quot;stroke&quot;: true, &quot;weight&quot;: 3}\n",
       "            ).addTo(map_d4cbc4feeedecb14afdb37c03024c5d2);\n",
       "        \n",
       "    \n",
       "        var popup_27a3f4b4a96ce89f875d6de1f1a979e9 = L.popup({&quot;maxWidth&quot;: &quot;100%&quot;});\n",
       "\n",
       "        \n",
       "            \n",
       "                var html_9cf6a421ac936eb8b1be1236c2138520 = $(`&lt;div id=&quot;html_9cf6a421ac936eb8b1be1236c2138520&quot; style=&quot;width: 100.0%; height: 100.0%;&quot;&gt;&lt;b&gt;Hipermercado BarraBarra da Tijuca&lt;/b&gt;&lt;br&gt;Kani Congelado Costa Sul 200g&lt;br&gt;Preço: &lt;b&gt;R$16.49&lt;/b&gt;&lt;/div&gt;`)[0];\n",
       "                popup_27a3f4b4a96ce89f875d6de1f1a979e9.setContent(html_9cf6a421ac936eb8b1be1236c2138520);\n",
       "            \n",
       "        \n",
       "\n",
       "        circle_marker_ba3fd2376faa79cf2c9df3edccf1c84c.bindPopup(popup_27a3f4b4a96ce89f875d6de1f1a979e9)\n",
       "        ;\n",
       "\n",
       "        \n",
       "    \n",
       "    \n",
       "            var marker_7970b2ca90f7b60affa90ecfbd94b16c = L.marker(\n",
       "                [-22.99773, -43.36071],\n",
       "                {}\n",
       "            ).addTo(map_d4cbc4feeedecb14afdb37c03024c5d2);\n",
       "        \n",
       "    \n",
       "            var div_icon_a62dc7dcb35c7ec296e3dee0cdeda6a1 = L.divIcon({&quot;className&quot;: &quot;empty&quot;, &quot;html&quot;: &quot;\\u003cdiv style=\\u0027font-size: 10pt; color: black\\u0027\\u003e\\u003cb\\u003eR$15.99\\u003c/b\\u003e\\u003c/div\\u003e&quot;});\n",
       "            marker_7970b2ca90f7b60affa90ecfbd94b16c.setIcon(div_icon_a62dc7dcb35c7ec296e3dee0cdeda6a1);\n",
       "        \n",
       "    \n",
       "            var circle_marker_637b72d3b70513cb3c161ef1923e83f1 = L.circleMarker(\n",
       "                [-22.98773, -43.36071],\n",
       "                {&quot;bubblingMouseEvents&quot;: true, &quot;color&quot;: &quot;black&quot;, &quot;dashArray&quot;: null, &quot;dashOffset&quot;: null, &quot;fill&quot;: true, &quot;fillColor&quot;: &quot;#feb14bff&quot;, &quot;fillOpacity&quot;: 0.7, &quot;fillRule&quot;: &quot;evenodd&quot;, &quot;lineCap&quot;: &quot;round&quot;, &quot;lineJoin&quot;: &quot;round&quot;, &quot;opacity&quot;: 1.0, &quot;radius&quot;: 10, &quot;stroke&quot;: true, &quot;weight&quot;: 3}\n",
       "            ).addTo(map_d4cbc4feeedecb14afdb37c03024c5d2);\n",
       "        \n",
       "    \n",
       "        var popup_6b793ef12483c28b7436d20b0be111d6 = L.popup({&quot;maxWidth&quot;: &quot;100%&quot;});\n",
       "\n",
       "        \n",
       "            \n",
       "                var html_3deb96b186f125f938096a1c1af73317 = $(`&lt;div id=&quot;html_3deb96b186f125f938096a1c1af73317&quot; style=&quot;width: 100.0%; height: 100.0%;&quot;&gt;&lt;b&gt;Hipermercado BarraBarra da Tijuca&lt;/b&gt;&lt;br&gt;Kani Congelado Frescatto 200g&lt;br&gt;Preço: &lt;b&gt;R$15.99&lt;/b&gt;&lt;/div&gt;`)[0];\n",
       "                popup_6b793ef12483c28b7436d20b0be111d6.setContent(html_3deb96b186f125f938096a1c1af73317);\n",
       "            \n",
       "        \n",
       "\n",
       "        circle_marker_637b72d3b70513cb3c161ef1923e83f1.bindPopup(popup_6b793ef12483c28b7436d20b0be111d6)\n",
       "        ;\n",
       "\n",
       "        \n",
       "    \n",
       "    \n",
       "            var marker_f46d1c5c709c8437f5c7362d79b1f32a = L.marker(\n",
       "                [-23.210350000000002, -47.2893],\n",
       "                {}\n",
       "            ).addTo(map_d4cbc4feeedecb14afdb37c03024c5d2);\n",
       "        \n",
       "    \n",
       "            var div_icon_0e2fcf030503bac4f054ff77f5c850a2 = L.divIcon({&quot;className&quot;: &quot;empty&quot;, &quot;html&quot;: &quot;\\u003cdiv style=\\u0027font-size: 10pt; color: black\\u0027\\u003e\\u003cb\\u003eR$14.79\\u003c/b\\u003e\\u003c/div\\u003e&quot;});\n",
       "            marker_f46d1c5c709c8437f5c7362d79b1f32a.setIcon(div_icon_0e2fcf030503bac4f054ff77f5c850a2);\n",
       "        \n",
       "    \n",
       "            var circle_marker_77b78ef129728af970bc86d62020df32 = L.circleMarker(\n",
       "                [-23.20035, -47.2893],\n",
       "                {&quot;bubblingMouseEvents&quot;: true, &quot;color&quot;: &quot;black&quot;, &quot;dashArray&quot;: null, &quot;dashOffset&quot;: null, &quot;fill&quot;: true, &quot;fillColor&quot;: &quot;#fec561ff&quot;, &quot;fillOpacity&quot;: 0.7, &quot;fillRule&quot;: &quot;evenodd&quot;, &quot;lineCap&quot;: &quot;round&quot;, &quot;lineJoin&quot;: &quot;round&quot;, &quot;opacity&quot;: 1.0, &quot;radius&quot;: 10, &quot;stroke&quot;: true, &quot;weight&quot;: 3}\n",
       "            ).addTo(map_d4cbc4feeedecb14afdb37c03024c5d2);\n",
       "        \n",
       "    \n",
       "        var popup_4aa9edb8fdc55151f4757e1fc4fcaf2b = L.popup({&quot;maxWidth&quot;: &quot;100%&quot;});\n",
       "\n",
       "        \n",
       "            \n",
       "                var html_2dcd0f3ec9a39580ebf0d18e5ef91f36 = $(`&lt;div id=&quot;html_2dcd0f3ec9a39580ebf0d18e5ef91f36&quot; style=&quot;width: 100.0%; height: 100.0%;&quot;&gt;&lt;b&gt;Carrefour Bairro SaltoVila Nova&lt;/b&gt;&lt;br&gt;Kani Congelado Costa Sul 200g&lt;br&gt;Preço: &lt;b&gt;R$14.79&lt;/b&gt;&lt;/div&gt;`)[0];\n",
       "                popup_4aa9edb8fdc55151f4757e1fc4fcaf2b.setContent(html_2dcd0f3ec9a39580ebf0d18e5ef91f36);\n",
       "            \n",
       "        \n",
       "\n",
       "        circle_marker_77b78ef129728af970bc86d62020df32.bindPopup(popup_4aa9edb8fdc55151f4757e1fc4fcaf2b)\n",
       "        ;\n",
       "\n",
       "        \n",
       "    \n",
       "    \n",
       "            var marker_d08710a793d39315dc2f63d590f5c8a9 = L.marker(\n",
       "                [-23.210350000000002, -47.2893],\n",
       "                {}\n",
       "            ).addTo(map_d4cbc4feeedecb14afdb37c03024c5d2);\n",
       "        \n",
       "    \n",
       "            var div_icon_a485b9184fd82a8c318afef10c5e3e36 = L.divIcon({&quot;className&quot;: &quot;empty&quot;, &quot;html&quot;: &quot;\\u003cdiv style=\\u0027font-size: 10pt; color: black\\u0027\\u003e\\u003cb\\u003eR$9.98\\u003c/b\\u003e\\u003c/div\\u003e&quot;});\n",
       "            marker_d08710a793d39315dc2f63d590f5c8a9.setIcon(div_icon_a485b9184fd82a8c318afef10c5e3e36);\n",
       "        \n",
       "    \n",
       "            var circle_marker_cd0c7eda29b775450ca70860dbf19904 = L.circleMarker(\n",
       "                [-23.20035, -47.2893],\n",
       "                {&quot;bubblingMouseEvents&quot;: true, &quot;color&quot;: &quot;black&quot;, &quot;dashArray&quot;: null, &quot;dashOffset&quot;: null, &quot;fill&quot;: true, &quot;fillColor&quot;: &quot;#fff8b9ff&quot;, &quot;fillOpacity&quot;: 0.7, &quot;fillRule&quot;: &quot;evenodd&quot;, &quot;lineCap&quot;: &quot;round&quot;, &quot;lineJoin&quot;: &quot;round&quot;, &quot;opacity&quot;: 1.0, &quot;radius&quot;: 10, &quot;stroke&quot;: true, &quot;weight&quot;: 3}\n",
       "            ).addTo(map_d4cbc4feeedecb14afdb37c03024c5d2);\n",
       "        \n",
       "    \n",
       "        var popup_33eb0dfc8853c807926931b4d36a21b4 = L.popup({&quot;maxWidth&quot;: &quot;100%&quot;});\n",
       "\n",
       "        \n",
       "            \n",
       "                var html_8a61144ecacbeb2491fd961064328c75 = $(`&lt;div id=&quot;html_8a61144ecacbeb2491fd961064328c75&quot; style=&quot;width: 100.0%; height: 100.0%;&quot;&gt;&lt;b&gt;Carrefour Bairro SaltoVila Nova&lt;/b&gt;&lt;br&gt;Kani Congelado Frescatto 200g&lt;br&gt;Preço: &lt;b&gt;R$9.98&lt;/b&gt;&lt;/div&gt;`)[0];\n",
       "                popup_33eb0dfc8853c807926931b4d36a21b4.setContent(html_8a61144ecacbeb2491fd961064328c75);\n",
       "            \n",
       "        \n",
       "\n",
       "        circle_marker_cd0c7eda29b775450ca70860dbf19904.bindPopup(popup_33eb0dfc8853c807926931b4d36a21b4)\n",
       "        ;\n",
       "\n",
       "        \n",
       "    \n",
       "    \n",
       "            var marker_067cbe45efd44c41531a52f8ed4d33c2 = L.marker(\n",
       "                [-23.47916, -46.87131],\n",
       "                {}\n",
       "            ).addTo(map_d4cbc4feeedecb14afdb37c03024c5d2);\n",
       "        \n",
       "    \n",
       "            var div_icon_d82bc9aa9966cc2c2b3ea102fdde113c = L.divIcon({&quot;className&quot;: &quot;empty&quot;, &quot;html&quot;: &quot;\\u003cdiv style=\\u0027font-size: 10pt; color: black\\u0027\\u003e\\u003cb\\u003eR$14.79\\u003c/b\\u003e\\u003c/div\\u003e&quot;});\n",
       "            marker_067cbe45efd44c41531a52f8ed4d33c2.setIcon(div_icon_d82bc9aa9966cc2c2b3ea102fdde113c);\n",
       "        \n",
       "    \n",
       "            var circle_marker_3aa880d2f79b73d5e2b9320568e95181 = L.circleMarker(\n",
       "                [-23.46916, -46.87131],\n",
       "                {&quot;bubblingMouseEvents&quot;: true, &quot;color&quot;: &quot;black&quot;, &quot;dashArray&quot;: null, &quot;dashOffset&quot;: null, &quot;fill&quot;: true, &quot;fillColor&quot;: &quot;#fec561ff&quot;, &quot;fillOpacity&quot;: 0.7, &quot;fillRule&quot;: &quot;evenodd&quot;, &quot;lineCap&quot;: &quot;round&quot;, &quot;lineJoin&quot;: &quot;round&quot;, &quot;opacity&quot;: 1.0, &quot;radius&quot;: 10, &quot;stroke&quot;: true, &quot;weight&quot;: 3}\n",
       "            ).addTo(map_d4cbc4feeedecb14afdb37c03024c5d2);\n",
       "        \n",
       "    \n",
       "        var popup_af01d37a98a918087fcf62f8be6fcb2c = L.popup({&quot;maxWidth&quot;: &quot;100%&quot;});\n",
       "\n",
       "        \n",
       "            \n",
       "                var html_6d53dc240e51438a2ed61176498a614a = $(`&lt;div id=&quot;html_6d53dc240e51438a2ed61176498a614a&quot; style=&quot;width: 100.0%; height: 100.0%;&quot;&gt;&lt;b&gt;Carrefour Bairro AlphavilleAlphaville&lt;/b&gt;&lt;br&gt;Kani Congelado Costa Sul 200g&lt;br&gt;Preço: &lt;b&gt;R$14.79&lt;/b&gt;&lt;/div&gt;`)[0];\n",
       "                popup_af01d37a98a918087fcf62f8be6fcb2c.setContent(html_6d53dc240e51438a2ed61176498a614a);\n",
       "            \n",
       "        \n",
       "\n",
       "        circle_marker_3aa880d2f79b73d5e2b9320568e95181.bindPopup(popup_af01d37a98a918087fcf62f8be6fcb2c)\n",
       "        ;\n",
       "\n",
       "        \n",
       "    \n",
       "    \n",
       "            var marker_372b89254189fa23835a598f0ce8fffa = L.marker(\n",
       "                [-23.47916, -46.87131],\n",
       "                {}\n",
       "            ).addTo(map_d4cbc4feeedecb14afdb37c03024c5d2);\n",
       "        \n",
       "    \n",
       "            var div_icon_19d65b7fc814ac0826999219fe7751e0 = L.divIcon({&quot;className&quot;: &quot;empty&quot;, &quot;html&quot;: &quot;\\u003cdiv style=\\u0027font-size: 10pt; color: black\\u0027\\u003e\\u003cb\\u003eR$11.19\\u003c/b\\u003e\\u003c/div\\u003e&quot;});\n",
       "            marker_372b89254189fa23835a598f0ce8fffa.setIcon(div_icon_19d65b7fc814ac0826999219fe7751e0);\n",
       "        \n",
       "    \n",
       "            var circle_marker_1e24105d9f0957666c751de668384b4c = L.circleMarker(\n",
       "                [-23.46916, -46.87131],\n",
       "                {&quot;bubblingMouseEvents&quot;: true, &quot;color&quot;: &quot;black&quot;, &quot;dashArray&quot;: null, &quot;dashOffset&quot;: null, &quot;fill&quot;: true, &quot;fillColor&quot;: &quot;#ffeea2ff&quot;, &quot;fillOpacity&quot;: 0.7, &quot;fillRule&quot;: &quot;evenodd&quot;, &quot;lineCap&quot;: &quot;round&quot;, &quot;lineJoin&quot;: &quot;round&quot;, &quot;opacity&quot;: 1.0, &quot;radius&quot;: 10, &quot;stroke&quot;: true, &quot;weight&quot;: 3}\n",
       "            ).addTo(map_d4cbc4feeedecb14afdb37c03024c5d2);\n",
       "        \n",
       "    \n",
       "        var popup_0e3ff29868ce4fb3fc59ca7fbd302179 = L.popup({&quot;maxWidth&quot;: &quot;100%&quot;});\n",
       "\n",
       "        \n",
       "            \n",
       "                var html_9e6dc92929f0e399da701bb17f183fd6 = $(`&lt;div id=&quot;html_9e6dc92929f0e399da701bb17f183fd6&quot; style=&quot;width: 100.0%; height: 100.0%;&quot;&gt;&lt;b&gt;Carrefour Bairro AlphavilleAlphaville&lt;/b&gt;&lt;br&gt;Kani Congelado Damm 250g&lt;br&gt;Preço: &lt;b&gt;R$11.19&lt;/b&gt;&lt;/div&gt;`)[0];\n",
       "                popup_0e3ff29868ce4fb3fc59ca7fbd302179.setContent(html_9e6dc92929f0e399da701bb17f183fd6);\n",
       "            \n",
       "        \n",
       "\n",
       "        circle_marker_1e24105d9f0957666c751de668384b4c.bindPopup(popup_0e3ff29868ce4fb3fc59ca7fbd302179)\n",
       "        ;\n",
       "\n",
       "        \n",
       "    \n",
       "    \n",
       "            var marker_142bbf3d22e2d39a0eb756a8118168f2 = L.marker(\n",
       "                [-23.7361, -46.55198],\n",
       "                {}\n",
       "            ).addTo(map_d4cbc4feeedecb14afdb37c03024c5d2);\n",
       "        \n",
       "    \n",
       "            var div_icon_0a164123e7cb807296308069fe29f6c0 = L.divIcon({&quot;className&quot;: &quot;empty&quot;, &quot;html&quot;: &quot;\\u003cdiv style=\\u0027font-size: 10pt; color: black\\u0027\\u003e\\u003cb\\u003eR$9.89\\u003c/b\\u003e\\u003c/div\\u003e&quot;});\n",
       "            marker_142bbf3d22e2d39a0eb756a8118168f2.setIcon(div_icon_0a164123e7cb807296308069fe29f6c0);\n",
       "        \n",
       "    \n",
       "            var circle_marker_038b99b68b436e636e6ab7333a4cea41 = L.circleMarker(\n",
       "                [-23.7261, -46.55198],\n",
       "                {&quot;bubblingMouseEvents&quot;: true, &quot;color&quot;: &quot;black&quot;, &quot;dashArray&quot;: null, &quot;dashOffset&quot;: null, &quot;fill&quot;: true, &quot;fillColor&quot;: &quot;#fff8bbff&quot;, &quot;fillOpacity&quot;: 0.7, &quot;fillRule&quot;: &quot;evenodd&quot;, &quot;lineCap&quot;: &quot;round&quot;, &quot;lineJoin&quot;: &quot;round&quot;, &quot;opacity&quot;: 1.0, &quot;radius&quot;: 10, &quot;stroke&quot;: true, &quot;weight&quot;: 3}\n",
       "            ).addTo(map_d4cbc4feeedecb14afdb37c03024c5d2);\n",
       "        \n",
       "    \n",
       "        var popup_fd552f1a7199f6c8d1db17ae7d0b4571 = L.popup({&quot;maxWidth&quot;: &quot;100%&quot;});\n",
       "\n",
       "        \n",
       "            \n",
       "                var html_d48c1eaa93b16609996ccbb14baacf4b = $(`&lt;div id=&quot;html_d48c1eaa93b16609996ccbb14baacf4b&quot; style=&quot;width: 100.0%; height: 100.0%;&quot;&gt;&lt;b&gt;Hipermercado São Bernado do CampoCentro&lt;/b&gt;&lt;br&gt;Kani Congelado Costa Sul 200g&lt;br&gt;Preço: &lt;b&gt;R$9.89&lt;/b&gt;&lt;/div&gt;`)[0];\n",
       "                popup_fd552f1a7199f6c8d1db17ae7d0b4571.setContent(html_d48c1eaa93b16609996ccbb14baacf4b);\n",
       "            \n",
       "        \n",
       "\n",
       "        circle_marker_038b99b68b436e636e6ab7333a4cea41.bindPopup(popup_fd552f1a7199f6c8d1db17ae7d0b4571)\n",
       "        ;\n",
       "\n",
       "        \n",
       "    \n",
       "    \n",
       "            var marker_f7c58ea7217d45d4d45f842bc5910a80 = L.marker(\n",
       "                [-23.6187, -46.56537],\n",
       "                {}\n",
       "            ).addTo(map_d4cbc4feeedecb14afdb37c03024c5d2);\n",
       "        \n",
       "    \n",
       "            var div_icon_18a3c5f6b78c73ea82d480d10944ae66 = L.divIcon({&quot;className&quot;: &quot;empty&quot;, &quot;html&quot;: &quot;\\u003cdiv style=\\u0027font-size: 10pt; color: black\\u0027\\u003e\\u003cb\\u003eR$10.19\\u003c/b\\u003e\\u003c/div\\u003e&quot;});\n",
       "            marker_f7c58ea7217d45d4d45f842bc5910a80.setIcon(div_icon_18a3c5f6b78c73ea82d480d10944ae66);\n",
       "        \n",
       "    \n",
       "            var circle_marker_d23ccc598909cd0154d42ac00bc4cb21 = L.circleMarker(\n",
       "                [-23.6087, -46.56537],\n",
       "                {&quot;bubblingMouseEvents&quot;: true, &quot;color&quot;: &quot;black&quot;, &quot;dashArray&quot;: null, &quot;dashOffset&quot;: null, &quot;fill&quot;: true, &quot;fillColor&quot;: &quot;#fff6b5ff&quot;, &quot;fillOpacity&quot;: 0.7, &quot;fillRule&quot;: &quot;evenodd&quot;, &quot;lineCap&quot;: &quot;round&quot;, &quot;lineJoin&quot;: &quot;round&quot;, &quot;opacity&quot;: 1.0, &quot;radius&quot;: 10, &quot;stroke&quot;: true, &quot;weight&quot;: 3}\n",
       "            ).addTo(map_d4cbc4feeedecb14afdb37c03024c5d2);\n",
       "        \n",
       "    \n",
       "        var popup_ca53286d3a8eb8a9a27a922ec0cc71a6 = L.popup({&quot;maxWidth&quot;: &quot;100%&quot;});\n",
       "\n",
       "        \n",
       "            \n",
       "                var html_34b7359ef61cfc5d71b6f60fed4a04a7 = $(`&lt;div id=&quot;html_34b7359ef61cfc5d71b6f60fed4a04a7&quot; style=&quot;width: 100.0%; height: 100.0%;&quot;&gt;&lt;b&gt;Hipermercado São Caetano do SulFundação&lt;/b&gt;&lt;br&gt;Kani Congelado Costa Sul 200g&lt;br&gt;Preço: &lt;b&gt;R$10.19&lt;/b&gt;&lt;/div&gt;`)[0];\n",
       "                popup_ca53286d3a8eb8a9a27a922ec0cc71a6.setContent(html_34b7359ef61cfc5d71b6f60fed4a04a7);\n",
       "            \n",
       "        \n",
       "\n",
       "        circle_marker_d23ccc598909cd0154d42ac00bc4cb21.bindPopup(popup_ca53286d3a8eb8a9a27a922ec0cc71a6)\n",
       "        ;\n",
       "\n",
       "        \n",
       "    \n",
       "    \n",
       "            var marker_27c9d7c11e6f10ab8cf91c824b6ecbad = L.marker(\n",
       "                [-23.6187, -46.56537],\n",
       "                {}\n",
       "            ).addTo(map_d4cbc4feeedecb14afdb37c03024c5d2);\n",
       "        \n",
       "    \n",
       "            var div_icon_5f693a001fd71734b23375c9d7fd44a7 = L.divIcon({&quot;className&quot;: &quot;empty&quot;, &quot;html&quot;: &quot;\\u003cdiv style=\\u0027font-size: 10pt; color: black\\u0027\\u003e\\u003cb\\u003eR$10.29\\u003c/b\\u003e\\u003c/div\\u003e&quot;});\n",
       "            marker_27c9d7c11e6f10ab8cf91c824b6ecbad.setIcon(div_icon_5f693a001fd71734b23375c9d7fd44a7);\n",
       "        \n",
       "    \n",
       "            var circle_marker_151a16520529f9df42fc708c79f425ee = L.circleMarker(\n",
       "                [-23.6087, -46.56537],\n",
       "                {&quot;bubblingMouseEvents&quot;: true, &quot;color&quot;: &quot;black&quot;, &quot;dashArray&quot;: null, &quot;dashOffset&quot;: null, &quot;fill&quot;: true, &quot;fillColor&quot;: &quot;#fff5b3ff&quot;, &quot;fillOpacity&quot;: 0.7, &quot;fillRule&quot;: &quot;evenodd&quot;, &quot;lineCap&quot;: &quot;round&quot;, &quot;lineJoin&quot;: &quot;round&quot;, &quot;opacity&quot;: 1.0, &quot;radius&quot;: 10, &quot;stroke&quot;: true, &quot;weight&quot;: 3}\n",
       "            ).addTo(map_d4cbc4feeedecb14afdb37c03024c5d2);\n",
       "        \n",
       "    \n",
       "        var popup_1c35f5a290f10a8a3b4d0dd1ecc84bbf = L.popup({&quot;maxWidth&quot;: &quot;100%&quot;});\n",
       "\n",
       "        \n",
       "            \n",
       "                var html_fcae10ce7d6ae8e9a0dc56f5fa989987 = $(`&lt;div id=&quot;html_fcae10ce7d6ae8e9a0dc56f5fa989987&quot; style=&quot;width: 100.0%; height: 100.0%;&quot;&gt;&lt;b&gt;Hipermercado São Caetano do SulFundação&lt;/b&gt;&lt;br&gt;Kani Congelado Frescatto 200g&lt;br&gt;Preço: &lt;b&gt;R$10.29&lt;/b&gt;&lt;/div&gt;`)[0];\n",
       "                popup_1c35f5a290f10a8a3b4d0dd1ecc84bbf.setContent(html_fcae10ce7d6ae8e9a0dc56f5fa989987);\n",
       "            \n",
       "        \n",
       "\n",
       "        circle_marker_151a16520529f9df42fc708c79f425ee.bindPopup(popup_1c35f5a290f10a8a3b4d0dd1ecc84bbf)\n",
       "        ;\n",
       "\n",
       "        \n",
       "    \n",
       "    \n",
       "            var marker_e81fa8184aec925864c1069b8562863e = L.marker(\n",
       "                [-22.00732, -47.91609],\n",
       "                {}\n",
       "            ).addTo(map_d4cbc4feeedecb14afdb37c03024c5d2);\n",
       "        \n",
       "    \n",
       "            var div_icon_4201b5fda4593d6b9b06a71360d3820e = L.divIcon({&quot;className&quot;: &quot;empty&quot;, &quot;html&quot;: &quot;\\u003cdiv style=\\u0027font-size: 10pt; color: black\\u0027\\u003e\\u003cb\\u003eR$14.79\\u003c/b\\u003e\\u003c/div\\u003e&quot;});\n",
       "            marker_e81fa8184aec925864c1069b8562863e.setIcon(div_icon_4201b5fda4593d6b9b06a71360d3820e);\n",
       "        \n",
       "    \n",
       "            var circle_marker_01939ea909fe72c3c7e9270df2824cb8 = L.circleMarker(\n",
       "                [-21.99732, -47.91609],\n",
       "                {&quot;bubblingMouseEvents&quot;: true, &quot;color&quot;: &quot;black&quot;, &quot;dashArray&quot;: null, &quot;dashOffset&quot;: null, &quot;fill&quot;: true, &quot;fillColor&quot;: &quot;#fec561ff&quot;, &quot;fillOpacity&quot;: 0.7, &quot;fillRule&quot;: &quot;evenodd&quot;, &quot;lineCap&quot;: &quot;round&quot;, &quot;lineJoin&quot;: &quot;round&quot;, &quot;opacity&quot;: 1.0, &quot;radius&quot;: 10, &quot;stroke&quot;: true, &quot;weight&quot;: 3}\n",
       "            ).addTo(map_d4cbc4feeedecb14afdb37c03024c5d2);\n",
       "        \n",
       "    \n",
       "        var popup_28e8dc9ab67d1a15de74159bfcba3560 = L.popup({&quot;maxWidth&quot;: &quot;100%&quot;});\n",
       "\n",
       "        \n",
       "            \n",
       "                var html_67a81f2e98490767dc86a6a6eb9d016b = $(`&lt;div id=&quot;html_67a81f2e98490767dc86a6a6eb9d016b&quot; style=&quot;width: 100.0%; height: 100.0%;&quot;&gt;&lt;b&gt;Carrefour Bairro São Carlos - Sta FelíciaSanta Felicia&lt;/b&gt;&lt;br&gt;Kani Congelado Costa Sul 200g&lt;br&gt;Preço: &lt;b&gt;R$14.79&lt;/b&gt;&lt;/div&gt;`)[0];\n",
       "                popup_28e8dc9ab67d1a15de74159bfcba3560.setContent(html_67a81f2e98490767dc86a6a6eb9d016b);\n",
       "            \n",
       "        \n",
       "\n",
       "        circle_marker_01939ea909fe72c3c7e9270df2824cb8.bindPopup(popup_28e8dc9ab67d1a15de74159bfcba3560)\n",
       "        ;\n",
       "\n",
       "        \n",
       "    \n",
       "    \n",
       "            var marker_b773dc41c654f58a9548aff6e2615166 = L.marker(\n",
       "                [-22.82845, -43.0076],\n",
       "                {}\n",
       "            ).addTo(map_d4cbc4feeedecb14afdb37c03024c5d2);\n",
       "        \n",
       "    \n",
       "            var div_icon_35d2db90c65a6938d2f14ff58f1b6894 = L.divIcon({&quot;className&quot;: &quot;empty&quot;, &quot;html&quot;: &quot;\\u003cdiv style=\\u0027font-size: 10pt; color: black\\u0027\\u003e\\u003cb\\u003eR$16.49\\u003c/b\\u003e\\u003c/div\\u003e&quot;});\n",
       "            marker_b773dc41c654f58a9548aff6e2615166.setIcon(div_icon_35d2db90c65a6938d2f14ff58f1b6894);\n",
       "        \n",
       "    \n",
       "            var circle_marker_0a23c8ef906a2be16e00876efebdb017 = L.circleMarker(\n",
       "                [-22.81845, -43.0076],\n",
       "                {&quot;bubblingMouseEvents&quot;: true, &quot;color&quot;: &quot;black&quot;, &quot;dashArray&quot;: null, &quot;dashOffset&quot;: null, &quot;fill&quot;: true, &quot;fillColor&quot;: &quot;#fea948ff&quot;, &quot;fillOpacity&quot;: 0.7, &quot;fillRule&quot;: &quot;evenodd&quot;, &quot;lineCap&quot;: &quot;round&quot;, &quot;lineJoin&quot;: &quot;round&quot;, &quot;opacity&quot;: 1.0, &quot;radius&quot;: 10, &quot;stroke&quot;: true, &quot;weight&quot;: 3}\n",
       "            ).addTo(map_d4cbc4feeedecb14afdb37c03024c5d2);\n",
       "        \n",
       "    \n",
       "        var popup_8a50fa31450a21f2643dcf5f4c0f7ed1 = L.popup({&quot;maxWidth&quot;: &quot;100%&quot;});\n",
       "\n",
       "        \n",
       "            \n",
       "                var html_30df96eae1f18fb3156ebb962a105e25 = $(`&lt;div id=&quot;html_30df96eae1f18fb3156ebb962a105e25&quot; style=&quot;width: 100.0%; height: 100.0%;&quot;&gt;&lt;b&gt;Hipermercado AlcântaraAlcantara&lt;/b&gt;&lt;br&gt;Kani Congelado Costa Sul 200g&lt;br&gt;Preço: &lt;b&gt;R$16.49&lt;/b&gt;&lt;/div&gt;`)[0];\n",
       "                popup_8a50fa31450a21f2643dcf5f4c0f7ed1.setContent(html_30df96eae1f18fb3156ebb962a105e25);\n",
       "            \n",
       "        \n",
       "\n",
       "        circle_marker_0a23c8ef906a2be16e00876efebdb017.bindPopup(popup_8a50fa31450a21f2643dcf5f4c0f7ed1)\n",
       "        ;\n",
       "\n",
       "        \n",
       "    \n",
       "    \n",
       "            var marker_0b43cda073bb15a81bc1681adaa277f9 = L.marker(\n",
       "                [-22.82845, -43.0076],\n",
       "                {}\n",
       "            ).addTo(map_d4cbc4feeedecb14afdb37c03024c5d2);\n",
       "        \n",
       "    \n",
       "            var div_icon_9686d6b633f5a61e34964432cec95fe4 = L.divIcon({&quot;className&quot;: &quot;empty&quot;, &quot;html&quot;: &quot;\\u003cdiv style=\\u0027font-size: 10pt; color: black\\u0027\\u003e\\u003cb\\u003eR$15.99\\u003c/b\\u003e\\u003c/div\\u003e&quot;});\n",
       "            marker_0b43cda073bb15a81bc1681adaa277f9.setIcon(div_icon_9686d6b633f5a61e34964432cec95fe4);\n",
       "        \n",
       "    \n",
       "            var circle_marker_a1741c3d579d58701ffda02f9ec01a34 = L.circleMarker(\n",
       "                [-22.81845, -43.0076],\n",
       "                {&quot;bubblingMouseEvents&quot;: true, &quot;color&quot;: &quot;black&quot;, &quot;dashArray&quot;: null, &quot;dashOffset&quot;: null, &quot;fill&quot;: true, &quot;fillColor&quot;: &quot;#feb14bff&quot;, &quot;fillOpacity&quot;: 0.7, &quot;fillRule&quot;: &quot;evenodd&quot;, &quot;lineCap&quot;: &quot;round&quot;, &quot;lineJoin&quot;: &quot;round&quot;, &quot;opacity&quot;: 1.0, &quot;radius&quot;: 10, &quot;stroke&quot;: true, &quot;weight&quot;: 3}\n",
       "            ).addTo(map_d4cbc4feeedecb14afdb37c03024c5d2);\n",
       "        \n",
       "    \n",
       "        var popup_e075884159650c5c10d0d5e5f9f3c084 = L.popup({&quot;maxWidth&quot;: &quot;100%&quot;});\n",
       "\n",
       "        \n",
       "            \n",
       "                var html_0ea78839f264aa74d0e514cc7433c0e4 = $(`&lt;div id=&quot;html_0ea78839f264aa74d0e514cc7433c0e4&quot; style=&quot;width: 100.0%; height: 100.0%;&quot;&gt;&lt;b&gt;Hipermercado AlcântaraAlcantara&lt;/b&gt;&lt;br&gt;Kani Congelado Frescatto 200g&lt;br&gt;Preço: &lt;b&gt;R$15.99&lt;/b&gt;&lt;/div&gt;`)[0];\n",
       "                popup_e075884159650c5c10d0d5e5f9f3c084.setContent(html_0ea78839f264aa74d0e514cc7433c0e4);\n",
       "            \n",
       "        \n",
       "\n",
       "        circle_marker_a1741c3d579d58701ffda02f9ec01a34.bindPopup(popup_e075884159650c5c10d0d5e5f9f3c084)\n",
       "        ;\n",
       "\n",
       "        \n",
       "    \n",
       "    \n",
       "            var marker_91d4672eefa43cd7fdb0850108dd0e6a = L.marker(\n",
       "                [-20.84233, -49.39859],\n",
       "                {}\n",
       "            ).addTo(map_d4cbc4feeedecb14afdb37c03024c5d2);\n",
       "        \n",
       "    \n",
       "            var div_icon_6ed1f609bab6ee4a036b3a94b7aa0878 = L.divIcon({&quot;className&quot;: &quot;empty&quot;, &quot;html&quot;: &quot;\\u003cdiv style=\\u0027font-size: 10pt; color: black\\u0027\\u003e\\u003cb\\u003eR$9.89\\u003c/b\\u003e\\u003c/div\\u003e&quot;});\n",
       "            marker_91d4672eefa43cd7fdb0850108dd0e6a.setIcon(div_icon_6ed1f609bab6ee4a036b3a94b7aa0878);\n",
       "        \n",
       "    \n",
       "            var circle_marker_3a3e4f2238d2746149fa1cc15644dfe2 = L.circleMarker(\n",
       "                [-20.83233, -49.39859],\n",
       "                {&quot;bubblingMouseEvents&quot;: true, &quot;color&quot;: &quot;black&quot;, &quot;dashArray&quot;: null, &quot;dashOffset&quot;: null, &quot;fill&quot;: true, &quot;fillColor&quot;: &quot;#fff8bbff&quot;, &quot;fillOpacity&quot;: 0.7, &quot;fillRule&quot;: &quot;evenodd&quot;, &quot;lineCap&quot;: &quot;round&quot;, &quot;lineJoin&quot;: &quot;round&quot;, &quot;opacity&quot;: 1.0, &quot;radius&quot;: 10, &quot;stroke&quot;: true, &quot;weight&quot;: 3}\n",
       "            ).addTo(map_d4cbc4feeedecb14afdb37c03024c5d2);\n",
       "        \n",
       "    \n",
       "        var popup_5b95d96e2fe9b551eb2a554343b7b5e8 = L.popup({&quot;maxWidth&quot;: &quot;100%&quot;});\n",
       "\n",
       "        \n",
       "            \n",
       "                var html_b70b4d76dca83dbdd058a3402fa2d119 = $(`&lt;div id=&quot;html_b70b4d76dca83dbdd058a3402fa2d119&quot; style=&quot;width: 100.0%; height: 100.0%;&quot;&gt;&lt;b&gt;Hipermercado Rio Preto ShoppingJd Fernandes&lt;/b&gt;&lt;br&gt;Kani Congelado Costa Sul 200g&lt;br&gt;Preço: &lt;b&gt;R$9.89&lt;/b&gt;&lt;/div&gt;`)[0];\n",
       "                popup_5b95d96e2fe9b551eb2a554343b7b5e8.setContent(html_b70b4d76dca83dbdd058a3402fa2d119);\n",
       "            \n",
       "        \n",
       "\n",
       "        circle_marker_3a3e4f2238d2746149fa1cc15644dfe2.bindPopup(popup_5b95d96e2fe9b551eb2a554343b7b5e8)\n",
       "        ;\n",
       "\n",
       "        \n",
       "    \n",
       "    \n",
       "            var marker_a9fbebcafcf89f27dd7865c8180df8bc = L.marker(\n",
       "                [-20.84233, -49.39859],\n",
       "                {}\n",
       "            ).addTo(map_d4cbc4feeedecb14afdb37c03024c5d2);\n",
       "        \n",
       "    \n",
       "            var div_icon_0aaa942ca94b9749269def18ec5bcb9c = L.divIcon({&quot;className&quot;: &quot;empty&quot;, &quot;html&quot;: &quot;\\u003cdiv style=\\u0027font-size: 10pt; color: black\\u0027\\u003e\\u003cb\\u003eR$9.98\\u003c/b\\u003e\\u003c/div\\u003e&quot;});\n",
       "            marker_a9fbebcafcf89f27dd7865c8180df8bc.setIcon(div_icon_0aaa942ca94b9749269def18ec5bcb9c);\n",
       "        \n",
       "    \n",
       "            var circle_marker_db39e1e2b634147637f579cd962e3642 = L.circleMarker(\n",
       "                [-20.83233, -49.39859],\n",
       "                {&quot;bubblingMouseEvents&quot;: true, &quot;color&quot;: &quot;black&quot;, &quot;dashArray&quot;: null, &quot;dashOffset&quot;: null, &quot;fill&quot;: true, &quot;fillColor&quot;: &quot;#fff8b9ff&quot;, &quot;fillOpacity&quot;: 0.7, &quot;fillRule&quot;: &quot;evenodd&quot;, &quot;lineCap&quot;: &quot;round&quot;, &quot;lineJoin&quot;: &quot;round&quot;, &quot;opacity&quot;: 1.0, &quot;radius&quot;: 10, &quot;stroke&quot;: true, &quot;weight&quot;: 3}\n",
       "            ).addTo(map_d4cbc4feeedecb14afdb37c03024c5d2);\n",
       "        \n",
       "    \n",
       "        var popup_2e6f2184a609852784fd622fc3b47b06 = L.popup({&quot;maxWidth&quot;: &quot;100%&quot;});\n",
       "\n",
       "        \n",
       "            \n",
       "                var html_a178b30ea6b3eb980fc9e7bf02d0ec25 = $(`&lt;div id=&quot;html_a178b30ea6b3eb980fc9e7bf02d0ec25&quot; style=&quot;width: 100.0%; height: 100.0%;&quot;&gt;&lt;b&gt;Hipermercado Rio Preto ShoppingJd Fernandes&lt;/b&gt;&lt;br&gt;Kani Congelado Frescatto 200g&lt;br&gt;Preço: &lt;b&gt;R$9.98&lt;/b&gt;&lt;/div&gt;`)[0];\n",
       "                popup_2e6f2184a609852784fd622fc3b47b06.setContent(html_a178b30ea6b3eb980fc9e7bf02d0ec25);\n",
       "            \n",
       "        \n",
       "\n",
       "        circle_marker_db39e1e2b634147637f579cd962e3642.bindPopup(popup_2e6f2184a609852784fd622fc3b47b06)\n",
       "        ;\n",
       "\n",
       "        \n",
       "    \n",
       "    \n",
       "            var marker_df111049e50cbb5c726641b02fad88f2 = L.marker(\n",
       "                [-23.23279, -45.90544],\n",
       "                {}\n",
       "            ).addTo(map_d4cbc4feeedecb14afdb37c03024c5d2);\n",
       "        \n",
       "    \n",
       "            var div_icon_1470ade84930b3aba60553d55fcb4041 = L.divIcon({&quot;className&quot;: &quot;empty&quot;, &quot;html&quot;: &quot;\\u003cdiv style=\\u0027font-size: 10pt; color: black\\u0027\\u003e\\u003cb\\u003eR$10.19\\u003c/b\\u003e\\u003c/div\\u003e&quot;});\n",
       "            marker_df111049e50cbb5c726641b02fad88f2.setIcon(div_icon_1470ade84930b3aba60553d55fcb4041);\n",
       "        \n",
       "    \n",
       "            var circle_marker_452dcc19919d108f4e6e277d323f5e68 = L.circleMarker(\n",
       "                [-23.22279, -45.90544],\n",
       "                {&quot;bubblingMouseEvents&quot;: true, &quot;color&quot;: &quot;black&quot;, &quot;dashArray&quot;: null, &quot;dashOffset&quot;: null, &quot;fill&quot;: true, &quot;fillColor&quot;: &quot;#fff6b5ff&quot;, &quot;fillOpacity&quot;: 0.7, &quot;fillRule&quot;: &quot;evenodd&quot;, &quot;lineCap&quot;: &quot;round&quot;, &quot;lineJoin&quot;: &quot;round&quot;, &quot;opacity&quot;: 1.0, &quot;radius&quot;: 10, &quot;stroke&quot;: true, &quot;weight&quot;: 3}\n",
       "            ).addTo(map_d4cbc4feeedecb14afdb37c03024c5d2);\n",
       "        \n",
       "    \n",
       "        var popup_89dde208256534e9ecaaa042b54bb59d = L.popup({&quot;maxWidth&quot;: &quot;100%&quot;});\n",
       "\n",
       "        \n",
       "            \n",
       "                var html_13361d98473d4daad3c3be2ee0c32063 = $(`&lt;div id=&quot;html_13361d98473d4daad3c3be2ee0c32063&quot; style=&quot;width: 100.0%; height: 100.0%;&quot;&gt;&lt;b&gt;Hipermercado São José Dos CamposSerimbura&lt;/b&gt;&lt;br&gt;Kani Congelado Costa Sul 200g&lt;br&gt;Preço: &lt;b&gt;R$10.19&lt;/b&gt;&lt;/div&gt;`)[0];\n",
       "                popup_89dde208256534e9ecaaa042b54bb59d.setContent(html_13361d98473d4daad3c3be2ee0c32063);\n",
       "            \n",
       "        \n",
       "\n",
       "        circle_marker_452dcc19919d108f4e6e277d323f5e68.bindPopup(popup_89dde208256534e9ecaaa042b54bb59d)\n",
       "        ;\n",
       "\n",
       "        \n",
       "    \n",
       "    \n",
       "            var marker_ac261346fe3c89a4161668ca9df9c30b = L.marker(\n",
       "                [-23.23279, -45.90544],\n",
       "                {}\n",
       "            ).addTo(map_d4cbc4feeedecb14afdb37c03024c5d2);\n",
       "        \n",
       "    \n",
       "            var div_icon_318a98d266c30b8e37dee6ee0afff038 = L.divIcon({&quot;className&quot;: &quot;empty&quot;, &quot;html&quot;: &quot;\\u003cdiv style=\\u0027font-size: 10pt; color: black\\u0027\\u003e\\u003cb\\u003eR$27.49\\u003c/b\\u003e\\u003c/div\\u003e&quot;});\n",
       "            marker_ac261346fe3c89a4161668ca9df9c30b.setIcon(div_icon_318a98d266c30b8e37dee6ee0afff038);\n",
       "        \n",
       "    \n",
       "            var circle_marker_76b9727f37dc30310fdc56d5cbf5a174 = L.circleMarker(\n",
       "                [-23.22279, -45.90544],\n",
       "                {&quot;bubblingMouseEvents&quot;: true, &quot;color&quot;: &quot;black&quot;, &quot;dashArray&quot;: null, &quot;dashOffset&quot;: null, &quot;fill&quot;: true, &quot;fillColor&quot;: &quot;#800026ff&quot;, &quot;fillOpacity&quot;: 0.7, &quot;fillRule&quot;: &quot;evenodd&quot;, &quot;lineCap&quot;: &quot;round&quot;, &quot;lineJoin&quot;: &quot;round&quot;, &quot;opacity&quot;: 1.0, &quot;radius&quot;: 10, &quot;stroke&quot;: true, &quot;weight&quot;: 3}\n",
       "            ).addTo(map_d4cbc4feeedecb14afdb37c03024c5d2);\n",
       "        \n",
       "    \n",
       "        var popup_2d9bed4c9d75ad965db8a2f9d351b621 = L.popup({&quot;maxWidth&quot;: &quot;100%&quot;});\n",
       "\n",
       "        \n",
       "            \n",
       "                var html_5cf1fe24372d078c8cab03a6fef0155d = $(`&lt;div id=&quot;html_5cf1fe24372d078c8cab03a6fef0155d&quot; style=&quot;width: 100.0%; height: 100.0%;&quot;&gt;&lt;b&gt;Hipermercado São José Dos CamposSerimbura&lt;/b&gt;&lt;br&gt;Hossomaki Philadelphia Kani Kama 160 g&lt;br&gt;Preço: &lt;b&gt;R$27.49&lt;/b&gt;&lt;/div&gt;`)[0];\n",
       "                popup_2d9bed4c9d75ad965db8a2f9d351b621.setContent(html_5cf1fe24372d078c8cab03a6fef0155d);\n",
       "            \n",
       "        \n",
       "\n",
       "        circle_marker_76b9727f37dc30310fdc56d5cbf5a174.bindPopup(popup_2d9bed4c9d75ad965db8a2f9d351b621)\n",
       "        ;\n",
       "\n",
       "        \n",
       "    \n",
       "    \n",
       "            var marker_00fbbaa66509538638837ef4cef81d0c = L.marker(\n",
       "                [-23.62172, -46.74075],\n",
       "                {}\n",
       "            ).addTo(map_d4cbc4feeedecb14afdb37c03024c5d2);\n",
       "        \n",
       "    \n",
       "            var div_icon_45bd9b95111889f5f0116533c2c31ffb = L.divIcon({&quot;className&quot;: &quot;empty&quot;, &quot;html&quot;: &quot;\\u003cdiv style=\\u0027font-size: 10pt; color: black\\u0027\\u003e\\u003cb\\u003eR$14.79\\u003c/b\\u003e\\u003c/div\\u003e&quot;});\n",
       "            marker_00fbbaa66509538638837ef4cef81d0c.setIcon(div_icon_45bd9b95111889f5f0116533c2c31ffb);\n",
       "        \n",
       "    \n",
       "            var circle_marker_18a87bab88155fb378adfe45108c48b5 = L.circleMarker(\n",
       "                [-23.61172, -46.74075],\n",
       "                {&quot;bubblingMouseEvents&quot;: true, &quot;color&quot;: &quot;black&quot;, &quot;dashArray&quot;: null, &quot;dashOffset&quot;: null, &quot;fill&quot;: true, &quot;fillColor&quot;: &quot;#fec561ff&quot;, &quot;fillOpacity&quot;: 0.7, &quot;fillRule&quot;: &quot;evenodd&quot;, &quot;lineCap&quot;: &quot;round&quot;, &quot;lineJoin&quot;: &quot;round&quot;, &quot;opacity&quot;: 1.0, &quot;radius&quot;: 10, &quot;stroke&quot;: true, &quot;weight&quot;: 3}\n",
       "            ).addTo(map_d4cbc4feeedecb14afdb37c03024c5d2);\n",
       "        \n",
       "    \n",
       "        var popup_a98bb31ad019f52902ed0c79ef4a0743 = L.popup({&quot;maxWidth&quot;: &quot;100%&quot;});\n",
       "\n",
       "        \n",
       "            \n",
       "                var html_eed6b62cdc3e20e8cbc300c901e56e06 = $(`&lt;div id=&quot;html_eed6b62cdc3e20e8cbc300c901e56e06&quot; style=&quot;width: 100.0%; height: 100.0%;&quot;&gt;&lt;b&gt;Carrefour Bairro MorumbiJardim Londrina&lt;/b&gt;&lt;br&gt;Kani Congelado Costa Sul 200g&lt;br&gt;Preço: &lt;b&gt;R$14.79&lt;/b&gt;&lt;/div&gt;`)[0];\n",
       "                popup_a98bb31ad019f52902ed0c79ef4a0743.setContent(html_eed6b62cdc3e20e8cbc300c901e56e06);\n",
       "            \n",
       "        \n",
       "\n",
       "        circle_marker_18a87bab88155fb378adfe45108c48b5.bindPopup(popup_a98bb31ad019f52902ed0c79ef4a0743)\n",
       "        ;\n",
       "\n",
       "        \n",
       "    \n",
       "    \n",
       "            var marker_50ef41051c8cb232ad124a6d8acc2709 = L.marker(\n",
       "                [-18.92012, -48.25816],\n",
       "                {}\n",
       "            ).addTo(map_d4cbc4feeedecb14afdb37c03024c5d2);\n",
       "        \n",
       "    \n",
       "            var div_icon_f3b2be365b74915bf51cf38b32809e21 = L.divIcon({&quot;className&quot;: &quot;empty&quot;, &quot;html&quot;: &quot;\\u003cdiv style=\\u0027font-size: 10pt; color: black\\u0027\\u003e\\u003cb\\u003eR$12.99\\u003c/b\\u003e\\u003c/div\\u003e&quot;});\n",
       "            marker_50ef41051c8cb232ad124a6d8acc2709.setIcon(div_icon_f3b2be365b74915bf51cf38b32809e21);\n",
       "        \n",
       "    \n",
       "            var circle_marker_ddb8f189a2a28b9537f3dc95cb8cf331 = L.circleMarker(\n",
       "                [-18.91012, -48.25816],\n",
       "                {&quot;bubblingMouseEvents&quot;: true, &quot;color&quot;: &quot;black&quot;, &quot;dashArray&quot;: null, &quot;dashOffset&quot;: null, &quot;fill&quot;: true, &quot;fillColor&quot;: &quot;#ffdf81ff&quot;, &quot;fillOpacity&quot;: 0.7, &quot;fillRule&quot;: &quot;evenodd&quot;, &quot;lineCap&quot;: &quot;round&quot;, &quot;lineJoin&quot;: &quot;round&quot;, &quot;opacity&quot;: 1.0, &quot;radius&quot;: 10, &quot;stroke&quot;: true, &quot;weight&quot;: 3}\n",
       "            ).addTo(map_d4cbc4feeedecb14afdb37c03024c5d2);\n",
       "        \n",
       "    \n",
       "        var popup_9e5f09f8a0cea41d3eeb24341280df6e = L.popup({&quot;maxWidth&quot;: &quot;100%&quot;});\n",
       "\n",
       "        \n",
       "            \n",
       "                var html_49036ac86fa61060a3de42169b92edb4 = $(`&lt;div id=&quot;html_49036ac86fa61060a3de42169b92edb4&quot; style=&quot;width: 100.0%; height: 100.0%;&quot;&gt;&lt;b&gt;Hipermercado UberlândiaSta Monica&lt;/b&gt;&lt;br&gt;Kani Congelado Costa Sul 200g&lt;br&gt;Preço: &lt;b&gt;R$12.99&lt;/b&gt;&lt;/div&gt;`)[0];\n",
       "                popup_9e5f09f8a0cea41d3eeb24341280df6e.setContent(html_49036ac86fa61060a3de42169b92edb4);\n",
       "            \n",
       "        \n",
       "\n",
       "        circle_marker_ddb8f189a2a28b9537f3dc95cb8cf331.bindPopup(popup_9e5f09f8a0cea41d3eeb24341280df6e)\n",
       "        ;\n",
       "\n",
       "        \n",
       "    \n",
       "    \n",
       "            var marker_b5ad1b810bbac76a21e0b72210e3accb = L.marker(\n",
       "                [-18.92012, -48.25816],\n",
       "                {}\n",
       "            ).addTo(map_d4cbc4feeedecb14afdb37c03024c5d2);\n",
       "        \n",
       "    \n",
       "            var div_icon_09694f5e167728e9f6ae999b3ed4b256 = L.divIcon({&quot;className&quot;: &quot;empty&quot;, &quot;html&quot;: &quot;\\u003cdiv style=\\u0027font-size: 10pt; color: black\\u0027\\u003e\\u003cb\\u003eR$15.99\\u003c/b\\u003e\\u003c/div\\u003e&quot;});\n",
       "            marker_b5ad1b810bbac76a21e0b72210e3accb.setIcon(div_icon_09694f5e167728e9f6ae999b3ed4b256);\n",
       "        \n",
       "    \n",
       "            var circle_marker_8b8fbfd89df68f7732364ad8f6000742 = L.circleMarker(\n",
       "                [-18.91012, -48.25816],\n",
       "                {&quot;bubblingMouseEvents&quot;: true, &quot;color&quot;: &quot;black&quot;, &quot;dashArray&quot;: null, &quot;dashOffset&quot;: null, &quot;fill&quot;: true, &quot;fillColor&quot;: &quot;#feb14bff&quot;, &quot;fillOpacity&quot;: 0.7, &quot;fillRule&quot;: &quot;evenodd&quot;, &quot;lineCap&quot;: &quot;round&quot;, &quot;lineJoin&quot;: &quot;round&quot;, &quot;opacity&quot;: 1.0, &quot;radius&quot;: 10, &quot;stroke&quot;: true, &quot;weight&quot;: 3}\n",
       "            ).addTo(map_d4cbc4feeedecb14afdb37c03024c5d2);\n",
       "        \n",
       "    \n",
       "        var popup_2dfa9fe4a52d789e1b797e8f8d8f10d9 = L.popup({&quot;maxWidth&quot;: &quot;100%&quot;});\n",
       "\n",
       "        \n",
       "            \n",
       "                var html_62856a2d48cef905e15cd9399167f4a8 = $(`&lt;div id=&quot;html_62856a2d48cef905e15cd9399167f4a8&quot; style=&quot;width: 100.0%; height: 100.0%;&quot;&gt;&lt;b&gt;Hipermercado UberlândiaSta Monica&lt;/b&gt;&lt;br&gt;Kani Congelado Frescatto 200g&lt;br&gt;Preço: &lt;b&gt;R$15.99&lt;/b&gt;&lt;/div&gt;`)[0];\n",
       "                popup_2dfa9fe4a52d789e1b797e8f8d8f10d9.setContent(html_62856a2d48cef905e15cd9399167f4a8);\n",
       "            \n",
       "        \n",
       "\n",
       "        circle_marker_8b8fbfd89df68f7732364ad8f6000742.bindPopup(popup_2dfa9fe4a52d789e1b797e8f8d8f10d9)\n",
       "        ;\n",
       "\n",
       "        \n",
       "    \n",
       "    \n",
       "            var marker_aa999c852c7dd5fd2bf2a0c93f76b098 = L.marker(\n",
       "                [-20.35885, -40.29805],\n",
       "                {}\n",
       "            ).addTo(map_d4cbc4feeedecb14afdb37c03024c5d2);\n",
       "        \n",
       "    \n",
       "            var div_icon_540c16bfb6e7c161bf78d74afdcd7b45 = L.divIcon({&quot;className&quot;: &quot;empty&quot;, &quot;html&quot;: &quot;\\u003cdiv style=\\u0027font-size: 10pt; color: black\\u0027\\u003e\\u003cb\\u003eR$13.39\\u003c/b\\u003e\\u003c/div\\u003e&quot;});\n",
       "            marker_aa999c852c7dd5fd2bf2a0c93f76b098.setIcon(div_icon_540c16bfb6e7c161bf78d74afdcd7b45);\n",
       "        \n",
       "    \n",
       "            var circle_marker_a62bf7a9a38324f87b953c984cf79b4c = L.circleMarker(\n",
       "                [-20.34885, -40.29805],\n",
       "                {&quot;bubblingMouseEvents&quot;: true, &quot;color&quot;: &quot;black&quot;, &quot;dashArray&quot;: null, &quot;dashOffset&quot;: null, &quot;fill&quot;: true, &quot;fillColor&quot;: &quot;#ffdb7aff&quot;, &quot;fillOpacity&quot;: 0.7, &quot;fillRule&quot;: &quot;evenodd&quot;, &quot;lineCap&quot;: &quot;round&quot;, &quot;lineJoin&quot;: &quot;round&quot;, &quot;opacity&quot;: 1.0, &quot;radius&quot;: 10, &quot;stroke&quot;: true, &quot;weight&quot;: 3}\n",
       "            ).addTo(map_d4cbc4feeedecb14afdb37c03024c5d2);\n",
       "        \n",
       "    \n",
       "        var popup_f2b0952585ac2973bb2cb4a9aa7ff5a4 = L.popup({&quot;maxWidth&quot;: &quot;100%&quot;});\n",
       "\n",
       "        \n",
       "            \n",
       "                var html_a702a5f1b0c2b977ee66f624d03d82b3 = $(`&lt;div id=&quot;html_a702a5f1b0c2b977ee66f624d03d82b3&quot; style=&quot;width: 100.0%; height: 100.0%;&quot;&gt;&lt;b&gt;Hipermercado Vila Velha ShoppingDivino Espirito Santo&lt;/b&gt;&lt;br&gt;Kani Congelado Costa Sul 200g&lt;br&gt;Preço: &lt;b&gt;R$13.39&lt;/b&gt;&lt;/div&gt;`)[0];\n",
       "                popup_f2b0952585ac2973bb2cb4a9aa7ff5a4.setContent(html_a702a5f1b0c2b977ee66f624d03d82b3);\n",
       "            \n",
       "        \n",
       "\n",
       "        circle_marker_a62bf7a9a38324f87b953c984cf79b4c.bindPopup(popup_f2b0952585ac2973bb2cb4a9aa7ff5a4)\n",
       "        ;\n",
       "\n",
       "        \n",
       "    \n",
       "    \n",
       "            var marker_f058f1a32637bb64a5e001c0d6e730fe = L.marker(\n",
       "                [-20.35885, -40.29805],\n",
       "                {}\n",
       "            ).addTo(map_d4cbc4feeedecb14afdb37c03024c5d2);\n",
       "        \n",
       "    \n",
       "            var div_icon_e36e8bcc61ecad68a22c06408bcaa1d2 = L.divIcon({&quot;className&quot;: &quot;empty&quot;, &quot;html&quot;: &quot;\\u003cdiv style=\\u0027font-size: 10pt; color: black\\u0027\\u003e\\u003cb\\u003eR$15.99\\u003c/b\\u003e\\u003c/div\\u003e&quot;});\n",
       "            marker_f058f1a32637bb64a5e001c0d6e730fe.setIcon(div_icon_e36e8bcc61ecad68a22c06408bcaa1d2);\n",
       "        \n",
       "    \n",
       "            var circle_marker_702cadab47501687232e2b74c612c211 = L.circleMarker(\n",
       "                [-20.34885, -40.29805],\n",
       "                {&quot;bubblingMouseEvents&quot;: true, &quot;color&quot;: &quot;black&quot;, &quot;dashArray&quot;: null, &quot;dashOffset&quot;: null, &quot;fill&quot;: true, &quot;fillColor&quot;: &quot;#feb14bff&quot;, &quot;fillOpacity&quot;: 0.7, &quot;fillRule&quot;: &quot;evenodd&quot;, &quot;lineCap&quot;: &quot;round&quot;, &quot;lineJoin&quot;: &quot;round&quot;, &quot;opacity&quot;: 1.0, &quot;radius&quot;: 10, &quot;stroke&quot;: true, &quot;weight&quot;: 3}\n",
       "            ).addTo(map_d4cbc4feeedecb14afdb37c03024c5d2);\n",
       "        \n",
       "    \n",
       "        var popup_e0519d147e63f016330bb61645da7ba4 = L.popup({&quot;maxWidth&quot;: &quot;100%&quot;});\n",
       "\n",
       "        \n",
       "            \n",
       "                var html_fc086c890cebd5f118cdcc4200bf5cda = $(`&lt;div id=&quot;html_fc086c890cebd5f118cdcc4200bf5cda&quot; style=&quot;width: 100.0%; height: 100.0%;&quot;&gt;&lt;b&gt;Hipermercado Vila Velha ShoppingDivino Espirito Santo&lt;/b&gt;&lt;br&gt;Kani Congelado Frescatto 200g&lt;br&gt;Preço: &lt;b&gt;R$15.99&lt;/b&gt;&lt;/div&gt;`)[0];\n",
       "                popup_e0519d147e63f016330bb61645da7ba4.setContent(html_fc086c890cebd5f118cdcc4200bf5cda);\n",
       "            \n",
       "        \n",
       "\n",
       "        circle_marker_702cadab47501687232e2b74c612c211.bindPopup(popup_e0519d147e63f016330bb61645da7ba4)\n",
       "        ;\n",
       "\n",
       "        \n",
       "    \n",
       "    \n",
       "            var marker_c08dacaf2cab2fe26e5a6331f7c28fbc = L.marker(\n",
       "                [-27.01295, -48.62218],\n",
       "                {}\n",
       "            ).addTo(map_d4cbc4feeedecb14afdb37c03024c5d2);\n",
       "        \n",
       "    \n",
       "            var div_icon_5743c7befc493771f595369ad12b74f3 = L.divIcon({&quot;className&quot;: &quot;empty&quot;, &quot;html&quot;: &quot;\\u003cdiv style=\\u0027font-size: 10pt; color: black\\u0027\\u003e\\u003cb\\u003eR$13.99\\u003c/b\\u003e\\u003c/div\\u003e&quot;});\n",
       "            marker_c08dacaf2cab2fe26e5a6331f7c28fbc.setIcon(div_icon_5743c7befc493771f595369ad12b74f3);\n",
       "        \n",
       "    \n",
       "            var circle_marker_b1836ca010b72a1e4018d9e9e1e9e8da = L.circleMarker(\n",
       "                [-27.00295, -48.62218],\n",
       "                {&quot;bubblingMouseEvents&quot;: true, &quot;color&quot;: &quot;black&quot;, &quot;dashArray&quot;: null, &quot;dashOffset&quot;: null, &quot;fill&quot;: true, &quot;fillColor&quot;: &quot;#fed36fff&quot;, &quot;fillOpacity&quot;: 0.7, &quot;fillRule&quot;: &quot;evenodd&quot;, &quot;lineCap&quot;: &quot;round&quot;, &quot;lineJoin&quot;: &quot;round&quot;, &quot;opacity&quot;: 1.0, &quot;radius&quot;: 10, &quot;stroke&quot;: true, &quot;weight&quot;: 3}\n",
       "            ).addTo(map_d4cbc4feeedecb14afdb37c03024c5d2);\n",
       "        \n",
       "    \n",
       "        var popup_508277173c169109ecb662ea1ba0ae9f = L.popup({&quot;maxWidth&quot;: &quot;100%&quot;});\n",
       "\n",
       "        \n",
       "            \n",
       "                var html_e44065f80ba8af88d06ca9bceb1ea924 = $(`&lt;div id=&quot;html_e44065f80ba8af88d06ca9bceb1ea924&quot; style=&quot;width: 100.0%; height: 100.0%;&quot;&gt;&lt;b&gt;Hiper Balneário CamboriuCentro&lt;/b&gt;&lt;br&gt;Kani Congelado Frescatto 200g&lt;br&gt;Preço: &lt;b&gt;R$13.99&lt;/b&gt;&lt;/div&gt;`)[0];\n",
       "                popup_508277173c169109ecb662ea1ba0ae9f.setContent(html_e44065f80ba8af88d06ca9bceb1ea924);\n",
       "            \n",
       "        \n",
       "\n",
       "        circle_marker_b1836ca010b72a1e4018d9e9e1e9e8da.bindPopup(popup_508277173c169109ecb662ea1ba0ae9f)\n",
       "        ;\n",
       "\n",
       "        \n",
       "    \n",
       "    \n",
       "            var marker_8743384b6785b5efa5a74791dece3ba1 = L.marker(\n",
       "                [-29.915670000000002, -51.18706],\n",
       "                {}\n",
       "            ).addTo(map_d4cbc4feeedecb14afdb37c03024c5d2);\n",
       "        \n",
       "    \n",
       "            var div_icon_08ae166b1cda7aff0a20ff6558068f59 = L.divIcon({&quot;className&quot;: &quot;empty&quot;, &quot;html&quot;: &quot;\\u003cdiv style=\\u0027font-size: 10pt; color: black\\u0027\\u003e\\u003cb\\u003eR$14.15\\u003c/b\\u003e\\u003c/div\\u003e&quot;});\n",
       "            marker_8743384b6785b5efa5a74791dece3ba1.setIcon(div_icon_08ae166b1cda7aff0a20ff6558068f59);\n",
       "        \n",
       "    \n",
       "            var circle_marker_d6d473ab7b9f387154fa399e52e31e7b = L.circleMarker(\n",
       "                [-29.90567, -51.18706],\n",
       "                {&quot;bubblingMouseEvents&quot;: true, &quot;color&quot;: &quot;black&quot;, &quot;dashArray&quot;: null, &quot;dashOffset&quot;: null, &quot;fill&quot;: true, &quot;fillColor&quot;: &quot;#fed06cff&quot;, &quot;fillOpacity&quot;: 0.7, &quot;fillRule&quot;: &quot;evenodd&quot;, &quot;lineCap&quot;: &quot;round&quot;, &quot;lineJoin&quot;: &quot;round&quot;, &quot;opacity&quot;: 1.0, &quot;radius&quot;: 10, &quot;stroke&quot;: true, &quot;weight&quot;: 3}\n",
       "            ).addTo(map_d4cbc4feeedecb14afdb37c03024c5d2);\n",
       "        \n",
       "    \n",
       "        var popup_68ca24af48065f7139a9d0d0bbeaa18b = L.popup({&quot;maxWidth&quot;: &quot;100%&quot;});\n",
       "\n",
       "        \n",
       "            \n",
       "                var html_aacfd5a29ecb04e8c2ca41f3bb173aa1 = $(`&lt;div id=&quot;html_aacfd5a29ecb04e8c2ca41f3bb173aa1&quot; style=&quot;width: 100.0%; height: 100.0%;&quot;&gt;&lt;b&gt;Hipermercado CanoasMathias Velho 07&lt;/b&gt;&lt;br&gt;Kani Congelado Costa Sul 200g&lt;br&gt;Preço: &lt;b&gt;R$14.15&lt;/b&gt;&lt;/div&gt;`)[0];\n",
       "                popup_68ca24af48065f7139a9d0d0bbeaa18b.setContent(html_aacfd5a29ecb04e8c2ca41f3bb173aa1);\n",
       "            \n",
       "        \n",
       "\n",
       "        circle_marker_d6d473ab7b9f387154fa399e52e31e7b.bindPopup(popup_68ca24af48065f7139a9d0d0bbeaa18b)\n",
       "        ;\n",
       "\n",
       "        \n",
       "    \n",
       "    \n",
       "            var marker_a87eb6ac2743d4868281fe11adc44a6a = L.marker(\n",
       "                [-29.915670000000002, -51.18706],\n",
       "                {}\n",
       "            ).addTo(map_d4cbc4feeedecb14afdb37c03024c5d2);\n",
       "        \n",
       "    \n",
       "            var div_icon_736cf46c2509dc56bdb74b42c96b52db = L.divIcon({&quot;className&quot;: &quot;empty&quot;, &quot;html&quot;: &quot;\\u003cdiv style=\\u0027font-size: 10pt; color: black\\u0027\\u003e\\u003cb\\u003eR$8.99\\u003c/b\\u003e\\u003c/div\\u003e&quot;});\n",
       "            marker_a87eb6ac2743d4868281fe11adc44a6a.setIcon(div_icon_736cf46c2509dc56bdb74b42c96b52db);\n",
       "        \n",
       "    \n",
       "            var circle_marker_3eae4f1a19cb191b09c133f59222c0eb = L.circleMarker(\n",
       "                [-29.90567, -51.18706],\n",
       "                {&quot;bubblingMouseEvents&quot;: true, &quot;color&quot;: &quot;black&quot;, &quot;dashArray&quot;: null, &quot;dashOffset&quot;: null, &quot;fill&quot;: true, &quot;fillColor&quot;: &quot;#ffffccff&quot;, &quot;fillOpacity&quot;: 0.7, &quot;fillRule&quot;: &quot;evenodd&quot;, &quot;lineCap&quot;: &quot;round&quot;, &quot;lineJoin&quot;: &quot;round&quot;, &quot;opacity&quot;: 1.0, &quot;radius&quot;: 10, &quot;stroke&quot;: true, &quot;weight&quot;: 3}\n",
       "            ).addTo(map_d4cbc4feeedecb14afdb37c03024c5d2);\n",
       "        \n",
       "    \n",
       "        var popup_c8bf7d0f71c375741baf14c6939ce197 = L.popup({&quot;maxWidth&quot;: &quot;100%&quot;});\n",
       "\n",
       "        \n",
       "            \n",
       "                var html_5573eb603bbc107451a0e854aa65cddc = $(`&lt;div id=&quot;html_5573eb603bbc107451a0e854aa65cddc&quot; style=&quot;width: 100.0%; height: 100.0%;&quot;&gt;&lt;b&gt;Hipermercado CanoasMathias Velho 07&lt;/b&gt;&lt;br&gt;Kani Congelado Frescatto 200g&lt;br&gt;Preço: &lt;b&gt;R$8.99&lt;/b&gt;&lt;/div&gt;`)[0];\n",
       "                popup_c8bf7d0f71c375741baf14c6939ce197.setContent(html_5573eb603bbc107451a0e854aa65cddc);\n",
       "            \n",
       "        \n",
       "\n",
       "        circle_marker_3eae4f1a19cb191b09c133f59222c0eb.bindPopup(popup_c8bf7d0f71c375741baf14c6939ce197)\n",
       "        ;\n",
       "\n",
       "        \n",
       "    \n",
       "    \n",
       "            var marker_9a55dece2afd833a31ab0cf8ca59f3e9 = L.marker(\n",
       "                [-29.18665, -51.21822],\n",
       "                {}\n",
       "            ).addTo(map_d4cbc4feeedecb14afdb37c03024c5d2);\n",
       "        \n",
       "    \n",
       "            var div_icon_486e9c5bd417a9f631914e3249ab3134 = L.divIcon({&quot;className&quot;: &quot;empty&quot;, &quot;html&quot;: &quot;\\u003cdiv style=\\u0027font-size: 10pt; color: black\\u0027\\u003e\\u003cb\\u003eR$10.99\\u003c/b\\u003e\\u003c/div\\u003e&quot;});\n",
       "            marker_9a55dece2afd833a31ab0cf8ca59f3e9.setIcon(div_icon_486e9c5bd417a9f631914e3249ab3134);\n",
       "        \n",
       "    \n",
       "            var circle_marker_797923c56b44279f74e1d6f702733352 = L.circleMarker(\n",
       "                [-29.17665, -51.21822],\n",
       "                {&quot;bubblingMouseEvents&quot;: true, &quot;color&quot;: &quot;black&quot;, &quot;dashArray&quot;: null, &quot;dashOffset&quot;: null, &quot;fill&quot;: true, &quot;fillColor&quot;: &quot;#fff0a6ff&quot;, &quot;fillOpacity&quot;: 0.7, &quot;fillRule&quot;: &quot;evenodd&quot;, &quot;lineCap&quot;: &quot;round&quot;, &quot;lineJoin&quot;: &quot;round&quot;, &quot;opacity&quot;: 1.0, &quot;radius&quot;: 10, &quot;stroke&quot;: true, &quot;weight&quot;: 3}\n",
       "            ).addTo(map_d4cbc4feeedecb14afdb37c03024c5d2);\n",
       "        \n",
       "    \n",
       "        var popup_6fcaa9d985fb2bf2523f12195747dc8e = L.popup({&quot;maxWidth&quot;: &quot;100%&quot;});\n",
       "\n",
       "        \n",
       "            \n",
       "                var html_37acc55ced29ed47e3c86016d1614874 = $(`&lt;div id=&quot;html_37acc55ced29ed47e3c86016d1614874&quot; style=&quot;width: 100.0%; height: 100.0%;&quot;&gt;&lt;b&gt;Hipermercado CaxiasCidade Nova&lt;/b&gt;&lt;br&gt;Kani Congelado Costa Sul 200g&lt;br&gt;Preço: &lt;b&gt;R$10.99&lt;/b&gt;&lt;/div&gt;`)[0];\n",
       "                popup_6fcaa9d985fb2bf2523f12195747dc8e.setContent(html_37acc55ced29ed47e3c86016d1614874);\n",
       "            \n",
       "        \n",
       "\n",
       "        circle_marker_797923c56b44279f74e1d6f702733352.bindPopup(popup_6fcaa9d985fb2bf2523f12195747dc8e)\n",
       "        ;\n",
       "\n",
       "        \n",
       "    \n",
       "    \n",
       "            var marker_779eaaa3dad09fda273ddc10b4276aa6 = L.marker(\n",
       "                [-29.18665, -51.21822],\n",
       "                {}\n",
       "            ).addTo(map_d4cbc4feeedecb14afdb37c03024c5d2);\n",
       "        \n",
       "    \n",
       "            var div_icon_bd79eb9252cda0e4527322ebdc6f9ff8 = L.divIcon({&quot;className&quot;: &quot;empty&quot;, &quot;html&quot;: &quot;\\u003cdiv style=\\u0027font-size: 10pt; color: black\\u0027\\u003e\\u003cb\\u003eR$8.99\\u003c/b\\u003e\\u003c/div\\u003e&quot;});\n",
       "            marker_779eaaa3dad09fda273ddc10b4276aa6.setIcon(div_icon_bd79eb9252cda0e4527322ebdc6f9ff8);\n",
       "        \n",
       "    \n",
       "            var circle_marker_8a0112e2d8deb16f3f10f2c23255ded1 = L.circleMarker(\n",
       "                [-29.17665, -51.21822],\n",
       "                {&quot;bubblingMouseEvents&quot;: true, &quot;color&quot;: &quot;black&quot;, &quot;dashArray&quot;: null, &quot;dashOffset&quot;: null, &quot;fill&quot;: true, &quot;fillColor&quot;: &quot;#ffffccff&quot;, &quot;fillOpacity&quot;: 0.7, &quot;fillRule&quot;: &quot;evenodd&quot;, &quot;lineCap&quot;: &quot;round&quot;, &quot;lineJoin&quot;: &quot;round&quot;, &quot;opacity&quot;: 1.0, &quot;radius&quot;: 10, &quot;stroke&quot;: true, &quot;weight&quot;: 3}\n",
       "            ).addTo(map_d4cbc4feeedecb14afdb37c03024c5d2);\n",
       "        \n",
       "    \n",
       "        var popup_196118cf05d0edb2d0f12be06f8598bc = L.popup({&quot;maxWidth&quot;: &quot;100%&quot;});\n",
       "\n",
       "        \n",
       "            \n",
       "                var html_c490f0b56c4ba708a54cd42b3023799e = $(`&lt;div id=&quot;html_c490f0b56c4ba708a54cd42b3023799e&quot; style=&quot;width: 100.0%; height: 100.0%;&quot;&gt;&lt;b&gt;Hipermercado CaxiasCidade Nova&lt;/b&gt;&lt;br&gt;Kani Congelado Frescatto 200g&lt;br&gt;Preço: &lt;b&gt;R$8.99&lt;/b&gt;&lt;/div&gt;`)[0];\n",
       "                popup_196118cf05d0edb2d0f12be06f8598bc.setContent(html_c490f0b56c4ba708a54cd42b3023799e);\n",
       "            \n",
       "        \n",
       "\n",
       "        circle_marker_8a0112e2d8deb16f3f10f2c23255ded1.bindPopup(popup_196118cf05d0edb2d0f12be06f8598bc)\n",
       "        ;\n",
       "\n",
       "        \n",
       "    \n",
       "    \n",
       "            var marker_5ae29e8c661d9606cff343c7adf2227d = L.marker(\n",
       "                [-25.44712, -49.31851],\n",
       "                {}\n",
       "            ).addTo(map_d4cbc4feeedecb14afdb37c03024c5d2);\n",
       "        \n",
       "    \n",
       "            var div_icon_82cc31a3fb90fb62df0f0f81c6b5e631 = L.divIcon({&quot;className&quot;: &quot;empty&quot;, &quot;html&quot;: &quot;\\u003cdiv style=\\u0027font-size: 10pt; color: black\\u0027\\u003e\\u003cb\\u003eR$13.89\\u003c/b\\u003e\\u003c/div\\u003e&quot;});\n",
       "            marker_5ae29e8c661d9606cff343c7adf2227d.setIcon(div_icon_82cc31a3fb90fb62df0f0f81c6b5e631);\n",
       "        \n",
       "    \n",
       "            var circle_marker_6d2227b6d816cb46d17b84903f2e17ae = L.circleMarker(\n",
       "                [-25.43712, -49.31851],\n",
       "                {&quot;bubblingMouseEvents&quot;: true, &quot;color&quot;: &quot;black&quot;, &quot;dashArray&quot;: null, &quot;dashOffset&quot;: null, &quot;fill&quot;: true, &quot;fillColor&quot;: &quot;#fed571ff&quot;, &quot;fillOpacity&quot;: 0.7, &quot;fillRule&quot;: &quot;evenodd&quot;, &quot;lineCap&quot;: &quot;round&quot;, &quot;lineJoin&quot;: &quot;round&quot;, &quot;opacity&quot;: 1.0, &quot;radius&quot;: 10, &quot;stroke&quot;: true, &quot;weight&quot;: 3}\n",
       "            ).addTo(map_d4cbc4feeedecb14afdb37c03024c5d2);\n",
       "        \n",
       "    \n",
       "        var popup_5a314cc251a897e78f22a10c031be43f = L.popup({&quot;maxWidth&quot;: &quot;100%&quot;});\n",
       "\n",
       "        \n",
       "            \n",
       "                var html_0c3997beae42d7fd4fa960a4d3ea677a = $(`&lt;div id=&quot;html_0c3997beae42d7fd4fa960a4d3ea677a&quot; style=&quot;width: 100.0%; height: 100.0%;&quot;&gt;&lt;b&gt;Hipermercado ChampagnatMossunguê&lt;/b&gt;&lt;br&gt;Kani Congelado Costa Sul 200g&lt;br&gt;Preço: &lt;b&gt;R$13.89&lt;/b&gt;&lt;/div&gt;`)[0];\n",
       "                popup_5a314cc251a897e78f22a10c031be43f.setContent(html_0c3997beae42d7fd4fa960a4d3ea677a);\n",
       "            \n",
       "        \n",
       "\n",
       "        circle_marker_6d2227b6d816cb46d17b84903f2e17ae.bindPopup(popup_5a314cc251a897e78f22a10c031be43f)\n",
       "        ;\n",
       "\n",
       "        \n",
       "    \n",
       "    \n",
       "            var marker_cd2feaa52262ec36e12d93cfaa338ef3 = L.marker(\n",
       "                [-25.44712, -49.31851],\n",
       "                {}\n",
       "            ).addTo(map_d4cbc4feeedecb14afdb37c03024c5d2);\n",
       "        \n",
       "    \n",
       "            var div_icon_0266cc1e10eb4545713049b8e4ff7ab4 = L.divIcon({&quot;className&quot;: &quot;empty&quot;, &quot;html&quot;: &quot;\\u003cdiv style=\\u0027font-size: 10pt; color: black\\u0027\\u003e\\u003cb\\u003eR$11.09\\u003c/b\\u003e\\u003c/div\\u003e&quot;});\n",
       "            marker_cd2feaa52262ec36e12d93cfaa338ef3.setIcon(div_icon_0266cc1e10eb4545713049b8e4ff7ab4);\n",
       "        \n",
       "    \n",
       "            var circle_marker_a7c4e4ac23e4f2ad491caa3b06f44bd1 = L.circleMarker(\n",
       "                [-25.43712, -49.31851],\n",
       "                {&quot;bubblingMouseEvents&quot;: true, &quot;color&quot;: &quot;black&quot;, &quot;dashArray&quot;: null, &quot;dashOffset&quot;: null, &quot;fill&quot;: true, &quot;fillColor&quot;: &quot;#ffefa4ff&quot;, &quot;fillOpacity&quot;: 0.7, &quot;fillRule&quot;: &quot;evenodd&quot;, &quot;lineCap&quot;: &quot;round&quot;, &quot;lineJoin&quot;: &quot;round&quot;, &quot;opacity&quot;: 1.0, &quot;radius&quot;: 10, &quot;stroke&quot;: true, &quot;weight&quot;: 3}\n",
       "            ).addTo(map_d4cbc4feeedecb14afdb37c03024c5d2);\n",
       "        \n",
       "    \n",
       "        var popup_a19e579668c0324781d40aafce0755ad = L.popup({&quot;maxWidth&quot;: &quot;100%&quot;});\n",
       "\n",
       "        \n",
       "            \n",
       "                var html_fa8a7176e7767380f918b20f7fff614c = $(`&lt;div id=&quot;html_fa8a7176e7767380f918b20f7fff614c&quot; style=&quot;width: 100.0%; height: 100.0%;&quot;&gt;&lt;b&gt;Hipermercado ChampagnatMossunguê&lt;/b&gt;&lt;br&gt;Kani Congelado Frescatto 200g&lt;br&gt;Preço: &lt;b&gt;R$11.09&lt;/b&gt;&lt;/div&gt;`)[0];\n",
       "                popup_a19e579668c0324781d40aafce0755ad.setContent(html_fa8a7176e7767380f918b20f7fff614c);\n",
       "            \n",
       "        \n",
       "\n",
       "        circle_marker_a7c4e4ac23e4f2ad491caa3b06f44bd1.bindPopup(popup_a19e579668c0324781d40aafce0755ad)\n",
       "        ;\n",
       "\n",
       "        \n",
       "    \n",
       "    \n",
       "            var marker_9fe612e890bb358b1fc6584789c919b3 = L.marker(\n",
       "                [-27.59926, -48.51513],\n",
       "                {}\n",
       "            ).addTo(map_d4cbc4feeedecb14afdb37c03024c5d2);\n",
       "        \n",
       "    \n",
       "            var div_icon_552cc736f677aac5314eb89e8bb28cf9 = L.divIcon({&quot;className&quot;: &quot;empty&quot;, &quot;html&quot;: &quot;\\u003cdiv style=\\u0027font-size: 10pt; color: black\\u0027\\u003e\\u003cb\\u003eR$13.99\\u003c/b\\u003e\\u003c/div\\u003e&quot;});\n",
       "            marker_9fe612e890bb358b1fc6584789c919b3.setIcon(div_icon_552cc736f677aac5314eb89e8bb28cf9);\n",
       "        \n",
       "    \n",
       "            var circle_marker_27761013d72afc1b83ca30be9b87e40e = L.circleMarker(\n",
       "                [-27.58926, -48.51513],\n",
       "                {&quot;bubblingMouseEvents&quot;: true, &quot;color&quot;: &quot;black&quot;, &quot;dashArray&quot;: null, &quot;dashOffset&quot;: null, &quot;fill&quot;: true, &quot;fillColor&quot;: &quot;#fed36fff&quot;, &quot;fillOpacity&quot;: 0.7, &quot;fillRule&quot;: &quot;evenodd&quot;, &quot;lineCap&quot;: &quot;round&quot;, &quot;lineJoin&quot;: &quot;round&quot;, &quot;opacity&quot;: 1.0, &quot;radius&quot;: 10, &quot;stroke&quot;: true, &quot;weight&quot;: 3}\n",
       "            ).addTo(map_d4cbc4feeedecb14afdb37c03024c5d2);\n",
       "        \n",
       "    \n",
       "        var popup_84d554cde1d3ba5e0fd287ce8cffe6da = L.popup({&quot;maxWidth&quot;: &quot;100%&quot;});\n",
       "\n",
       "        \n",
       "            \n",
       "                var html_135289ca30bacf4da8f0949e34b7fb4f = $(`&lt;div id=&quot;html_135289ca30bacf4da8f0949e34b7fb4f&quot; style=&quot;width: 100.0%; height: 100.0%;&quot;&gt;&lt;b&gt;Hiper Florianópolis ShoppingSanta Monica&lt;/b&gt;&lt;br&gt;Kani Congelado Frescatto 200g&lt;br&gt;Preço: &lt;b&gt;R$13.99&lt;/b&gt;&lt;/div&gt;`)[0];\n",
       "                popup_84d554cde1d3ba5e0fd287ce8cffe6da.setContent(html_135289ca30bacf4da8f0949e34b7fb4f);\n",
       "            \n",
       "        \n",
       "\n",
       "        circle_marker_27761013d72afc1b83ca30be9b87e40e.bindPopup(popup_84d554cde1d3ba5e0fd287ce8cffe6da)\n",
       "        ;\n",
       "\n",
       "        \n",
       "    \n",
       "    \n",
       "            var marker_73ab67bfd31749cb3fb384a6a772dc81 = L.marker(\n",
       "                [-23.350270000000002, -51.18651],\n",
       "                {}\n",
       "            ).addTo(map_d4cbc4feeedecb14afdb37c03024c5d2);\n",
       "        \n",
       "    \n",
       "            var div_icon_feb39b6bc300f1d94a2a868fd487e9ca = L.divIcon({&quot;className&quot;: &quot;empty&quot;, &quot;html&quot;: &quot;\\u003cdiv style=\\u0027font-size: 10pt; color: black\\u0027\\u003e\\u003cb\\u003eR$13.89\\u003c/b\\u003e\\u003c/div\\u003e&quot;});\n",
       "            marker_73ab67bfd31749cb3fb384a6a772dc81.setIcon(div_icon_feb39b6bc300f1d94a2a868fd487e9ca);\n",
       "        \n",
       "    \n",
       "            var circle_marker_3a5b21c94e5813b871b9ea67bc47d203 = L.circleMarker(\n",
       "                [-23.34027, -51.18651],\n",
       "                {&quot;bubblingMouseEvents&quot;: true, &quot;color&quot;: &quot;black&quot;, &quot;dashArray&quot;: null, &quot;dashOffset&quot;: null, &quot;fill&quot;: true, &quot;fillColor&quot;: &quot;#fed571ff&quot;, &quot;fillOpacity&quot;: 0.7, &quot;fillRule&quot;: &quot;evenodd&quot;, &quot;lineCap&quot;: &quot;round&quot;, &quot;lineJoin&quot;: &quot;round&quot;, &quot;opacity&quot;: 1.0, &quot;radius&quot;: 10, &quot;stroke&quot;: true, &quot;weight&quot;: 3}\n",
       "            ).addTo(map_d4cbc4feeedecb14afdb37c03024c5d2);\n",
       "        \n",
       "    \n",
       "        var popup_de22e1a5f9b517b74b94fe3e779336eb = L.popup({&quot;maxWidth&quot;: &quot;100%&quot;});\n",
       "\n",
       "        \n",
       "            \n",
       "                var html_113de4cc499985bdeb20739f0a33d0c1 = $(`&lt;div id=&quot;html_113de4cc499985bdeb20739f0a33d0c1&quot; style=&quot;width: 100.0%; height: 100.0%;&quot;&gt;&lt;b&gt;Hipermercado LondrinaCatuai&lt;/b&gt;&lt;br&gt;Kani Congelado Costa Sul 200g&lt;br&gt;Preço: &lt;b&gt;R$13.89&lt;/b&gt;&lt;/div&gt;`)[0];\n",
       "                popup_de22e1a5f9b517b74b94fe3e779336eb.setContent(html_113de4cc499985bdeb20739f0a33d0c1);\n",
       "            \n",
       "        \n",
       "\n",
       "        circle_marker_3a5b21c94e5813b871b9ea67bc47d203.bindPopup(popup_de22e1a5f9b517b74b94fe3e779336eb)\n",
       "        ;\n",
       "\n",
       "        \n",
       "    \n",
       "    \n",
       "            var marker_fb7bf776ce992672e4d0d142f86deee0 = L.marker(\n",
       "                [-29.69246, -51.13222],\n",
       "                {}\n",
       "            ).addTo(map_d4cbc4feeedecb14afdb37c03024c5d2);\n",
       "        \n",
       "    \n",
       "            var div_icon_23e7500fe84a1979a1387cb318de1b4b = L.divIcon({&quot;className&quot;: &quot;empty&quot;, &quot;html&quot;: &quot;\\u003cdiv style=\\u0027font-size: 10pt; color: black\\u0027\\u003e\\u003cb\\u003eR$14.15\\u003c/b\\u003e\\u003c/div\\u003e&quot;});\n",
       "            marker_fb7bf776ce992672e4d0d142f86deee0.setIcon(div_icon_23e7500fe84a1979a1387cb318de1b4b);\n",
       "        \n",
       "    \n",
       "            var circle_marker_568fda91503aea9871713d4f80f18256 = L.circleMarker(\n",
       "                [-29.68246, -51.13222],\n",
       "                {&quot;bubblingMouseEvents&quot;: true, &quot;color&quot;: &quot;black&quot;, &quot;dashArray&quot;: null, &quot;dashOffset&quot;: null, &quot;fill&quot;: true, &quot;fillColor&quot;: &quot;#fed06cff&quot;, &quot;fillOpacity&quot;: 0.7, &quot;fillRule&quot;: &quot;evenodd&quot;, &quot;lineCap&quot;: &quot;round&quot;, &quot;lineJoin&quot;: &quot;round&quot;, &quot;opacity&quot;: 1.0, &quot;radius&quot;: 10, &quot;stroke&quot;: true, &quot;weight&quot;: 3}\n",
       "            ).addTo(map_d4cbc4feeedecb14afdb37c03024c5d2);\n",
       "        \n",
       "    \n",
       "        var popup_77b360e675f739b224d9cbbfbb0a2427 = L.popup({&quot;maxWidth&quot;: &quot;100%&quot;});\n",
       "\n",
       "        \n",
       "            \n",
       "                var html_a8d52d55147ab5213687ffa7ff14be8d = $(`&lt;div id=&quot;html_a8d52d55147ab5213687ffa7ff14be8d&quot; style=&quot;width: 100.0%; height: 100.0%;&quot;&gt;&lt;b&gt;Carrefour Novo HamburgoCentro&lt;/b&gt;&lt;br&gt;Kani Congelado Costa Sul 200g&lt;br&gt;Preço: &lt;b&gt;R$14.15&lt;/b&gt;&lt;/div&gt;`)[0];\n",
       "                popup_77b360e675f739b224d9cbbfbb0a2427.setContent(html_a8d52d55147ab5213687ffa7ff14be8d);\n",
       "            \n",
       "        \n",
       "\n",
       "        circle_marker_568fda91503aea9871713d4f80f18256.bindPopup(popup_77b360e675f739b224d9cbbfbb0a2427)\n",
       "        ;\n",
       "\n",
       "        \n",
       "    \n",
       "    \n",
       "            var marker_fedf2151efa583194e6964f2127d0501 = L.marker(\n",
       "                [-29.69246, -51.13222],\n",
       "                {}\n",
       "            ).addTo(map_d4cbc4feeedecb14afdb37c03024c5d2);\n",
       "        \n",
       "    \n",
       "            var div_icon_192ceba2b200bc1a0d702cd7e3c7b19a = L.divIcon({&quot;className&quot;: &quot;empty&quot;, &quot;html&quot;: &quot;\\u003cdiv style=\\u0027font-size: 10pt; color: black\\u0027\\u003e\\u003cb\\u003eR$12.99\\u003c/b\\u003e\\u003c/div\\u003e&quot;});\n",
       "            marker_fedf2151efa583194e6964f2127d0501.setIcon(div_icon_192ceba2b200bc1a0d702cd7e3c7b19a);\n",
       "        \n",
       "    \n",
       "            var circle_marker_5a1360d02e5542836e9fc2c7faeb3b46 = L.circleMarker(\n",
       "                [-29.68246, -51.13222],\n",
       "                {&quot;bubblingMouseEvents&quot;: true, &quot;color&quot;: &quot;black&quot;, &quot;dashArray&quot;: null, &quot;dashOffset&quot;: null, &quot;fill&quot;: true, &quot;fillColor&quot;: &quot;#ffdf81ff&quot;, &quot;fillOpacity&quot;: 0.7, &quot;fillRule&quot;: &quot;evenodd&quot;, &quot;lineCap&quot;: &quot;round&quot;, &quot;lineJoin&quot;: &quot;round&quot;, &quot;opacity&quot;: 1.0, &quot;radius&quot;: 10, &quot;stroke&quot;: true, &quot;weight&quot;: 3}\n",
       "            ).addTo(map_d4cbc4feeedecb14afdb37c03024c5d2);\n",
       "        \n",
       "    \n",
       "        var popup_04735fa27a1a81510f137efe9a23c587 = L.popup({&quot;maxWidth&quot;: &quot;100%&quot;});\n",
       "\n",
       "        \n",
       "            \n",
       "                var html_5795110c1a7631455578a6bf8557075e = $(`&lt;div id=&quot;html_5795110c1a7631455578a6bf8557075e&quot; style=&quot;width: 100.0%; height: 100.0%;&quot;&gt;&lt;b&gt;Carrefour Novo HamburgoCentro&lt;/b&gt;&lt;br&gt;Kani Congelado Frescatto 200g&lt;br&gt;Preço: &lt;b&gt;R$12.99&lt;/b&gt;&lt;/div&gt;`)[0];\n",
       "                popup_04735fa27a1a81510f137efe9a23c587.setContent(html_5795110c1a7631455578a6bf8557075e);\n",
       "            \n",
       "        \n",
       "\n",
       "        circle_marker_5a1360d02e5542836e9fc2c7faeb3b46.bindPopup(popup_04735fa27a1a81510f137efe9a23c587)\n",
       "        ;\n",
       "\n",
       "        \n",
       "    \n",
       "    \n",
       "            var marker_e2bb0c21ffaf021e3aa8874f319d9ab1 = L.marker(\n",
       "                [-31.77344, -52.32847],\n",
       "                {}\n",
       "            ).addTo(map_d4cbc4feeedecb14afdb37c03024c5d2);\n",
       "        \n",
       "    \n",
       "            var div_icon_4705cb153cfd0fef7e23217e1d724522 = L.divIcon({&quot;className&quot;: &quot;empty&quot;, &quot;html&quot;: &quot;\\u003cdiv style=\\u0027font-size: 10pt; color: black\\u0027\\u003e\\u003cb\\u003eR$14.15\\u003c/b\\u003e\\u003c/div\\u003e&quot;});\n",
       "            marker_e2bb0c21ffaf021e3aa8874f319d9ab1.setIcon(div_icon_4705cb153cfd0fef7e23217e1d724522);\n",
       "        \n",
       "    \n",
       "            var circle_marker_24cbf819d6042ff28d946c60bfbc0068 = L.circleMarker(\n",
       "                [-31.76344, -52.32847],\n",
       "                {&quot;bubblingMouseEvents&quot;: true, &quot;color&quot;: &quot;black&quot;, &quot;dashArray&quot;: null, &quot;dashOffset&quot;: null, &quot;fill&quot;: true, &quot;fillColor&quot;: &quot;#fed06cff&quot;, &quot;fillOpacity&quot;: 0.7, &quot;fillRule&quot;: &quot;evenodd&quot;, &quot;lineCap&quot;: &quot;round&quot;, &quot;lineJoin&quot;: &quot;round&quot;, &quot;opacity&quot;: 1.0, &quot;radius&quot;: 10, &quot;stroke&quot;: true, &quot;weight&quot;: 3}\n",
       "            ).addTo(map_d4cbc4feeedecb14afdb37c03024c5d2);\n",
       "        \n",
       "    \n",
       "        var popup_82b219eba136c36271822694750cf470 = L.popup({&quot;maxWidth&quot;: &quot;100%&quot;});\n",
       "\n",
       "        \n",
       "            \n",
       "                var html_af698069dd3ebdec5c32bb9df7221c88 = $(`&lt;div id=&quot;html_af698069dd3ebdec5c32bb9df7221c88&quot; style=&quot;width: 100.0%; height: 100.0%;&quot;&gt;&lt;b&gt;BIG PelotasAreal&lt;/b&gt;&lt;br&gt;Kani Congelado Costa Sul 200g&lt;br&gt;Preço: &lt;b&gt;R$14.15&lt;/b&gt;&lt;/div&gt;`)[0];\n",
       "                popup_82b219eba136c36271822694750cf470.setContent(html_af698069dd3ebdec5c32bb9df7221c88);\n",
       "            \n",
       "        \n",
       "\n",
       "        circle_marker_24cbf819d6042ff28d946c60bfbc0068.bindPopup(popup_82b219eba136c36271822694750cf470)\n",
       "        ;\n",
       "\n",
       "        \n",
       "    \n",
       "    \n",
       "            var marker_736806cb6c83c8ec43f6845b606b74cc = L.marker(\n",
       "                [-31.77344, -52.32847],\n",
       "                {}\n",
       "            ).addTo(map_d4cbc4feeedecb14afdb37c03024c5d2);\n",
       "        \n",
       "    \n",
       "            var div_icon_82cc695e5d6306952a29f5e45593e753 = L.divIcon({&quot;className&quot;: &quot;empty&quot;, &quot;html&quot;: &quot;\\u003cdiv style=\\u0027font-size: 10pt; color: black\\u0027\\u003e\\u003cb\\u003eR$9.89\\u003c/b\\u003e\\u003c/div\\u003e&quot;});\n",
       "            marker_736806cb6c83c8ec43f6845b606b74cc.setIcon(div_icon_82cc695e5d6306952a29f5e45593e753);\n",
       "        \n",
       "    \n",
       "            var circle_marker_a5451799ed53cfd902943379a6ba1923 = L.circleMarker(\n",
       "                [-31.76344, -52.32847],\n",
       "                {&quot;bubblingMouseEvents&quot;: true, &quot;color&quot;: &quot;black&quot;, &quot;dashArray&quot;: null, &quot;dashOffset&quot;: null, &quot;fill&quot;: true, &quot;fillColor&quot;: &quot;#fff8bbff&quot;, &quot;fillOpacity&quot;: 0.7, &quot;fillRule&quot;: &quot;evenodd&quot;, &quot;lineCap&quot;: &quot;round&quot;, &quot;lineJoin&quot;: &quot;round&quot;, &quot;opacity&quot;: 1.0, &quot;radius&quot;: 10, &quot;stroke&quot;: true, &quot;weight&quot;: 3}\n",
       "            ).addTo(map_d4cbc4feeedecb14afdb37c03024c5d2);\n",
       "        \n",
       "    \n",
       "        var popup_6d9fb569fd2b40335400851dabac78d0 = L.popup({&quot;maxWidth&quot;: &quot;100%&quot;});\n",
       "\n",
       "        \n",
       "            \n",
       "                var html_89cda12b20d22d7318e28328fb840d53 = $(`&lt;div id=&quot;html_89cda12b20d22d7318e28328fb840d53&quot; style=&quot;width: 100.0%; height: 100.0%;&quot;&gt;&lt;b&gt;BIG PelotasAreal&lt;/b&gt;&lt;br&gt;Kani Congelado Frescatto 200g&lt;br&gt;Preço: &lt;b&gt;R$9.89&lt;/b&gt;&lt;/div&gt;`)[0];\n",
       "                popup_6d9fb569fd2b40335400851dabac78d0.setContent(html_89cda12b20d22d7318e28328fb840d53);\n",
       "            \n",
       "        \n",
       "\n",
       "        circle_marker_a5451799ed53cfd902943379a6ba1923.bindPopup(popup_6d9fb569fd2b40335400851dabac78d0)\n",
       "        ;\n",
       "\n",
       "        \n",
       "    \n",
       "    \n",
       "            var marker_ae5cb80bc8d360a27a1bc998e533e882 = L.marker(\n",
       "                [-25.441750000000003, -49.16498],\n",
       "                {}\n",
       "            ).addTo(map_d4cbc4feeedecb14afdb37c03024c5d2);\n",
       "        \n",
       "    \n",
       "            var div_icon_fc777d5661ba9b1f6df53cdf6bd708c6 = L.divIcon({&quot;className&quot;: &quot;empty&quot;, &quot;html&quot;: &quot;\\u003cdiv style=\\u0027font-size: 10pt; color: black\\u0027\\u003e\\u003cb\\u003eR$13.89\\u003c/b\\u003e\\u003c/div\\u003e&quot;});\n",
       "            marker_ae5cb80bc8d360a27a1bc998e533e882.setIcon(div_icon_fc777d5661ba9b1f6df53cdf6bd708c6);\n",
       "        \n",
       "    \n",
       "            var circle_marker_559fa8afc9738b11090d0e1d240f5121 = L.circleMarker(\n",
       "                [-25.43175, -49.16498],\n",
       "                {&quot;bubblingMouseEvents&quot;: true, &quot;color&quot;: &quot;black&quot;, &quot;dashArray&quot;: null, &quot;dashOffset&quot;: null, &quot;fill&quot;: true, &quot;fillColor&quot;: &quot;#fed571ff&quot;, &quot;fillOpacity&quot;: 0.7, &quot;fillRule&quot;: &quot;evenodd&quot;, &quot;lineCap&quot;: &quot;round&quot;, &quot;lineJoin&quot;: &quot;round&quot;, &quot;opacity&quot;: 1.0, &quot;radius&quot;: 10, &quot;stroke&quot;: true, &quot;weight&quot;: 3}\n",
       "            ).addTo(map_d4cbc4feeedecb14afdb37c03024c5d2);\n",
       "        \n",
       "    \n",
       "        var popup_9db87473633769f1ab037fa84be0a50e = L.popup({&quot;maxWidth&quot;: &quot;100%&quot;});\n",
       "\n",
       "        \n",
       "            \n",
       "                var html_51b37b913fc42d388610c64bc10c0474 = $(`&lt;div id=&quot;html_51b37b913fc42d388610c64bc10c0474&quot; style=&quot;width: 100.0%; height: 100.0%;&quot;&gt;&lt;b&gt;Hipermercado PinhaisVila Maria Antonieta&lt;/b&gt;&lt;br&gt;Kani Congelado Costa Sul 200g&lt;br&gt;Preço: &lt;b&gt;R$13.89&lt;/b&gt;&lt;/div&gt;`)[0];\n",
       "                popup_9db87473633769f1ab037fa84be0a50e.setContent(html_51b37b913fc42d388610c64bc10c0474);\n",
       "            \n",
       "        \n",
       "\n",
       "        circle_marker_559fa8afc9738b11090d0e1d240f5121.bindPopup(popup_9db87473633769f1ab037fa84be0a50e)\n",
       "        ;\n",
       "\n",
       "        \n",
       "    \n",
       "    \n",
       "            var marker_3d5cb0f742997aeba3c4cc849be26da7 = L.marker(\n",
       "                [-30.06709, -51.16583],\n",
       "                {}\n",
       "            ).addTo(map_d4cbc4feeedecb14afdb37c03024c5d2);\n",
       "        \n",
       "    \n",
       "            var div_icon_5a3681247b9ff797cc928d048ebdedbc = L.divIcon({&quot;className&quot;: &quot;empty&quot;, &quot;html&quot;: &quot;\\u003cdiv style=\\u0027font-size: 10pt; color: black\\u0027\\u003e\\u003cb\\u003eR$14.15\\u003c/b\\u003e\\u003c/div\\u003e&quot;});\n",
       "            marker_3d5cb0f742997aeba3c4cc849be26da7.setIcon(div_icon_5a3681247b9ff797cc928d048ebdedbc);\n",
       "        \n",
       "    \n",
       "            var circle_marker_ef50b7a1f21c3d4c75d401bfb333f120 = L.circleMarker(\n",
       "                [-30.05709, -51.16583],\n",
       "                {&quot;bubblingMouseEvents&quot;: true, &quot;color&quot;: &quot;black&quot;, &quot;dashArray&quot;: null, &quot;dashOffset&quot;: null, &quot;fill&quot;: true, &quot;fillColor&quot;: &quot;#fed06cff&quot;, &quot;fillOpacity&quot;: 0.7, &quot;fillRule&quot;: &quot;evenodd&quot;, &quot;lineCap&quot;: &quot;round&quot;, &quot;lineJoin&quot;: &quot;round&quot;, &quot;opacity&quot;: 1.0, &quot;radius&quot;: 10, &quot;stroke&quot;: true, &quot;weight&quot;: 3}\n",
       "            ).addTo(map_d4cbc4feeedecb14afdb37c03024c5d2);\n",
       "        \n",
       "    \n",
       "        var popup_55920bf3337fb60549da605663b61c3f = L.popup({&quot;maxWidth&quot;: &quot;100%&quot;});\n",
       "\n",
       "        \n",
       "            \n",
       "                var html_28edcd5e457416a3c95e2348bafd2ac3 = $(`&lt;div id=&quot;html_28edcd5e457416a3c95e2348bafd2ac3&quot; style=&quot;width: 100.0%; height: 100.0%;&quot;&gt;&lt;b&gt;Hipermercado PartenonPartenon&lt;/b&gt;&lt;br&gt;Kani Congelado Costa Sul 200g&lt;br&gt;Preço: &lt;b&gt;R$14.15&lt;/b&gt;&lt;/div&gt;`)[0];\n",
       "                popup_55920bf3337fb60549da605663b61c3f.setContent(html_28edcd5e457416a3c95e2348bafd2ac3);\n",
       "            \n",
       "        \n",
       "\n",
       "        circle_marker_ef50b7a1f21c3d4c75d401bfb333f120.bindPopup(popup_55920bf3337fb60549da605663b61c3f)\n",
       "        ;\n",
       "\n",
       "        \n",
       "    \n",
       "    \n",
       "            var marker_349f2b7e417b624b55faecaa1dd246d4 = L.marker(\n",
       "                [-30.06709, -51.16583],\n",
       "                {}\n",
       "            ).addTo(map_d4cbc4feeedecb14afdb37c03024c5d2);\n",
       "        \n",
       "    \n",
       "            var div_icon_57a247759a9bcd6f9f137702c5d2bde8 = L.divIcon({&quot;className&quot;: &quot;empty&quot;, &quot;html&quot;: &quot;\\u003cdiv style=\\u0027font-size: 10pt; color: black\\u0027\\u003e\\u003cb\\u003eR$9.29\\u003c/b\\u003e\\u003c/div\\u003e&quot;});\n",
       "            marker_349f2b7e417b624b55faecaa1dd246d4.setIcon(div_icon_57a247759a9bcd6f9f137702c5d2bde8);\n",
       "        \n",
       "    \n",
       "            var circle_marker_6385b8766602fca3f1e7e4ab2e9cbba7 = L.circleMarker(\n",
       "                [-30.05709, -51.16583],\n",
       "                {&quot;bubblingMouseEvents&quot;: true, &quot;color&quot;: &quot;black&quot;, &quot;dashArray&quot;: null, &quot;dashOffset&quot;: null, &quot;fill&quot;: true, &quot;fillColor&quot;: &quot;#fffdc7ff&quot;, &quot;fillOpacity&quot;: 0.7, &quot;fillRule&quot;: &quot;evenodd&quot;, &quot;lineCap&quot;: &quot;round&quot;, &quot;lineJoin&quot;: &quot;round&quot;, &quot;opacity&quot;: 1.0, &quot;radius&quot;: 10, &quot;stroke&quot;: true, &quot;weight&quot;: 3}\n",
       "            ).addTo(map_d4cbc4feeedecb14afdb37c03024c5d2);\n",
       "        \n",
       "    \n",
       "        var popup_639b488c40be08565f89dc5531a3dd3c = L.popup({&quot;maxWidth&quot;: &quot;100%&quot;});\n",
       "\n",
       "        \n",
       "            \n",
       "                var html_b28f3499f88869da60f5f7b5f052e863 = $(`&lt;div id=&quot;html_b28f3499f88869da60f5f7b5f052e863&quot; style=&quot;width: 100.0%; height: 100.0%;&quot;&gt;&lt;b&gt;Hipermercado PartenonPartenon&lt;/b&gt;&lt;br&gt;Kani Congelado Frescatto 200g&lt;br&gt;Preço: &lt;b&gt;R$9.29&lt;/b&gt;&lt;/div&gt;`)[0];\n",
       "                popup_639b488c40be08565f89dc5531a3dd3c.setContent(html_b28f3499f88869da60f5f7b5f052e863);\n",
       "            \n",
       "        \n",
       "\n",
       "        circle_marker_6385b8766602fca3f1e7e4ab2e9cbba7.bindPopup(popup_639b488c40be08565f89dc5531a3dd3c)\n",
       "        ;\n",
       "\n",
       "        \n",
       "    \n",
       "    \n",
       "            var marker_31243094c7251b4c8203fed2cee1ae5c = L.marker(\n",
       "                [-29.68947, -53.80657],\n",
       "                {}\n",
       "            ).addTo(map_d4cbc4feeedecb14afdb37c03024c5d2);\n",
       "        \n",
       "    \n",
       "            var div_icon_489d8bd6f4b00d626e8ab9e2c7de5b8b = L.divIcon({&quot;className&quot;: &quot;empty&quot;, &quot;html&quot;: &quot;\\u003cdiv style=\\u0027font-size: 10pt; color: black\\u0027\\u003e\\u003cb\\u003eR$10.99\\u003c/b\\u003e\\u003c/div\\u003e&quot;});\n",
       "            marker_31243094c7251b4c8203fed2cee1ae5c.setIcon(div_icon_489d8bd6f4b00d626e8ab9e2c7de5b8b);\n",
       "        \n",
       "    \n",
       "            var circle_marker_740e0616604f06810e63599ef0f57345 = L.circleMarker(\n",
       "                [-29.67947, -53.80657],\n",
       "                {&quot;bubblingMouseEvents&quot;: true, &quot;color&quot;: &quot;black&quot;, &quot;dashArray&quot;: null, &quot;dashOffset&quot;: null, &quot;fill&quot;: true, &quot;fillColor&quot;: &quot;#fff0a6ff&quot;, &quot;fillOpacity&quot;: 0.7, &quot;fillRule&quot;: &quot;evenodd&quot;, &quot;lineCap&quot;: &quot;round&quot;, &quot;lineJoin&quot;: &quot;round&quot;, &quot;opacity&quot;: 1.0, &quot;radius&quot;: 10, &quot;stroke&quot;: true, &quot;weight&quot;: 3}\n",
       "            ).addTo(map_d4cbc4feeedecb14afdb37c03024c5d2);\n",
       "        \n",
       "    \n",
       "        var popup_a91a596ee569c99a3946d63dadaf582a = L.popup({&quot;maxWidth&quot;: &quot;100%&quot;});\n",
       "\n",
       "        \n",
       "            \n",
       "                var html_646ffb4a8f191de5efd7178fb821ad46 = $(`&lt;div id=&quot;html_646ffb4a8f191de5efd7178fb821ad46&quot; style=&quot;width: 100.0%; height: 100.0%;&quot;&gt;&lt;b&gt;Hipermercado Santa MariaCentro&lt;/b&gt;&lt;br&gt;Kani Congelado Costa Sul 200g&lt;br&gt;Preço: &lt;b&gt;R$10.99&lt;/b&gt;&lt;/div&gt;`)[0];\n",
       "                popup_a91a596ee569c99a3946d63dadaf582a.setContent(html_646ffb4a8f191de5efd7178fb821ad46);\n",
       "            \n",
       "        \n",
       "\n",
       "        circle_marker_740e0616604f06810e63599ef0f57345.bindPopup(popup_a91a596ee569c99a3946d63dadaf582a)\n",
       "        ;\n",
       "\n",
       "        \n",
       "    \n",
       "    \n",
       "            var marker_d4b32c25ca5d8d46dc849337264ead03 = L.marker(\n",
       "                [-29.68947, -53.80657],\n",
       "                {}\n",
       "            ).addTo(map_d4cbc4feeedecb14afdb37c03024c5d2);\n",
       "        \n",
       "    \n",
       "            var div_icon_dd2fdbc8d7d2b970bcb62dd7f89c9282 = L.divIcon({&quot;className&quot;: &quot;empty&quot;, &quot;html&quot;: &quot;\\u003cdiv style=\\u0027font-size: 10pt; color: black\\u0027\\u003e\\u003cb\\u003eR$9.89\\u003c/b\\u003e\\u003c/div\\u003e&quot;});\n",
       "            marker_d4b32c25ca5d8d46dc849337264ead03.setIcon(div_icon_dd2fdbc8d7d2b970bcb62dd7f89c9282);\n",
       "        \n",
       "    \n",
       "            var circle_marker_7e5f06178522e8690b83040d6e1fe65b = L.circleMarker(\n",
       "                [-29.67947, -53.80657],\n",
       "                {&quot;bubblingMouseEvents&quot;: true, &quot;color&quot;: &quot;black&quot;, &quot;dashArray&quot;: null, &quot;dashOffset&quot;: null, &quot;fill&quot;: true, &quot;fillColor&quot;: &quot;#fff8bbff&quot;, &quot;fillOpacity&quot;: 0.7, &quot;fillRule&quot;: &quot;evenodd&quot;, &quot;lineCap&quot;: &quot;round&quot;, &quot;lineJoin&quot;: &quot;round&quot;, &quot;opacity&quot;: 1.0, &quot;radius&quot;: 10, &quot;stroke&quot;: true, &quot;weight&quot;: 3}\n",
       "            ).addTo(map_d4cbc4feeedecb14afdb37c03024c5d2);\n",
       "        \n",
       "    \n",
       "        var popup_b7e1db7c1d13766701d889b0068776dd = L.popup({&quot;maxWidth&quot;: &quot;100%&quot;});\n",
       "\n",
       "        \n",
       "            \n",
       "                var html_5cb69ec1090006c1ffd53a4894af0781 = $(`&lt;div id=&quot;html_5cb69ec1090006c1ffd53a4894af0781&quot; style=&quot;width: 100.0%; height: 100.0%;&quot;&gt;&lt;b&gt;Hipermercado Santa MariaCentro&lt;/b&gt;&lt;br&gt;Kani Congelado Frescatto 200g&lt;br&gt;Preço: &lt;b&gt;R$9.89&lt;/b&gt;&lt;/div&gt;`)[0];\n",
       "                popup_b7e1db7c1d13766701d889b0068776dd.setContent(html_5cb69ec1090006c1ffd53a4894af0781);\n",
       "            \n",
       "        \n",
       "\n",
       "        circle_marker_7e5f06178522e8690b83040d6e1fe65b.bindPopup(popup_b7e1db7c1d13766701d889b0068776dd)\n",
       "        ;\n",
       "\n",
       "        \n",
       "    \n",
       "    \n",
       "            var marker_b88831528ac351f1894625237cb7ce2c = L.marker(\n",
       "                [-30.08905, -51.10104],\n",
       "                {}\n",
       "            ).addTo(map_d4cbc4feeedecb14afdb37c03024c5d2);\n",
       "        \n",
       "    \n",
       "            var div_icon_c01547b64809e1aaa5c8e8f088b0fd47 = L.divIcon({&quot;className&quot;: &quot;empty&quot;, &quot;html&quot;: &quot;\\u003cdiv style=\\u0027font-size: 10pt; color: black\\u0027\\u003e\\u003cb\\u003eR$13.69\\u003c/b\\u003e\\u003c/div\\u003e&quot;});\n",
       "            marker_b88831528ac351f1894625237cb7ce2c.setIcon(div_icon_c01547b64809e1aaa5c8e8f088b0fd47);\n",
       "        \n",
       "    \n",
       "            var circle_marker_7bb31e1ece2e4c4af851e6c1df36b198 = L.circleMarker(\n",
       "                [-30.07905, -51.10104],\n",
       "                {&quot;bubblingMouseEvents&quot;: true, &quot;color&quot;: &quot;black&quot;, &quot;dashArray&quot;: null, &quot;dashOffset&quot;: null, &quot;fill&quot;: true, &quot;fillColor&quot;: &quot;#fed875ff&quot;, &quot;fillOpacity&quot;: 0.7, &quot;fillRule&quot;: &quot;evenodd&quot;, &quot;lineCap&quot;: &quot;round&quot;, &quot;lineJoin&quot;: &quot;round&quot;, &quot;opacity&quot;: 1.0, &quot;radius&quot;: 10, &quot;stroke&quot;: true, &quot;weight&quot;: 3}\n",
       "            ).addTo(map_d4cbc4feeedecb14afdb37c03024c5d2);\n",
       "        \n",
       "    \n",
       "        var popup_b936c0973c5d8836a88ed2e896869347 = L.popup({&quot;maxWidth&quot;: &quot;100%&quot;});\n",
       "\n",
       "        \n",
       "            \n",
       "                var html_b4eafb02db03102a17a32369d0ce6287 = $(`&lt;div id=&quot;html_b4eafb02db03102a17a32369d0ce6287&quot; style=&quot;width: 100.0%; height: 100.0%;&quot;&gt;&lt;b&gt;BIG ViamãoCecília&lt;/b&gt;&lt;br&gt;Kani Congelado Costa Sul 200g&lt;br&gt;Preço: &lt;b&gt;R$13.69&lt;/b&gt;&lt;/div&gt;`)[0];\n",
       "                popup_b936c0973c5d8836a88ed2e896869347.setContent(html_b4eafb02db03102a17a32369d0ce6287);\n",
       "            \n",
       "        \n",
       "\n",
       "        circle_marker_7bb31e1ece2e4c4af851e6c1df36b198.bindPopup(popup_b936c0973c5d8836a88ed2e896869347)\n",
       "        ;\n",
       "\n",
       "        \n",
       "    \n",
       "    \n",
       "            var marker_6ba05adf40e9122c7c56518f475a0d79 = L.marker(\n",
       "                [-30.08905, -51.10104],\n",
       "                {}\n",
       "            ).addTo(map_d4cbc4feeedecb14afdb37c03024c5d2);\n",
       "        \n",
       "    \n",
       "            var div_icon_6acbe6c69679eafd6c79b7c0127f9d3a = L.divIcon({&quot;className&quot;: &quot;empty&quot;, &quot;html&quot;: &quot;\\u003cdiv style=\\u0027font-size: 10pt; color: black\\u0027\\u003e\\u003cb\\u003eR$12.99\\u003c/b\\u003e\\u003c/div\\u003e&quot;});\n",
       "            marker_6ba05adf40e9122c7c56518f475a0d79.setIcon(div_icon_6acbe6c69679eafd6c79b7c0127f9d3a);\n",
       "        \n",
       "    \n",
       "            var circle_marker_396510cbcbbd2c0e94ed907c3deec3d8 = L.circleMarker(\n",
       "                [-30.07905, -51.10104],\n",
       "                {&quot;bubblingMouseEvents&quot;: true, &quot;color&quot;: &quot;black&quot;, &quot;dashArray&quot;: null, &quot;dashOffset&quot;: null, &quot;fill&quot;: true, &quot;fillColor&quot;: &quot;#ffdf81ff&quot;, &quot;fillOpacity&quot;: 0.7, &quot;fillRule&quot;: &quot;evenodd&quot;, &quot;lineCap&quot;: &quot;round&quot;, &quot;lineJoin&quot;: &quot;round&quot;, &quot;opacity&quot;: 1.0, &quot;radius&quot;: 10, &quot;stroke&quot;: true, &quot;weight&quot;: 3}\n",
       "            ).addTo(map_d4cbc4feeedecb14afdb37c03024c5d2);\n",
       "        \n",
       "    \n",
       "        var popup_877850ec3e139bb9ba33751def387b43 = L.popup({&quot;maxWidth&quot;: &quot;100%&quot;});\n",
       "\n",
       "        \n",
       "            \n",
       "                var html_55bb8f0c9abde46a1880d25b1cbbca15 = $(`&lt;div id=&quot;html_55bb8f0c9abde46a1880d25b1cbbca15&quot; style=&quot;width: 100.0%; height: 100.0%;&quot;&gt;&lt;b&gt;BIG ViamãoCecília&lt;/b&gt;&lt;br&gt;Kani Congelado Frescatto 200g&lt;br&gt;Preço: &lt;b&gt;R$12.99&lt;/b&gt;&lt;/div&gt;`)[0];\n",
       "                popup_877850ec3e139bb9ba33751def387b43.setContent(html_55bb8f0c9abde46a1880d25b1cbbca15);\n",
       "            \n",
       "        \n",
       "\n",
       "        circle_marker_396510cbcbbd2c0e94ed907c3deec3d8.bindPopup(popup_877850ec3e139bb9ba33751def387b43)\n",
       "        ;\n",
       "\n",
       "        \n",
       "    \n",
       "    \n",
       "    var color_map_3f117501b904dbe27edc2bcedd05242b = {};\n",
       "\n",
       "    \n",
       "    color_map_3f117501b904dbe27edc2bcedd05242b.color = d3.scale.threshold()\n",
       "              .domain([8.99, 9.027074148296593, 9.064148296593187, 9.10122244488978, 9.138296593186373, 9.175370741482967, 9.21244488977956, 9.249519038076153, 9.286593186372746, 9.32366733466934, 9.360741482965931, 9.397815631262525, 9.434889779559118, 9.471963927855711, 9.509038076152304, 9.546112224448898, 9.583186372745491, 9.620260521042084, 9.657334669338677, 9.69440881763527, 9.731482965931864, 9.768557114228457, 9.80563126252505, 9.842705410821644, 9.879779559118237, 9.91685370741483, 9.953927855711424, 9.991002004008017, 10.02807615230461, 10.065150300601204, 10.102224448897795, 10.139298597194388, 10.176372745490982, 10.213446893787575, 10.250521042084168, 10.287595190380761, 10.324669338677355, 10.361743486973948, 10.398817635270541, 10.435891783567135, 10.472965931863728, 10.510040080160321, 10.547114228456914, 10.584188376753508, 10.621262525050101, 10.658336673346694, 10.695410821643287, 10.732484969939879, 10.769559118236472, 10.806633266533066, 10.843707414829659, 10.880781563126252, 10.917855711422845, 10.954929859719439, 10.992004008016032, 11.029078156312625, 11.066152304609219, 11.103226452905812, 11.140300601202405, 11.177374749498998, 11.214448897795592, 11.251523046092185, 11.288597194388778, 11.325671342685371, 11.362745490981965, 11.399819639278558, 11.436893787575151, 11.473967935871745, 11.511042084168338, 11.548116232464931, 11.585190380761523, 11.622264529058116, 11.65933867735471, 11.696412825651302, 11.733486973947896, 11.770561122244489, 11.807635270541082, 11.844709418837676, 11.881783567134269, 11.918857715430862, 11.955931863727455, 11.993006012024049, 12.030080160320642, 12.067154308617235, 12.104228456913827, 12.14130260521042, 12.178376753507013, 12.215450901803607, 12.2525250501002, 12.289599198396793, 12.326673346693386, 12.36374749498998, 12.400821643286573, 12.437895791583166, 12.47496993987976, 12.512044088176353, 12.549118236472946, 12.58619238476954, 12.623266533066133, 12.660340681362726, 12.69741482965932, 12.734488977955913, 12.771563126252506, 12.808637274549099, 12.845711422845692, 12.882785571142286, 12.919859719438879, 12.956933867735472, 12.994008016032065, 13.031082164328659, 13.068156312625252, 13.105230460921844, 13.142304609218437, 13.17937875751503, 13.216452905811623, 13.253527054108217, 13.29060120240481, 13.327675350701403, 13.364749498997996, 13.40182364729459, 13.438897795591181, 13.475971943887775, 13.513046092184368, 13.550120240480961, 13.587194388777554, 13.624268537074148, 13.661342685370741, 13.698416833667334, 13.735490981963927, 13.77256513026052, 13.809639278557114, 13.846713426853707, 13.8837875751503, 13.920861723446894, 13.957935871743487, 13.99501002004008, 14.032084168336674, 14.069158316633267, 14.10623246492986, 14.143306613226454, 14.180380761523047, 14.21745490981964, 14.254529058116233, 14.291603206412827, 14.32867735470942, 14.365751503006013, 14.402825651302607, 14.4398997995992, 14.476973947895793, 14.514048096192385, 14.551122244488978, 14.588196392785571, 14.625270541082164, 14.662344689378758, 14.699418837675351, 14.736492985971944, 14.773567134268538, 14.81064128256513, 14.847715430861724, 14.884789579158316, 14.921863727454909, 14.958937875751502, 14.996012024048095, 15.033086172344689, 15.070160320641282, 15.107234468937875, 15.144308617234469, 15.181382765531062, 15.218456913827655, 15.255531062124248, 15.292605210420842, 15.329679358717435, 15.366753507014028, 15.403827655310621, 15.440901803607215, 15.477975951903808, 15.515050100200401, 15.552124248496995, 15.589198396793588, 15.626272545090181, 15.663346693386774, 15.700420841683368, 15.737494989979961, 15.774569138276554, 15.811643286573148, 15.84871743486974, 15.885791583166334, 15.922865731462927, 15.959939879759519, 15.997014028056112, 16.034088176352704, 16.0711623246493, 16.10823647294589, 16.145310621242487, 16.182384769539077, 16.219458917835674, 16.256533066132263, 16.293607214428857, 16.33068136272545, 16.367755511022043, 16.404829659318636, 16.44190380761523, 16.478977955911823, 16.516052104208416, 16.55312625250501, 16.590200400801603, 16.627274549098196, 16.66434869739479, 16.701422845691383, 16.738496993987976, 16.77557114228457, 16.812645290581163, 16.849719438877756, 16.88679358717435, 16.923867735470942, 16.960941883767536, 16.99801603206413, 17.035090180360722, 17.072164328657315, 17.10923847695391, 17.146312625250502, 17.18338677354709, 17.22046092184369, 17.25753507014028, 17.294609218436875, 17.331683366733465, 17.36875751503006, 17.40583166332665, 17.44290581162325, 17.479979959919838, 17.517054108216435, 17.554128256513025, 17.59120240480962, 17.62827655310621, 17.665350701402808, 17.702424849699398, 17.739498997995995, 17.776573146292584, 17.81364729458918, 17.85072144288577, 17.887795591182364, 17.924869739478957, 17.96194388777555, 17.999018036072144, 18.036092184368737, 18.07316633266533, 18.110240480961924, 18.147314629258517, 18.18438877755511, 18.221462925851704, 18.258537074148297, 18.29561122244489, 18.332685370741483, 18.369759519038077, 18.40683366733467, 18.443907815631263, 18.480981963927857, 18.51805611222445, 18.555130260521043, 18.592204408817636, 18.629278557114226, 18.666352705410823, 18.703426853707413, 18.74050100200401, 18.7775751503006, 18.814649298597196, 18.851723446893786, 18.888797595190383, 18.925871743486972, 18.96294589178357, 19.00002004008016, 19.037094188376756, 19.074168336673345, 19.111242484969942, 19.148316633266532, 19.18539078156313, 19.22246492985972, 19.259539078156315, 19.296613226452905, 19.3336873747495, 19.37076152304609, 19.407835671342685, 19.44490981963928, 19.48198396793587, 19.519058116232465, 19.556132264529058, 19.59320641282565, 19.630280561122245, 19.667354709418838, 19.70442885771543, 19.741503006012024, 19.778577154308618, 19.81565130260521, 19.852725450901804, 19.889799599198398, 19.92687374749499, 19.963947895791584, 20.001022044088177, 20.03809619238477, 20.07517034068136, 20.112244488977957, 20.149318637274547, 20.186392785571144, 20.223466933867734, 20.26054108216433, 20.29761523046092, 20.334689378757517, 20.371763527054107, 20.408837675350703, 20.445911823647293, 20.48298597194389, 20.52006012024048, 20.557134268537077, 20.594208416833666, 20.631282565130263, 20.668356713426853, 20.70543086172345, 20.74250501002004, 20.779579158316633, 20.816653306613226, 20.85372745490982, 20.890801603206413, 20.927875751503006, 20.9649498997996, 21.002024048096192, 21.039098196392786, 21.07617234468938, 21.113246492985972, 21.150320641282566, 21.18739478957916, 21.224468937875752, 21.261543086172345, 21.29861723446894, 21.335691382765532, 21.372765531062125, 21.40983967935872, 21.446913827655308, 21.483987975951905, 21.521062124248495, 21.55813627254509, 21.59521042084168, 21.632284569138278, 21.669358717434868, 21.706432865731465, 21.743507014028054, 21.78058116232465, 21.81765531062124, 21.854729458917838, 21.891803607214428, 21.928877755511024, 21.965951903807614, 22.00302605210421, 22.0401002004008, 22.077174348697397, 22.114248496993987, 22.151322645290584, 22.188396793587174, 22.225470941883767, 22.26254509018036, 22.299619238476954, 22.336693386773547, 22.37376753507014, 22.410841683366733, 22.447915831663327, 22.48498997995992, 22.522064128256513, 22.559138276553107, 22.5962124248497, 22.633286573146293, 22.670360721442886, 22.70743486973948, 22.744509018036073, 22.781583166332666, 22.81865731462926, 22.855731462925853, 22.892805611222443, 22.92987975951904, 22.96695390781563, 23.004028056112226, 23.041102204408816, 23.078176352705412, 23.115250501002002, 23.1523246492986, 23.18939879759519, 23.226472945891786, 23.263547094188375, 23.300621242484972, 23.337695390781562, 23.37476953907816, 23.41184368737475, 23.448917835671345, 23.485991983967935, 23.523066132264532, 23.56014028056112, 23.597214428857715, 23.634288577154308, 23.6713627254509, 23.708436873747495, 23.745511022044088, 23.78258517034068, 23.819659318637274, 23.856733466933868, 23.89380761523046, 23.930881763527054, 23.967955911823648, 24.00503006012024, 24.042104208416834, 24.079178356713427, 24.11625250501002, 24.153326653306614, 24.190400801603207, 24.2274749498998, 24.264549098196394, 24.301623246492987, 24.338697394789577, 24.375771543086174, 24.412845691382763, 24.44991983967936, 24.48699398797595, 24.524068136272547, 24.561142284569137, 24.598216432865733, 24.635290581162323, 24.67236472945892, 24.70943887775551, 24.746513026052106, 24.783587174348696, 24.820661322645293, 24.857735470941883, 24.89480961923848, 24.93188376753507, 24.968957915831666, 25.006032064128256, 25.043106212424853, 25.080180360721442, 25.11725450901804, 25.15432865731463, 25.191402805611226, 25.228476953907816, 25.265551102204412, 25.302625250501002, 25.3396993987976, 25.37677354709419, 25.41384769539078, 25.450921843687375, 25.487995991983965, 25.52507014028056, 25.56214428857715, 25.59921843687375, 25.636292585170338, 25.673366733466935, 25.710440881763525, 25.74751503006012, 25.78458917835671, 25.821663326653308, 25.858737474949898, 25.895811623246495, 25.932885771543084, 25.96995991983968, 26.00703406813627, 26.044108216432868, 26.081182364729457, 26.118256513026054, 26.155330661322644, 26.19240480961924, 26.22947895791583, 26.266553106212427, 26.303627254509017, 26.340701402805614, 26.377775551102204, 26.4148496993988, 26.45192384769539, 26.488997995991987, 26.526072144288577, 26.563146292585174, 26.600220440881763, 26.63729458917836, 26.67436873747495, 26.711442885771547, 26.748517034068136, 26.785591182364726, 26.822665330661323, 26.859739478957913, 26.89681362725451, 26.9338877755511, 26.970961923847696, 27.008036072144286, 27.045110220440883, 27.082184368737472, 27.11925851703407, 27.15633266533066, 27.193406813627256, 27.230480961923845, 27.267555110220442, 27.304629258517032, 27.34170340681363, 27.37877755511022, 27.415851703406815, 27.452925851703405, 27.490000000000002])\n",
       "              .range([&#x27;#ffffccff&#x27;, &#x27;#ffffccff&#x27;, &#x27;#ffffcbff&#x27;, &#x27;#ffffcaff&#x27;, &#x27;#fffec9ff&#x27;, &#x27;#fffec9ff&#x27;, &#x27;#fffec8ff&#x27;, &#x27;#fffdc7ff&#x27;, &#x27;#fffdc7ff&#x27;, &#x27;#fffdc6ff&#x27;, &#x27;#fffdc5ff&#x27;, &#x27;#fffcc5ff&#x27;, &#x27;#fffcc4ff&#x27;, &#x27;#fffcc3ff&#x27;, &#x27;#fffbc2ff&#x27;, &#x27;#fffbc2ff&#x27;, &#x27;#fffbc1ff&#x27;, &#x27;#fffbc0ff&#x27;, &#x27;#fffac0ff&#x27;, &#x27;#fffabfff&#x27;, &#x27;#fffabeff&#x27;, &#x27;#fff9bdff&#x27;, &#x27;#fff9bdff&#x27;, &#x27;#fff9bcff&#x27;, &#x27;#fff9bbff&#x27;, &#x27;#fff8bbff&#x27;, &#x27;#fff8baff&#x27;, &#x27;#fff8b9ff&#x27;, &#x27;#fff7b8ff&#x27;, &#x27;#fff7b8ff&#x27;, &#x27;#fff7b7ff&#x27;, &#x27;#fff7b6ff&#x27;, &#x27;#fff6b6ff&#x27;, &#x27;#fff6b5ff&#x27;, &#x27;#fff6b4ff&#x27;, &#x27;#fff5b4ff&#x27;, &#x27;#fff5b3ff&#x27;, &#x27;#fff5b2ff&#x27;, &#x27;#fff4b1ff&#x27;, &#x27;#fff4b1ff&#x27;, &#x27;#fff4b0ff&#x27;, &#x27;#fff4afff&#x27;, &#x27;#fff3afff&#x27;, &#x27;#fff3aeff&#x27;, &#x27;#fff3adff&#x27;, &#x27;#fff2acff&#x27;, &#x27;#fff2acff&#x27;, &#x27;#fff2abff&#x27;, &#x27;#fff2aaff&#x27;, &#x27;#fff1aaff&#x27;, &#x27;#fff1a9ff&#x27;, &#x27;#fff1a8ff&#x27;, &#x27;#fff0a7ff&#x27;, &#x27;#fff0a7ff&#x27;, &#x27;#fff0a6ff&#x27;, &#x27;#fff0a5ff&#x27;, &#x27;#ffefa5ff&#x27;, &#x27;#ffefa4ff&#x27;, &#x27;#ffefa3ff&#x27;, &#x27;#ffeea3ff&#x27;, &#x27;#ffeea2ff&#x27;, &#x27;#ffeea1ff&#x27;, &#x27;#ffeea0ff&#x27;, &#x27;#ffeda0ff&#x27;, &#x27;#ffed9fff&#x27;, &#x27;#ffed9eff&#x27;, &#x27;#ffec9eff&#x27;, &#x27;#ffec9dff&#x27;, &#x27;#ffec9cff&#x27;, &#x27;#ffeb9cff&#x27;, &#x27;#ffeb9bff&#x27;, &#x27;#ffeb9aff&#x27;, &#x27;#ffea9aff&#x27;, &#x27;#ffea99ff&#x27;, &#x27;#ffea98ff&#x27;, &#x27;#ffe998ff&#x27;, &#x27;#ffe997ff&#x27;, &#x27;#ffe996ff&#x27;, &#x27;#ffe896ff&#x27;, &#x27;#ffe895ff&#x27;, &#x27;#ffe894ff&#x27;, &#x27;#ffe794ff&#x27;, &#x27;#ffe793ff&#x27;, &#x27;#ffe792ff&#x27;, &#x27;#ffe692ff&#x27;, &#x27;#ffe691ff&#x27;, &#x27;#ffe690ff&#x27;, &#x27;#ffe68fff&#x27;, &#x27;#ffe58fff&#x27;, &#x27;#ffe58eff&#x27;, &#x27;#ffe58dff&#x27;, &#x27;#ffe48dff&#x27;, &#x27;#ffe48cff&#x27;, &#x27;#ffe48bff&#x27;, &#x27;#ffe38bff&#x27;, &#x27;#ffe38aff&#x27;, &#x27;#ffe389ff&#x27;, &#x27;#ffe289ff&#x27;, &#x27;#ffe288ff&#x27;, &#x27;#ffe287ff&#x27;, &#x27;#ffe187ff&#x27;, &#x27;#ffe186ff&#x27;, &#x27;#ffe185ff&#x27;, &#x27;#ffe085ff&#x27;, &#x27;#ffe084ff&#x27;, &#x27;#ffe083ff&#x27;, &#x27;#ffdf83ff&#x27;, &#x27;#ffdf82ff&#x27;, &#x27;#ffdf81ff&#x27;, &#x27;#ffde81ff&#x27;, &#x27;#ffde80ff&#x27;, &#x27;#ffde7fff&#x27;, &#x27;#ffdd7fff&#x27;, &#x27;#ffdd7eff&#x27;, &#x27;#ffdd7dff&#x27;, &#x27;#ffdc7dff&#x27;, &#x27;#ffdc7cff&#x27;, &#x27;#ffdc7bff&#x27;, &#x27;#ffdc7bff&#x27;, &#x27;#ffdb7aff&#x27;, &#x27;#ffdb79ff&#x27;, &#x27;#ffdb78ff&#x27;, &#x27;#ffda78ff&#x27;, &#x27;#ffda77ff&#x27;, &#x27;#ffda76ff&#x27;, &#x27;#fed976ff&#x27;, &#x27;#fed975ff&#x27;, &#x27;#fed874ff&#x27;, &#x27;#fed774ff&#x27;, &#x27;#fed773ff&#x27;, &#x27;#fed672ff&#x27;, &#x27;#fed572ff&#x27;, &#x27;#fed571ff&#x27;, &#x27;#fed470ff&#x27;, &#x27;#fed470ff&#x27;, &#x27;#fed36fff&#x27;, &#x27;#fed26eff&#x27;, &#x27;#fed26eff&#x27;, &#x27;#fed16dff&#x27;, &#x27;#fed06cff&#x27;, &#x27;#fed06cff&#x27;, &#x27;#fecf6bff&#x27;, &#x27;#fecf6aff&#x27;, &#x27;#fece6aff&#x27;, &#x27;#fecd69ff&#x27;, &#x27;#fecd68ff&#x27;, &#x27;#fecc68ff&#x27;, &#x27;#fecb67ff&#x27;, &#x27;#fecb66ff&#x27;, &#x27;#feca66ff&#x27;, &#x27;#feca65ff&#x27;, &#x27;#fec964ff&#x27;, &#x27;#fec864ff&#x27;, &#x27;#fec863ff&#x27;, &#x27;#fec762ff&#x27;, &#x27;#fec662ff&#x27;, &#x27;#fec661ff&#x27;, &#x27;#fec560ff&#x27;, &#x27;#fec45fff&#x27;, &#x27;#fec45fff&#x27;, &#x27;#fec35eff&#x27;, &#x27;#fec35dff&#x27;, &#x27;#fec25dff&#x27;, &#x27;#fec15cff&#x27;, &#x27;#fec15bff&#x27;, &#x27;#fec05bff&#x27;, &#x27;#febf5aff&#x27;, &#x27;#febf59ff&#x27;, &#x27;#febe59ff&#x27;, &#x27;#febe58ff&#x27;, &#x27;#febd57ff&#x27;, &#x27;#febc57ff&#x27;, &#x27;#febc56ff&#x27;, &#x27;#febb55ff&#x27;, &#x27;#feba55ff&#x27;, &#x27;#feba54ff&#x27;, &#x27;#feb953ff&#x27;, &#x27;#feb953ff&#x27;, &#x27;#feb852ff&#x27;, &#x27;#feb751ff&#x27;, &#x27;#feb751ff&#x27;, &#x27;#feb650ff&#x27;, &#x27;#feb54fff&#x27;, &#x27;#feb54fff&#x27;, &#x27;#feb44eff&#x27;, &#x27;#feb44dff&#x27;, &#x27;#feb34dff&#x27;, &#x27;#feb24cff&#x27;, &#x27;#feb24cff&#x27;, &#x27;#feb14bff&#x27;, &#x27;#feb04bff&#x27;, &#x27;#feb04bff&#x27;, &#x27;#feaf4bff&#x27;, &#x27;#feaf4aff&#x27;, &#x27;#feae4aff&#x27;, &#x27;#feae4aff&#x27;, &#x27;#fead4aff&#x27;, &#x27;#feac49ff&#x27;, &#x27;#feac49ff&#x27;, &#x27;#feab49ff&#x27;, &#x27;#feab48ff&#x27;, &#x27;#feaa48ff&#x27;, &#x27;#fea948ff&#x27;, &#x27;#fea948ff&#x27;, &#x27;#fea847ff&#x27;, &#x27;#fea847ff&#x27;, &#x27;#fea747ff&#x27;, &#x27;#fea647ff&#x27;, &#x27;#fea646ff&#x27;, &#x27;#fea546ff&#x27;, &#x27;#fea546ff&#x27;, &#x27;#fea446ff&#x27;, &#x27;#fea345ff&#x27;, &#x27;#fea345ff&#x27;, &#x27;#fea245ff&#x27;, &#x27;#fea245ff&#x27;, &#x27;#fea144ff&#x27;, &#x27;#fea044ff&#x27;, &#x27;#fea044ff&#x27;, &#x27;#fe9f44ff&#x27;, &#x27;#fe9f43ff&#x27;, &#x27;#fe9e43ff&#x27;, &#x27;#fe9d43ff&#x27;, &#x27;#fe9d43ff&#x27;, &#x27;#fe9c42ff&#x27;, &#x27;#fe9c42ff&#x27;, &#x27;#fe9b42ff&#x27;, &#x27;#fe9a42ff&#x27;, &#x27;#fe9a41ff&#x27;, &#x27;#fe9941ff&#x27;, &#x27;#fe9941ff&#x27;, &#x27;#fe9840ff&#x27;, &#x27;#fe9740ff&#x27;, &#x27;#fe9740ff&#x27;, &#x27;#fe9640ff&#x27;, &#x27;#fe963fff&#x27;, &#x27;#fe953fff&#x27;, &#x27;#fe943fff&#x27;, &#x27;#fe943fff&#x27;, &#x27;#fe933eff&#x27;, &#x27;#fe933eff&#x27;, &#x27;#fe923eff&#x27;, &#x27;#fe923eff&#x27;, &#x27;#fe913dff&#x27;, &#x27;#fe903dff&#x27;, &#x27;#fe903dff&#x27;, &#x27;#fe8f3dff&#x27;, &#x27;#fe8f3cff&#x27;, &#x27;#fe8e3cff&#x27;, &#x27;#fe8d3cff&#x27;, &#x27;#fd8d3cff&#x27;, &#x27;#fd8c3bff&#x27;, &#x27;#fd8b3bff&#x27;, &#x27;#fd8a3bff&#x27;, &#x27;#fd883aff&#x27;, &#x27;#fd873aff&#x27;, &#x27;#fd863aff&#x27;, &#x27;#fd853aff&#x27;, &#x27;#fd8439ff&#x27;, &#x27;#fd8339ff&#x27;, &#x27;#fd8239ff&#x27;, &#x27;#fd8138ff&#x27;, &#x27;#fd8038ff&#x27;, &#x27;#fd7f38ff&#x27;, &#x27;#fd7e38ff&#x27;, &#x27;#fd7d37ff&#x27;, &#x27;#fd7c37ff&#x27;, &#x27;#fd7b37ff&#x27;, &#x27;#fd7a36ff&#x27;, &#x27;#fd7936ff&#x27;, &#x27;#fd7836ff&#x27;, &#x27;#fd7736ff&#x27;, &#x27;#fd7635ff&#x27;, &#x27;#fd7535ff&#x27;, &#x27;#fd7435ff&#x27;, &#x27;#fd7334ff&#x27;, &#x27;#fd7234ff&#x27;, &#x27;#fd7134ff&#x27;, &#x27;#fd7033ff&#x27;, &#x27;#fd6f33ff&#x27;, &#x27;#fd6e33ff&#x27;, &#x27;#fd6d33ff&#x27;, &#x27;#fd6c32ff&#x27;, &#x27;#fd6b32ff&#x27;, &#x27;#fd6a32ff&#x27;, &#x27;#fd6931ff&#x27;, &#x27;#fd6831ff&#x27;, &#x27;#fd6731ff&#x27;, &#x27;#fd6631ff&#x27;, &#x27;#fd6530ff&#x27;, &#x27;#fd6430ff&#x27;, &#x27;#fd6330ff&#x27;, &#x27;#fd622fff&#x27;, &#x27;#fd612fff&#x27;, &#x27;#fd602fff&#x27;, &#x27;#fd5f2fff&#x27;, &#x27;#fd5e2eff&#x27;, &#x27;#fd5d2eff&#x27;, &#x27;#fd5c2eff&#x27;, &#x27;#fd5b2dff&#x27;, &#x27;#fd5a2dff&#x27;, &#x27;#fd592dff&#x27;, &#x27;#fd582dff&#x27;, &#x27;#fd572cff&#x27;, &#x27;#fd562cff&#x27;, &#x27;#fd552cff&#x27;, &#x27;#fd542bff&#x27;, &#x27;#fd532bff&#x27;, &#x27;#fd522bff&#x27;, &#x27;#fd512aff&#x27;, &#x27;#fd502aff&#x27;, &#x27;#fd4f2aff&#x27;, &#x27;#fc4e2aff&#x27;, &#x27;#fc4d29ff&#x27;, &#x27;#fc4c29ff&#x27;, &#x27;#fb4b29ff&#x27;, &#x27;#fb4a29ff&#x27;, &#x27;#fa4a29ff&#x27;, &#x27;#fa4928ff&#x27;, &#x27;#fa4828ff&#x27;, &#x27;#f94728ff&#x27;, &#x27;#f94628ff&#x27;, &#x27;#f84527ff&#x27;, &#x27;#f84427ff&#x27;, &#x27;#f84427ff&#x27;, &#x27;#f74327ff&#x27;, &#x27;#f74226ff&#x27;, &#x27;#f64126ff&#x27;, &#x27;#f64026ff&#x27;, &#x27;#f63f26ff&#x27;, &#x27;#f53f26ff&#x27;, &#x27;#f53e25ff&#x27;, &#x27;#f43d25ff&#x27;, &#x27;#f43c25ff&#x27;, &#x27;#f43b25ff&#x27;, &#x27;#f33a24ff&#x27;, &#x27;#f33a24ff&#x27;, &#x27;#f23924ff&#x27;, &#x27;#f23824ff&#x27;, &#x27;#f23724ff&#x27;, &#x27;#f13623ff&#x27;, &#x27;#f13523ff&#x27;, &#x27;#f03523ff&#x27;, &#x27;#f03423ff&#x27;, &#x27;#f03322ff&#x27;, &#x27;#ef3222ff&#x27;, &#x27;#ef3122ff&#x27;, &#x27;#ee3022ff&#x27;, &#x27;#ee3022ff&#x27;, &#x27;#ee2f21ff&#x27;, &#x27;#ed2e21ff&#x27;, &#x27;#ed2d21ff&#x27;, &#x27;#ec2c21ff&#x27;, &#x27;#ec2b20ff&#x27;, &#x27;#ec2b20ff&#x27;, &#x27;#eb2a20ff&#x27;, &#x27;#eb2920ff&#x27;, &#x27;#ea281fff&#x27;, &#x27;#ea271fff&#x27;, &#x27;#ea261fff&#x27;, &#x27;#e9261fff&#x27;, &#x27;#e9251fff&#x27;, &#x27;#e8241eff&#x27;, &#x27;#e8231eff&#x27;, &#x27;#e8221eff&#x27;, &#x27;#e7211eff&#x27;, &#x27;#e7211dff&#x27;, &#x27;#e6201dff&#x27;, &#x27;#e61f1dff&#x27;, &#x27;#e61e1dff&#x27;, &#x27;#e51d1dff&#x27;, &#x27;#e51c1cff&#x27;, &#x27;#e41b1cff&#x27;, &#x27;#e41b1cff&#x27;, &#x27;#e31a1cff&#x27;, &#x27;#e3191cff&#x27;, &#x27;#e2191cff&#x27;, &#x27;#e2181cff&#x27;, &#x27;#e1181cff&#x27;, &#x27;#e0181cff&#x27;, &#x27;#e0171dff&#x27;, &#x27;#df171dff&#x27;, &#x27;#df161dff&#x27;, &#x27;#de161dff&#x27;, &#x27;#dd161dff&#x27;, &#x27;#dd151dff&#x27;, &#x27;#dc151eff&#x27;, &#x27;#dc141eff&#x27;, &#x27;#db141eff&#x27;, &#x27;#da131eff&#x27;, &#x27;#da131eff&#x27;, &#x27;#d9131eff&#x27;, &#x27;#d9121eff&#x27;, &#x27;#d8121fff&#x27;, &#x27;#d7111fff&#x27;, &#x27;#d7111fff&#x27;, &#x27;#d6111fff&#x27;, &#x27;#d5101fff&#x27;, &#x27;#d5101fff&#x27;, &#x27;#d40f20ff&#x27;, &#x27;#d40f20ff&#x27;, &#x27;#d30e20ff&#x27;, &#x27;#d20e20ff&#x27;, &#x27;#d20e20ff&#x27;, &#x27;#d10d20ff&#x27;, &#x27;#d10d21ff&#x27;, &#x27;#d00c21ff&#x27;, &#x27;#cf0c21ff&#x27;, &#x27;#cf0b21ff&#x27;, &#x27;#ce0b21ff&#x27;, &#x27;#ce0b21ff&#x27;, &#x27;#cd0a22ff&#x27;, &#x27;#cc0a22ff&#x27;, &#x27;#cc0922ff&#x27;, &#x27;#cb0922ff&#x27;, &#x27;#ca0922ff&#x27;, &#x27;#ca0822ff&#x27;, &#x27;#c90822ff&#x27;, &#x27;#c90723ff&#x27;, &#x27;#c80723ff&#x27;, &#x27;#c70623ff&#x27;, &#x27;#c70623ff&#x27;, &#x27;#c60623ff&#x27;, &#x27;#c60523ff&#x27;, &#x27;#c50524ff&#x27;, &#x27;#c40424ff&#x27;, &#x27;#c40424ff&#x27;, &#x27;#c30424ff&#x27;, &#x27;#c30324ff&#x27;, &#x27;#c20324ff&#x27;, &#x27;#c10225ff&#x27;, &#x27;#c10225ff&#x27;, &#x27;#c00125ff&#x27;, &#x27;#bf0125ff&#x27;, &#x27;#bf0125ff&#x27;, &#x27;#be0025ff&#x27;, &#x27;#be0026ff&#x27;, &#x27;#bd0026ff&#x27;, &#x27;#bc0026ff&#x27;, &#x27;#bb0026ff&#x27;, &#x27;#ba0026ff&#x27;, &#x27;#b90026ff&#x27;, &#x27;#b80026ff&#x27;, &#x27;#b70026ff&#x27;, &#x27;#b60026ff&#x27;, &#x27;#b50026ff&#x27;, &#x27;#b40026ff&#x27;, &#x27;#b30026ff&#x27;, &#x27;#b20026ff&#x27;, &#x27;#b10026ff&#x27;, &#x27;#b00026ff&#x27;, &#x27;#af0026ff&#x27;, &#x27;#ae0026ff&#x27;, &#x27;#ad0026ff&#x27;, &#x27;#ac0026ff&#x27;, &#x27;#ab0026ff&#x27;, &#x27;#aa0026ff&#x27;, &#x27;#a90026ff&#x27;, &#x27;#a80026ff&#x27;, &#x27;#a70026ff&#x27;, &#x27;#a60026ff&#x27;, &#x27;#a50026ff&#x27;, &#x27;#a40026ff&#x27;, &#x27;#a30026ff&#x27;, &#x27;#a20026ff&#x27;, &#x27;#a10026ff&#x27;, &#x27;#a00026ff&#x27;, &#x27;#9f0026ff&#x27;, &#x27;#9e0026ff&#x27;, &#x27;#9d0026ff&#x27;, &#x27;#9c0026ff&#x27;, &#x27;#9b0026ff&#x27;, &#x27;#9b0026ff&#x27;, &#x27;#9a0026ff&#x27;, &#x27;#990026ff&#x27;, &#x27;#980026ff&#x27;, &#x27;#970026ff&#x27;, &#x27;#960026ff&#x27;, &#x27;#950026ff&#x27;, &#x27;#940026ff&#x27;, &#x27;#930026ff&#x27;, &#x27;#920026ff&#x27;, &#x27;#910026ff&#x27;, &#x27;#900026ff&#x27;, &#x27;#8f0026ff&#x27;, &#x27;#8e0026ff&#x27;, &#x27;#8d0026ff&#x27;, &#x27;#8c0026ff&#x27;, &#x27;#8b0026ff&#x27;, &#x27;#8a0026ff&#x27;, &#x27;#890026ff&#x27;, &#x27;#880026ff&#x27;, &#x27;#870026ff&#x27;, &#x27;#860026ff&#x27;, &#x27;#850026ff&#x27;, &#x27;#840026ff&#x27;, &#x27;#830026ff&#x27;, &#x27;#820026ff&#x27;, &#x27;#810026ff&#x27;, &#x27;#800026ff&#x27;]);\n",
       "    \n",
       "\n",
       "    color_map_3f117501b904dbe27edc2bcedd05242b.x = d3.scale.linear()\n",
       "              .domain([8.99, 27.490000000000002])\n",
       "              .range([0, 450 - 50]);\n",
       "\n",
       "    color_map_3f117501b904dbe27edc2bcedd05242b.legend = L.control({position: &#x27;topright&#x27;});\n",
       "    color_map_3f117501b904dbe27edc2bcedd05242b.legend.onAdd = function (map) {var div = L.DomUtil.create(&#x27;div&#x27;, &#x27;legend&#x27;); return div};\n",
       "    color_map_3f117501b904dbe27edc2bcedd05242b.legend.addTo(map_d4cbc4feeedecb14afdb37c03024c5d2);\n",
       "\n",
       "    color_map_3f117501b904dbe27edc2bcedd05242b.xAxis = d3.svg.axis()\n",
       "        .scale(color_map_3f117501b904dbe27edc2bcedd05242b.x)\n",
       "        .orient(&quot;top&quot;)\n",
       "        .tickSize(1)\n",
       "        .tickValues([8.99, 11.3025, 13.615, 15.9275, 18.240000000000002, 20.552500000000002, 22.865000000000002, 25.177500000000002, 27.490000000000002]);\n",
       "\n",
       "    color_map_3f117501b904dbe27edc2bcedd05242b.svg = d3.select(&quot;.legend.leaflet-control&quot;).append(&quot;svg&quot;)\n",
       "        .attr(&quot;id&quot;, &#x27;legend&#x27;)\n",
       "        .attr(&quot;width&quot;, 450)\n",
       "        .attr(&quot;height&quot;, 40);\n",
       "\n",
       "    color_map_3f117501b904dbe27edc2bcedd05242b.g = color_map_3f117501b904dbe27edc2bcedd05242b.svg.append(&quot;g&quot;)\n",
       "        .attr(&quot;class&quot;, &quot;key&quot;)\n",
       "        .attr(&quot;fill&quot;, &quot;black&quot;)\n",
       "        .attr(&quot;transform&quot;, &quot;translate(25,16)&quot;);\n",
       "\n",
       "    color_map_3f117501b904dbe27edc2bcedd05242b.g.selectAll(&quot;rect&quot;)\n",
       "        .data(color_map_3f117501b904dbe27edc2bcedd05242b.color.range().map(function(d, i) {\n",
       "          return {\n",
       "            x0: i ? color_map_3f117501b904dbe27edc2bcedd05242b.x(color_map_3f117501b904dbe27edc2bcedd05242b.color.domain()[i - 1]) : color_map_3f117501b904dbe27edc2bcedd05242b.x.range()[0],\n",
       "            x1: i &lt; color_map_3f117501b904dbe27edc2bcedd05242b.color.domain().length ? color_map_3f117501b904dbe27edc2bcedd05242b.x(color_map_3f117501b904dbe27edc2bcedd05242b.color.domain()[i]) : color_map_3f117501b904dbe27edc2bcedd05242b.x.range()[1],\n",
       "            z: d\n",
       "          };\n",
       "        }))\n",
       "      .enter().append(&quot;rect&quot;)\n",
       "        .attr(&quot;height&quot;, 40 - 30)\n",
       "        .attr(&quot;x&quot;, function(d) { return d.x0; })\n",
       "        .attr(&quot;width&quot;, function(d) { return d.x1 - d.x0; })\n",
       "        .style(&quot;fill&quot;, function(d) { return d.z; });\n",
       "\n",
       "    color_map_3f117501b904dbe27edc2bcedd05242b.g.call(color_map_3f117501b904dbe27edc2bcedd05242b.xAxis).append(&quot;text&quot;)\n",
       "        .attr(&quot;class&quot;, &quot;caption&quot;)\n",
       "        .attr(&quot;y&quot;, 21)\n",
       "        .attr(&quot;fill&quot;, &quot;black&quot;)\n",
       "        .text(&quot;Pre\\u00e7o&quot;);\n",
       "&lt;/script&gt;\n",
       "&lt;/html&gt;\" style=\"position:absolute;width:100%;height:100%;left:0;top:0;border:none !important;\" allowfullscreen webkitallowfullscreen mozallowfullscreen></iframe></div></div>"
      ],
      "text/plain": [
       "<folium.folium.Map at 0x173c1fef0>"
      ]
     },
     "metadata": {},
     "output_type": "display_data"
    }
   ],
   "source": [
    "import pandas as pd\n",
    "import folium\n",
    "from branca.colormap import linear\n",
    "from IPython.display import display\n",
    "\n",
    "# Carregar os dados\n",
    "#df = pd.read_csv('precos_carrefour_mapa.csv')\n",
    "\n",
    "# Garantir que as colunas 'lat', 'long', 'preco' e 'loja' existam\n",
    "# (ajuste os nomes conforme necessário)\n",
    "\n",
    "# Criar o mapa centrado no Brasil\n",
    "mapa = folium.Map(location=[-15.793889, -47.882778], zoom_start=4)\n",
    "\n",
    "# Definir escala de cores para os preços\n",
    "preco_minimo = df['preco'].min()\n",
    "preco_maximo = df['preco'].max()\n",
    "colormap = linear.YlOrRd_09.scale(preco_minimo, preco_maximo)\n",
    "\n",
    "# Adicionar círculos com popup\n",
    "for _, row in df.iterrows():\n",
    "    circle = folium.CircleMarker(\n",
    "        location=[row['lat'], row['long']],\n",
    "        radius=10,\n",
    "        color='black',\n",
    "        fill=True,\n",
    "        fill_opacity=0.7,\n",
    "        fill_color=colormap(row['preco'])\n",
    "    )\n",
    "    \n",
    "    # Popup com loja e preço\n",
    "    popup_html = f\"<b>{row['loja']}</b><br>{row['produto']}<br>Preço: <b>R${row['preco']:.2f}</b>\"\n",
    "    popup = folium.Popup(popup_html, parse_html=False)\n",
    "    circle.add_child(popup)\n",
    "    \n",
    "    # Adiciona marcador com texto do preço (remova se não quiser)\n",
    "    preco_popup = f\"<b>R${row['preco']:.2f}</b>\"\n",
    "    folium.Marker(\n",
    "        location=[row['lat'] - 0.01, row['long']],\n",
    "        icon=folium.DivIcon(\n",
    "            html=f\"<div style='font-size: 10pt; color: black'>{preco_popup}</div>\"\n",
    "        )\n",
    "    ).add_to(mapa)\n",
    "    \n",
    "    circle.add_to(mapa)\n",
    "\n",
    "# Legenda da escala de cores\n",
    "colormap.caption = 'Preço'\n",
    "colormap.add_to(mapa)\n",
    "\n",
    "# Exibir o mapa no notebook\n",
    "display(mapa)\n"
   ]
  },
  {
   "cell_type": "code",
   "execution_count": 73,
   "id": "c85f5e7f",
   "metadata": {},
   "outputs": [
    {
     "data": {
      "application/vnd.jupyter.widget-view+json": {
       "model_id": "363e08a03a95473f8be70703cb7da2c5",
       "version_major": 2,
       "version_minor": 0
      },
      "text/plain": [
       "VBox(children=(HTML(value='<h3>1. Escolha um produto</h3>'), Dropdown(description='Produto:', layout=Layout(wi…"
      ]
     },
     "metadata": {},
     "output_type": "display_data"
    }
   ],
   "source": [
    "import pandas as pd\n",
    "import folium\n",
    "from branca.colormap import linear\n",
    "from IPython.display import display\n",
    "import ipywidgets as widgets\n",
    "from IPython.display import clear_output\n",
    "\n",
    "# Carregar os dados\n",
    "#df = pd.read_csv('precos_carrefour_mapa.csv')\n",
    "\n",
    "# Garantir que os campos estejam corretos\n",
    "assert all(col in df.columns for col in ['produto', 'preco', 'lat', 'long', 'loja'])\n",
    "\n",
    "# Lista única de produtos\n",
    "lista_produtos = sorted(df['produto'].unique())\n",
    "\n",
    "# Widget 1 – Seletor de Produto\n",
    "produto_widget = widgets.Dropdown(\n",
    "    options=lista_produtos,\n",
    "    description='Produto:',\n",
    "    layout=widgets.Layout(width='50%')\n",
    ")\n",
    "\n",
    "# Widget 2 – Checkbox para mostrar ou não os preços\n",
    "mostrar_precos_widget = widgets.Checkbox(\n",
    "    value=True,\n",
    "    description='Exibir preços no mapa'\n",
    ")\n",
    "\n",
    "# Botão para gerar o mapa\n",
    "botao_gerar = widgets.Button(description='Gerar Mapa', button_style='success')\n",
    "\n",
    "# Output para exibir o mapa\n",
    "output = widgets.Output()\n",
    "\n",
    "# Função que gera o mapa com base nas seleções\n",
    "def gerar_mapa(b):\n",
    "    with output:\n",
    "        clear_output()\n",
    "        \n",
    "        produto_selecionado = produto_widget.value\n",
    "        exibir_preco = mostrar_precos_widget.value\n",
    "        \n",
    "        df_filtrado = df[df['produto'] == produto_selecionado]\n",
    "\n",
    "        mapa = folium.Map(location=[-15.793889, -47.882778], zoom_start=4)\n",
    "        \n",
    "        preco_minimo = df_filtrado['preco'].min()\n",
    "        preco_maximo = df_filtrado['preco'].max()\n",
    "        colormap = linear.YlOrRd_09.scale(preco_minimo, preco_maximo)\n",
    "\n",
    "        for _, row in df_filtrado.iterrows():\n",
    "            circle = folium.CircleMarker(\n",
    "                location=[row['lat'], row['long']],\n",
    "                radius=10,\n",
    "                color='black',\n",
    "                fill=True,\n",
    "                fill_opacity=0.7,\n",
    "                fill_color=colormap(row['preco'])\n",
    "            )\n",
    "            \n",
    "            popup_html = f\"<b>{row['loja']}</b><br>{row['produto']}<br>Preço: <b>R${row['preco']:.2f}</b>\"\n",
    "            popup = folium.Popup(popup_html, parse_html=False)\n",
    "            circle.add_child(popup)\n",
    "            \n",
    "            if exibir_preco:\n",
    "                preco_popup = f\"<b>R${row['preco']:.2f}</b>\"\n",
    "                folium.Marker(\n",
    "                    location=[row['lat'] - 0.01, row['long']],\n",
    "                    icon=folium.DivIcon(\n",
    "                        html=f\"<div style='font-size: 10pt; color: black'>{preco_popup}</div>\"\n",
    "                    )\n",
    "                ).add_to(mapa)\n",
    "\n",
    "            circle.add_to(mapa)\n",
    "\n",
    "        colormap.caption = 'Preço'\n",
    "        colormap.add_to(mapa)\n",
    "        display(mapa)\n",
    "\n",
    "# Conectar o botão à função\n",
    "botao_gerar.on_click(gerar_mapa)\n",
    "\n",
    "# Interface interativa\n",
    "display(widgets.VBox([\n",
    "    widgets.HTML(value=\"<h3>1. Escolha um produto</h3>\"),\n",
    "    produto_widget,\n",
    "    widgets.HTML(value=\"<h3>2. Deseja visualizar os preços no mapa?</h3>\"),\n",
    "    mostrar_precos_widget,\n",
    "    botao_gerar,\n",
    "    output\n",
    "]))\n"
   ]
  },
  {
   "cell_type": "code",
   "execution_count": 83,
   "id": "c640f3f9",
   "metadata": {},
   "outputs": [
    {
     "data": {
      "application/vnd.jupyter.widget-view+json": {
       "model_id": "546b3c88cab542de82a9d48c8df63215",
       "version_major": 2,
       "version_minor": 0
      },
      "text/plain": [
       "VBox(children=(HTML(value='<h3>1. Escolha dois produtos para comparar</h3>'), HBox(children=(Dropdown(descript…"
      ]
     },
     "metadata": {},
     "output_type": "display_data"
    }
   ],
   "source": [
    "import pandas as pd\n",
    "import folium\n",
    "from branca.colormap import linear\n",
    "from IPython.display import display, HTML, clear_output, IFrame as IFrameDisplay\n",
    "import ipywidgets as widgets\n",
    "\n",
    "# 1. Carregar os dados\n",
    "#df = pd.read_csv('precos_carrefour_mapa.csv')\n",
    "\n",
    "# Verificar se as colunas necessárias existem\n",
    "colunas_necessarias = ['produto', 'preco', 'lat', 'long', 'loja']\n",
    "for col in colunas_necessarias:\n",
    "    assert col in df.columns, f\"Coluna obrigatória ausente: {col}\"\n",
    "\n",
    "# 2. Criar lista única de produtos\n",
    "lista_produtos = sorted(df['produto'].unique())\n",
    "\n",
    "# 3. Criar widgets\n",
    "produto_1_widget = widgets.Dropdown(\n",
    "    options=lista_produtos,\n",
    "    description='Produto 1:',\n",
    "    layout=widgets.Layout(width='45%')\n",
    ")\n",
    "\n",
    "produto_2_widget = widgets.Dropdown(\n",
    "    options=lista_produtos,\n",
    "    description='Produto 2:',\n",
    "    layout=widgets.Layout(width='45%')\n",
    ")\n",
    "\n",
    "mostrar_precos_widget = widgets.Checkbox(\n",
    "    value=True,\n",
    "    description='Exibir preços no mapa'\n",
    ")\n",
    "\n",
    "botao_gerar = widgets.Button(\n",
    "    description='Comparar Mapas',\n",
    "    button_style='info'\n",
    ")\n",
    "\n",
    "output = widgets.Output()\n",
    "\n",
    "# 4. Função auxiliar para gerar cada mapa\n",
    "def gerar_mapa_html(df_filtrado, exibir_preco):\n",
    "    mapa = folium.Map(location=[-15.793889, -47.882778], zoom_start=4)\n",
    "\n",
    "    preco_min = df_filtrado['preco'].min()\n",
    "    preco_max = df_filtrado['preco'].max()\n",
    "    colormap = linear.YlOrRd_09.scale(preco_min, preco_max)\n",
    "\n",
    "    for _, row in df_filtrado.iterrows():\n",
    "        circle = folium.CircleMarker(\n",
    "            location=[row['lat'], row['long']],\n",
    "            radius=10,\n",
    "            color='black',\n",
    "            fill=True,\n",
    "            fill_opacity=0.7,\n",
    "            fill_color=colormap(row['preco'])\n",
    "        )\n",
    "\n",
    "        popup_html = f\"<b>{row['loja']}</b><br>{row['produto']}<br>Preço: <b>R${row['preco']:.2f}</b>\"\n",
    "        popup = folium.Popup(popup_html, parse_html=False)\n",
    "        circle.add_child(popup)\n",
    "\n",
    "        if exibir_preco:\n",
    "            preco_popup = f\"<b>R${row['preco']:.2f}</b>\"\n",
    "            folium.Marker(\n",
    "                location=[row['lat'] - 0.01, row['long']],\n",
    "                icon=folium.DivIcon(\n",
    "                    html=f\"<div style='font-size: 10pt; color: black'>{preco_popup}</div>\"\n",
    "                )\n",
    "            ).add_to(mapa)\n",
    "\n",
    "        circle.add_to(mapa)\n",
    "\n",
    "    colormap.caption = 'Preço'\n",
    "    colormap.add_to(mapa)\n",
    "\n",
    "    return mapa\n",
    "\n",
    "# 5. Função principal que gera os dois mapas\n",
    "def gerar_mapas_lado_a_lado(b):\n",
    "    with output:\n",
    "        clear_output()\n",
    "\n",
    "        produto1 = produto_1_widget.value\n",
    "        produto2 = produto_2_widget.value\n",
    "        exibir_preco = mostrar_precos_widget.value\n",
    "\n",
    "        df1 = df[df['produto'] == produto1]\n",
    "        df2 = df[df['produto'] == produto2]\n",
    "\n",
    "        print(f\"Produto 1: {produto1} → {len(df1)} registros\")\n",
    "        print(f\"Produto 2: {produto2} → {len(df2)} registros\")\n",
    "\n",
    "        if df1.empty or df2.empty:\n",
    "            print(\"❌ Um dos produtos não possui dados disponíveis.\")\n",
    "            return\n",
    "\n",
    "        mapa1 = gerar_mapa_html(df1, exibir_preco)\n",
    "        mapa2 = gerar_mapa_html(df2, exibir_preco)\n",
    "\n",
    "        display(HTML(f\"<h3>Comparação de Preços: <i>{produto1}</i> vs <i>{produto2}</i></h3>\"))\n",
    "        display(mapa1)\n",
    "        display(mapa2)\n",
    "\n",
    "\n",
    "# Conectar o botão à função\n",
    "botao_gerar.on_click(gerar_mapas_lado_a_lado)\n",
    "\n",
    "# 6. Exibir a interface interativa\n",
    "display(widgets.VBox([\n",
    "    widgets.HTML(value=\"<h3>1. Escolha dois produtos para comparar</h3>\"),\n",
    "    widgets.HBox([produto_1_widget, produto_2_widget]),\n",
    "    widgets.HTML(value=\"<h3>2. Deseja visualizar os preços no mapa?</h3>\"),\n",
    "    mostrar_precos_widget,\n",
    "    botao_gerar,\n",
    "    output\n",
    "]))\n"
   ]
  },
  {
   "cell_type": "code",
   "execution_count": 86,
   "id": "746ed9bf",
   "metadata": {},
   "outputs": [
    {
     "name": "stderr",
     "output_type": "stream",
     "text": [
      "2025-04-21 00:00:16.810 \n",
      "  \u001b[33m\u001b[1mWarning:\u001b[0m to view this Streamlit app on a browser, run it with the following\n",
      "  command:\n",
      "\n",
      "    streamlit run /opt/anaconda3/lib/python3.12/site-packages/ipykernel_launcher.py [ARGUMENTS]\n",
      "2025-04-21 00:00:16.812 Session state does not function when running a script without `streamlit run`\n",
      "/var/folders/hn/ff5wd5md5hz9v1n8vb5bf9f80000gn/T/ipykernel_53264/3755444398.py:67: DeprecationWarning:\n",
      "\n",
      "\n",
      "folium_static is deprecated and will be removed in a future release, or\n",
      "simply replaced with with st_folium which always passes\n",
      "returned_objects=[] to the component.\n",
      "Please try using st_folium instead, and\n",
      "post an issue at https://github.com/randyzwitch/streamlit-folium/issues\n",
      "if you experience issues with st_folium.\n",
      "\n",
      "\n",
      "/var/folders/hn/ff5wd5md5hz9v1n8vb5bf9f80000gn/T/ipykernel_53264/3755444398.py:72: DeprecationWarning:\n",
      "\n",
      "\n",
      "folium_static is deprecated and will be removed in a future release, or\n",
      "simply replaced with with st_folium which always passes\n",
      "returned_objects=[] to the component.\n",
      "Please try using st_folium instead, and\n",
      "post an issue at https://github.com/randyzwitch/streamlit-folium/issues\n",
      "if you experience issues with st_folium.\n",
      "\n",
      "\n"
     ]
    }
   ],
   "source": [
    "import streamlit as st\n",
    "import pandas as pd\n",
    "import folium\n",
    "from branca.colormap import linear\n",
    "from streamlit_folium import folium_static\n",
    "\n",
    "# Carregar o dataset\n",
    "#df = pd.read_csv('precos_carrefour_mapa.csv')\n",
    "\n",
    "# Título\n",
    "st.title(\"Comparação Geográfica de Preços\")\n",
    "\n",
    "# Produtos únicos\n",
    "produtos = sorted(df['produto'].unique())\n",
    "\n",
    "# Seleção dos dois produtos\n",
    "col1, col2 = st.columns(2)\n",
    "with col1:\n",
    "    produto1 = st.selectbox(\"Produto 1\", produtos)\n",
    "with col2:\n",
    "    produto2 = st.selectbox(\"Produto 2\", produtos, index=1)\n",
    "\n",
    "# Checkbox para exibir preços\n",
    "exibir_preco = st.checkbox(\"Exibir preços ao lado dos marcadores\", value=True)\n",
    "\n",
    "# Filtrar dados\n",
    "df1 = df[df['produto'] == produto1]\n",
    "df2 = df[df['produto'] == produto2]\n",
    "\n",
    "# Função para gerar o mapa\n",
    "def gerar_mapa(df_filtrado, exibir_preco):\n",
    "    mapa = folium.Map(location=[-15.793889, -47.882778], zoom_start=4)\n",
    "    preco_min = df_filtrado['preco'].min()\n",
    "    preco_max = df_filtrado['preco'].max()\n",
    "    colormap = linear.YlOrRd_09.scale(preco_min, preco_max)\n",
    "\n",
    "    for _, row in df_filtrado.iterrows():\n",
    "        popup_html = f\"<b>{row['loja']}</b><br>{row['produto']}<br>Preço: <b>R${row['preco']:.2f}</b>\"\n",
    "        popup = folium.Popup(popup_html, parse_html=False)\n",
    "        marker = folium.CircleMarker(\n",
    "            location=[row['lat'], row['long']],\n",
    "            radius=10,\n",
    "            color='black',\n",
    "            fill=True,\n",
    "            fill_color=colormap(row['preco']),\n",
    "            fill_opacity=0.7\n",
    "        )\n",
    "        marker.add_child(popup)\n",
    "        marker.add_to(mapa)\n",
    "\n",
    "        if exibir_preco:\n",
    "            folium.Marker(\n",
    "                location=[row['lat'] - 0.01, row['long']],\n",
    "                icon=folium.DivIcon(html=f\"<div style='font-size: 10pt; color: black'><b>R${row['preco']:.2f}</b></div>\")\n",
    "            ).add_to(mapa)\n",
    "\n",
    "    colormap.caption = 'Preço (R$)'\n",
    "    colormap.add_to(mapa)\n",
    "    return mapa\n",
    "\n",
    "# Criar os mapas\n",
    "st.markdown(f\"### Mapa Comparativo: {produto1} vs {produto2}\")\n",
    "col1, col2 = st.columns(2)\n",
    "with col1:\n",
    "    st.markdown(f\"**{produto1}**\")\n",
    "    mapa1 = gerar_mapa(df1, exibir_preco)\n",
    "    folium_static(mapa1, width=500, height=500)\n",
    "\n",
    "with col2:\n",
    "    st.markdown(f\"**{produto2}**\")\n",
    "    mapa2 = gerar_mapa(df2, exibir_preco)\n",
    "    folium_static(mapa2, width=500, height=500)\n"
   ]
  },
  {
   "cell_type": "code",
   "execution_count": 85,
   "id": "1ab8c256",
   "metadata": {},
   "outputs": [
    {
     "name": "stdout",
     "output_type": "stream",
     "text": [
      "Requirement already satisfied: streamlit in /opt/anaconda3/lib/python3.12/site-packages (1.37.0)\n",
      "Requirement already satisfied: folium in /opt/anaconda3/lib/python3.12/site-packages (0.18.0)\n",
      "Collecting streamlit-folium\n",
      "  Downloading streamlit_folium-0.24.1-py3-none-any.whl.metadata (621 bytes)\n",
      "Requirement already satisfied: branca in /opt/anaconda3/lib/python3.12/site-packages (0.8.0)\n",
      "Requirement already satisfied: altair<6,>=4.0 in /opt/anaconda3/lib/python3.12/site-packages (from streamlit) (5.0.1)\n",
      "Requirement already satisfied: blinker<2,>=1.0.0 in /opt/anaconda3/lib/python3.12/site-packages (from streamlit) (1.6.2)\n",
      "Requirement already satisfied: cachetools<6,>=4.0 in /opt/anaconda3/lib/python3.12/site-packages (from streamlit) (5.3.3)\n",
      "Requirement already satisfied: click<9,>=7.0 in /opt/anaconda3/lib/python3.12/site-packages (from streamlit) (8.1.7)\n",
      "Requirement already satisfied: numpy<3,>=1.20 in /opt/anaconda3/lib/python3.12/site-packages (from streamlit) (1.26.4)\n",
      "Requirement already satisfied: packaging<25,>=20 in /opt/anaconda3/lib/python3.12/site-packages (from streamlit) (23.2)\n",
      "Requirement already satisfied: pandas<3,>=1.3.0 in /opt/anaconda3/lib/python3.12/site-packages (from streamlit) (2.2.2)\n",
      "Requirement already satisfied: pillow<11,>=7.1.0 in /opt/anaconda3/lib/python3.12/site-packages (from streamlit) (10.3.0)\n",
      "Requirement already satisfied: protobuf<6,>=3.20 in /opt/anaconda3/lib/python3.12/site-packages (from streamlit) (3.20.3)\n",
      "Requirement already satisfied: pyarrow>=7.0 in /opt/anaconda3/lib/python3.12/site-packages (from streamlit) (14.0.2)\n",
      "Requirement already satisfied: requests<3,>=2.27 in /opt/anaconda3/lib/python3.12/site-packages (from streamlit) (2.32.2)\n",
      "Requirement already satisfied: rich<14,>=10.14.0 in /opt/anaconda3/lib/python3.12/site-packages (from streamlit) (13.3.5)\n",
      "Requirement already satisfied: tenacity<9,>=8.1.0 in /opt/anaconda3/lib/python3.12/site-packages (from streamlit) (8.2.2)\n",
      "Requirement already satisfied: toml<2,>=0.10.1 in /opt/anaconda3/lib/python3.12/site-packages (from streamlit) (0.10.2)\n",
      "Requirement already satisfied: typing-extensions<5,>=4.3.0 in /opt/anaconda3/lib/python3.12/site-packages (from streamlit) (4.11.0)\n",
      "Requirement already satisfied: gitpython!=3.1.19,<4,>=3.0.7 in /opt/anaconda3/lib/python3.12/site-packages (from streamlit) (3.1.37)\n",
      "Requirement already satisfied: pydeck<1,>=0.8.0b4 in /opt/anaconda3/lib/python3.12/site-packages (from streamlit) (0.8.0)\n",
      "Requirement already satisfied: tornado<7,>=6.0.3 in /opt/anaconda3/lib/python3.12/site-packages (from streamlit) (6.4.1)\n",
      "Requirement already satisfied: jinja2>=2.9 in /opt/anaconda3/lib/python3.12/site-packages (from folium) (3.1.4)\n",
      "Requirement already satisfied: xyzservices in /opt/anaconda3/lib/python3.12/site-packages (from folium) (2022.9.0)\n",
      "Requirement already satisfied: jsonschema>=3.0 in /opt/anaconda3/lib/python3.12/site-packages (from altair<6,>=4.0->streamlit) (4.19.2)\n",
      "Requirement already satisfied: toolz in /opt/anaconda3/lib/python3.12/site-packages (from altair<6,>=4.0->streamlit) (0.12.0)\n",
      "Requirement already satisfied: gitdb<5,>=4.0.1 in /opt/anaconda3/lib/python3.12/site-packages (from gitpython!=3.1.19,<4,>=3.0.7->streamlit) (4.0.7)\n",
      "Requirement already satisfied: MarkupSafe>=2.0 in /opt/anaconda3/lib/python3.12/site-packages (from jinja2>=2.9->folium) (2.1.3)\n",
      "Requirement already satisfied: python-dateutil>=2.8.2 in /opt/anaconda3/lib/python3.12/site-packages (from pandas<3,>=1.3.0->streamlit) (2.9.0.post0)\n",
      "Requirement already satisfied: pytz>=2020.1 in /opt/anaconda3/lib/python3.12/site-packages (from pandas<3,>=1.3.0->streamlit) (2025.2)\n",
      "Requirement already satisfied: tzdata>=2022.7 in /opt/anaconda3/lib/python3.12/site-packages (from pandas<3,>=1.3.0->streamlit) (2023.3)\n",
      "Requirement already satisfied: charset-normalizer<4,>=2 in /opt/anaconda3/lib/python3.12/site-packages (from requests<3,>=2.27->streamlit) (2.0.4)\n",
      "Requirement already satisfied: idna<4,>=2.5 in /opt/anaconda3/lib/python3.12/site-packages (from requests<3,>=2.27->streamlit) (3.7)\n",
      "Requirement already satisfied: urllib3<3,>=1.21.1 in /opt/anaconda3/lib/python3.12/site-packages (from requests<3,>=2.27->streamlit) (2.2.2)\n",
      "Requirement already satisfied: certifi>=2017.4.17 in /opt/anaconda3/lib/python3.12/site-packages (from requests<3,>=2.27->streamlit) (2024.8.30)\n",
      "Requirement already satisfied: markdown-it-py<3.0.0,>=2.2.0 in /opt/anaconda3/lib/python3.12/site-packages (from rich<14,>=10.14.0->streamlit) (2.2.0)\n",
      "Requirement already satisfied: pygments<3.0.0,>=2.13.0 in /opt/anaconda3/lib/python3.12/site-packages (from rich<14,>=10.14.0->streamlit) (2.15.1)\n",
      "Requirement already satisfied: smmap<5,>=3.0.1 in /opt/anaconda3/lib/python3.12/site-packages (from gitdb<5,>=4.0.1->gitpython!=3.1.19,<4,>=3.0.7->streamlit) (4.0.0)\n",
      "Requirement already satisfied: attrs>=22.2.0 in /opt/anaconda3/lib/python3.12/site-packages (from jsonschema>=3.0->altair<6,>=4.0->streamlit) (24.2.0)\n",
      "Requirement already satisfied: jsonschema-specifications>=2023.03.6 in /opt/anaconda3/lib/python3.12/site-packages (from jsonschema>=3.0->altair<6,>=4.0->streamlit) (2023.7.1)\n",
      "Requirement already satisfied: referencing>=0.28.4 in /opt/anaconda3/lib/python3.12/site-packages (from jsonschema>=3.0->altair<6,>=4.0->streamlit) (0.30.2)\n",
      "Requirement already satisfied: rpds-py>=0.7.1 in /opt/anaconda3/lib/python3.12/site-packages (from jsonschema>=3.0->altair<6,>=4.0->streamlit) (0.10.6)\n",
      "Requirement already satisfied: mdurl~=0.1 in /opt/anaconda3/lib/python3.12/site-packages (from markdown-it-py<3.0.0,>=2.2.0->rich<14,>=10.14.0->streamlit) (0.1.0)\n",
      "Requirement already satisfied: six>=1.5 in /opt/anaconda3/lib/python3.12/site-packages (from python-dateutil>=2.8.2->pandas<3,>=1.3.0->streamlit) (1.16.0)\n",
      "Downloading streamlit_folium-0.24.1-py3-none-any.whl (328 kB)\n",
      "\u001b[2K   \u001b[90m━━━━━━━━━━━━━━━━━━━━━━━━━━━━━━━━━━━━━━━━\u001b[0m \u001b[32m328.4/328.4 kB\u001b[0m \u001b[31m2.3 MB/s\u001b[0m eta \u001b[36m0:00:00\u001b[0ma \u001b[36m0:00:01\u001b[0m\n",
      "\u001b[?25hInstalling collected packages: streamlit-folium\n",
      "Successfully installed streamlit-folium-0.24.1\n",
      "Note: you may need to restart the kernel to use updated packages.\n"
     ]
    }
   ],
   "source": [
    "pip install streamlit folium streamlit-folium branca\n"
   ]
  }
 ],
 "metadata": {
  "kernelspec": {
   "display_name": "base",
   "language": "python",
   "name": "python3"
  },
  "language_info": {
   "codemirror_mode": {
    "name": "ipython",
    "version": 3
   },
   "file_extension": ".py",
   "mimetype": "text/x-python",
   "name": "python",
   "nbconvert_exporter": "python",
   "pygments_lexer": "ipython3",
   "version": "3.12.2"
  }
 },
 "nbformat": 4,
 "nbformat_minor": 5
}
